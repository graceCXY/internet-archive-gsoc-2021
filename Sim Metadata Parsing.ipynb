{
 "cells": [
  {
   "cell_type": "markdown",
   "metadata": {},
   "source": [
    "# SIM Metadata Parsing"
   ]
  },
  {
   "cell_type": "code",
   "execution_count": 1,
   "metadata": {},
   "outputs": [
    {
     "name": "stderr",
     "output_type": "stream",
     "text": [
      "/Users/xinyuechen/.pyenv/versions/3.7.5/lib/python3.7/site-packages/pandas/compat/__init__.py:97: UserWarning: Could not import the lzma module. Your installed Python is incomplete. Attempting to use lzma compression will result in a RuntimeError.\n",
      "  warnings.warn(msg)\n"
     ]
    }
   ],
   "source": [
    "import numpy as np\n",
    "import pandas as pd"
   ]
  },
  {
   "cell_type": "markdown",
   "metadata": {},
   "source": [
    "## Load Master Document\n",
    "* url_main = \"https://docs.google.com/spreadsheets/d/1m_QqU3iQqLD7W8VDzxER8WAEqKY86fJWyOMQ8akc7jM/edit#gid=41925053\""
   ]
  },
  {
   "cell_type": "code",
   "execution_count": 2,
   "metadata": {},
   "outputs": [],
   "source": [
    "sheet_main_id = \"1m_QqU3iQqLD7W8VDzxER8WAEqKY86fJWyOMQ8akc7jM\"\n",
    "sheet_main_name = \"ALL\"\n",
    "url_main = f\"https://docs.google.com/spreadsheets/d/{sheet_main_id}/gviz/tq?tqx=out:csv&sheet={sheet_main_name}\""
   ]
  },
  {
   "cell_type": "code",
   "execution_count": 3,
   "metadata": {},
   "outputs": [
    {
     "data": {
      "text/html": [
       "<div>\n",
       "<style scoped>\n",
       "    .dataframe tbody tr th:only-of-type {\n",
       "        vertical-align: middle;\n",
       "    }\n",
       "\n",
       "    .dataframe tbody tr th {\n",
       "        vertical-align: top;\n",
       "    }\n",
       "\n",
       "    .dataframe thead th {\n",
       "        text-align: right;\n",
       "    }\n",
       "</style>\n",
       "<table border=\"1\" class=\"dataframe\">\n",
       "  <thead>\n",
       "    <tr style=\"text-align: right;\">\n",
       "      <th></th>\n",
       "      <th>SIM PubID</th>\n",
       "      <th>Title</th>\n",
       "      <th>35mm</th>\n",
       "      <th>Years From</th>\n",
       "      <th>Years To</th>\n",
       "      <th>105mm</th>\n",
       "      <th>Years From.1</th>\n",
       "      <th>Years To.1</th>\n",
       "      <th>16mm</th>\n",
       "      <th>Years From.2</th>\n",
       "      <th>...</th>\n",
       "      <th>Pub Language</th>\n",
       "      <th>Subjects</th>\n",
       "      <th>PubCollectionID</th>\n",
       "      <th>PubIssueID</th>\n",
       "      <th>Notes</th>\n",
       "      <th>PubCollection Length</th>\n",
       "      <th>Active</th>\n",
       "      <th>Fulltext in DB</th>\n",
       "      <th>Permissioned</th>\n",
       "      <th>oclc</th>\n",
       "    </tr>\n",
       "  </thead>\n",
       "  <tbody>\n",
       "    <tr>\n",
       "      <th>0</th>\n",
       "      <td>1</td>\n",
       "      <td>American Journal of Pharmacy and the Sciences ...</td>\n",
       "      <td>X</td>\n",
       "      <td>1952.0</td>\n",
       "      <td>1995.0</td>\n",
       "      <td>NaN</td>\n",
       "      <td>NaN</td>\n",
       "      <td>NaN</td>\n",
       "      <td>X</td>\n",
       "      <td>1960.0</td>\n",
       "      <td>...</td>\n",
       "      <td>English</td>\n",
       "      <td>Health &amp; Medical Sciences</td>\n",
       "      <td>pub_american-journal-of-pharmacy-and-the-sciences</td>\n",
       "      <td>sim_american-journal-of-pharmacy-and-the-sciences</td>\n",
       "      <td>NaN</td>\n",
       "      <td>49.0</td>\n",
       "      <td>False</td>\n",
       "      <td>NaN</td>\n",
       "      <td>NaN</td>\n",
       "      <td>206933216;500028152;817882935;875845133;107037...</td>\n",
       "    </tr>\n",
       "    <tr>\n",
       "      <th>1</th>\n",
       "      <td>2</td>\n",
       "      <td>National Real Estate and Building Journal</td>\n",
       "      <td>X</td>\n",
       "      <td>1949.0</td>\n",
       "      <td>1956.0</td>\n",
       "      <td>NaN</td>\n",
       "      <td>NaN</td>\n",
       "      <td>NaN</td>\n",
       "      <td>NaN</td>\n",
       "      <td>1962.0</td>\n",
       "      <td>...</td>\n",
       "      <td>English</td>\n",
       "      <td>Building &amp; Construction</td>\n",
       "      <td>pub_national-real-estate-and-building-journal</td>\n",
       "      <td>sim_national-real-estate-and-building-journal</td>\n",
       "      <td>NaN</td>\n",
       "      <td>45.0</td>\n",
       "      <td>True</td>\n",
       "      <td>1989.0</td>\n",
       "      <td>NaN</td>\n",
       "      <td>NaN</td>\n",
       "    </tr>\n",
       "    <tr>\n",
       "      <th>2</th>\n",
       "      <td>3</td>\n",
       "      <td>The American Naturalist</td>\n",
       "      <td>X</td>\n",
       "      <td>1872.0</td>\n",
       "      <td>2015.0</td>\n",
       "      <td>NaN</td>\n",
       "      <td>NaN</td>\n",
       "      <td>NaN</td>\n",
       "      <td>X</td>\n",
       "      <td>1970.0</td>\n",
       "      <td>...</td>\n",
       "      <td>English</td>\n",
       "      <td>Biology</td>\n",
       "      <td>pub_american-naturalist</td>\n",
       "      <td>sim_american-naturalist</td>\n",
       "      <td>NaN</td>\n",
       "      <td>23.0</td>\n",
       "      <td>True</td>\n",
       "      <td>1867.0</td>\n",
       "      <td>NaN</td>\n",
       "      <td>18300891;191716864;817602316;898814689;9097196...</td>\n",
       "    </tr>\n",
       "    <tr>\n",
       "      <th>3</th>\n",
       "      <td>4</td>\n",
       "      <td>Alcatel Telecommunications Review</td>\n",
       "      <td>X</td>\n",
       "      <td>1922.0</td>\n",
       "      <td>2002.0</td>\n",
       "      <td>NaN</td>\n",
       "      <td>NaN</td>\n",
       "      <td>NaN</td>\n",
       "      <td>X</td>\n",
       "      <td>1970.0</td>\n",
       "      <td>...</td>\n",
       "      <td>English</td>\n",
       "      <td>Communication &amp; Information Sciences</td>\n",
       "      <td>pub_alcatel-telecommunications-review</td>\n",
       "      <td>sim_alcatel-telecommunications-review</td>\n",
       "      <td>NaN</td>\n",
       "      <td>37.0</td>\n",
       "      <td>True</td>\n",
       "      <td>NaN</td>\n",
       "      <td>NaN</td>\n",
       "      <td>192886804;194581676;210222394;210222469;312289...</td>\n",
       "    </tr>\n",
       "    <tr>\n",
       "      <th>4</th>\n",
       "      <td>5</td>\n",
       "      <td>The American Journal of Gastroenterology</td>\n",
       "      <td>X</td>\n",
       "      <td>1949.0</td>\n",
       "      <td>2011.0</td>\n",
       "      <td>NaN</td>\n",
       "      <td>NaN</td>\n",
       "      <td>NaN</td>\n",
       "      <td>X</td>\n",
       "      <td>1966.0</td>\n",
       "      <td>...</td>\n",
       "      <td>English</td>\n",
       "      <td>Medical Sciences--Gastroenterology</td>\n",
       "      <td>pub_american-journal-of-gastroenterology</td>\n",
       "      <td>sim_american-journal-of-gastroenterology</td>\n",
       "      <td>NaN</td>\n",
       "      <td>40.0</td>\n",
       "      <td>True</td>\n",
       "      <td>1900.0</td>\n",
       "      <td>NaN</td>\n",
       "      <td>121060592;813634707;909921900;936514672;989314...</td>\n",
       "    </tr>\n",
       "  </tbody>\n",
       "</table>\n",
       "<p>5 rows × 35 columns</p>\n",
       "</div>"
      ],
      "text/plain": [
       "   SIM PubID                                              Title 35mm  \\\n",
       "0          1  American Journal of Pharmacy and the Sciences ...    X   \n",
       "1          2          National Real Estate and Building Journal    X   \n",
       "2          3                            The American Naturalist    X   \n",
       "3          4                  Alcatel Telecommunications Review    X   \n",
       "4          5           The American Journal of Gastroenterology    X   \n",
       "\n",
       "   Years From  Years To 105mm  Years From.1  Years To.1 16mm  Years From.2  \\\n",
       "0      1952.0    1995.0   NaN           NaN         NaN    X        1960.0   \n",
       "1      1949.0    1956.0   NaN           NaN         NaN  NaN        1962.0   \n",
       "2      1872.0    2015.0   NaN           NaN         NaN    X        1970.0   \n",
       "3      1922.0    2002.0   NaN           NaN         NaN    X        1970.0   \n",
       "4      1949.0    2011.0   NaN           NaN         NaN    X        1966.0   \n",
       "\n",
       "   ...  Pub Language                              Subjects  \\\n",
       "0  ...       English             Health & Medical Sciences   \n",
       "1  ...       English               Building & Construction   \n",
       "2  ...       English                               Biology   \n",
       "3  ...       English  Communication & Information Sciences   \n",
       "4  ...       English    Medical Sciences--Gastroenterology   \n",
       "\n",
       "                                     PubCollectionID  \\\n",
       "0  pub_american-journal-of-pharmacy-and-the-sciences   \n",
       "1      pub_national-real-estate-and-building-journal   \n",
       "2                            pub_american-naturalist   \n",
       "3              pub_alcatel-telecommunications-review   \n",
       "4           pub_american-journal-of-gastroenterology   \n",
       "\n",
       "                                          PubIssueID Notes  \\\n",
       "0  sim_american-journal-of-pharmacy-and-the-sciences   NaN   \n",
       "1      sim_national-real-estate-and-building-journal   NaN   \n",
       "2                            sim_american-naturalist   NaN   \n",
       "3              sim_alcatel-telecommunications-review   NaN   \n",
       "4           sim_american-journal-of-gastroenterology   NaN   \n",
       "\n",
       "   PubCollection Length Active Fulltext in DB  Permissioned  \\\n",
       "0                  49.0  False            NaN           NaN   \n",
       "1                  45.0   True         1989.0           NaN   \n",
       "2                  23.0   True         1867.0           NaN   \n",
       "3                  37.0   True            NaN           NaN   \n",
       "4                  40.0   True         1900.0           NaN   \n",
       "\n",
       "                                                oclc  \n",
       "0  206933216;500028152;817882935;875845133;107037...  \n",
       "1                                                NaN  \n",
       "2  18300891;191716864;817602316;898814689;9097196...  \n",
       "3  192886804;194581676;210222394;210222469;312289...  \n",
       "4  121060592;813634707;909921900;936514672;989314...  \n",
       "\n",
       "[5 rows x 35 columns]"
      ]
     },
     "execution_count": 3,
     "metadata": {},
     "output_type": "execute_result"
    }
   ],
   "source": [
    "sim_all = pd.read_csv(url_main)\n",
    "sim_all.head()"
   ]
  },
  {
   "cell_type": "code",
   "execution_count": 4,
   "metadata": {},
   "outputs": [
    {
     "data": {
      "text/plain": [
       "(15149, 35)"
      ]
     },
     "execution_count": 4,
     "metadata": {},
     "output_type": "execute_result"
    }
   ],
   "source": [
    "sim_all.shape"
   ]
  },
  {
   "cell_type": "code",
   "execution_count": 5,
   "metadata": {},
   "outputs": [
    {
     "data": {
      "text/plain": [
       "Index(['SIM PubID', 'Title', '35mm', 'Years From', 'Years To', '105mm',\n",
       "       'Years From.1', 'Years To.1', '16mm', 'Years From.2', 'Years To.2',\n",
       "       'Digital Rights or Public Domain', 'Publisher', 'Country', 'ISSN',\n",
       "       'Impact Rank', 'Total Cities', 'Journal Impact Factor',\n",
       "       'Eigenfact or Score', 'First Volume', 'Last Volume', 'NA Gaps',\n",
       "       'Scholarly / Peer-\\nReviewed', 'Peer-\\nReviewed', 'Pub Type',\n",
       "       'Pub Language', 'Subjects', 'PubCollectionID', 'PubIssueID', 'Notes',\n",
       "       'PubCollection Length', 'Active', 'Fulltext in DB', 'Permissioned',\n",
       "       'oclc'],\n",
       "      dtype='object')"
      ]
     },
     "execution_count": 5,
     "metadata": {},
     "output_type": "execute_result"
    }
   ],
   "source": [
    "sim_all.columns"
   ]
  },
  {
   "cell_type": "code",
   "execution_count": 6,
   "metadata": {},
   "outputs": [
    {
     "data": {
      "text/plain": [
       "English                                  14748\n",
       "German                                     107\n",
       "French                                      68\n",
       "Chinese                                     56\n",
       "Spanish                                     43\n",
       "Italian                                     36\n",
       "English|French                              19\n",
       "English|French|German                       10\n",
       "English|German                               9\n",
       "Dutch                                        6\n",
       "Japanese|English                             5\n",
       "Russian                                      4\n",
       "English|Spanish; Castilian                   4\n",
       "Portuguese                                   4\n",
       "English|Arabic                               3\n",
       "Arabic                                       3\n",
       "English|Portuguese|Spanish; Castilian        2\n",
       "German|English                               2\n",
       "Polish                                       2\n",
       "Japanese                                     2\n",
       "Welsh                                        1\n",
       "Finish                                       1\n",
       "Dutch; Flemish|English|French|German         1\n",
       "Afrikaans|English                            1\n",
       "Latin                                        1\n",
       "French|English                               1\n",
       "English|Hebrew                               1\n",
       "Greek                                        1\n",
       "Slovenian                                    1\n",
       "Yugoslav                                     1\n",
       "Croatian|English|French|German               1\n",
       "English|Russian                              1\n",
       "English|Japanese|German                      1\n",
       "Dutch; Flemish                               1\n",
       "Spanish; Castilian                           1\n",
       "Norwegian                                    1\n",
       "Name: Pub Language, dtype: int64"
      ]
     },
     "execution_count": 6,
     "metadata": {},
     "output_type": "execute_result"
    }
   ],
   "source": [
    "sim_all['Pub Language'].value_counts()"
   ]
  },
  {
   "cell_type": "markdown",
   "metadata": {},
   "source": [
    "## Load additional Metadata\n",
    "* url at https://docs.google.com/spreadsheets/d/1mCoDje_mOnQGWhVBEx9YKd_RdJuQAtRY59T0Co-MiK0/edit#gid=0"
   ]
  },
  {
   "cell_type": "code",
   "execution_count": 7,
   "metadata": {},
   "outputs": [],
   "source": [
    "sheet_ulrich_id = \"1mCoDje_mOnQGWhVBEx9YKd_RdJuQAtRY59T0Co-MiK0\"\n",
    "sheet_ulrich_name = \"Publications\"\n",
    "url_ulrich = f\"https://docs.google.com/spreadsheets/d/{sheet_ulrich_id}/gviz/tq?tqx=out:csv&sheet={sheet_ulrich_name}\""
   ]
  },
  {
   "cell_type": "code",
   "execution_count": 8,
   "metadata": {},
   "outputs": [],
   "source": [
    "# sim_ulrich = pd.read_csv(url_ulrich)\n",
    "# sim_ulrich.head()"
   ]
  },
  {
   "cell_type": "code",
   "execution_count": 9,
   "metadata": {},
   "outputs": [],
   "source": [
    "# sim_ulrich.shape"
   ]
  },
  {
   "cell_type": "code",
   "execution_count": 10,
   "metadata": {},
   "outputs": [],
   "source": [
    "# sim_ulrich.columns"
   ]
  },
  {
   "cell_type": "markdown",
   "metadata": {},
   "source": [
    "## Get Most Relevant Info DataFrame"
   ]
  },
  {
   "cell_type": "code",
   "execution_count": 34,
   "metadata": {},
   "outputs": [
    {
     "data": {
      "text/html": [
       "<div>\n",
       "<style scoped>\n",
       "    .dataframe tbody tr th:only-of-type {\n",
       "        vertical-align: middle;\n",
       "    }\n",
       "\n",
       "    .dataframe tbody tr th {\n",
       "        vertical-align: top;\n",
       "    }\n",
       "\n",
       "    .dataframe thead th {\n",
       "        text-align: right;\n",
       "    }\n",
       "</style>\n",
       "<table border=\"1\" class=\"dataframe\">\n",
       "  <thead>\n",
       "    <tr style=\"text-align: right;\">\n",
       "      <th></th>\n",
       "      <th>Title</th>\n",
       "      <th>First Volume</th>\n",
       "      <th>Last Volume</th>\n",
       "      <th>PubIssueID</th>\n",
       "      <th>NA Gaps</th>\n",
       "    </tr>\n",
       "  </thead>\n",
       "  <tbody>\n",
       "    <tr>\n",
       "      <th>0</th>\n",
       "      <td>American Journal of Pharmacy and the Sciences ...</td>\n",
       "      <td>1952.0</td>\n",
       "      <td>1995.0</td>\n",
       "      <td>sim_american-journal-of-pharmacy-and-the-sciences</td>\n",
       "      <td>NaN</td>\n",
       "    </tr>\n",
       "    <tr>\n",
       "      <th>1</th>\n",
       "      <td>National Real Estate and Building Journal</td>\n",
       "      <td>1949.0</td>\n",
       "      <td>1956.0</td>\n",
       "      <td>sim_national-real-estate-and-building-journal</td>\n",
       "      <td>NaN</td>\n",
       "    </tr>\n",
       "    <tr>\n",
       "      <th>2</th>\n",
       "      <td>The American Naturalist</td>\n",
       "      <td>1872.0</td>\n",
       "      <td>2015.0</td>\n",
       "      <td>sim_american-naturalist</td>\n",
       "      <td>NaN</td>\n",
       "    </tr>\n",
       "    <tr>\n",
       "      <th>3</th>\n",
       "      <td>Alcatel Telecommunications Review</td>\n",
       "      <td>1922.0</td>\n",
       "      <td>2002.0</td>\n",
       "      <td>sim_alcatel-telecommunications-review</td>\n",
       "      <td>NaN</td>\n",
       "    </tr>\n",
       "    <tr>\n",
       "      <th>4</th>\n",
       "      <td>The American Journal of Gastroenterology</td>\n",
       "      <td>1949.0</td>\n",
       "      <td>2011.0</td>\n",
       "      <td>sim_american-journal-of-gastroenterology</td>\n",
       "      <td>1982; 1983; 1984; 1985; 1986; 1987; 1988; 1989...</td>\n",
       "    </tr>\n",
       "  </tbody>\n",
       "</table>\n",
       "</div>"
      ],
      "text/plain": [
       "                                               Title  First Volume  \\\n",
       "0  American Journal of Pharmacy and the Sciences ...        1952.0   \n",
       "1          National Real Estate and Building Journal        1949.0   \n",
       "2                            The American Naturalist        1872.0   \n",
       "3                  Alcatel Telecommunications Review        1922.0   \n",
       "4           The American Journal of Gastroenterology        1949.0   \n",
       "\n",
       "   Last Volume                                         PubIssueID  \\\n",
       "0       1995.0  sim_american-journal-of-pharmacy-and-the-sciences   \n",
       "1       1956.0      sim_national-real-estate-and-building-journal   \n",
       "2       2015.0                            sim_american-naturalist   \n",
       "3       2002.0              sim_alcatel-telecommunications-review   \n",
       "4       2011.0           sim_american-journal-of-gastroenterology   \n",
       "\n",
       "                                             NA Gaps  \n",
       "0                                                NaN  \n",
       "1                                                NaN  \n",
       "2                                                NaN  \n",
       "3                                                NaN  \n",
       "4  1982; 1983; 1984; 1985; 1986; 1987; 1988; 1989...  "
      ]
     },
     "execution_count": 34,
     "metadata": {},
     "output_type": "execute_result"
    }
   ],
   "source": [
    "sim_info = sim_all[[\"Title\", \"First Volume\", \"Last Volume\", \"PubIssueID\", \"NA Gaps\"]]\n",
    "sim_info.head()"
   ]
  },
  {
   "cell_type": "markdown",
   "metadata": {},
   "source": [
    "#### Data Cleaning for SIM"
   ]
  },
  {
   "cell_type": "code",
   "execution_count": 35,
   "metadata": {},
   "outputs": [
    {
     "data": {
      "text/html": [
       "<div>\n",
       "<style scoped>\n",
       "    .dataframe tbody tr th:only-of-type {\n",
       "        vertical-align: middle;\n",
       "    }\n",
       "\n",
       "    .dataframe tbody tr th {\n",
       "        vertical-align: top;\n",
       "    }\n",
       "\n",
       "    .dataframe thead th {\n",
       "        text-align: right;\n",
       "    }\n",
       "</style>\n",
       "<table border=\"1\" class=\"dataframe\">\n",
       "  <thead>\n",
       "    <tr style=\"text-align: right;\">\n",
       "      <th></th>\n",
       "      <th>Title</th>\n",
       "      <th>First Volume</th>\n",
       "      <th>Last Volume</th>\n",
       "      <th>PubIssueID</th>\n",
       "      <th>NA Gaps</th>\n",
       "    </tr>\n",
       "  </thead>\n",
       "  <tbody>\n",
       "    <tr>\n",
       "      <th>1011</th>\n",
       "      <td>Science</td>\n",
       "      <td>1883.0</td>\n",
       "      <td>2016.0</td>\n",
       "      <td>sim_science</td>\n",
       "      <td>NaN</td>\n",
       "    </tr>\n",
       "    <tr>\n",
       "      <th>9878</th>\n",
       "      <td>Science</td>\n",
       "      <td>1979.0</td>\n",
       "      <td>1986.0</td>\n",
       "      <td>sim_science</td>\n",
       "      <td>NaN</td>\n",
       "    </tr>\n",
       "  </tbody>\n",
       "</table>\n",
       "</div>"
      ],
      "text/plain": [
       "        Title  First Volume  Last Volume   PubIssueID NA Gaps\n",
       "1011  Science        1883.0       2016.0  sim_science     NaN\n",
       "9878  Science        1979.0       1986.0  sim_science     NaN"
      ]
     },
     "execution_count": 35,
     "metadata": {},
     "output_type": "execute_result"
    }
   ],
   "source": [
    "# For example, there are overlapping ids\n",
    "sim_info[sim_info[\"PubIssueID\"] == \"sim_science\"]"
   ]
  },
  {
   "cell_type": "code",
   "execution_count": 36,
   "metadata": {},
   "outputs": [
    {
     "name": "stdout",
     "output_type": "stream",
     "text": [
      "SIM Id/title count: 15149\n",
      "Unique SIM Id count: 14943\n",
      "Unique title count: 14827\n"
     ]
    }
   ],
   "source": [
    "# Concretely show these overlaps\n",
    "print(\"SIM Id/title count: \" + str(sim_info[\"PubIssueID\"].shape[0]))\n",
    "print(\"Unique SIM Id count: \" + str(len(sim_info[\"PubIssueID\"].unique())))\n",
    "print(\"Unique title count: \" + str(len(sim_info[\"Title\"].unique())))"
   ]
  },
  {
   "cell_type": "code",
   "execution_count": 37,
   "metadata": {},
   "outputs": [
    {
     "data": {
      "text/html": [
       "<div>\n",
       "<style scoped>\n",
       "    .dataframe tbody tr th:only-of-type {\n",
       "        vertical-align: middle;\n",
       "    }\n",
       "\n",
       "    .dataframe tbody tr th {\n",
       "        vertical-align: top;\n",
       "    }\n",
       "\n",
       "    .dataframe thead th {\n",
       "        text-align: right;\n",
       "    }\n",
       "</style>\n",
       "<table border=\"1\" class=\"dataframe\">\n",
       "  <thead>\n",
       "    <tr style=\"text-align: right;\">\n",
       "      <th></th>\n",
       "      <th>Title</th>\n",
       "      <th>First Volume</th>\n",
       "      <th>Last Volume</th>\n",
       "      <th>PubIssueID</th>\n",
       "      <th>NA Gaps</th>\n",
       "    </tr>\n",
       "  </thead>\n",
       "  <tbody>\n",
       "    <tr>\n",
       "      <th>0</th>\n",
       "      <td>American Journal of Pharmacy and the Sciences ...</td>\n",
       "      <td>1952.0</td>\n",
       "      <td>1995.0</td>\n",
       "      <td>sim_american-journal-of-pharmacy-and-the-sciences</td>\n",
       "      <td>NaN</td>\n",
       "    </tr>\n",
       "    <tr>\n",
       "      <th>1</th>\n",
       "      <td>National Real Estate and Building Journal</td>\n",
       "      <td>1949.0</td>\n",
       "      <td>1956.0</td>\n",
       "      <td>sim_national-real-estate-and-building-journal</td>\n",
       "      <td>NaN</td>\n",
       "    </tr>\n",
       "    <tr>\n",
       "      <th>2</th>\n",
       "      <td>The American Naturalist</td>\n",
       "      <td>1872.0</td>\n",
       "      <td>2015.0</td>\n",
       "      <td>sim_american-naturalist</td>\n",
       "      <td>NaN</td>\n",
       "    </tr>\n",
       "    <tr>\n",
       "      <th>3</th>\n",
       "      <td>Alcatel Telecommunications Review</td>\n",
       "      <td>1922.0</td>\n",
       "      <td>2002.0</td>\n",
       "      <td>sim_alcatel-telecommunications-review</td>\n",
       "      <td>NaN</td>\n",
       "    </tr>\n",
       "    <tr>\n",
       "      <th>4</th>\n",
       "      <td>The American Journal of Gastroenterology</td>\n",
       "      <td>1949.0</td>\n",
       "      <td>2011.0</td>\n",
       "      <td>sim_american-journal-of-gastroenterology</td>\n",
       "      <td>1982; 1983; 1984; 1985; 1986; 1987; 1988; 1989...</td>\n",
       "    </tr>\n",
       "  </tbody>\n",
       "</table>\n",
       "</div>"
      ],
      "text/plain": [
       "                                               Title  First Volume  \\\n",
       "0  American Journal of Pharmacy and the Sciences ...        1952.0   \n",
       "1          National Real Estate and Building Journal        1949.0   \n",
       "2                            The American Naturalist        1872.0   \n",
       "3                  Alcatel Telecommunications Review        1922.0   \n",
       "4           The American Journal of Gastroenterology        1949.0   \n",
       "\n",
       "   Last Volume                                         PubIssueID  \\\n",
       "0       1995.0  sim_american-journal-of-pharmacy-and-the-sciences   \n",
       "1       1956.0      sim_national-real-estate-and-building-journal   \n",
       "2       2015.0                            sim_american-naturalist   \n",
       "3       2002.0              sim_alcatel-telecommunications-review   \n",
       "4       2011.0           sim_american-journal-of-gastroenterology   \n",
       "\n",
       "                                             NA Gaps  \n",
       "0                                                NaN  \n",
       "1                                                NaN  \n",
       "2                                                NaN  \n",
       "3                                                NaN  \n",
       "4  1982; 1983; 1984; 1985; 1986; 1987; 1988; 1989...  "
      ]
     },
     "execution_count": 37,
     "metadata": {},
     "output_type": "execute_result"
    }
   ],
   "source": [
    "# Only keep necessary columns\n",
    "sim_info_concise = sim_info\n",
    "sim_info_concise.head()"
   ]
  },
  {
   "cell_type": "code",
   "execution_count": 38,
   "metadata": {},
   "outputs": [
    {
     "name": "stderr",
     "output_type": "stream",
     "text": [
      "/Users/xinyuechen/.pyenv/versions/3.7.5/lib/python3.7/site-packages/ipykernel_launcher.py:1: SettingWithCopyWarning: \n",
      "A value is trying to be set on a copy of a slice from a DataFrame.\n",
      "Try using .loc[row_indexer,col_indexer] = value instead\n",
      "\n",
      "See the caveats in the documentation: https://pandas.pydata.org/pandas-docs/stable/user_guide/indexing.html#returning-a-view-versus-a-copy\n",
      "  \"\"\"Entry point for launching an IPython kernel.\n"
     ]
    }
   ],
   "source": [
    "sim_info_concise['NA Gaps'] = sim_info_concise['NA Gaps'].fillna(\"\")"
   ]
  },
  {
   "cell_type": "code",
   "execution_count": 39,
   "metadata": {},
   "outputs": [],
   "source": [
    "def find_mode(x):\n",
    "    return x.value_counts().index[0]"
   ]
  },
  {
   "cell_type": "code",
   "execution_count": 40,
   "metadata": {},
   "outputs": [
    {
     "data": {
      "text/html": [
       "<div>\n",
       "<style scoped>\n",
       "    .dataframe tbody tr th:only-of-type {\n",
       "        vertical-align: middle;\n",
       "    }\n",
       "\n",
       "    .dataframe tbody tr th {\n",
       "        vertical-align: top;\n",
       "    }\n",
       "\n",
       "    .dataframe thead th {\n",
       "        text-align: right;\n",
       "    }\n",
       "</style>\n",
       "<table border=\"1\" class=\"dataframe\">\n",
       "  <thead>\n",
       "    <tr style=\"text-align: right;\">\n",
       "      <th></th>\n",
       "      <th>Title</th>\n",
       "      <th>NA Gaps</th>\n",
       "      <th>First Volume</th>\n",
       "      <th>Last Volume</th>\n",
       "    </tr>\n",
       "    <tr>\n",
       "      <th>PubIssueID</th>\n",
       "      <th></th>\n",
       "      <th></th>\n",
       "      <th></th>\n",
       "      <th></th>\n",
       "    </tr>\n",
       "  </thead>\n",
       "  <tbody>\n",
       "    <tr>\n",
       "      <th>sim-anatomia-clinica</th>\n",
       "      <td>Anatomia Clinica</td>\n",
       "      <td></td>\n",
       "      <td>1978.0</td>\n",
       "      <td>1981.0</td>\n",
       "    </tr>\n",
       "    <tr>\n",
       "      <th>sim_-</th>\n",
       "      <td>The - -</td>\n",
       "      <td></td>\n",
       "      <td>1826.0</td>\n",
       "      <td>1826.0</td>\n",
       "    </tr>\n",
       "    <tr>\n",
       "      <th>sim_1001-home-ideas</th>\n",
       "      <td>1001 Home Ideas</td>\n",
       "      <td></td>\n",
       "      <td>1986.0</td>\n",
       "      <td>1991.0</td>\n",
       "    </tr>\n",
       "    <tr>\n",
       "      <th>sim_102-monitor</th>\n",
       "      <td>102 Monitor</td>\n",
       "      <td></td>\n",
       "      <td>1975.0</td>\n",
       "      <td>1981.0</td>\n",
       "    </tr>\n",
       "    <tr>\n",
       "      <th>sim_20th-century-british-history</th>\n",
       "      <td>20th Century British History</td>\n",
       "      <td></td>\n",
       "      <td>1990.0</td>\n",
       "      <td>1994.0</td>\n",
       "    </tr>\n",
       "  </tbody>\n",
       "</table>\n",
       "</div>"
      ],
      "text/plain": [
       "                                                         Title NA Gaps  \\\n",
       "PubIssueID                                                               \n",
       "sim-anatomia-clinica                          Anatomia Clinica           \n",
       "sim_-                                                  The - -           \n",
       "sim_1001-home-ideas                            1001 Home Ideas           \n",
       "sim_102-monitor                                    102 Monitor           \n",
       "sim_20th-century-british-history  20th Century British History           \n",
       "\n",
       "                                  First Volume  Last Volume  \n",
       "PubIssueID                                                   \n",
       "sim-anatomia-clinica                    1978.0       1981.0  \n",
       "sim_-                                   1826.0       1826.0  \n",
       "sim_1001-home-ideas                     1986.0       1991.0  \n",
       "sim_102-monitor                         1975.0       1981.0  \n",
       "sim_20th-century-british-history        1990.0       1994.0  "
      ]
     },
     "execution_count": 40,
     "metadata": {},
     "output_type": "execute_result"
    }
   ],
   "source": [
    "# Aggregate Pub issue IDs such that the maximum range is included\n",
    "sim_info_concise = sim_info_concise.groupby([\"PubIssueID\"]).agg({'Title': find_mode, 'NA Gaps': find_mode, \n",
    "                                                                 'First Volume': 'min', 'Last Volume': 'max'})\n",
    "sim_info_concise.head()"
   ]
  },
  {
   "cell_type": "code",
   "execution_count": 44,
   "metadata": {},
   "outputs": [
    {
     "data": {
      "text/html": [
       "<div>\n",
       "<style scoped>\n",
       "    .dataframe tbody tr th:only-of-type {\n",
       "        vertical-align: middle;\n",
       "    }\n",
       "\n",
       "    .dataframe tbody tr th {\n",
       "        vertical-align: top;\n",
       "    }\n",
       "\n",
       "    .dataframe thead th {\n",
       "        text-align: right;\n",
       "    }\n",
       "</style>\n",
       "<table border=\"1\" class=\"dataframe\">\n",
       "  <thead>\n",
       "    <tr style=\"text-align: right;\">\n",
       "      <th></th>\n",
       "      <th>PubIssueID</th>\n",
       "      <th>Title</th>\n",
       "      <th>NA Gaps</th>\n",
       "      <th>First Volume</th>\n",
       "      <th>Last Volume</th>\n",
       "    </tr>\n",
       "  </thead>\n",
       "  <tbody>\n",
       "    <tr>\n",
       "      <th>0</th>\n",
       "      <td>sim-anatomia-clinica</td>\n",
       "      <td>Anatomia Clinica</td>\n",
       "      <td></td>\n",
       "      <td>1978.0</td>\n",
       "      <td>1981.0</td>\n",
       "    </tr>\n",
       "    <tr>\n",
       "      <th>1</th>\n",
       "      <td>sim_-</td>\n",
       "      <td>The - -</td>\n",
       "      <td></td>\n",
       "      <td>1826.0</td>\n",
       "      <td>1826.0</td>\n",
       "    </tr>\n",
       "    <tr>\n",
       "      <th>2</th>\n",
       "      <td>sim_1001-home-ideas</td>\n",
       "      <td>1001 Home Ideas</td>\n",
       "      <td></td>\n",
       "      <td>1986.0</td>\n",
       "      <td>1991.0</td>\n",
       "    </tr>\n",
       "    <tr>\n",
       "      <th>3</th>\n",
       "      <td>sim_102-monitor</td>\n",
       "      <td>102 Monitor</td>\n",
       "      <td></td>\n",
       "      <td>1975.0</td>\n",
       "      <td>1981.0</td>\n",
       "    </tr>\n",
       "    <tr>\n",
       "      <th>4</th>\n",
       "      <td>sim_20th-century-british-history</td>\n",
       "      <td>20th Century British History</td>\n",
       "      <td></td>\n",
       "      <td>1990.0</td>\n",
       "      <td>1994.0</td>\n",
       "    </tr>\n",
       "  </tbody>\n",
       "</table>\n",
       "</div>"
      ],
      "text/plain": [
       "                         PubIssueID                         Title NA Gaps  \\\n",
       "0              sim-anatomia-clinica              Anatomia Clinica           \n",
       "1                             sim_-                       The - -           \n",
       "2               sim_1001-home-ideas               1001 Home Ideas           \n",
       "3                   sim_102-monitor                   102 Monitor           \n",
       "4  sim_20th-century-british-history  20th Century British History           \n",
       "\n",
       "   First Volume  Last Volume  \n",
       "0        1978.0       1981.0  \n",
       "1        1826.0       1826.0  \n",
       "2        1986.0       1991.0  \n",
       "3        1975.0       1981.0  \n",
       "4        1990.0       1994.0  "
      ]
     },
     "execution_count": 44,
     "metadata": {},
     "output_type": "execute_result"
    }
   ],
   "source": [
    "sim_info_concise = sim_info_concise.reset_index()\n",
    "sim_info_concise.head()"
   ]
  },
  {
   "cell_type": "code",
   "execution_count": 45,
   "metadata": {},
   "outputs": [],
   "source": [
    "sim_info_concise.to_csv(\"SIM_info.csv\", index=False)"
   ]
  },
  {
   "cell_type": "markdown",
   "metadata": {},
   "source": []
  },
  {
   "cell_type": "code",
   "execution_count": null,
   "metadata": {},
   "outputs": [],
   "source": []
  },
  {
   "cell_type": "code",
   "execution_count": null,
   "metadata": {},
   "outputs": [],
   "source": []
  }
 ],
 "metadata": {
  "kernelspec": {
   "display_name": "Python 3",
   "language": "python",
   "name": "python3"
  },
  "language_info": {
   "codemirror_mode": {
    "name": "ipython",
    "version": 3
   },
   "file_extension": ".py",
   "mimetype": "text/x-python",
   "name": "python",
   "nbconvert_exporter": "python",
   "pygments_lexer": "ipython3",
   "version": "3.7.5"
  }
 },
 "nbformat": 4,
 "nbformat_minor": 4
}
