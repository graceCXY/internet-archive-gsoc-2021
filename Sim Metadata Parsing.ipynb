{
 "cells": [
  {
   "cell_type": "markdown",
   "metadata": {},
   "source": [
    "# SIM Metadata Parsing"
   ]
  },
  {
   "cell_type": "code",
   "execution_count": 1,
   "metadata": {},
   "outputs": [
    {
     "name": "stderr",
     "output_type": "stream",
     "text": [
      "/Users/xinyuechen/.pyenv/versions/3.7.5/lib/python3.7/site-packages/pandas/compat/__init__.py:97: UserWarning: Could not import the lzma module. Your installed Python is incomplete. Attempting to use lzma compression will result in a RuntimeError.\n",
      "  warnings.warn(msg)\n"
     ]
    }
   ],
   "source": [
    "import numpy as np\n",
    "import pandas as pd"
   ]
  },
  {
   "cell_type": "code",
   "execution_count": 2,
   "metadata": {},
   "outputs": [],
   "source": [
    "url = \"https://docs.google.com/spreadsheets/d/1m_QqU3iQqLD7W8VDzxER8WAEqKY86fJWyOMQ8akc7jM/edit#gid=41925053\""
   ]
  },
  {
   "cell_type": "code",
   "execution_count": 5,
   "metadata": {},
   "outputs": [],
   "source": [
    "sheet_id = \"1m_QqU3iQqLD7W8VDzxER8WAEqKY86fJWyOMQ8akc7jM\"\n",
    "sheet_name = \"ALL\"\n",
    "url = f\"https://docs.google.com/spreadsheets/d/{sheet_id}/gviz/tq?tqx=out:csv&sheet={sheet_name}\""
   ]
  },
  {
   "cell_type": "code",
   "execution_count": 6,
   "metadata": {},
   "outputs": [
    {
     "data": {
      "text/html": [
       "<div>\n",
       "<style scoped>\n",
       "    .dataframe tbody tr th:only-of-type {\n",
       "        vertical-align: middle;\n",
       "    }\n",
       "\n",
       "    .dataframe tbody tr th {\n",
       "        vertical-align: top;\n",
       "    }\n",
       "\n",
       "    .dataframe thead th {\n",
       "        text-align: right;\n",
       "    }\n",
       "</style>\n",
       "<table border=\"1\" class=\"dataframe\">\n",
       "  <thead>\n",
       "    <tr style=\"text-align: right;\">\n",
       "      <th></th>\n",
       "      <th>SIM PubID</th>\n",
       "      <th>Title</th>\n",
       "      <th>35mm</th>\n",
       "      <th>Years From</th>\n",
       "      <th>Years To</th>\n",
       "      <th>105mm</th>\n",
       "      <th>Years From.1</th>\n",
       "      <th>Years To.1</th>\n",
       "      <th>16mm</th>\n",
       "      <th>Years From.2</th>\n",
       "      <th>...</th>\n",
       "      <th>Pub Language</th>\n",
       "      <th>Subjects</th>\n",
       "      <th>PubCollectionID</th>\n",
       "      <th>PubIssueID</th>\n",
       "      <th>Notes</th>\n",
       "      <th>PubCollection Length</th>\n",
       "      <th>Active</th>\n",
       "      <th>Fulltext in DB</th>\n",
       "      <th>Permissioned</th>\n",
       "      <th>oclc</th>\n",
       "    </tr>\n",
       "  </thead>\n",
       "  <tbody>\n",
       "    <tr>\n",
       "      <th>0</th>\n",
       "      <td>1</td>\n",
       "      <td>American Journal of Pharmacy and the Sciences ...</td>\n",
       "      <td>X</td>\n",
       "      <td>1952.0</td>\n",
       "      <td>1995.0</td>\n",
       "      <td>NaN</td>\n",
       "      <td>NaN</td>\n",
       "      <td>NaN</td>\n",
       "      <td>X</td>\n",
       "      <td>1960.0</td>\n",
       "      <td>...</td>\n",
       "      <td>English</td>\n",
       "      <td>Health &amp; Medical Sciences</td>\n",
       "      <td>pub_american-journal-of-pharmacy-and-the-sciences</td>\n",
       "      <td>sim_american-journal-of-pharmacy-and-the-sciences</td>\n",
       "      <td>NaN</td>\n",
       "      <td>49.0</td>\n",
       "      <td>False</td>\n",
       "      <td>NaN</td>\n",
       "      <td>NaN</td>\n",
       "      <td>206933216;500028152;817882935;875845133;107037...</td>\n",
       "    </tr>\n",
       "    <tr>\n",
       "      <th>1</th>\n",
       "      <td>2</td>\n",
       "      <td>National Real Estate and Building Journal</td>\n",
       "      <td>X</td>\n",
       "      <td>1949.0</td>\n",
       "      <td>1956.0</td>\n",
       "      <td>NaN</td>\n",
       "      <td>NaN</td>\n",
       "      <td>NaN</td>\n",
       "      <td>NaN</td>\n",
       "      <td>1962.0</td>\n",
       "      <td>...</td>\n",
       "      <td>English</td>\n",
       "      <td>Building &amp; Construction</td>\n",
       "      <td>pub_national-real-estate-and-building-journal</td>\n",
       "      <td>sim_national-real-estate-and-building-journal</td>\n",
       "      <td>NaN</td>\n",
       "      <td>45.0</td>\n",
       "      <td>True</td>\n",
       "      <td>1989.0</td>\n",
       "      <td>NaN</td>\n",
       "      <td>NaN</td>\n",
       "    </tr>\n",
       "    <tr>\n",
       "      <th>2</th>\n",
       "      <td>3</td>\n",
       "      <td>The American Naturalist</td>\n",
       "      <td>X</td>\n",
       "      <td>1872.0</td>\n",
       "      <td>2015.0</td>\n",
       "      <td>NaN</td>\n",
       "      <td>NaN</td>\n",
       "      <td>NaN</td>\n",
       "      <td>X</td>\n",
       "      <td>1970.0</td>\n",
       "      <td>...</td>\n",
       "      <td>English</td>\n",
       "      <td>Biology</td>\n",
       "      <td>pub_american-naturalist</td>\n",
       "      <td>sim_american-naturalist</td>\n",
       "      <td>NaN</td>\n",
       "      <td>23.0</td>\n",
       "      <td>True</td>\n",
       "      <td>1867.0</td>\n",
       "      <td>NaN</td>\n",
       "      <td>18300891;191716864;817602316;898814689;9097196...</td>\n",
       "    </tr>\n",
       "    <tr>\n",
       "      <th>3</th>\n",
       "      <td>4</td>\n",
       "      <td>Alcatel Telecommunications Review</td>\n",
       "      <td>X</td>\n",
       "      <td>1922.0</td>\n",
       "      <td>2002.0</td>\n",
       "      <td>NaN</td>\n",
       "      <td>NaN</td>\n",
       "      <td>NaN</td>\n",
       "      <td>X</td>\n",
       "      <td>1970.0</td>\n",
       "      <td>...</td>\n",
       "      <td>English</td>\n",
       "      <td>Communication &amp; Information Sciences</td>\n",
       "      <td>pub_alcatel-telecommunications-review</td>\n",
       "      <td>sim_alcatel-telecommunications-review</td>\n",
       "      <td>NaN</td>\n",
       "      <td>37.0</td>\n",
       "      <td>True</td>\n",
       "      <td>NaN</td>\n",
       "      <td>NaN</td>\n",
       "      <td>192886804;194581676;210222394;210222469;312289...</td>\n",
       "    </tr>\n",
       "    <tr>\n",
       "      <th>4</th>\n",
       "      <td>5</td>\n",
       "      <td>The American Journal of Gastroenterology</td>\n",
       "      <td>X</td>\n",
       "      <td>1949.0</td>\n",
       "      <td>2011.0</td>\n",
       "      <td>NaN</td>\n",
       "      <td>NaN</td>\n",
       "      <td>NaN</td>\n",
       "      <td>X</td>\n",
       "      <td>1966.0</td>\n",
       "      <td>...</td>\n",
       "      <td>English</td>\n",
       "      <td>Medical Sciences--Gastroenterology</td>\n",
       "      <td>pub_american-journal-of-gastroenterology</td>\n",
       "      <td>sim_american-journal-of-gastroenterology</td>\n",
       "      <td>NaN</td>\n",
       "      <td>40.0</td>\n",
       "      <td>True</td>\n",
       "      <td>1900.0</td>\n",
       "      <td>NaN</td>\n",
       "      <td>121060592;813634707;909921900;936514672;989314...</td>\n",
       "    </tr>\n",
       "  </tbody>\n",
       "</table>\n",
       "<p>5 rows × 35 columns</p>\n",
       "</div>"
      ],
      "text/plain": [
       "   SIM PubID                                              Title 35mm  \\\n",
       "0          1  American Journal of Pharmacy and the Sciences ...    X   \n",
       "1          2          National Real Estate and Building Journal    X   \n",
       "2          3                            The American Naturalist    X   \n",
       "3          4                  Alcatel Telecommunications Review    X   \n",
       "4          5           The American Journal of Gastroenterology    X   \n",
       "\n",
       "   Years From  Years To 105mm  Years From.1  Years To.1 16mm  Years From.2  \\\n",
       "0      1952.0    1995.0   NaN           NaN         NaN    X        1960.0   \n",
       "1      1949.0    1956.0   NaN           NaN         NaN  NaN        1962.0   \n",
       "2      1872.0    2015.0   NaN           NaN         NaN    X        1970.0   \n",
       "3      1922.0    2002.0   NaN           NaN         NaN    X        1970.0   \n",
       "4      1949.0    2011.0   NaN           NaN         NaN    X        1966.0   \n",
       "\n",
       "   ...  Pub Language                              Subjects  \\\n",
       "0  ...       English             Health & Medical Sciences   \n",
       "1  ...       English               Building & Construction   \n",
       "2  ...       English                               Biology   \n",
       "3  ...       English  Communication & Information Sciences   \n",
       "4  ...       English    Medical Sciences--Gastroenterology   \n",
       "\n",
       "                                     PubCollectionID  \\\n",
       "0  pub_american-journal-of-pharmacy-and-the-sciences   \n",
       "1      pub_national-real-estate-and-building-journal   \n",
       "2                            pub_american-naturalist   \n",
       "3              pub_alcatel-telecommunications-review   \n",
       "4           pub_american-journal-of-gastroenterology   \n",
       "\n",
       "                                          PubIssueID Notes  \\\n",
       "0  sim_american-journal-of-pharmacy-and-the-sciences   NaN   \n",
       "1      sim_national-real-estate-and-building-journal   NaN   \n",
       "2                            sim_american-naturalist   NaN   \n",
       "3              sim_alcatel-telecommunications-review   NaN   \n",
       "4           sim_american-journal-of-gastroenterology   NaN   \n",
       "\n",
       "   PubCollection Length Active Fulltext in DB  Permissioned  \\\n",
       "0                  49.0  False            NaN           NaN   \n",
       "1                  45.0   True         1989.0           NaN   \n",
       "2                  23.0   True         1867.0           NaN   \n",
       "3                  37.0   True            NaN           NaN   \n",
       "4                  40.0   True         1900.0           NaN   \n",
       "\n",
       "                                                oclc  \n",
       "0  206933216;500028152;817882935;875845133;107037...  \n",
       "1                                                NaN  \n",
       "2  18300891;191716864;817602316;898814689;9097196...  \n",
       "3  192886804;194581676;210222394;210222469;312289...  \n",
       "4  121060592;813634707;909921900;936514672;989314...  \n",
       "\n",
       "[5 rows x 35 columns]"
      ]
     },
     "execution_count": 6,
     "metadata": {},
     "output_type": "execute_result"
    }
   ],
   "source": [
    "sim_all = pd.read_csv(url)\n",
    "sim_all.head()"
   ]
  },
  {
   "cell_type": "code",
   "execution_count": 7,
   "metadata": {},
   "outputs": [
    {
     "data": {
      "text/plain": [
       "(15119, 35)"
      ]
     },
     "execution_count": 7,
     "metadata": {},
     "output_type": "execute_result"
    }
   ],
   "source": [
    "sim_all.shape"
   ]
  },
  {
   "cell_type": "code",
   "execution_count": 8,
   "metadata": {},
   "outputs": [
    {
     "data": {
      "text/plain": [
       "Index(['SIM PubID', 'Title', '35mm', 'Years From', 'Years To', '105mm',\n",
       "       'Years From.1', 'Years To.1', '16mm', 'Years From.2', 'Years To.2',\n",
       "       'Digital Rights or Public Domain', 'Publisher', 'Country', 'ISSN',\n",
       "       'Impact Rank', 'Total Cities', 'Journal Impact Factor',\n",
       "       'Eigenfact or Score', 'First Volume', 'Last Volume', 'NA Gaps',\n",
       "       'Scholarly / Peer-\\nReviewed', 'Peer-\\nReviewed', 'Pub Type',\n",
       "       'Pub Language', 'Subjects', 'PubCollectionID', 'PubIssueID', 'Notes',\n",
       "       'PubCollection Length', 'Active', 'Fulltext in DB', 'Permissioned',\n",
       "       'oclc'],\n",
       "      dtype='object')"
      ]
     },
     "execution_count": 8,
     "metadata": {},
     "output_type": "execute_result"
    }
   ],
   "source": [
    "sim_all.columns"
   ]
  },
  {
   "cell_type": "markdown",
   "metadata": {},
   "source": [
    "## Get Most Relevant Info DataFrame"
   ]
  },
  {
   "cell_type": "code",
   "execution_count": 9,
   "metadata": {},
   "outputs": [
    {
     "data": {
      "text/html": [
       "<div>\n",
       "<style scoped>\n",
       "    .dataframe tbody tr th:only-of-type {\n",
       "        vertical-align: middle;\n",
       "    }\n",
       "\n",
       "    .dataframe tbody tr th {\n",
       "        vertical-align: top;\n",
       "    }\n",
       "\n",
       "    .dataframe thead th {\n",
       "        text-align: right;\n",
       "    }\n",
       "</style>\n",
       "<table border=\"1\" class=\"dataframe\">\n",
       "  <thead>\n",
       "    <tr style=\"text-align: right;\">\n",
       "      <th></th>\n",
       "      <th>Title</th>\n",
       "      <th>First Volume</th>\n",
       "      <th>Last Volume</th>\n",
       "      <th>Subjects</th>\n",
       "      <th>PubIssueID</th>\n",
       "    </tr>\n",
       "  </thead>\n",
       "  <tbody>\n",
       "    <tr>\n",
       "      <th>0</th>\n",
       "      <td>American Journal of Pharmacy and the Sciences ...</td>\n",
       "      <td>1952.0</td>\n",
       "      <td>1995.0</td>\n",
       "      <td>Health &amp; Medical Sciences</td>\n",
       "      <td>sim_american-journal-of-pharmacy-and-the-sciences</td>\n",
       "    </tr>\n",
       "    <tr>\n",
       "      <th>1</th>\n",
       "      <td>National Real Estate and Building Journal</td>\n",
       "      <td>1949.0</td>\n",
       "      <td>1956.0</td>\n",
       "      <td>Building &amp; Construction</td>\n",
       "      <td>sim_national-real-estate-and-building-journal</td>\n",
       "    </tr>\n",
       "    <tr>\n",
       "      <th>2</th>\n",
       "      <td>The American Naturalist</td>\n",
       "      <td>1872.0</td>\n",
       "      <td>2015.0</td>\n",
       "      <td>Biology</td>\n",
       "      <td>sim_american-naturalist</td>\n",
       "    </tr>\n",
       "    <tr>\n",
       "      <th>3</th>\n",
       "      <td>Alcatel Telecommunications Review</td>\n",
       "      <td>1922.0</td>\n",
       "      <td>2002.0</td>\n",
       "      <td>Communication &amp; Information Sciences</td>\n",
       "      <td>sim_alcatel-telecommunications-review</td>\n",
       "    </tr>\n",
       "    <tr>\n",
       "      <th>4</th>\n",
       "      <td>The American Journal of Gastroenterology</td>\n",
       "      <td>1949.0</td>\n",
       "      <td>2011.0</td>\n",
       "      <td>Medical Sciences--Gastroenterology</td>\n",
       "      <td>sim_american-journal-of-gastroenterology</td>\n",
       "    </tr>\n",
       "  </tbody>\n",
       "</table>\n",
       "</div>"
      ],
      "text/plain": [
       "                                               Title  First Volume  \\\n",
       "0  American Journal of Pharmacy and the Sciences ...        1952.0   \n",
       "1          National Real Estate and Building Journal        1949.0   \n",
       "2                            The American Naturalist        1872.0   \n",
       "3                  Alcatel Telecommunications Review        1922.0   \n",
       "4           The American Journal of Gastroenterology        1949.0   \n",
       "\n",
       "   Last Volume                              Subjects  \\\n",
       "0       1995.0             Health & Medical Sciences   \n",
       "1       1956.0               Building & Construction   \n",
       "2       2015.0                               Biology   \n",
       "3       2002.0  Communication & Information Sciences   \n",
       "4       2011.0    Medical Sciences--Gastroenterology   \n",
       "\n",
       "                                          PubIssueID  \n",
       "0  sim_american-journal-of-pharmacy-and-the-sciences  \n",
       "1      sim_national-real-estate-and-building-journal  \n",
       "2                            sim_american-naturalist  \n",
       "3              sim_alcatel-telecommunications-review  \n",
       "4           sim_american-journal-of-gastroenterology  "
      ]
     },
     "execution_count": 9,
     "metadata": {},
     "output_type": "execute_result"
    }
   ],
   "source": [
    "sim_info = sim_all[[\"Title\", \"First Volume\", \"Last Volume\", \"Subjects\", \"PubIssueID\"]]\n",
    "sim_info.head()"
   ]
  },
  {
   "cell_type": "code",
   "execution_count": 11,
   "metadata": {},
   "outputs": [],
   "source": [
    "sim_info.to_csv(\"SIM_info.csv\", index=False)"
   ]
  },
  {
   "cell_type": "markdown",
   "metadata": {},
   "source": [
    "## Some General EDA "
   ]
  },
  {
   "cell_type": "code",
   "execution_count": null,
   "metadata": {},
   "outputs": [],
   "source": []
  }
 ],
 "metadata": {
  "kernelspec": {
   "display_name": "Python 3",
   "language": "python",
   "name": "python3"
  },
  "language_info": {
   "codemirror_mode": {
    "name": "ipython",
    "version": 3
   },
   "file_extension": ".py",
   "mimetype": "text/x-python",
   "name": "python",
   "nbconvert_exporter": "python",
   "pygments_lexer": "ipython3",
   "version": "3.7.5"
  }
 },
 "nbformat": 4,
 "nbformat_minor": 4
}
