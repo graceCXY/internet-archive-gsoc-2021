{
 "cells": [
  {
   "cell_type": "markdown",
   "metadata": {},
   "source": [
    "# Fatcat Queries"
   ]
  },
  {
   "cell_type": "code",
   "execution_count": 1,
   "metadata": {},
   "outputs": [
    {
     "name": "stderr",
     "output_type": "stream",
     "text": [
      "/Users/xinyuechen/.pyenv/versions/3.7.5/lib/python3.7/site-packages/pandas/compat/__init__.py:109: UserWarning: Could not import the lzma module. Your installed Python is incomplete. Attempting to use lzma compression will result in a RuntimeError.\n",
      "  warnings.warn(msg)\n"
     ]
    }
   ],
   "source": [
    "import numpy as np\n",
    "import pandas as pd"
   ]
  },
  {
   "cell_type": "markdown",
   "metadata": {},
   "source": [
    "### Example with fatcat search url\n",
    "- Example:\n",
    "    - https://search.fatcat.wiki/fatcat_release/_search?q=container_name:%22angewandte%20mathematik%22 \n",
    "    - https://search.fatcat.wiki/fatcat_release/_search?q=(title:%22new%20york%20city%22)%20OR%20(title:%22big%20apple%22) \n"
   ]
  },
  {
   "cell_type": "code",
   "execution_count": 2,
   "metadata": {},
   "outputs": [],
   "source": [
    "import requests\n",
    "import json\n",
    "import re\n",
    "import urllib.parse"
   ]
  },
  {
   "cell_type": "code",
   "execution_count": 3,
   "metadata": {},
   "outputs": [],
   "source": [
    "def search_fatcat_journal_name(journal):\n",
    "    url_header = \"https://search.fatcat.wiki/fatcat_release/_search?q=container_name:\"\n",
    "    url_content = re.sub(\" \", \"%20\", journal)\n",
    "    url = url_header + url_content\n",
    "    \n",
    "    print(url)\n",
    "    \n",
    "    # make http request\n",
    "    request = requests.get(url, timeout = 10)\n",
    "    response = request.text\n",
    "    response_json = json.loads(response)\n",
    "    \n",
    "    \n",
    "    search_results = response_json[\"hits\"][\"hits\"]\n",
    "    result = []\n",
    "    for search_res in search_results:\n",
    "        search_res_id = search_res[\"_id\"]\n",
    "        search_res_score = search_res[\"_score\"]\n",
    "        release = search_res[\"_source\"]\n",
    "        search_res_info = {\"id\": search_res_id, \"score\": search_res_score, \"title\": release[\"title\"], \n",
    "                           \"volume\": release[\"title\"], \"issue\": release[\"issue\"], \"pages\": release[\"pages\"],\n",
    "                           \"author\": release[\"contrib_names\"], \"url\": release[\"best_pdf_url\"]}\n",
    "        result.append(search_res_info)\n",
    "    \n",
    "    \n",
    "    return result"
   ]
  },
  {
   "cell_type": "code",
   "execution_count": 4,
   "metadata": {},
   "outputs": [
    {
     "name": "stdout",
     "output_type": "stream",
     "text": [
      "https://search.fatcat.wiki/fatcat_release/_search?q=container_name:angewandte%20mathematik\n"
     ]
    },
    {
     "data": {
      "text/plain": [
       "[{'id': '2ed52tb6ojf4xc33mxfhrxr7mq',\n",
       "  'score': 22.10781,\n",
       "  'title': 'Fluorescent and water dispersible single‐chain nanoparticles: core‐shell structured compartmentation',\n",
       "  'volume': 'Fluorescent and water dispersible single‐chain nanoparticles: core‐shell structured compartmentation',\n",
       "  'issue': None,\n",
       "  'pages': None,\n",
       "  'author': ['Justus F. Hoffmann',\n",
       "   'Andreas H. Roos',\n",
       "   'Franz-Josef Schmitt',\n",
       "   'Dariush Hinderberger',\n",
       "   'Wolfgang H Binder'],\n",
       "  'url': 'https://web.archive.org/web/20210717152749/https://onlinelibrary.wiley.com/doi/pdfdirect/10.1002/ange.202015179'},\n",
       " {'id': 't7jmqk7uuvdixnqry2trlwx6i4',\n",
       "  'score': 21.988827,\n",
       "  'title': 'Formation of Binuclear Zigzag Hexapentaene Titanium Complexes via a Titanacumulene [Ti=C=C=CH2\\n] Intermediate',\n",
       "  'volume': 'Formation of Binuclear Zigzag Hexapentaene Titanium Complexes via a Titanacumulene [Ti=C=C=CH2\\n] Intermediate',\n",
       "  'issue': '40',\n",
       "  'pages': '12465-12469',\n",
       "  'author': ['Tim Oswald',\n",
       "   'Tina Gelert',\n",
       "   'Christian Lasar',\n",
       "   'Marc Schmidtmann',\n",
       "   'Thorsten Klüner',\n",
       "   'Rüdiger Beckhaus'],\n",
       "  'url': None}]"
      ]
     },
     "execution_count": 4,
     "metadata": {},
     "output_type": "execute_result"
    }
   ],
   "source": [
    "search_fatcat_journal_name(\"angewandte%20mathematik\")[0:2]"
   ]
  },
  {
   "cell_type": "code",
   "execution_count": 5,
   "metadata": {},
   "outputs": [],
   "source": [
    "def search_fatcat_article_title(title):\n",
    "    url_header = \"https://search.fatcat.wiki/fatcat_release/_search?q=title:\"\n",
    "    url_content = re.sub(\" \", \"%20\", title)\n",
    "    url = url_header + url_content\n",
    "    \n",
    "    print(url)\n",
    "    \n",
    "    # make http request\n",
    "    request = requests.get(url, timeout = 20)\n",
    "    response = request.text\n",
    "    response_json = json.loads(response)\n",
    "    \n",
    "    \n",
    "    search_results = response_json[\"hits\"][\"hits\"]\n",
    "    result = []\n",
    "    for search_res in search_results:\n",
    "        search_res_id = search_res[\"_id\"]\n",
    "        search_res_score = search_res[\"_score\"]\n",
    "        release = search_res[\"_source\"]\n",
    "        search_res_info = {\"id\": search_res_id, \"score\": search_res_score, \"title\": release[\"title\"], \n",
    "                           \"volume\": release[\"title\"], \"issue\": release[\"issue\"], \"pages\": release[\"pages\"],\n",
    "                           \"author\": release[\"contrib_names\"], \"url\": release[\"best_pdf_url\"]}\n",
    "        result.append(search_res_info)\n",
    "\n",
    "    return result"
   ]
  },
  {
   "cell_type": "code",
   "execution_count": 6,
   "metadata": {},
   "outputs": [
    {
     "name": "stdout",
     "output_type": "stream",
     "text": [
      "https://search.fatcat.wiki/fatcat_release/_search?q=title:new%20york%20city\n"
     ]
    },
    {
     "data": {
      "text/plain": [
       "[{'id': 'elslp4gi35eavfa777gej2jb7m',\n",
       "  'score': 29.655378,\n",
       "  'title': 'Vision Zero Action Plan. City of New York (2014). New York City, New York',\n",
       "  'volume': 'Vision Zero Action Plan. City of New York (2014). New York City, New York',\n",
       "  'issue': None,\n",
       "  'pages': None,\n",
       "  'author': ['City Of New York'],\n",
       "  'url': None},\n",
       " {'id': 'ndh34lzng5dyxhsenfortjkjcy',\n",
       "  'score': 27.668268,\n",
       "  'title': \"Fashioning Piety: Women's Dress, Money, and Faith among Senegalese Muslims in New\",\n",
       "  'volume': \"Fashioning Piety: Women's Dress, Money, and Faith among Senegalese Muslims in New\",\n",
       "  'issue': None,\n",
       "  'pages': None,\n",
       "  'author': ['York City', 'Beth Buggenhagen'],\n",
       "  'url': 'https://web.archive.org/web/20180413170944/https://scholarworks.iu.edu/dspace/bitstream/handle/2022/20949/Buggenhagen%20C&S%2024.1%202012%20postprint.pdf;jsessionid=00D46E727DA0B290508A7EE22F3C881B?sequence=1'}]"
      ]
     },
     "execution_count": 6,
     "metadata": {},
     "output_type": "execute_result"
    }
   ],
   "source": [
    "search_fatcat_article_title(\"new york city\")[0:2]"
   ]
  },
  {
   "cell_type": "code",
   "execution_count": 7,
   "metadata": {},
   "outputs": [],
   "source": [
    "def search_fatcat_journal_name_article_title(journal, title):\n",
    "    url_header = \"https://search.fatcat.wiki/fatcat_release/_search?q=\"\n",
    "    url_content_journal = \"container_name:\" + re.sub(\" \", \"%20\", journal)\n",
    "    url_content_title = \"title:\" + re.sub(\" \", \"%20\", title)\n",
    "    url_content = \"(\" + url_content_journal + \")AND(\" + url_content_title + \")\"\n",
    "    url = url_header + url_content\n",
    "    \n",
    "    print(url)\n",
    "    \n",
    "    # make http request\n",
    "    request = requests.get(url, timeout = 20)\n",
    "    response = request.text\n",
    "    response_json = json.loads(response)\n",
    "    \n",
    "#     print(response_json)\n",
    "    search_results = response_json[\"hits\"][\"hits\"]\n",
    "    result = []\n",
    "    for search_res in search_results:\n",
    "        search_res_id = search_res[\"_id\"]\n",
    "        search_res_score = search_res[\"_score\"]\n",
    "        release = search_res[\"_source\"]\n",
    "        search_res_info = {\"id\": search_res_id, \"score\": search_res_score, \"title\": release[\"title\"], \n",
    "                           \"volume\": release[\"title\"], \"issue\": release[\"issue\"], \"pages\": release[\"pages\"],\n",
    "                           \"author\": release[\"contrib_names\"], \"url\": release[\"best_pdf_url\"]}\n",
    "        result.append(search_res_info)\n",
    "\n",
    "    return result"
   ]
  },
  {
   "cell_type": "code",
   "execution_count": 8,
   "metadata": {},
   "outputs": [
    {
     "name": "stdout",
     "output_type": "stream",
     "text": [
      "https://search.fatcat.wiki/fatcat_release/_search?q=(container_name:Scientific%20American)AND(title:Our%20Solar%20System%20Is%20Overflowing%20with%20Liquid%20Water)\n"
     ]
    },
    {
     "data": {
      "text/plain": [
       "[{'id': 'krkousbgvbdm5bjbousk6bzdb4',\n",
       "  'score': 35.348415,\n",
       "  'title': 'Our Solar System',\n",
       "  'volume': 'Our Solar System',\n",
       "  'issue': '1006supp',\n",
       "  'pages': '16081-16082',\n",
       "  'author': ['Alfred Bicknell'],\n",
       "  'url': 'https://archive.org/download/crossref-pre-1909-scholarly-works/10.1038%252Fscientificamerican04131889-226c.zip/10.1038%252Fscientificamerican04131895-16081bsupp.pdf'},\n",
       " {'id': 'v26gkqtuo5gspkjjuktwkkkgbe',\n",
       "  'score': 35.278923,\n",
       "  'title': 'Our Solar System',\n",
       "  'volume': 'Our Solar System',\n",
       "  'issue': '1522supp',\n",
       "  'pages': '24386-24387',\n",
       "  'author': ['Agnes M. Clerke'],\n",
       "  'url': None}]"
      ]
     },
     "execution_count": 8,
     "metadata": {},
     "output_type": "execute_result"
    }
   ],
   "source": [
    "search_fatcat_journal_name_article_title(\"Scientific American\", \"Our Solar System Is Overflowing with Liquid Water\")[:2]"
   ]
  },
  {
   "cell_type": "markdown",
   "metadata": {},
   "source": [
    "### Lucene Query String Syntax\n",
    "- https://www.elastic.co/guide/en/elasticsearch/reference/current/query-dsl-query-string-query.html\n",
    "- https://www.elastic.co/guide/en/elasticsearch/reference/current/search-search.html "
   ]
  },
  {
   "cell_type": "code",
   "execution_count": 9,
   "metadata": {},
   "outputs": [],
   "source": [
    "query_string = {\"query\": \n",
    "                {\"query_string\": \n",
    "                 {\n",
    "                    \"query\": \"(new york city) OR (big apple)\",\n",
    "                    \"default_field\": \"content\"\n",
    "                 }\n",
    "                }\n",
    "               }"
   ]
  },
  {
   "cell_type": "code",
   "execution_count": null,
   "metadata": {},
   "outputs": [],
   "source": []
  },
  {
   "cell_type": "code",
   "execution_count": null,
   "metadata": {},
   "outputs": [],
   "source": []
  },
  {
   "cell_type": "markdown",
   "metadata": {},
   "source": [
    "### Example with python wrapper\n",
    "- https://gist.github.com/miku/cdf38c7cd7ea3d163539ca398ccf607b"
   ]
  },
  {
   "cell_type": "code",
   "execution_count": 10,
   "metadata": {},
   "outputs": [
    {
     "name": "stdout",
     "output_type": "stream",
     "text": [
      "took\n",
      "timed_out\n",
      "_shards\n",
      "hits\n",
      "168937642\n",
      "lbfov5kze5h4xl4gbuv5v57n4m Vorwort\n",
      "h2wpwflsgngfzeidqpdu77tz5y Employment status and the frequency and causes of burn injuries in New England\n",
      "cltiujpt2bghtfmawezhxh5sge On Kunama ukunkula 'elbow' and its proposed cognates in Nilo-Saharan languages\n",
      "2ejozpx555bc3lhhvnumqagbqa SGLT2 Inhibitors as a Therapeutic Option for Diabetic Nephropathy\n",
      "36fcbnsk4jf3vbez4kiqew52jq Efficient Generation of Electricity from Methane using High Temperature Fuel Cells - Status, Challenges and Prospects\n",
      "mg3zwqfrkran5i3bv5vg2neoie Generation of Cocyclic Hadamard Matrices\n",
      "tnuk2tn43zayldjaimz5aymb4u Dedication\n",
      "ympv6467nrcrtkljvppj4pocfu About Our Contributors\n",
      "6rwhhwpfi5ag7fmedaglkebrky News in brief\n",
      "u7ehcognt5g2dpdzapmn6ouaqm The Palazzo Rucellai and Questions of Typology in the Development of Renaissance Buildings\n"
     ]
    }
   ],
   "source": [
    "#!/usr/bin/env python\n",
    "\n",
    "\"\"\"\n",
    "You may need to \"pip install elasticsearch\"\n",
    "\"\"\"\n",
    "\n",
    "from elasticsearch import Elasticsearch\n",
    "es = Elasticsearch([\"https://search.fatcat.wiki\"])\n",
    "\n",
    "resp = es.search(index=\"fatcat_release\", body={\"query\": {\"match_all\": {}}}, track_total_hits=True)\n",
    "\n",
    "for k, v in resp.items():\n",
    "    print(k)\n",
    "    # took\n",
    "    # timed_out\n",
    "    # _shards\n",
    "    # hits\n",
    "\n",
    "print(resp[\"hits\"][\"total\"][\"value\"])\n",
    "# 167456483\n",
    "\n",
    "for doc in resp[\"hits\"][\"hits\"]:\n",
    "    release = doc[\"_source\"]\n",
    "    print(doc[\"_id\"], release[\"title\"])\n",
    "\n",
    "# lbfov5kze5h4xl4gbuv5v57n4m Vorwort\n",
    "# h2wpwflsgngfzeidqpdu77tz5y Employment status and the frequency and causes of burn injuries in New England\n",
    "# cltiujpt2bghtfmawezhxh5sge On Kunama ukunkula 'elbow' and its proposed cognates in Nilo-Saharan languages\n",
    "# 2ejozpx555bc3lhhvnumqagbqa SGLT2 Inhibitors as a Therapeutic Option for Diabetic Nephropathy\n",
    "# 36fcbnsk4jf3vbez4kiqew52jq Efficient Generation of Electricity from Methane using High Temperature Fuel Cells - Status, Challenges and Prospects\n",
    "# mg3zwqfrkran5i3bv5vg2neoie Generation of Cocyclic Hadamard Matrices\n",
    "# tnuk2tn43zayldjaimz5aymb4u Dedication\n",
    "# ympv6467nrcrtkljvppj4pocfu About Our Contributors\n",
    "# 6rwhhwpfi5ag7fmedaglkebrky News in brief\n",
    "# u7ehcognt5g2dpdzapmn6ouaqm The Palazzo Rucellai and Questions of Typology in the Development of Renaissance Buildings"
   ]
  },
  {
   "cell_type": "markdown",
   "metadata": {},
   "source": [
    "- https://elasticsearch-py.readthedocs.io/en/v7.13.2/"
   ]
  },
  {
   "cell_type": "code",
   "execution_count": 11,
   "metadata": {},
   "outputs": [
    {
     "name": "stdout",
     "output_type": "stream",
     "text": [
      "took\n",
      "timed_out\n",
      "_shards\n",
      "hits\n",
      "3085\n",
      "6alerabq4vao3e6yd2tun74ouy 7 火山防災と火山地質学\n",
      "xgoqdedhn5euhlxfi62e3zf6ya P15 焼岳円頂丘溶岩の地質と岩石(その 1) : 石基組織の多様性から見た円頂丘の定置史\n",
      "lpugazojqbhyzdsvq6eez75vxa Stratigraphic relationships of the Lower Tertiary of the Faeroe Basalt Plateau and the Faeroe–Shetland Basin\n",
      "x5ll6i5fxvh5dg3273a4aoqx6a 233 オマーンオフィオライト北部斑れい岩層の地質\n",
      "gnzwl2gperdppdzlhuxk4mfxey 368 焼岳火山群白谷山・アカンダナ火山の地質と活動年代\n",
      "vo7kyjrxmrbk5i75pybl7uldja 277 セントラルベースンフォルトの地形と地質 : 西フィリピン海盆発達史の鍵\n",
      "lczkta4rurhu5mrfudbb7mtbvm 41 九州東部秩父累帯南帯の地質 : 「熊田」及びその周辺地域\n",
      "nki43bx4kvhzhnn46yeunjmefy Acidic and sulfate-rich hydrothermal fluids from the Manus back-arc basin, Papua New Guinea\n",
      "rnod7mfmr5bvvbpsxs7f3b5e3a 418 湯殿山巨大地すべり冠頭部付近の地質\n",
      "nfe54y7hojdcph5dmmizoiyjra Early Mesozoic subduction in the Eastern Mediterranean: Evidence from Triassic eclogite in northwest Turkey\n"
     ]
    }
   ],
   "source": [
    "#!/usr/bin/env python\n",
    "\n",
    "\"\"\"\n",
    "You may need to \"pip install elasticsearch\"\n",
    "\"\"\"\n",
    "\n",
    "es = Elasticsearch([\"https://search.fatcat.wiki\"], timeout = 25)\n",
    "\n",
    "query_string = {\n",
    "  \"query\": {\n",
    "    \"query_string\": {\n",
    "      \"query\": \"(container_name:Canadian%20Journal%20of%20Public%20Health)AND(title:Lifetime%20probability%20of%20developing%20lung%20cancer,%20by%20smoking%20status,%20Canada)AND(volume:85)AND(release_year:1994)\"\n",
    "    }\n",
    "  }\n",
    "}\n",
    "query_string = {\n",
    "  \"query\": {\n",
    "    \"query_string\": {\n",
    "      \"query\": \"(container_name:Toxins)AND(title:The Discodermia calyx Toxin Calyculin A)AND(release_year:2011)\"\n",
    "    }\n",
    "  }\n",
    "}\n",
    "query_string = {\n",
    "    'query': {\n",
    "        'query_string': {\n",
    "            'query': '(container_name:Toxins)AND(title:The%20Discodermia%20calyx%20Toxin%20Calyculin%20A)AND(release_year:2011)'\n",
    "        }\n",
    "    }\n",
    "}\n",
    "query_string = {\n",
    "    'query': {\n",
    "        'query_string': {\n",
    "            'query': \"(container_name:Fieldiana Geology)AND(title:Revision of the sauropterygian reptile genus ''Cymatosaurus'' v. Fritsch, 1894, and the relationships of Germanosaurus Nopcsa, 1928, from the Middle Triassic of Europe)AND(release_year:1997)\"}}}\n",
    "# try:\n",
    "resp = es.search(index=\"fatcat_release\", body = query_string, track_total_hits=True)\n",
    "\n",
    "for k, v in resp.items():\n",
    "    print(k)\n",
    "\n",
    "print(resp[\"hits\"][\"total\"][\"value\"])\n",
    "# 167456483\n",
    "\n",
    "for doc in resp[\"hits\"][\"hits\"]:\n",
    "    release = doc[\"_source\"]\n",
    "    print(doc[\"_id\"], release[\"title\"])\n",
    "# except:\n",
    "#     print(\"err\")\n"
   ]
  },
  {
   "cell_type": "code",
   "execution_count": 12,
   "metadata": {},
   "outputs": [
    {
     "name": "stdout",
     "output_type": "stream",
     "text": [
      "took\n",
      "timed_out\n",
      "_shards\n",
      "hits\n",
      "1\n",
      "[{'_index': 'fatcat_release_v03c', '_type': '_doc', '_id': 'uvh54wbys5ehleliwtsps6k5cq', '_score': 16.779491, '_source': {'doc_index_ts': '2021-04-09T00:35:26.741925Z', 'ident': 'uvh54wbys5ehleliwtsps6k5cq', 'state': 'active', 'revision': '401acd39-b212-4eb2-8526-89e064c12c6f', 'work_id': 'dsz4e6hn5zcfrntj6sp5rjes5m', 'title': 'Surgical technique of one-stage bilateral lung reimplantation in the dog', 'subtitle': None, 'original_title': None, 'release_type': 'article-journal', 'release_stage': 'published', 'withdrawn_status': None, 'language': 'en', 'volume': '61', 'issue': '6', 'pages': '847-56', 'number': None, 'license': None, 'doi': None, 'pmid': '4932558', 'pmcid': None, 'isbn13': None, 'wikidata_qid': None, 'core_id': None, 'arxiv_id': None, 'jstor_id': None, 'ark_id': None, 'mag_id': None, 'dblp_id': None, 'doaj_id': None, 'is_oa': False, 'is_longtail_oa': False, 'is_preserved': True, 'in_web': False, 'in_dweb': False, 'in_ia': False, 'in_ia_sim': True, 'in_kbart': True, 'in_jstor': False, 'in_doaj': False, 'in_shadows': False, 'release_year': 1971, 'any_abstract': False, 'ref_count': 0, 'ref_release_ids': [], 'ref_linked_count': 0, 'contrib_count': 4, 'contrib_names': ['F Alican', 'M Cayirli', 'E Isin', 'J D Hardy'], 'creator_ids': [], 'affiliations': [], 'affiliation_rors': None, 'publisher': 'American Association for Thoracic Surgery', 'container_name': 'Journal of Thoracic and Cardiovascular Surgery', 'container_id': 'bs2uaypzlretnhi7ckxfiz3zzm', 'container_issnl': '0022-5223', 'container_type': 'journal', 'country_code': 'us', 'country_code_upper': 'US', 'publisher_type': 'big5', 'file_count': 0, 'fileset_count': 0, 'webcapture_count': 0, 'best_pdf_url': None, 'ia_pdf_url': None, 'first_page': '847', 'ia_microfilm_url': None, 'doi_registrar': None, 'preservation': 'dark'}}]\n"
     ]
    }
   ],
   "source": [
    "#!/usr/bin/env python\n",
    "\n",
    "\"\"\"\n",
    "You may need to \"pip install elasticsearch\"\n",
    "\"\"\"\n",
    "\n",
    "es = Elasticsearch([\"https://search.fatcat.wiki\"])\n",
    "\n",
    "query_string = {\n",
    "  \"query\": {\n",
    "    \"query_string\": {\n",
    "      \"query\": \"(work_id:dsz4e6hn5zcfrntj6sp5rjes5m)\"\n",
    "    }\n",
    "  }\n",
    "}\n",
    "resp = es.search(index=\"fatcat_release\", body = query_string, track_total_hits=True)\n",
    "\n",
    "for k, v in resp.items():\n",
    "    print(k)\n",
    "\n",
    "print(resp[\"hits\"][\"total\"][\"value\"])\n",
    "# 167456483\n",
    "print(resp[\"hits\"][\"hits\"])\n",
    "# for doc in resp[\"hits\"][\"hits\"]:\n",
    "#     release = doc[\"_source\"]\n",
    "#     print(doc[\"_id\"], release[\"title\"])\n"
   ]
  },
  {
   "cell_type": "code",
   "execution_count": null,
   "metadata": {},
   "outputs": [],
   "source": []
  },
  {
   "cell_type": "markdown",
   "metadata": {},
   "source": [
    "# Fatcat Searches "
   ]
  },
  {
   "cell_type": "markdown",
   "metadata": {},
   "source": [
    "## Citation Preprocessing"
   ]
  },
  {
   "cell_type": "code",
   "execution_count": 13,
   "metadata": {},
   "outputs": [
    {
     "name": "stdout",
     "output_type": "stream",
     "text": [
      "{{Akademik dergi kaynağı|başlık=Lifetime probability of developing lung cancer, by smoking status, Canada|sayı=6|sayfalar=385-8|çalışma=Canadian Journal of Public Health|yıl=1994|cilt=85|pmid=7895211}}\n",
      "{'journal': 'Canadian Journal of Public Health', 'date': '1994', 'year': 1994, 'volume': '85', 'issue': '6', 'title': 'Lifetime probability of developing lung cancer, by smoking status, Canada', 'author': [], 'page': '385', 'url': '', 'external_ids': {'pmid': '7895211'}}\n",
      "{'journal': 'Canadian Journal of Public Health', 'date': '1994', 'year': 1994, 'volume': '85', 'issue': '6', 'title': 'Lifetime probability of developing lung cancer, by smoking status, Canada', 'author': [], 'page': '385', 'url': '', 'external_ids': {'pmid': '7895211'}}\n",
      "There is already an existing doi link.\n",
      "False\n",
      "yay\n",
      "(56136, 3)\n",
      "(37333, 3)\n",
      "{{Akademik dergi kaynağı|başlık=Lifetime probability of developing lung cancer, by smoking status, Canada|sayı=6|sayfalar=385-8|çalışma=Canadian Journal of Public Health|yıl=1994|cilt=85|pmid=7895211}}\n",
      "There is already an existing doi link.\n",
      "This citaiton does not have all relevant info, or contains external identifiers.\n",
      "Err1\n",
      "14960\n",
      "(90, 3)\n",
      "(2, 3)\n",
      "(8, 3)\n"
     ]
    }
   ],
   "source": [
    "from ipynb.fs.full.Citation_Preprocessing import *"
   ]
  },
  {
   "cell_type": "code",
   "execution_count": 14,
   "metadata": {},
   "outputs": [
    {
     "name": "stdout",
     "output_type": "stream",
     "text": [
      "{{Akademik dergi kaynağı|başlık=Lifetime probability of developing lung cancer, by smoking status, Canada|sayı=6|sayfalar=385-8|çalışma=Canadian Journal of Public Health|yıl=1994|cilt=85|pmid=7895211}}\n",
      "{'journal': 'Canadian Journal of Public Health', 'date': '1994', 'year': 1994, 'volume': '85', 'issue': '6', 'title': 'Lifetime probability of developing lung cancer, by smoking status, Canada', 'author': [], 'page': '385', 'url': '', 'external_ids': {'pmid': '7895211'}}\n"
     ]
    }
   ],
   "source": [
    "test_cite7 = \"{{Akademik dergi kaynağı|başlık=Lifetime probability of developing lung cancer, by smoking status, Canada|sayı=6|sayfalar=385-8|çalışma=Canadian Journal of Public Health|yıl=1994|cilt=85|pmid=7895211}}\"\n",
    "print(test_cite7)\n",
    "\n",
    "cite_info7 = parse_citation_data(test_cite7)\n",
    "print(cite_info7)"
   ]
  },
  {
   "cell_type": "code",
   "execution_count": 15,
   "metadata": {},
   "outputs": [
    {
     "name": "stdout",
     "output_type": "stream",
     "text": [
      "{{cite journal |title=The Discodermia calyx Toxin Calyculin A |last1=Edelson |first1=Jessica R. |last2=Brautigan |first2=David L. |date=24 January 2011 |journal=Toxins |volume=3 |issue=1 |pages=105–119 |doi=10.3390/toxins3010105 |doi-access=free |pmid=22069692 |pmc=3210456}}\n",
      "{'journal': 'Toxins', 'date': '2011-01', 'year': 2011, 'volume': '3', 'issue': '1', 'title': 'The Discodermia calyx Toxin Calyculin A', 'author': ['Jessica R. Edelson', 'David L. Brautigan'], 'page': '105', 'url': '', 'external_ids': {'doi': '10.3390/toxins3010105', 'pmid': '22069692', 'pmc': '3210456'}}\n"
     ]
    }
   ],
   "source": [
    "test_cite6 = \"{{cite journal |title=The Discodermia calyx Toxin Calyculin A |last1=Edelson |first1=Jessica R. |last2=Brautigan |first2=David L. |date=24 January 2011 |journal=Toxins |volume=3 |issue=1 |pages=105–119 |doi=10.3390/toxins3010105 |doi-access=free |pmid=22069692 |pmc=3210456}}\"\n",
    "print(test_cite6)\n",
    "\n",
    "cite_info6 = parse_citation_data(test_cite6)\n",
    "print(cite_info6)"
   ]
  },
  {
   "cell_type": "code",
   "execution_count": null,
   "metadata": {},
   "outputs": [],
   "source": []
  },
  {
   "cell_type": "markdown",
   "metadata": {},
   "source": [
    "## Generate Query String"
   ]
  },
  {
   "cell_type": "markdown",
   "metadata": {},
   "source": [
    "### Method 1 - Use as much info as possible"
   ]
  },
  {
   "cell_type": "code",
   "execution_count": 16,
   "metadata": {},
   "outputs": [],
   "source": [
    "def generate_url_content(cite_info):\n",
    "    url_fields = []\n",
    "    if cite_info[\"journal\"] != \"\":\n",
    "        url_fields.append(\"(container_name:\" + re.sub(\" \", \"%20\", cite_info[\"journal\"]) + \")\")\n",
    "    if cite_info[\"title\"] != \"\":\n",
    "        url_fields.append(\"(title:\" + re.sub(\" \", \"%20\", cite_info[\"title\"]) + \")\")\n",
    "    if cite_info[\"volume\"] != \"\":\n",
    "        url_fields.append(\"(volume:\" + re.sub(\" \", \"%20\", cite_info[\"volume\"]) + \")\")\n",
    "    if cite_info[\"year\"] != 0:\n",
    "        url_fields.append(\"(release_year:\" + str(cite_info[\"year\"]) + \")\")\n",
    "    if cite_info[\"author\"] != []:\n",
    "        for aut in cite_info[\"author\"]:\n",
    "            url_fields.append(\"(author:\" + re.sub(\" \", \"%20\", aut) + \")\")\n",
    "    url_content = \"AND\".join(url_fields)\n",
    "    return url_content"
   ]
  },
  {
   "cell_type": "code",
   "execution_count": null,
   "metadata": {},
   "outputs": [],
   "source": []
  },
  {
   "cell_type": "markdown",
   "metadata": {},
   "source": [
    "### Method 2 - Use minimum info"
   ]
  },
  {
   "cell_type": "code",
   "execution_count": 17,
   "metadata": {},
   "outputs": [],
   "source": [
    "def generate_url_content2(cite_info):\n",
    "    url_fields = []\n",
    "    \n",
    "    if cite_info[\"journal\"] != \"\":\n",
    "#         url_fields.append(\"(container_name:\" + re.sub(\" \", \"%20\", cite_info[\"journal\"]) + \")\")\n",
    "        url_fields.append(\"(container_name:\" + re.sub(\":\", \"\", cite_info[\"journal\"]) + \")\")\n",
    "    if cite_info[\"title\"] != \"\":\n",
    "#         url_fields.append(\"(title:\" + re.sub(\" \", \"%20\", cite_info[\"title\"]) + \")\")\n",
    "        url_fields.append(\"(title:\" + re.sub(\":\", \"\", cite_info[\"title\"]) + \")\")\n",
    "    if cite_info[\"year\"] != 0:\n",
    "        url_fields.append(\"(release_year:\" + str(cite_info[\"year\"]) + \")\")\n",
    "\n",
    "    url_content = \"AND\".join(url_fields)\n",
    "    url_content = re.sub(\"\\[\", \"\", url_content)\n",
    "    url_content = re.sub(\"\\]\", \"\", url_content)\n",
    "    \n",
    "    return url_content"
   ]
  },
  {
   "cell_type": "code",
   "execution_count": null,
   "metadata": {},
   "outputs": [],
   "source": []
  },
  {
   "cell_type": "markdown",
   "metadata": {},
   "source": [
    "## Making Searches \n",
    "### Method 1 (use url)"
   ]
  },
  {
   "cell_type": "code",
   "execution_count": 18,
   "metadata": {},
   "outputs": [],
   "source": [
    "def search_fatcat_cite_info(url_content, verbose = False):\n",
    "    \n",
    "    url_header = \"https://search.fatcat.wiki/fatcat_release/_search?q=\"\n",
    "\n",
    "    url = url_header + urllib.parse.quote(url_content, safe = \"\")\n",
    "    \n",
    "    if verbose: print(url)\n",
    "    \n",
    "    # make http request\n",
    "    request = requests.get(url, timeout = 30)\n",
    "    \n",
    "    if request.status_code == 200:\n",
    "        response = request.text\n",
    "        try: \n",
    "            response_json = json.loads(response)\n",
    "\n",
    "            search_results = response_json[\"hits\"][\"hits\"]\n",
    "            result = []\n",
    "            for search_res in search_results:\n",
    "                search_res_id = search_res[\"_id\"]\n",
    "                search_res_score = search_res[\"_score\"]\n",
    "                release = search_res[\"_source\"]\n",
    "                search_res_info = {\"work_id\": release[\"work_id\"], \"score\": search_res_score, \n",
    "                                   \"title\": release[\"title\"], \n",
    "                                   \"year\": release[\"release_year\"], \"journal\":release[\"container_name\"],\n",
    "                                   \"volume\": release[\"volume\"], \"issue\": release[\"issue\"], \"page\": release[\"pages\"],\n",
    "                                   \"author\": release[\"contrib_names\"], \"url\": release[\"best_pdf_url\"]}\n",
    "                result.append(search_res_info)\n",
    "        except:\n",
    "            return \"\"\n",
    "    else:\n",
    "        return \"\"\n",
    "\n",
    "    return result"
   ]
  },
  {
   "cell_type": "code",
   "execution_count": 19,
   "metadata": {},
   "outputs": [
    {
     "name": "stdout",
     "output_type": "stream",
     "text": [
      "{'journal': 'Canadian Journal of Public Health', 'date': '1994', 'year': 1994, 'volume': '85', 'issue': '6', 'title': 'Lifetime probability of developing lung cancer, by smoking status, Canada', 'author': [], 'page': '385', 'url': '', 'external_ids': {'pmid': '7895211'}}\n"
     ]
    }
   ],
   "source": [
    "print(cite_info7)"
   ]
  },
  {
   "cell_type": "code",
   "execution_count": 20,
   "metadata": {},
   "outputs": [
    {
     "name": "stdout",
     "output_type": "stream",
     "text": [
      "https://search.fatcat.wiki/fatcat_release/_search?q=%28container_name%3ACanadian%2520Journal%2520of%2520Public%2520Health%29AND%28title%3ALifetime%2520probability%2520of%2520developing%2520lung%2520cancer%2C%2520by%2520smoking%2520status%2C%2520Canada%29AND%28volume%3A85%29AND%28release_year%3A1994%29\n",
      "https://search.fatcat.wiki/fatcat_release/_search?q=%28container_name%3ACanadian%20Journal%20of%20Public%20Health%29AND%28title%3ALifetime%20probability%20of%20developing%20lung%20cancer%2C%20by%20smoking%20status%2C%20Canada%29AND%28release_year%3A1994%29\n",
      "query method 1: \n",
      "(container_name:Canadian%20Journal%20of%20Public%20Health)AND(title:Lifetime%20probability%20of%20developing%20lung%20cancer,%20by%20smoking%20status,%20Canada)AND(volume:85)AND(release_year:1994)\n",
      "query method 2: \n",
      "(container_name:Canadian Journal of Public Health)AND(title:Lifetime probability of developing lung cancer, by smoking status, Canada)AND(release_year:1994)\n",
      "search res method 1: \n",
      "[]\n",
      "search res method 2: \n",
      "[{'work_id': 'qwmp2lzwcnhhvo3wqohwm5u3g4', 'score': 31.104496, 'title': 'Positive Correlation between Normal Serum Gastrin Concentrations and Antral and Duodenal G Cells', 'year': 1994, 'journal': 'Canadian Journal of Gastroenterology', 'volume': None, 'issue': None, 'page': '235-238', 'author': ['WR Yacoub', 'ABR Thomson', 'RW Sherbaniuk', 'P Hooper', 'LD Jewell'], 'url': 'https://web.archive.org/web/201905030614/http://downloads.hindawi.com/journals/cjgh/1994/151096.pdf'}, {'work_id': 'pqrhwuoqhjen5cuuiuqzejzeaa', 'score': 29.062708, 'title': 'Estimates of population smoking prevalence: self-vs proxy reports of smoking status.', 'year': 1994, 'journal': 'American Journal of Public Health', 'volume': '84', 'issue': '10', 'page': '1576-1579', 'author': ['E A Gilpin', 'J P Pierce', 'S W Cavin', 'C C Berry', 'N J Evans', 'M Johnson', 'D G Bal'], 'url': None}, {'work_id': 'l5qu5b55qfa4fj2gd3eckulqqe', 'score': 28.907455, 'title': 'A report about smoking habits of Italian health personnel', 'year': 1994, 'journal': 'Lung Cancer', 'volume': '11', 'issue': None, 'page': '59', 'author': [], 'url': None}, {'work_id': 'hmo7au6gqndf7lbf3wv2r2vvvy', 'score': 28.745049, 'title': 'Education and Training in Canada', 'year': 1994, 'journal': 'Canadian public policy', 'volume': '20', 'issue': None, 'page': '114', 'author': ['David Stager', 'Economic Council of Canada'], 'url': None}, {'work_id': '3zz5ezcudrbgdk2goiwpn3whxa', 'score': 27.779955, 'title': 'Epidemiology of smoking and lung cancer: A historical perspective', 'year': 1994, 'journal': 'Lung Cancer', 'volume': '11', 'issue': None, 'page': None, 'author': [], 'url': None}, {'work_id': 'vie4lawouremtj73wgzyhf4pky', 'score': 27.516613, 'title': 'Kaiser Family Foundation/Harvard School of Public Health Poll: Welfare Survey', 'year': 1994, 'journal': None, 'volume': None, 'issue': None, 'page': None, 'author': ['Harvard T.H. Chan School Of Public Health', 'Kaiser Family Foundation', 'KRC Communications Research', 'Kaiser Family Foundation', 'Harvard T.H. Chan School Of Public Health'], 'url': None}, {'work_id': 'b2ccdkjubzgl7fhc7omiyj64t4', 'score': 27.30605, 'title': 'Smoking and Lung Cancer', 'year': 1994, 'journal': 'Journal of thoracic imaging', 'volume': None, 'issue': None, 'page': '205', 'author': ['Douglas S. Katz', 'Ernest M. Scalzetti'], 'url': None}, {'work_id': 'zvr43fscsbeslabcobluq57g5i', 'score': 27.116539, 'title': 'Mechanisms of the combined effect of asbestos and smoking in the etiology of lung cancer.', 'year': 1994, 'journal': 'Scandinavian Journal of Work, Environment and Health', 'volume': '20', 'issue': None, 'page': '235-242', 'author': ['Harri Vainio', 'Paolo Boffetta'], 'url': 'https://web.archive.org/web/20190508033325/http://www.sjweh.fi/download.php?abstract_id=1402&file_nro=1'}, {'work_id': 'kz36w77izzftplnmhd66pzshcy', 'score': 26.880222, 'title': 'Mechanisms of the combined effect of asbestos and smoking in the etiology of lung cancer', 'year': 1994, 'journal': 'Scandinavian Journal of Work, Environment and Health', 'volume': '20', 'issue': '4', 'page': '235-42', 'author': ['H Vainio', 'P Boffetta'], 'url': None}, {'work_id': '64iyu75fczcajmxsds6sarajvm', 'score': 26.87153, 'title': 'Crown liability in Canada: Developing compensation policies for regulatory failure', 'year': 1994, 'journal': 'Canadian public administration', 'volume': '37', 'issue': None, 'page': '79-107', 'author': ['David S. Cohen', 'Peter Finkle'], 'url': None}]\n"
     ]
    }
   ],
   "source": [
    "url_content7_1 = generate_url_content(cite_info7)\n",
    "url_content7_2 = generate_url_content2(cite_info7)\n",
    "search_res7_1 = search_fatcat_cite_info(url_content7_1, True)\n",
    "search_res7_2 = search_fatcat_cite_info(url_content7_2, True)\n",
    "print(\"query method 1: \")\n",
    "print(url_content7_1)\n",
    "print(\"query method 2: \")\n",
    "print(url_content7_2)\n",
    "\n",
    "print(\"search res method 1: \")\n",
    "print(search_res7_1)\n",
    "print(\"search res method 2: \")\n",
    "print(search_res7_2)"
   ]
  },
  {
   "cell_type": "code",
   "execution_count": 21,
   "metadata": {},
   "outputs": [
    {
     "name": "stdout",
     "output_type": "stream",
     "text": [
      "{{cite journal |title=The Discodermia calyx Toxin Calyculin A |last1=Edelson |first1=Jessica R. |last2=Brautigan |first2=David L. |date=24 January 2011 |journal=Toxins |volume=3 |issue=1 |pages=105–119 |doi=10.3390/toxins3010105 |doi-access=free |pmid=22069692 |pmc=3210456}}\n",
      "{'journal': 'Toxins', 'date': '2011-01', 'year': 2011, 'volume': '3', 'issue': '1', 'title': 'The Discodermia calyx Toxin Calyculin A', 'author': ['Jessica R. Edelson', 'David L. Brautigan'], 'page': '105', 'url': '', 'external_ids': {'doi': '10.3390/toxins3010105', 'pmid': '22069692', 'pmc': '3210456'}}\n",
      "https://search.fatcat.wiki/fatcat_release/_search?q=%28container_name%3AToxins%29AND%28title%3AThe%2520Discodermia%2520calyx%2520Toxin%2520Calyculin%2520A%29AND%28volume%3A3%29AND%28release_year%3A2011%29AND%28author%3AJessica%2520R.%2520Edelson%29AND%28author%3ADavid%2520L.%2520Brautigan%29\n",
      "https://search.fatcat.wiki/fatcat_release/_search?q=%28container_name%3AToxins%29AND%28title%3AThe%20Discodermia%20calyx%20Toxin%20Calyculin%20A%29AND%28release_year%3A2011%29\n",
      "query method 1: \n",
      "(container_name:Toxins)AND(title:The%20Discodermia%20calyx%20Toxin%20Calyculin%20A)AND(volume:3)AND(release_year:2011)AND(author:Jessica%20R.%20Edelson)AND(author:David%20L.%20Brautigan)\n",
      "query method 2: \n",
      "(container_name:Toxins)AND(title:The Discodermia calyx Toxin Calyculin A)AND(release_year:2011)\n",
      "search res method 1: \n",
      "[]\n",
      "search res method 2: \n",
      "[{'work_id': '3iq73gpzjjaz5jr37x6mjn3zii', 'score': 61.302803, 'title': 'The Discodermia calyx Toxin Calyculin A Enhances Cyclin D1 Phosphorylation and Degradation, and Arrests Cell Cycle Progression in Human Breast Cancer Cells', 'year': 2011, 'journal': 'Toxins', 'volume': None, 'issue': None, 'page': '105-119', 'author': ['Jessica R. Edelson', 'David L. Brautigan'], 'url': 'https://web.archive.org/web/20180728074927/https://res.mdpi.com/def50200085a04acf69806274a694018e1a97cedb1a41827edad480ce169ecdb2edc9f9d8170cb248c739300e5851e3a4ea27ca8b7da35cbd74474603bfa07092c315d21af89a5b45f963c9490b78b43d4ce4cccc91e3c9b59351003fce4d8cb6231b4abfd170cf43219aebee39c890b73033cdede28c226d156e26de700c068fe98a7cac1881cb4e8e0867ec9?filename=&attachment=1'}, {'work_id': 'gmoy7ovndrhlncxfvqddlbg7cm', 'score': 26.665115, 'title': 'Shiga Toxin: Expression, Distribution, and Its Role in the Environment', 'year': 2011, 'journal': 'Toxins', 'volume': None, 'issue': None, 'page': '608-625', 'author': ['Steven A. Mauro', 'Gerald B. Koudelka'], 'url': 'https://archive.org/download/pubmed-PMC3202840/PMC3202840-toxins3060608.pdf'}, {'work_id': 'fzg23zmkfrfvvho2eullq2hmhy', 'score': 25.333862, 'title': 'Towards New Uses of Botulinum Toxin as a Novel Therapeutic Tool', 'year': 2011, 'journal': 'Toxins', 'volume': None, 'issue': None, 'page': '63-81', 'author': ['Andy Pickett', 'Karen Perrow'], 'url': 'https://web.archive.org/web/20110628191041/http://www.mdpi.com:80/2072-6651/3/1/63/pdf'}, {'work_id': 'xpp6e5w3fbcebkqpelqe46wcfe', 'score': 25.169865, 'title': 'Adapting Yeast as Model to Study Ricin Toxin A Uptake and Trafficking', 'year': 2011, 'journal': 'Toxins', 'volume': None, 'issue': None, 'page': '834-847', 'author': ['Björn Becker', 'Manfred Schmitt'], 'url': 'https://web.archive.org/web/20151129190955/http://www.mdpi.com/2072-6651/3/7/834/pdf'}, {'work_id': 'aevjha2pofa4hd5unt46hf6kru', 'score': 25.11144, 'title': 'Role of the Mannose Receptor (CD206) in Innate Immunity to Ricin Toxin', 'year': 2011, 'journal': 'Toxins', 'volume': None, 'issue': None, 'page': '1131-1145', 'author': ['Emily Gage', 'Maria O. Hernandez', \"Joanne M. O'Hara\", 'Elizabeth A. McCarthy', 'Nicholas J. Mantis'], 'url': 'https://archive.org/download/pubmed-PMC3202876/PMC3202876-toxins3091131.pdf'}, {'work_id': '5a6egtx6szdvng6lgtqumg5bcm', 'score': 24.837772, 'title': 'Observation of T-2 Toxin and HT-2 Toxin Glucosides from Fusarium sporotrichioides by Liquid Chromatography Coupled to Tandem Mass Spectrometry (LC-MS/MS)', 'year': 2011, 'journal': 'Toxins', 'volume': None, 'issue': '12', 'page': '1554-1568', 'author': ['Mark Busman', 'Stephen M. Poling', 'Chris M. Maragos'], 'url': 'https://web.archive.org/web/20170830193604/http://www.mdpi.com/2072-6651/3/12/1554/pdf?y=1'}, {'work_id': '4ddiu6vlnbbjnfvfqvelelxy6q', 'score': 24.791756, 'title': 'The Effects of Anthrax Lethal Toxin on Host Barrier Function', 'year': 2011, 'journal': 'Toxins', 'volume': None, 'issue': None, 'page': '591-607', 'author': ['Tao Xie', 'Roger D. Auth', 'David M. Frucht'], 'url': 'https://web.archive.org/web/20120820023301/http://www.mdpi.com:80/2072-6651/3/6/591/pdf'}, {'work_id': '4instrsixvcv7bxpcxalne3egy', 'score': 24.783443, 'title': 'Shiga Toxin Interaction with Human Intestinal Epithelium', 'year': 2011, 'journal': 'Toxins', 'volume': None, 'issue': None, 'page': '626-639', 'author': ['Stephanie Schüller'], 'url': 'https://web.archive.org/web/20180724214605/https://res.mdpi.com/def5020041764a08613e9f47b69dedd7fdc86a14f1d185cea2093d22b00c5428e9fdc7442da8069377ab222b5ebb800623a63db6e52483084e2b4d135ecfc4351a385b0eb7e562a88efbb27db775c3acb0d0d7a4012fe438c3a039e8eecdca20a33432f22bdcffa95a7c5f52f09d463bd901c6d4efb858005d9f400149a2109545e4b0012b2b55df25f3c0aa4e7a0f73?filename=&attachment=1'}, {'work_id': 's3kjekyemfbjxpjrqdsvoxrmzi', 'score': 24.43865, 'title': 'Mechanism of Lethal Toxin Neutralization by a Human Monoclonal Antibody Specific for the PA20 Region of Bacillus anthracis Protective Antigen', 'year': 2011, 'journal': 'Toxins', 'volume': None, 'issue': None, 'page': '979-990', 'author': ['Donald Reason', 'Justine Liberato', 'Jinying Sun', 'Jessica Camacho', 'Jianhui Zhou'], 'url': 'https://web.archive.org/web/20170829012817/http://www.mdpi.com/2072-6651/3/8/979/pdf'}, {'work_id': 'nzqfaejpxnco5ftzgycyrqviu4', 'score': 24.34166, 'title': 'Mechanism of Diphtheria Toxin Catalytic Domain Delivery to the Eukaryotic Cell Cytosol and the Cellular Factors that Directly Participate in the Process', 'year': 2011, 'journal': 'Toxins', 'volume': None, 'issue': None, 'page': '294-308', 'author': ['John R. Murphy'], 'url': 'https://web.archive.org/web/20170830134551/http://www.mdpi.com/2072-6651/3/3/294/pdf?y=1'}]\n"
     ]
    }
   ],
   "source": [
    "print(test_cite6)\n",
    "print(cite_info6)\n",
    "\n",
    "url_content6_1 = generate_url_content(cite_info6)\n",
    "url_content6_2 = generate_url_content2(cite_info6)\n",
    "search_res6_1 = search_fatcat_cite_info(url_content6_1, True)\n",
    "search_res6_2 = search_fatcat_cite_info(url_content6_2, True)\n",
    "print(\"query method 1: \")\n",
    "print(url_content6_1)\n",
    "print(\"query method 2: \")\n",
    "print(url_content6_2)\n",
    "\n",
    "print(\"search res method 1: \")\n",
    "print(search_res6_1)\n",
    "print(\"search res method 2: \")\n",
    "print(search_res6_2)"
   ]
  },
  {
   "cell_type": "markdown",
   "metadata": {},
   "source": [
    "### Method 2 - use python library"
   ]
  },
  {
   "cell_type": "code",
   "execution_count": 22,
   "metadata": {},
   "outputs": [],
   "source": [
    "def elastic_search_query_string(url_content):\n",
    "\n",
    "    query_string = {\n",
    "      \"query\": {\n",
    "        \"query_string\": {\n",
    "          \"query\": url_content\n",
    "        }\n",
    "      }\n",
    "    }\n",
    "    \n",
    "    return query_string\n"
   ]
  },
  {
   "cell_type": "code",
   "execution_count": 23,
   "metadata": {},
   "outputs": [],
   "source": [
    "def elastic_search_cite_info(url_content, verbose = False):\n",
    "    \n",
    "    es = Elasticsearch([\"https://search.fatcat.wiki\"], timeout = 20)\n",
    "    \n",
    "    query_string = elastic_search_query_string(url_content)\n",
    "    \n",
    "    if verbose: print(query_string)\n",
    "\n",
    "    try: \n",
    "        response_json = es.search(index=\"fatcat_release\", body = query_string, track_total_hits=True)\n",
    "\n",
    "        search_results = response_json[\"hits\"][\"hits\"]\n",
    "        result = []\n",
    "        for search_res in search_results:\n",
    "            search_res_id = search_res[\"_id\"]\n",
    "            search_res_score = search_res[\"_score\"]\n",
    "            release = search_res[\"_source\"]\n",
    "            search_res_info = {\"work_id\": release[\"work_id\"], \"score\": search_res_score, \n",
    "                                \"title\": release[\"title\"], \n",
    "                                \"year\": release[\"release_year\"], \"journal\":release[\"container_name\"],\n",
    "                                \"volume\": release[\"volume\"], \"issue\": release[\"issue\"], \"page\": release[\"pages\"],\n",
    "                                \"author\": release[\"contrib_names\"], \"url\": release[\"best_pdf_url\"]}\n",
    "            result.append(search_res_info)\n",
    "\n",
    "        return result\n",
    "    except: \n",
    "        return \"\"\n"
   ]
  },
  {
   "cell_type": "code",
   "execution_count": 24,
   "metadata": {},
   "outputs": [
    {
     "name": "stdout",
     "output_type": "stream",
     "text": [
      "{'journal': 'Canadian Journal of Public Health', 'date': '1994', 'year': 1994, 'volume': '85', 'issue': '6', 'title': 'Lifetime probability of developing lung cancer, by smoking status, Canada', 'author': [], 'page': '385', 'url': '', 'external_ids': {'pmid': '7895211'}}\n"
     ]
    }
   ],
   "source": [
    "print(cite_info7)"
   ]
  },
  {
   "cell_type": "code",
   "execution_count": 25,
   "metadata": {},
   "outputs": [
    {
     "name": "stdout",
     "output_type": "stream",
     "text": [
      "query method 1: \n",
      "(container_name:Canadian%20Journal%20of%20Public%20Health)AND(title:Lifetime%20probability%20of%20developing%20lung%20cancer,%20by%20smoking%20status,%20Canada)AND(volume:85)AND(release_year:1994)\n",
      "query method 2: \n",
      "(container_name:Canadian Journal of Public Health)AND(title:Lifetime probability of developing lung cancer, by smoking status, Canada)AND(release_year:1994)\n",
      "{'query': {'query_string': {'query': '(container_name:Canadian%20Journal%20of%20Public%20Health)AND(title:Lifetime%20probability%20of%20developing%20lung%20cancer,%20by%20smoking%20status,%20Canada)AND(volume:85)AND(release_year:1994)'}}}\n",
      "{'query': {'query_string': {'query': '(container_name:Canadian Journal of Public Health)AND(title:Lifetime probability of developing lung cancer, by smoking status, Canada)AND(release_year:1994)'}}}\n",
      "search res method 1: \n",
      "[]\n",
      "search res method 2: \n",
      "{'work_id': 'qwmp2lzwcnhhvo3wqohwm5u3g4', 'score': 31.122288, 'title': 'Positive Correlation between Normal Serum Gastrin Concentrations and Antral and Duodenal G Cells', 'year': 1994, 'journal': 'Canadian Journal of Gastroenterology', 'volume': None, 'issue': None, 'page': '235-238', 'author': ['WR Yacoub', 'ABR Thomson', 'RW Sherbaniuk', 'P Hooper', 'LD Jewell'], 'url': 'https://web.archive.org/web/201905030614/http://downloads.hindawi.com/journals/cjgh/1994/151096.pdf'}\n"
     ]
    }
   ],
   "source": [
    "url_content7_1 = generate_url_content(cite_info7)\n",
    "url_content7_2 = generate_url_content2(cite_info7)\n",
    "print(\"query method 1: \")\n",
    "print(url_content7_1)\n",
    "print(\"query method 2: \")\n",
    "print(url_content7_2)\n",
    "\n",
    "elastic_search_7_1 = elastic_search_cite_info(url_content7_1, True)\n",
    "elastic_search_7_2 = elastic_search_cite_info(url_content7_2, True)\n",
    "print(\"search res method 1: \")\n",
    "print(elastic_search_7_1)\n",
    "print(\"search res method 2: \")\n",
    "print(elastic_search_7_2[0])"
   ]
  },
  {
   "cell_type": "code",
   "execution_count": 26,
   "metadata": {},
   "outputs": [
    {
     "name": "stdout",
     "output_type": "stream",
     "text": [
      "{'journal': 'Toxins', 'date': '2011-01', 'year': 2011, 'volume': '3', 'issue': '1', 'title': 'The Discodermia calyx Toxin Calyculin A', 'author': ['Jessica R. Edelson', 'David L. Brautigan'], 'page': '105', 'url': '', 'external_ids': {'doi': '10.3390/toxins3010105', 'pmid': '22069692', 'pmc': '3210456'}}\n"
     ]
    }
   ],
   "source": [
    "print(cite_info6)"
   ]
  },
  {
   "cell_type": "code",
   "execution_count": 27,
   "metadata": {},
   "outputs": [
    {
     "name": "stdout",
     "output_type": "stream",
     "text": [
      "(container_name:Toxins)AND(title:The Discodermia calyx Toxin Calyculin A)AND(release_year:2011)\n"
     ]
    }
   ],
   "source": [
    "print(url_content6_2)"
   ]
  },
  {
   "cell_type": "code",
   "execution_count": 28,
   "metadata": {},
   "outputs": [
    {
     "name": "stdout",
     "output_type": "stream",
     "text": [
      "{{cite journal |title=The Discodermia calyx Toxin Calyculin A |last1=Edelson |first1=Jessica R. |last2=Brautigan |first2=David L. |date=24 January 2011 |journal=Toxins |volume=3 |issue=1 |pages=105–119 |doi=10.3390/toxins3010105 |doi-access=free |pmid=22069692 |pmc=3210456}}\n",
      "{'journal': 'Toxins', 'date': '2011-01', 'year': 2011, 'volume': '3', 'issue': '1', 'title': 'The Discodermia calyx Toxin Calyculin A', 'author': ['Jessica R. Edelson', 'David L. Brautigan'], 'page': '105', 'url': '', 'external_ids': {'doi': '10.3390/toxins3010105', 'pmid': '22069692', 'pmc': '3210456'}}\n",
      "query method 1: \n",
      "(container_name:Toxins)AND(title:The%20Discodermia%20calyx%20Toxin%20Calyculin%20A)AND(volume:3)AND(release_year:2011)AND(author:Jessica%20R.%20Edelson)AND(author:David%20L.%20Brautigan)\n",
      "query method 2: \n",
      "(container_name:Toxins)AND(title:The Discodermia calyx Toxin Calyculin A)AND(release_year:2011)\n",
      "{'query': {'query_string': {'query': '(container_name:Toxins)AND(title:The%20Discodermia%20calyx%20Toxin%20Calyculin%20A)AND(volume:3)AND(release_year:2011)AND(author:Jessica%20R.%20Edelson)AND(author:David%20L.%20Brautigan)'}}}\n",
      "{'query': {'query_string': {'query': '(container_name:Toxins)AND(title:The Discodermia calyx Toxin Calyculin A)AND(release_year:2011)'}}}\n",
      "search res method 1: \n",
      "[]\n",
      "search res method 2: \n",
      "[{'work_id': '3iq73gpzjjaz5jr37x6mjn3zii', 'score': 61.302803, 'title': 'The Discodermia calyx Toxin Calyculin A Enhances Cyclin D1 Phosphorylation and Degradation, and Arrests Cell Cycle Progression in Human Breast Cancer Cells', 'year': 2011, 'journal': 'Toxins', 'volume': None, 'issue': None, 'page': '105-119', 'author': ['Jessica R. Edelson', 'David L. Brautigan'], 'url': 'https://web.archive.org/web/20180728074927/https://res.mdpi.com/def50200085a04acf69806274a694018e1a97cedb1a41827edad480ce169ecdb2edc9f9d8170cb248c739300e5851e3a4ea27ca8b7da35cbd74474603bfa07092c315d21af89a5b45f963c9490b78b43d4ce4cccc91e3c9b59351003fce4d8cb6231b4abfd170cf43219aebee39c890b73033cdede28c226d156e26de700c068fe98a7cac1881cb4e8e0867ec9?filename=&attachment=1'}, {'work_id': 'gmoy7ovndrhlncxfvqddlbg7cm', 'score': 26.665115, 'title': 'Shiga Toxin: Expression, Distribution, and Its Role in the Environment', 'year': 2011, 'journal': 'Toxins', 'volume': None, 'issue': None, 'page': '608-625', 'author': ['Steven A. Mauro', 'Gerald B. Koudelka'], 'url': 'https://archive.org/download/pubmed-PMC3202840/PMC3202840-toxins3060608.pdf'}, {'work_id': 'fzg23zmkfrfvvho2eullq2hmhy', 'score': 25.333862, 'title': 'Towards New Uses of Botulinum Toxin as a Novel Therapeutic Tool', 'year': 2011, 'journal': 'Toxins', 'volume': None, 'issue': None, 'page': '63-81', 'author': ['Andy Pickett', 'Karen Perrow'], 'url': 'https://web.archive.org/web/20110628191041/http://www.mdpi.com:80/2072-6651/3/1/63/pdf'}, {'work_id': 'xpp6e5w3fbcebkqpelqe46wcfe', 'score': 25.169865, 'title': 'Adapting Yeast as Model to Study Ricin Toxin A Uptake and Trafficking', 'year': 2011, 'journal': 'Toxins', 'volume': None, 'issue': None, 'page': '834-847', 'author': ['Björn Becker', 'Manfred Schmitt'], 'url': 'https://web.archive.org/web/20151129190955/http://www.mdpi.com/2072-6651/3/7/834/pdf'}, {'work_id': 'aevjha2pofa4hd5unt46hf6kru', 'score': 25.11144, 'title': 'Role of the Mannose Receptor (CD206) in Innate Immunity to Ricin Toxin', 'year': 2011, 'journal': 'Toxins', 'volume': None, 'issue': None, 'page': '1131-1145', 'author': ['Emily Gage', 'Maria O. Hernandez', \"Joanne M. O'Hara\", 'Elizabeth A. McCarthy', 'Nicholas J. Mantis'], 'url': 'https://archive.org/download/pubmed-PMC3202876/PMC3202876-toxins3091131.pdf'}]\n"
     ]
    }
   ],
   "source": [
    "print(test_cite6)\n",
    "print(cite_info6)\n",
    "\n",
    "url_content6_1 = generate_url_content(cite_info6)\n",
    "url_content6_2 = generate_url_content2(cite_info6)\n",
    "print(\"query method 1: \")\n",
    "print(url_content6_1)\n",
    "print(\"query method 2: \")\n",
    "print(url_content6_2)\n",
    "\n",
    "elastic_search_6_1 = elastic_search_cite_info(url_content6_1, True)\n",
    "elastic_search_6_2 = elastic_search_cite_info(url_content6_2, True)\n",
    "print(\"search res method 1: \")\n",
    "print(elastic_search_6_1)\n",
    "print(\"search res method 2: \")\n",
    "print(elastic_search_6_2[0:5])"
   ]
  },
  {
   "cell_type": "code",
   "execution_count": null,
   "metadata": {},
   "outputs": [],
   "source": []
  },
  {
   "cell_type": "markdown",
   "metadata": {},
   "source": [
    "## Evaluation Metric and Finding a Close Match"
   ]
  },
  {
   "cell_type": "markdown",
   "metadata": {},
   "source": [
    "### Method 1 - Define my own metrics "
   ]
  },
  {
   "cell_type": "markdown",
   "metadata": {},
   "source": [
    "#### Jaccard - doesn't care about order"
   ]
  },
  {
   "cell_type": "code",
   "execution_count": 29,
   "metadata": {},
   "outputs": [],
   "source": [
    "def jaccard_similarity(str1, str2):\n",
    "    \n",
    "    list1 = str1.split()\n",
    "    list2 = str2.split()\n",
    "    intersection = len(list(set(list1).intersection(list2)))\n",
    "    union = (len(list1) + len(list2)) - intersection\n",
    "    return float(intersection) / union"
   ]
  },
  {
   "cell_type": "code",
   "execution_count": 30,
   "metadata": {},
   "outputs": [
    {
     "data": {
      "text/plain": [
       "0.75"
      ]
     },
     "execution_count": 30,
     "metadata": {},
     "output_type": "execute_result"
    }
   ],
   "source": [
    "jaccard_similarity(\"I like food\", \"I don't like food\")"
   ]
  },
  {
   "cell_type": "markdown",
   "metadata": {},
   "source": [
    "#### Levenshtein - edit distance\n",
    "- https://www.datacamp.com/community/tutorials/fuzzy-string-python\n"
   ]
  },
  {
   "cell_type": "code",
   "execution_count": 31,
   "metadata": {},
   "outputs": [
    {
     "name": "stderr",
     "output_type": "stream",
     "text": [
      "/Users/xinyuechen/.pyenv/versions/3.7.5/lib/python3.7/site-packages/fuzzywuzzy/fuzz.py:11: UserWarning: Using slow pure-python SequenceMatcher. Install python-Levenshtein to remove this warning\n",
      "  warnings.warn('Using slow pure-python SequenceMatcher. Install python-Levenshtein to remove this warning')\n"
     ]
    }
   ],
   "source": [
    "from fuzzywuzzy import fuzz"
   ]
  },
  {
   "cell_type": "code",
   "execution_count": 32,
   "metadata": {},
   "outputs": [
    {
     "name": "stdout",
     "output_type": "stream",
     "text": [
      "57\n",
      "77\n",
      "58\n",
      "95\n"
     ]
    }
   ],
   "source": [
    "Str1 = \"The supreme court case of Nixon vs The United States\"\n",
    "Str2 = \"Nixon v. United States\"\n",
    "Ratio = fuzz.ratio(Str1.lower(),Str2.lower())\n",
    "Partial_Ratio = fuzz.partial_ratio(Str1.lower(),Str2.lower())\n",
    "Token_Sort_Ratio = fuzz.token_sort_ratio(Str1,Str2)\n",
    "Token_Set_Ratio = fuzz.token_set_ratio(Str1,Str2)\n",
    "print(Ratio)\n",
    "print(Partial_Ratio)\n",
    "print(Token_Sort_Ratio)\n",
    "print(Token_Set_Ratio)"
   ]
  },
  {
   "cell_type": "code",
   "execution_count": 33,
   "metadata": {},
   "outputs": [],
   "source": [
    "def levenshtein_similarity(str1, str2):\n",
    "    return fuzz.ratio(str1, str2) / 100"
   ]
  },
  {
   "cell_type": "code",
   "execution_count": 34,
   "metadata": {},
   "outputs": [
    {
     "data": {
      "text/plain": [
       "79"
      ]
     },
     "execution_count": 34,
     "metadata": {},
     "output_type": "execute_result"
    }
   ],
   "source": [
    "fuzz.ratio(\"I like food\", \"I don't like food\")"
   ]
  },
  {
   "cell_type": "code",
   "execution_count": 35,
   "metadata": {},
   "outputs": [
    {
     "data": {
      "text/plain": [
       "100"
      ]
     },
     "execution_count": 35,
     "metadata": {},
     "output_type": "execute_result"
    }
   ],
   "source": [
    "fuzz.partial_ratio(\"The Discodermia calyx Toxin Calyculin A\", \n",
    "                    \"The Discodermia calyx Toxin Calyculin A Enhances Cyclin D1 Phosphorylation and Degradation, and Arrests Cell Cycle Progression in Human Breast Cancer Cells\")"
   ]
  },
  {
   "cell_type": "code",
   "execution_count": 36,
   "metadata": {},
   "outputs": [],
   "source": [
    "def fatcat_match_metric(cite_info, result, verbose = False):\n",
    "    \n",
    "    score = 0\n",
    "    \n",
    "    journal_match = False\n",
    "    volume_match = False\n",
    "    issue_match = False\n",
    "    year_match = False\n",
    "    page_match = False\n",
    "    \n",
    "    if cite_info[\"journal\"] != \"\" and cite_info[\"journal\"] == result[\"journal\"]:\n",
    "        journal_match = True\n",
    "    \n",
    "    # volume \n",
    "    if cite_info[\"volume\"] != \"\" and cite_info[\"volume\"] == result[\"volume\"]:\n",
    "        volume_match = True\n",
    "    \n",
    "    # issue \n",
    "    if cite_info[\"issue\"] != \"\" and cite_info[\"issue\"] == result[\"issue\"]:\n",
    "        issue_match = True\n",
    "    \n",
    "    # year \n",
    "    if cite_info[\"year\"] != \"\" and cite_info[\"year\"] == result[\"year\"]:\n",
    "        year_match = True\n",
    "        \n",
    "    # page \n",
    "    if cite_info[\"page\"] != \"\" and result[\"page\"] != None: \n",
    "        if \"-\" in result[\"page\"]:\n",
    "            page_start = result[\"page\"].split(\"-\")[0]\n",
    "            page_end = result[\"page\"].split(\"-\")[0]\n",
    "            if cite_info[\"page\"] in result[\"page\"]:\n",
    "                page_match = True\n",
    "            try: \n",
    "                int(page_start)\n",
    "                int(page_end)\n",
    "                \n",
    "                if cite_info[\"page\"] > page_start and cite_info[\"page\"] < page_end:\n",
    "                    page_match = True\n",
    "            except:\n",
    "                page_match = False\n",
    "        else: \n",
    "            if cite_info[\"page\"] in result[\"page\"]:\n",
    "                page_match = True\n",
    "        \n",
    "    score += int(volume_match) * 10 + int(volume_match)*10 + int(issue_match)*10 + int(year_match)*10 + int(page_match)*10\n",
    "    \n",
    "    if verbose:\n",
    "        print(\"journal match: \" + str(journal_match))\n",
    "        print(\"volume match: \" + str(volume_match))\n",
    "        print(\"issue match: \" + str(issue_match))\n",
    "        print(\"page match: \" + str(page_match))\n",
    "        print(\"year match: \" + str(year_match))\n",
    "        print(\"score so far: \" + str(score))\n",
    "        \n",
    "    # title\n",
    "    if cite_info[\"title\"] != \"\" and result[\"title\"] != \"\":\n",
    "        # exact match \n",
    "        if cite_info[\"title\"] == result[\"title\"]:\n",
    "            score += 10\n",
    "        # partial match    \n",
    "        elif cite_info[\"title\"] in result[\"title\"]:\n",
    "            score += 5\n",
    "        # partial match\n",
    "        elif result[\"title\"] in cite_info[\"title\"]:\n",
    "            score += 5\n",
    "        # jaccard similarity\n",
    "        else:\n",
    "            score += 10 * levenshtein_similarity(cite_info[\"title\"], result[\"title\"])\n",
    "    \n",
    "    if verbose:\n",
    "        print(\"score after title: \" + str(score))\n",
    "    # author \n",
    "    if cite_info[\"author\"] != \"\":\n",
    "        # exact match \n",
    "        cite_author_lst = cite_info[\"author\"]\n",
    "        result_author_lst = result[\"author\"]\n",
    "        \n",
    "        \n",
    "        if cite_author_lst == result_author_lst:\n",
    "            score += 10\n",
    "            \n",
    "            if verbose: print(\"author has exact match\")\n",
    "            \n",
    "        # partial match    \n",
    "        else:\n",
    "            if len(cite_author_lst) > len(result_author_lst):\n",
    "                shorter_lst = result_author_lst\n",
    "                longer_lst = cite_author_lst\n",
    "            else:\n",
    "                shorter_lst = cite_author_lst\n",
    "                longer_lst = result_author_lst\n",
    "                \n",
    "            if len(shorter_lst) > 0:\n",
    "                author_matches = 0\n",
    "                for i in range(len(shorter_lst)):\n",
    "                    value1 = re.sub(\"[^a-zA-Z\\s]\", \"\", shorter_lst[i])\n",
    "                    value2 = re.sub(\"[^a-zA-Z\\s]\", \"\", longer_lst[i])\n",
    "                    aut_score = jaccard_similarity(value1, value2)\n",
    "\n",
    "                    if verbose:\n",
    "                        print(value1)\n",
    "                        print(value2)\n",
    "                        print(\"jaccard_score \" + str(aut_score))\n",
    "\n",
    "    #                 if ((value1 != \"\" and value2 != \"\") \n",
    "    #                     and (value1 in value2 or value2 in value1)):\n",
    "    #                     author_matches += 1\n",
    "    #                     if verbose: print(\"current author has partial match \")\n",
    "    #                 elif aut_score >= 0.5:\n",
    "    #                     author_matches += 1\n",
    "    #                 else:\n",
    "\n",
    "                    author_matches += aut_score\n",
    "\n",
    "                score += 10 * author_matches/len(shorter_lst)\n",
    "        \n",
    "        \n",
    "    if verbose:\n",
    "        print(\"score after author: \" + str(score))\n",
    "        \n",
    "    return score"
   ]
  },
  {
   "cell_type": "code",
   "execution_count": 37,
   "metadata": {},
   "outputs": [],
   "source": [
    "def find_best_cite_info_fatcat_search(cite_info, search_result, verbose = False):\n",
    "    \n",
    "    close_matches = []\n",
    "    \n",
    "    for curr_res in search_result:\n",
    "        curr_score = fatcat_match_metric(cite_info, curr_res, verbose = verbose)\n",
    "        if curr_score > 45:\n",
    "            close_matches.append(curr_res)\n",
    "            if verbose: \n",
    "                print(curr_score)\n",
    "                print(curr_res)\n",
    "            \n",
    "    if verbose:\n",
    "        print(close_matches)\n",
    "            \n",
    "    best_res = \"\"\n",
    "    best_score = 0\n",
    "    for match in close_matches:\n",
    "        if match[\"score\"] > best_score:\n",
    "            best_res = match\n",
    "            best_score = match[\"score\"]\n",
    "    \n",
    "    return best_res"
   ]
  },
  {
   "cell_type": "code",
   "execution_count": 38,
   "metadata": {},
   "outputs": [
    {
     "name": "stdout",
     "output_type": "stream",
     "text": [
      "\n",
      "\n",
      "\n",
      "\n"
     ]
    }
   ],
   "source": [
    "print(find_best_cite_info_fatcat_search(cite_info6, search_res6_1))\n",
    "print(find_best_cite_info_fatcat_search(cite_info6, search_res6_2))\n",
    "print(find_best_cite_info_fatcat_search(cite_info7, search_res7_1))\n",
    "print(find_best_cite_info_fatcat_search(cite_info7, search_res7_2))"
   ]
  },
  {
   "cell_type": "code",
   "execution_count": 40,
   "metadata": {},
   "outputs": [
    {
     "name": "stdout",
     "output_type": "stream",
     "text": [
      "\n",
      "\n",
      "\n",
      "\n"
     ]
    }
   ],
   "source": [
    "print(find_best_cite_info_fatcat_search(cite_info7, elastic_search_6_1))\n",
    "print(find_best_cite_info_fatcat_search(cite_info7, elastic_search_6_2))\n",
    "print(find_best_cite_info_fatcat_search(cite_info7, elastic_search_7_1))\n",
    "print(find_best_cite_info_fatcat_search(cite_info7, elastic_search_7_2))"
   ]
  },
  {
   "cell_type": "code",
   "execution_count": 41,
   "metadata": {},
   "outputs": [],
   "source": [
    "def abbreviate_journal_name(journal, verbose = False):\n",
    "    url = \"https://abbreviso.toolforge.org/a/\" + journal\n",
    "    request = requests.get(url)\n",
    "    if request.status_code != 200:\n",
    "        return journal\n",
    "    \n",
    "    return request.text"
   ]
  },
  {
   "cell_type": "code",
   "execution_count": 42,
   "metadata": {},
   "outputs": [
    {
     "data": {
      "text/plain": [
       "'Proc. Natl. Acad. Sci. U. S. A.'"
      ]
     },
     "execution_count": 42,
     "metadata": {},
     "output_type": "execute_result"
    }
   ],
   "source": [
    "abbreviate_journal_name(\"Proceedings of the National Academy of Sciences of the United States of America\")"
   ]
  },
  {
   "cell_type": "code",
   "execution_count": 43,
   "metadata": {},
   "outputs": [],
   "source": [
    "# abbreviate_journal_name(\"ACS Appl. Mater. Interfaces\")"
   ]
  },
  {
   "cell_type": "code",
   "execution_count": 44,
   "metadata": {},
   "outputs": [],
   "source": [
    "def fatcat_check_match(cite_info, result, verbose = False):\n",
    "    \n",
    "    score = 0\n",
    "    \n",
    "    journal_exact_match = False\n",
    "    journal_partial_match = False\n",
    "    journal_match_score = 0\n",
    "\n",
    "    if cite_info[\"journal\"] != \"\" and result[\"journal\"] != None:\n",
    "        cite_info[\"journal\"] = cite_info[\"journal\"].strip().lower()\n",
    "        result[\"journal\"] = result[\"journal\"].strip().lower()\n",
    "        if cite_info[\"journal\"] == result[\"journal\"] or fuzz.ratio(cite_info[\"journal\"], result[\"journal\"]) == 100:\n",
    "            journal_exact_match = True\n",
    "        elif (cite_info[\"journal\"] in result[\"journal\"] or result[\"journal\"] in cite_info[\"journal\"] \n",
    "              or fuzz.partial_ratio(cite_info[\"journal\"], result[\"journal\"]) == 100):\n",
    "            journal_match_partial = False\n",
    "            \n",
    "        elif abbreviate_journal_name(cite_info[\"journal\"]) == abbreviate_journal_name(result[\"journal\"]):\n",
    "            journal_exact_match = True\n",
    "        elif fuzz.ratio(abbreviate_journal_name(cite_info[\"journal\"]), abbreviate_journal_name(result[\"journal\"])) > 95:\n",
    "            journal_exact_match = True\n",
    "        else:\n",
    "            journal_match_score += fuzz.ratio(cite_info[\"journal\"], result[\"journal\"])/100\n",
    "    \n",
    "    # volume \n",
    "    volume_match = False\n",
    "    if result[\"volume\"] != \"None\" and cite_info[\"volume\"] == result[\"volume\"]:\n",
    "        volume_match = True\n",
    "    \n",
    "    # issue \n",
    "    issue_match = False\n",
    "    if result[\"issue\"] != \"None\" and cite_info[\"issue\"] == result[\"issue\"]:\n",
    "        issue_match = True\n",
    "    \n",
    "    # year \n",
    "    year_match = False\n",
    "    if result[\"year\"] != \"None\" and cite_info[\"year\"] == result[\"year\"]:\n",
    "        year_match = True\n",
    "        \n",
    "    # page \n",
    "    page_match = False\n",
    "    if result[\"page\"] != None: \n",
    "        if \"-\" in result[\"page\"]:\n",
    "            page_start = result[\"page\"].split(\"-\")[0]\n",
    "            page_end = result[\"page\"].split(\"-\")[0]\n",
    "            if cite_info[\"page\"] in result[\"page\"]:\n",
    "                page_match = True\n",
    "            try: \n",
    "                int(page_start)\n",
    "                int(page_end)\n",
    "                \n",
    "                if cite_info[\"page\"] > page_start and cite_info[\"page\"] < page_end:\n",
    "                    page_match = True\n",
    "            except:\n",
    "                page_match = False\n",
    "        else: \n",
    "            if cite_info[\"page\"] in result[\"page\"]:\n",
    "                page_match = True\n",
    "        \n",
    "    # title\n",
    "    title_exact_match = False\n",
    "    title_partial_match = False\n",
    "    title_match_score = 0\n",
    "    if cite_info[\"title\"] != \"\" and result[\"title\"] != None:\n",
    "        cite_info[\"title\"] = cite_info[\"title\"].strip().lower()\n",
    "        result[\"title\"] = result[\"title\"].strip().lower()\n",
    "#         if verbose: \n",
    "#             print(cite_info[\"title\"])\n",
    "#             print(result[\"title\"])\n",
    "#             print(cite_info[\"title\"] == result[\"title\"])\n",
    "#             print(fuzz.ratio(cite_info[\"title\"], result[\"title\"]))\n",
    "            \n",
    "        # exact match \n",
    "        if cite_info[\"title\"] == result[\"title\"] or fuzz.ratio(cite_info[\"title\"], result[\"title\"]) == 100:\n",
    "            title_exact_match = True\n",
    "        # partial match    \n",
    "        elif (cite_info[\"title\"] in result[\"title\"] or result[\"title\"] in cite_info[\"title\"] \n",
    "              or fuzz.partial_ratio(cite_info[\"title\"], result[\"title\"]) == 100):\n",
    "            title_match_partial = False\n",
    "        # jaccard similarity\n",
    "        else:\n",
    "            title_match_score += fuzz.ratio(cite_info[\"title\"], result[\"title\"])/100\n",
    "    \n",
    "    # author\n",
    "    author_exact_match = False\n",
    "    author_match_score = 0\n",
    "    if cite_info[\"author\"] != \"\":\n",
    "        # exact match \n",
    "        cite_author_lst = cite_info[\"author\"]\n",
    "        result_author_lst = result[\"author\"]\n",
    "        \n",
    "        \n",
    "        if cite_author_lst == result_author_lst:\n",
    "            author_exact_match = True\n",
    "            \n",
    "#             if verbose: print(\"author has exact match\")\n",
    "            \n",
    "        # partial match    \n",
    "        else:\n",
    "            if len(cite_author_lst) > len(result_author_lst):\n",
    "                shorter_lst = result_author_lst\n",
    "                longer_lst = cite_author_lst\n",
    "            else:\n",
    "                shorter_lst = cite_author_lst\n",
    "                longer_lst = result_author_lst\n",
    "                \n",
    "            if len(shorter_lst) > 0:\n",
    "                author_matches = 0\n",
    "                for i in range(len(shorter_lst)):\n",
    "                    value1 = re.sub(\"[^a-zA-Z\\s]\", \"\", shorter_lst[i])\n",
    "                    value2 = re.sub(\"[^a-zA-Z\\s]\", \"\", longer_lst[i])\n",
    "                    aut_score = jaccard_similarity(value1, value2)\n",
    "\n",
    "#                     if verbose:\n",
    "#                         print(value1)\n",
    "#                         print(value2)\n",
    "#                         print(\"jaccard_score \" + str(aut_score))\n",
    "\n",
    "                    author_matches += aut_score\n",
    "                author_match_score += author_matches/len(shorter_lst)\n",
    "        \n",
    "    \n",
    "        \n",
    "    if verbose:\n",
    "        print(\"journal exact match: \" + str(journal_exact_match))\n",
    "        print(\"journal partial match: \" + str(journal_partial_match))\n",
    "        print(\"volume match: \" + str(volume_match))\n",
    "        print(\"issue match: \" + str(issue_match))\n",
    "        print(\"page match: \" + str(page_match))\n",
    "        print(\"year match: \" + str(year_match))\n",
    "        print(\"title exact match: \" + str(title_exact_match))\n",
    "        print(\"title partial match: \" + str(title_partial_match))\n",
    "        print(\"author exact match: \" + str(author_exact_match))\n",
    "        print(\"scores:\")\n",
    "        print(\"journal match score: \" + str(journal_match_score))\n",
    "        print(\"title match score: \" + str(title_match_score))\n",
    "        print(\"author match score: \" + str(author_match_score))\n",
    "        \n",
    "    \n",
    "    if journal_exact_match:\n",
    "        temp_score = int(year_match) + int(volume_match) + int(issue_match) + int(page_match) \n",
    "        if title_exact_match:\n",
    "            if temp_score >= 1:\n",
    "                if verbose: print(\"journal exact, title exact, 1 other\")\n",
    "                return True\n",
    "            if int(author_exact_match) >= 1:\n",
    "                if verbose: print(\"journal exact, title exact, author exact\")\n",
    "                return True\n",
    "            if temp_score + author_match_score > 1:\n",
    "                if verbose: print(\"journal exact, title exact, 1 other and author score\")\n",
    "                return True\n",
    "        elif title_partial_match:\n",
    "            if temp_score >= 2:\n",
    "                if verbose: print(\"journal exact, title partial, 2 other\")\n",
    "                return True\n",
    "            if temp_score + int(author_exact_match) >= 2:\n",
    "                if verbose: print(\"journal exact, title exact, 1 other and author exact\")\n",
    "                return True\n",
    "            if temp_score + author_match_score >= 2:\n",
    "                if verbose: print(\"journal exact, title exact, 2 other and author score\")\n",
    "                return True\n",
    "        else:\n",
    "            temp_score += int(title_match_score)\n",
    "            if temp_score + int(author_exact_match) >= 3:\n",
    "                if verbose: print(\"journal exact, title score, author exact or 1 other\")\n",
    "                return True\n",
    "            if temp_score + author_match_score >= 3:\n",
    "                if verbose: print(\"journal exact, title score, author score, or 2 other >=3\")\n",
    "                return True\n",
    "    elif journal_partial_match:\n",
    "        temp_score = int(year_match) + int(volume_match) + int(issue_match) + int(page_match) + int(author_match_score)\n",
    "        if title_exact_match:\n",
    "            if temp_score >= 2:\n",
    "                if verbose: print(\"journal partial, title exact, 2 others\")\n",
    "                return True\n",
    "        elif title_partial_match:\n",
    "            if temp_score >= 2:\n",
    "                if verbose: print(\"journal partial, title partial, 2 others\")\n",
    "                return True\n",
    "        else:\n",
    "            temp_score += title_match_score\n",
    "            if temp_score >= 3:\n",
    "                if verbose: print(\"journal partial, title exact, 2 others\")\n",
    "                return True\n",
    "    else:\n",
    "        temp_score = int(year_match) + int(volume_match) + int(issue_match) + int(page_match) \n",
    "        temp_score += int(author_match_score) + int(journal_match_score) + int(title_match_score)\n",
    "        if temp_score > 4:\n",
    "            if verbose: print(\"5 fields\")\n",
    "            return True\n",
    "        \n",
    "    return False"
   ]
  },
  {
   "cell_type": "code",
   "execution_count": 46,
   "metadata": {},
   "outputs": [],
   "source": [
    "def find_best_cite_info_fatcat_search2(cite_info, search_result, verbose = False):\n",
    "    \n",
    "    for curr_res in search_result:\n",
    "        curr_match = fatcat_check_match(cite_info, curr_res, verbose = verbose)\n",
    "        if curr_match:\n",
    "            return curr_res\n",
    "            \n",
    "    return \"\""
   ]
  },
  {
   "cell_type": "code",
   "execution_count": 47,
   "metadata": {},
   "outputs": [
    {
     "name": "stdout",
     "output_type": "stream",
     "text": [
      "\n"
     ]
    }
   ],
   "source": [
    "print(find_best_cite_info_fatcat_search2(cite_info6, search_res6_1))"
   ]
  },
  {
   "cell_type": "code",
   "execution_count": 48,
   "metadata": {},
   "outputs": [
    {
     "name": "stdout",
     "output_type": "stream",
     "text": [
      "{'journal': 'Toxins', 'date': '2011-01', 'year': 2011, 'volume': '3', 'issue': '1', 'title': 'The Discodermia calyx Toxin Calyculin A', 'author': ['Jessica R. Edelson', 'David L. Brautigan'], 'page': '105', 'url': '', 'external_ids': {'doi': '10.3390/toxins3010105', 'pmid': '22069692', 'pmc': '3210456'}}\n",
      "{'work_id': '3iq73gpzjjaz5jr37x6mjn3zii', 'score': 61.302803, 'title': 'The Discodermia calyx Toxin Calyculin A Enhances Cyclin D1 Phosphorylation and Degradation, and Arrests Cell Cycle Progression in Human Breast Cancer Cells', 'year': 2011, 'journal': 'Toxins', 'volume': None, 'issue': None, 'page': '105-119', 'author': ['Jessica R. Edelson', 'David L. Brautigan'], 'url': 'https://web.archive.org/web/20180728074927/https://res.mdpi.com/def50200085a04acf69806274a694018e1a97cedb1a41827edad480ce169ecdb2edc9f9d8170cb248c739300e5851e3a4ea27ca8b7da35cbd74474603bfa07092c315d21af89a5b45f963c9490b78b43d4ce4cccc91e3c9b59351003fce4d8cb6231b4abfd170cf43219aebee39c890b73033cdede28c226d156e26de700c068fe98a7cac1881cb4e8e0867ec9?filename=&attachment=1'}\n",
      "journal exact match: True\n",
      "journal partial match: False\n",
      "volume match: False\n",
      "issue match: False\n",
      "page match: True\n",
      "year match: True\n",
      "title exact match: False\n",
      "title partial match: False\n",
      "author exact match: True\n",
      "scores:\n",
      "journal match score: 0\n",
      "title match score: 0\n",
      "author match score: 0\n",
      "journal exact, title score, author exact or 1 other\n",
      "{'work_id': '3iq73gpzjjaz5jr37x6mjn3zii', 'score': 61.302803, 'title': 'the discodermia calyx toxin calyculin a enhances cyclin d1 phosphorylation and degradation, and arrests cell cycle progression in human breast cancer cells', 'year': 2011, 'journal': 'toxins', 'volume': None, 'issue': None, 'page': '105-119', 'author': ['Jessica R. Edelson', 'David L. Brautigan'], 'url': 'https://web.archive.org/web/20180728074927/https://res.mdpi.com/def50200085a04acf69806274a694018e1a97cedb1a41827edad480ce169ecdb2edc9f9d8170cb248c739300e5851e3a4ea27ca8b7da35cbd74474603bfa07092c315d21af89a5b45f963c9490b78b43d4ce4cccc91e3c9b59351003fce4d8cb6231b4abfd170cf43219aebee39c890b73033cdede28c226d156e26de700c068fe98a7cac1881cb4e8e0867ec9?filename=&attachment=1'}\n",
      "{'work_id': '3iq73gpzjjaz5jr37x6mjn3zii', 'score': 61.302803, 'title': 'the discodermia calyx toxin calyculin a enhances cyclin d1 phosphorylation and degradation, and arrests cell cycle progression in human breast cancer cells', 'year': 2011, 'journal': 'toxins', 'volume': None, 'issue': None, 'page': '105-119', 'author': ['Jessica R. Edelson', 'David L. Brautigan'], 'url': 'https://web.archive.org/web/20180728074927/https://res.mdpi.com/def50200085a04acf69806274a694018e1a97cedb1a41827edad480ce169ecdb2edc9f9d8170cb248c739300e5851e3a4ea27ca8b7da35cbd74474603bfa07092c315d21af89a5b45f963c9490b78b43d4ce4cccc91e3c9b59351003fce4d8cb6231b4abfd170cf43219aebee39c890b73033cdede28c226d156e26de700c068fe98a7cac1881cb4e8e0867ec9?filename=&attachment=1'}\n"
     ]
    }
   ],
   "source": [
    "print(cite_info6)\n",
    "print(search_res6_2[0])\n",
    "print(find_best_cite_info_fatcat_search2(cite_info6, search_res6_2, verbose = True))\n",
    "print(find_best_cite_info_fatcat_search2(cite_info6, elastic_search_6_2))"
   ]
  },
  {
   "cell_type": "code",
   "execution_count": 49,
   "metadata": {},
   "outputs": [
    {
     "name": "stdout",
     "output_type": "stream",
     "text": [
      "{'journal': 'Canadian Journal of Public Health', 'date': '1994', 'year': 1994, 'volume': '85', 'issue': '6', 'title': 'Lifetime probability of developing lung cancer, by smoking status, Canada', 'author': [], 'page': '385', 'url': '', 'external_ids': {'pmid': '7895211'}}\n",
      "{'work_id': 'qwmp2lzwcnhhvo3wqohwm5u3g4', 'score': 31.104496, 'title': 'Positive Correlation between Normal Serum Gastrin Concentrations and Antral and Duodenal G Cells', 'year': 1994, 'journal': 'Canadian Journal of Gastroenterology', 'volume': None, 'issue': None, 'page': '235-238', 'author': ['WR Yacoub', 'ABR Thomson', 'RW Sherbaniuk', 'P Hooper', 'LD Jewell'], 'url': 'https://web.archive.org/web/201905030614/http://downloads.hindawi.com/journals/cjgh/1994/151096.pdf'}\n",
      "[{'work_id': 'qwmp2lzwcnhhvo3wqohwm5u3g4', 'score': 31.122288, 'title': 'Positive Correlation between Normal Serum Gastrin Concentrations and Antral and Duodenal G Cells', 'year': 1994, 'journal': 'Canadian Journal of Gastroenterology', 'volume': None, 'issue': None, 'page': '235-238', 'author': ['WR Yacoub', 'ABR Thomson', 'RW Sherbaniuk', 'P Hooper', 'LD Jewell'], 'url': 'https://web.archive.org/web/201905030614/http://downloads.hindawi.com/journals/cjgh/1994/151096.pdf'}, {'work_id': 'pqrhwuoqhjen5cuuiuqzejzeaa', 'score': 29.063425, 'title': 'Estimates of population smoking prevalence: self-vs proxy reports of smoking status.', 'year': 1994, 'journal': 'American Journal of Public Health', 'volume': '84', 'issue': '10', 'page': '1576-1579', 'author': ['E A Gilpin', 'J P Pierce', 'S W Cavin', 'C C Berry', 'N J Evans', 'M Johnson', 'D G Bal'], 'url': None}, {'work_id': 'l5qu5b55qfa4fj2gd3eckulqqe', 'score': 28.908915, 'title': 'A report about smoking habits of Italian health personnel', 'year': 1994, 'journal': 'Lung Cancer', 'volume': '11', 'issue': None, 'page': '59', 'author': [], 'url': None}, {'work_id': 'hmo7au6gqndf7lbf3wv2r2vvvy', 'score': 28.74766, 'title': 'Education and Training in Canada', 'year': 1994, 'journal': 'Canadian public policy', 'volume': '20', 'issue': None, 'page': '114', 'author': ['David Stager', 'Economic Council of Canada'], 'url': None}, {'work_id': '3zz5ezcudrbgdk2goiwpn3whxa', 'score': 27.779955, 'title': 'Epidemiology of smoking and lung cancer: A historical perspective', 'year': 1994, 'journal': 'Lung Cancer', 'volume': '11', 'issue': None, 'page': None, 'author': [], 'url': None}, {'work_id': 'vie4lawouremtj73wgzyhf4pky', 'score': 27.516613, 'title': 'Kaiser Family Foundation/Harvard School of Public Health Poll: Welfare Survey', 'year': 1994, 'journal': None, 'volume': None, 'issue': None, 'page': None, 'author': ['Harvard T.H. Chan School Of Public Health', 'Kaiser Family Foundation', 'KRC Communications Research', 'Kaiser Family Foundation', 'Harvard T.H. Chan School Of Public Health'], 'url': None}, {'work_id': 'b2ccdkjubzgl7fhc7omiyj64t4', 'score': 27.30591, 'title': 'Smoking and Lung Cancer', 'year': 1994, 'journal': 'Journal of thoracic imaging', 'volume': None, 'issue': None, 'page': '205', 'author': ['Douglas S. Katz', 'Ernest M. Scalzetti'], 'url': None}, {'work_id': 'zvr43fscsbeslabcobluq57g5i', 'score': 27.11709, 'title': 'Mechanisms of the combined effect of asbestos and smoking in the etiology of lung cancer.', 'year': 1994, 'journal': 'Scandinavian Journal of Work, Environment and Health', 'volume': '20', 'issue': None, 'page': '235-242', 'author': ['Harri Vainio', 'Paolo Boffetta'], 'url': 'https://web.archive.org/web/20190508033325/http://www.sjweh.fi/download.php?abstract_id=1402&file_nro=1'}, {'work_id': 'kz36w77izzftplnmhd66pzshcy', 'score': 26.880222, 'title': 'Mechanisms of the combined effect of asbestos and smoking in the etiology of lung cancer', 'year': 1994, 'journal': 'Scandinavian Journal of Work, Environment and Health', 'volume': '20', 'issue': '4', 'page': '235-42', 'author': ['H Vainio', 'P Boffetta'], 'url': None}, {'work_id': '64iyu75fczcajmxsds6sarajvm', 'score': 26.87153, 'title': 'Crown liability in Canada: Developing compensation policies for regulatory failure', 'year': 1994, 'journal': 'Canadian public administration', 'volume': '37', 'issue': None, 'page': '79-107', 'author': ['David S. Cohen', 'Peter Finkle'], 'url': None}]\n"
     ]
    }
   ],
   "source": [
    "print(cite_info7)\n",
    "print(search_res7_2[0])\n",
    "print(elastic_search_7_2)"
   ]
  },
  {
   "cell_type": "code",
   "execution_count": 50,
   "metadata": {},
   "outputs": [
    {
     "name": "stdout",
     "output_type": "stream",
     "text": [
      "\n",
      "\n",
      "\n"
     ]
    }
   ],
   "source": [
    "print(find_best_cite_info_fatcat_search2(cite_info6, elastic_search_6_1))\n",
    "print(find_best_cite_info_fatcat_search2(cite_info7, elastic_search_7_1))\n",
    "print(find_best_cite_info_fatcat_search2(cite_info7, elastic_search_7_2))"
   ]
  },
  {
   "cell_type": "markdown",
   "metadata": {},
   "source": [
    "### Method 2 - Use Elastic Search's built-in \n",
    "- https://www.elastic.co/guide/en/elasticsearch/reference/current/query-dsl-function-score-query.html\n",
    "    - how to change/use functions for scores\n",
    "    - explain different fields\n",
    "    \n",
    "- https://www.compose.com/articles/how-scoring-works-in-elasticsearch/\n",
    "    - Tf-idf scoring: term frequency, inverse frequency \n",
    "    - normalization \n",
    "    - some explanations\n",
    "    \n",
    "- http://lucene.apache.org/core/4_0_0/core/org/apache/lucene/search/package-summary.html#scoring\n",
    "    - lucene \n",
    "    - can change query, similarity, weight, scorer\n",
    "    - more theoretical \n",
    "    \n",
    "- https://www.elastic.co/guide/en/elasticsearch/guide/current/controlling-relevance.html \n",
    "    - Boolean model of information retrieval to find matching\n",
    "    - Use practical scoring (link 1) to calculate relevance\n",
    "    - term frequency/inverse document frequency, the vector space model\n",
    "    - more-modern features: coordination factor, field length normalization, and term or query clause boosting\n",
    "    - Query-time boosting: tune relevance \n",
    "    - Function Score Query"
   ]
  },
  {
   "cell_type": "markdown",
   "metadata": {},
   "source": [
    "#### Problem: Difficult to find uniform threshold \n",
    "- Example 1 score 65.9 = match \n",
    "    - Citation: {'journal': 'Nature', 'date': '2004-06', 'year': 2004, 'volume': '429', 'issue': '6994', \n",
    "       'title': 'Gene regulation and DNA damage in the ageing human brain', 'author': [], \n",
    "       'page': '883', 'url': '', 'external_ids': {}}\n",
    "    - Search Result: {'work_id': 'hg2prp3rk5chtpvcs5cysmsq3y', 'score': 64.91316, \n",
    "        'title': 'Gene regulation and DNA damage in the ageing human brain', 'year': 2004, \n",
    "        'journal': 'Nature', 'volume': '429', 'issue': '6994', 'page': '883-891', \n",
    "        'author': ['Tao Lu', 'Ying Pan', 'Shyan-Yuan Kao', 'Cheng Li', 'Isaac Kohane', 'Jennifer Chan', \n",
    "        'Bruce A. Yankner'], 'url': 'https://web.archive.org/web/20100706102006/http://biosun1.harvard.edu/~cli/pdf/Lu_04.pdf'}\n",
    "        \n",
    "- Example 2 score 70.7 = no match \n",
    "    - Citation: {'journal': 'Proceedings of the National Academy of Sciences of the United States of America', 'date': '1998-02', 'year': 1998, 'volume': '95', 'issue': '3', 'title': 'The role of left prefrontal cortex in language and memory', 'author': [], 'page': '906', 'url': '', 'external_ids': {}}\n",
    "    - Search Result (second value): {'work_id': 'rr5il275vnawfglg6zvvu6s64i', 'score': 70.74353, 'title': 'Memory fields of neurons in the primate prefrontal cortex', 'year': 1998, 'journal': 'Proceedings of the National Academy of Sciences of the United States of America', 'volume': '95', 'issue': '25', 'page': '15008-15013', 'author': ['G. Rainer', 'W. F. Asaad', 'E. K. Miller'], 'url': 'https://web.archive.org/web/20170814074904/http://www.cns.nyu.edu/~wendy/class/2006sp/reading10/Rainer_1998a.pdf'}\n",
    "    \n",
    "#### Solution: Script the Query String -- what would be the difference between that and my method one above?"
   ]
  },
  {
   "cell_type": "code",
   "execution_count": null,
   "metadata": {},
   "outputs": [],
   "source": []
  },
  {
   "cell_type": "code",
   "execution_count": null,
   "metadata": {},
   "outputs": [],
   "source": []
  },
  {
   "cell_type": "markdown",
   "metadata": {},
   "source": [
    "## Main Function For Fatcat"
   ]
  },
  {
   "cell_type": "markdown",
   "metadata": {},
   "source": [
    "### Method 1 "
   ]
  },
  {
   "cell_type": "code",
   "execution_count": 51,
   "metadata": {},
   "outputs": [],
   "source": [
    "def process_citation_to_fatcat(citation, verbose = False):\n",
    "    \n",
    "    cite_info = parse_citation_data(citation)\n",
    "    if verbose: print(cite_info)\n",
    "    \n",
    "    if cite_info[\"url\"] != \"\":\n",
    "        return \"Has URL\"\n",
    "    \n",
    "    if not cite_info[\"external_ids\"]:\n",
    "        return \"Has external  DOI\"\n",
    "    \n",
    "    search_result = search_fatcat_cite_info(cite_info)\n",
    "    \n",
    "    if search_result == []:\n",
    "        return \"No search result\"\n",
    "    \n",
    "    if len(search_result) > 10:\n",
    "        search_result = search_result[:10]\n",
    "        \n",
    "    closest_match = find_best_cite_info_fatcat_search(cite_info, search_result, verbose = verbose)\n",
    "    \n",
    "    if closest_match == \"\":\n",
    "        return \"No close match\"\n",
    "    \n",
    "    url = closest_match[\"url\"]\n",
    "    if url == None:\n",
    "        return \"No URL in search result\"\n",
    "    if verbose: print(url)\n",
    "        \n",
    "    return url"
   ]
  },
  {
   "cell_type": "markdown",
   "metadata": {},
   "source": [
    "#### We cannot add Wayback Urls to Wikipedia because it is not standard\n",
    "#### So need to further process these generated urls or take another route"
   ]
  },
  {
   "cell_type": "markdown",
   "metadata": {},
   "source": [
    "### Method #2 \n",
    "#### link to scholar.archive.org pages! \n",
    "- old: (ex. https://scholar.archive.org/search?q=key:work_g23s7ktlbrhxhpcat34i4jnmme)\n",
    "- new: https://scholar.archive.org/work/g23s7ktlbrhxhpcat34i4jnmme"
   ]
  },
  {
   "cell_type": "code",
   "execution_count": 52,
   "metadata": {},
   "outputs": [],
   "source": [
    "def generate_scholars_archive_url(work_id):\n",
    "    header = \"https://scholar.archive.org/work/\"\n",
    "    content = work_id\n",
    "    return header + content"
   ]
  },
  {
   "cell_type": "code",
   "execution_count": null,
   "metadata": {},
   "outputs": [],
   "source": []
  },
  {
   "cell_type": "markdown",
   "metadata": {},
   "source": [
    "### Verify with Web Scraping"
   ]
  },
  {
   "cell_type": "code",
   "execution_count": 89,
   "metadata": {},
   "outputs": [],
   "source": [
    "from bs4 import BeautifulSoup"
   ]
  },
  {
   "cell_type": "code",
   "execution_count": 90,
   "metadata": {},
   "outputs": [],
   "source": [
    "def has_link(url):\n",
    "    res = requests.get(url, timeout = 20)\n",
    "    soup = BeautifulSoup(res.content, \"html.parser\")\n",
    "    dropdown = soup.find(\"div\", attrs = {\"class\": \"dropdown-menu\"})\n",
    "    h4 = dropdown.find(\"h4\")\n",
    "    \n",
    "    \n",
    "    \n",
    "    if \"Preserved Fulltext\" not in h4.text:\n",
    "        return \"ehhh\"\n",
    "    p = dropdown.find(\"p\")\n",
    "    if \"We don't yet know of a public preservation copy of this work.\" in p.text:\n",
    "        return False\n",
    "    if \"has been preserved in the Wayback Machine.\" in p.text:\n",
    "        return True\n",
    "    \n",
    "    return \"maybe\""
   ]
  },
  {
   "cell_type": "code",
   "execution_count": 91,
   "metadata": {},
   "outputs": [
    {
     "data": {
      "text/plain": [
       "False"
      ]
     },
     "execution_count": 91,
     "metadata": {},
     "output_type": "execute_result"
    }
   ],
   "source": [
    "test_url1 = \"https://scholar.archive.org/work/677annbiifaqbfyfaiqjxsjf5a\"\n",
    "has_link(test_url1)"
   ]
  },
  {
   "cell_type": "code",
   "execution_count": 92,
   "metadata": {},
   "outputs": [
    {
     "data": {
      "text/plain": [
       "True"
      ]
     },
     "execution_count": 92,
     "metadata": {},
     "output_type": "execute_result"
    }
   ],
   "source": [
    "test_url2 = \"https://scholar.archive.org/work/smviomizcncc5cslifvbtuymfa\"\n",
    "has_link(test_url2)"
   ]
  },
  {
   "cell_type": "code",
   "execution_count": 93,
   "metadata": {},
   "outputs": [
    {
     "data": {
      "text/plain": [
       "False"
      ]
     },
     "execution_count": 93,
     "metadata": {},
     "output_type": "execute_result"
    }
   ],
   "source": [
    "test_url3 = \"https://scholar.archive.org/work/oxvzp5qalre2thc6osx2v4eudy\"\n",
    "has_link(test_url3)"
   ]
  },
  {
   "cell_type": "code",
   "execution_count": 94,
   "metadata": {},
   "outputs": [
    {
     "data": {
      "text/plain": [
       "True"
      ]
     },
     "execution_count": 94,
     "metadata": {},
     "output_type": "execute_result"
    }
   ],
   "source": [
    "test_url4 = \"https://scholar.archive.org/work/prjuj44mavbc5agm5bmgbpe5qy\"\n",
    "has_link(test_url4)"
   ]
  },
  {
   "cell_type": "code",
   "execution_count": null,
   "metadata": {},
   "outputs": [],
   "source": []
  },
  {
   "cell_type": "markdown",
   "metadata": {},
   "source": [
    "## Put it all together"
   ]
  },
  {
   "cell_type": "code",
   "execution_count": 53,
   "metadata": {},
   "outputs": [],
   "source": [
    "def process_citation_to_scholars1(citation, verbose = False):\n",
    "    \n",
    "    cite_info = preprocessing_citation(citation)\n",
    "    if type(cite_info) == str:\n",
    "        return cite_info\n",
    "    if verbose: print(cite_info)\n",
    "    \n",
    "    url_content = generate_url_content2(cite_info)\n",
    "    search_result = search_fatcat_cite_info(url_content, verbose)\n",
    "#     search_result = elastic_search_cite_info(url_content, verbose)\n",
    "    \n",
    "    if search_result == []:\n",
    "        return \"No search result\"\n",
    "    \n",
    "    if len(search_result) > 10:\n",
    "        search_result = search_result[:10]\n",
    "        \n",
    "    closest_match = find_best_cite_info_fatcat_search2(cite_info, search_result, verbose = verbose)\n",
    "    \n",
    "    if closest_match == \"\":\n",
    "        return \"No close match\"\n",
    "    \n",
    "    url = closest_match[\"url\"]\n",
    "    if url == None:\n",
    "        return \"No URL in search result\"\n",
    "    \n",
    "    work_id = closest_match[\"work_id\"]\n",
    "    if work_id == \"\":\n",
    "        return \"No work_id in search result\"\n",
    "    if verbose: print(work_id)\n",
    "        \n",
    "    return generate_scholars_archive_url(work_id)"
   ]
  },
  {
   "cell_type": "code",
   "execution_count": 95,
   "metadata": {},
   "outputs": [],
   "source": [
    "def process_citation_to_scholars2(citation, verbose = False):\n",
    "    \n",
    "    cite_info = preprocessing_citation(citation)\n",
    "    if type(cite_info) == str:\n",
    "        return cite_info\n",
    "    if verbose: print(cite_info)\n",
    "    \n",
    "    url_content = generate_url_content2(cite_info)\n",
    "#     search_result = search_fatcat_cite_info(url_content, verbose)\n",
    "    search_result = elastic_search_cite_info(url_content, verbose)\n",
    "    \n",
    "    if search_result == []:\n",
    "        return \"No search result\"\n",
    "    \n",
    "    if len(search_result) > 10:\n",
    "        search_result = search_result[:10]\n",
    "        \n",
    "    closest_match = find_best_cite_info_fatcat_search2(cite_info, search_result, verbose = verbose)\n",
    "    \n",
    "    if closest_match == \"\":\n",
    "        return \"No close match\"\n",
    "    \n",
    "    url = closest_match[\"url\"]\n",
    "    if url == None:\n",
    "        return \"No URL in search result\"\n",
    "    \n",
    "    work_id = closest_match[\"work_id\"]\n",
    "    if work_id == \"\":\n",
    "        return \"No work_id in search result\"\n",
    "    if verbose: print(work_id)\n",
    "        \n",
    "    url = generate_scholars_archive_url(work_id)\n",
    "    if has_link(url):\n",
    "        return url\n",
    "    return \"Search result has no url\""
   ]
  },
  {
   "cell_type": "code",
   "execution_count": null,
   "metadata": {},
   "outputs": [],
   "source": []
  },
  {
   "cell_type": "markdown",
   "metadata": {},
   "source": [
    "## Mass Experiment\n",
    "### Data sample of 100"
   ]
  },
  {
   "cell_type": "code",
   "execution_count": 96,
   "metadata": {},
   "outputs": [
    {
     "name": "stdout",
     "output_type": "stream",
     "text": [
      "14960\n"
     ]
    },
    {
     "data": {
      "text/html": [
       "<div>\n",
       "<style scoped>\n",
       "    .dataframe tbody tr th:only-of-type {\n",
       "        vertical-align: middle;\n",
       "    }\n",
       "\n",
       "    .dataframe tbody tr th {\n",
       "        vertical-align: top;\n",
       "    }\n",
       "\n",
       "    .dataframe thead th {\n",
       "        text-align: right;\n",
       "    }\n",
       "</style>\n",
       "<table border=\"1\" class=\"dataframe\">\n",
       "  <thead>\n",
       "    <tr style=\"text-align: right;\">\n",
       "      <th></th>\n",
       "      <th>a</th>\n",
       "      <th>c</th>\n",
       "    </tr>\n",
       "  </thead>\n",
       "  <tbody>\n",
       "    <tr>\n",
       "      <th>0</th>\n",
       "      <td>1 + 2 + 3 + 4 + · · ·</td>\n",
       "      <td>{{Akademik dergi kaynağı\\n| soyadı = Lepowsky ...</td>\n",
       "    </tr>\n",
       "    <tr>\n",
       "      <th>1</th>\n",
       "      <td>12 Victoria</td>\n",
       "      <td>{{Akademik dergi kaynağı\\n | ad1    = B.\\n | s...</td>\n",
       "    </tr>\n",
       "    <tr>\n",
       "      <th>2</th>\n",
       "      <td>1,3,5-Triklorobenzen</td>\n",
       "      <td>{{Akademik dergi kaynağı|soyadı=Jaw|ad=Ching-G...</td>\n",
       "    </tr>\n",
       "    <tr>\n",
       "      <th>3</th>\n",
       "      <td>141 Likya depremi</td>\n",
       "      <td>{{Akademik dergi kaynağı | url=http://blackmed...</td>\n",
       "    </tr>\n",
       "    <tr>\n",
       "      <th>4</th>\n",
       "      <td>141 Likya depremi</td>\n",
       "      <td>{{Akademik dergi kaynağı | url=http://www.nat-...</td>\n",
       "    </tr>\n",
       "    <tr>\n",
       "      <th>5</th>\n",
       "      <td>1481 Rodos depremi</td>\n",
       "      <td>{{Akademik dergi kaynağı|başlık=Earthquake sou...</td>\n",
       "    </tr>\n",
       "    <tr>\n",
       "      <th>6</th>\n",
       "      <td>1481 Rodos depremi</td>\n",
       "      <td>{{Akademik dergi kaynağı|başlık=Historical and...</td>\n",
       "    </tr>\n",
       "    <tr>\n",
       "      <th>7</th>\n",
       "      <td>1481 Rodos depremi</td>\n",
       "      <td>{{Akademik dergi kaynağı|url=http://jgs.geosci...</td>\n",
       "    </tr>\n",
       "    <tr>\n",
       "      <th>8</th>\n",
       "      <td>1481 Rodos depremi</td>\n",
       "      <td>{{Akademik dergi kaynağı|başlık=New approaches...</td>\n",
       "    </tr>\n",
       "    <tr>\n",
       "      <th>9</th>\n",
       "      <td>1481 Rodos depremi</td>\n",
       "      <td>{{Akademik dergi kaynağı|url=http://hal-insu.a...</td>\n",
       "    </tr>\n",
       "  </tbody>\n",
       "</table>\n",
       "</div>"
      ],
      "text/plain": [
       "                       a                                                  c\n",
       "0  1 + 2 + 3 + 4 + · · ·  {{Akademik dergi kaynağı\\n| soyadı = Lepowsky ...\n",
       "1            12 Victoria  {{Akademik dergi kaynağı\\n | ad1    = B.\\n | s...\n",
       "2   1,3,5-Triklorobenzen  {{Akademik dergi kaynağı|soyadı=Jaw|ad=Ching-G...\n",
       "3      141 Likya depremi  {{Akademik dergi kaynağı | url=http://blackmed...\n",
       "4      141 Likya depremi  {{Akademik dergi kaynağı | url=http://www.nat-...\n",
       "5     1481 Rodos depremi  {{Akademik dergi kaynağı|başlık=Earthquake sou...\n",
       "6     1481 Rodos depremi  {{Akademik dergi kaynağı|başlık=Historical and...\n",
       "7     1481 Rodos depremi  {{Akademik dergi kaynağı|url=http://jgs.geosci...\n",
       "8     1481 Rodos depremi  {{Akademik dergi kaynağı|başlık=New approaches...\n",
       "9     1481 Rodos depremi  {{Akademik dergi kaynağı|url=http://hal-insu.a..."
      ]
     },
     "execution_count": 96,
     "metadata": {},
     "output_type": "execute_result"
    }
   ],
   "source": [
    "journal_dump = pd.read_json(\"tr.wikipedia.org.journal.20210621.json.gz\", lines = True)\n",
    "print(journal_dump.shape[0])\n",
    "journal_dump.head(10)"
   ]
  },
  {
   "cell_type": "code",
   "execution_count": 97,
   "metadata": {},
   "outputs": [
    {
     "data": {
      "text/html": [
       "<div>\n",
       "<style scoped>\n",
       "    .dataframe tbody tr th:only-of-type {\n",
       "        vertical-align: middle;\n",
       "    }\n",
       "\n",
       "    .dataframe tbody tr th {\n",
       "        vertical-align: top;\n",
       "    }\n",
       "\n",
       "    .dataframe thead th {\n",
       "        text-align: right;\n",
       "    }\n",
       "</style>\n",
       "<table border=\"1\" class=\"dataframe\">\n",
       "  <thead>\n",
       "    <tr style=\"text-align: right;\">\n",
       "      <th></th>\n",
       "      <th>a</th>\n",
       "      <th>c</th>\n",
       "    </tr>\n",
       "  </thead>\n",
       "  <tbody>\n",
       "    <tr>\n",
       "      <th>0</th>\n",
       "      <td>Punk rap</td>\n",
       "      <td>{{Akademik dergi kaynağı|başlık=Move Over My C...</td>\n",
       "    </tr>\n",
       "    <tr>\n",
       "      <th>1</th>\n",
       "      <td>İnsan</td>\n",
       "      <td>{{Akademik dergi kaynağı | soyadı1 = Henshilwo...</td>\n",
       "    </tr>\n",
       "    <tr>\n",
       "      <th>2</th>\n",
       "      <td>Alonzo Church</td>\n",
       "      <td>{{Akademik dergi kaynağı|yazar=Henkin, Leon|ba...</td>\n",
       "    </tr>\n",
       "    <tr>\n",
       "      <th>3</th>\n",
       "      <td>Su mikrobiyolojisi</td>\n",
       "      <td>{{Akademik dergi kaynağı|url=http://www.annual...</td>\n",
       "    </tr>\n",
       "    <tr>\n",
       "      <th>4</th>\n",
       "      <td>Türkiye Cumhuriyeti'nin kadın bakanları listesi</td>\n",
       "      <td>{{Akademik dergi kaynağı|url=https://www.jstor...</td>\n",
       "    </tr>\n",
       "  </tbody>\n",
       "</table>\n",
       "</div>"
      ],
      "text/plain": [
       "                                                 a  \\\n",
       "0                                         Punk rap   \n",
       "1                                            İnsan   \n",
       "2                                    Alonzo Church   \n",
       "3                               Su mikrobiyolojisi   \n",
       "4  Türkiye Cumhuriyeti'nin kadın bakanları listesi   \n",
       "\n",
       "                                                   c  \n",
       "0  {{Akademik dergi kaynağı|başlık=Move Over My C...  \n",
       "1  {{Akademik dergi kaynağı | soyadı1 = Henshilwo...  \n",
       "2  {{Akademik dergi kaynağı|yazar=Henkin, Leon|ba...  \n",
       "3  {{Akademik dergi kaynağı|url=http://www.annual...  \n",
       "4  {{Akademik dergi kaynağı|url=https://www.jstor...  "
      ]
     },
     "execution_count": 97,
     "metadata": {},
     "output_type": "execute_result"
    }
   ],
   "source": [
    "journal_dump_100 = journal_dump.sample(n = 100)\n",
    "journal_dump_100 = journal_dump_100.reset_index(drop = True)\n",
    "journal_dump_100.head()"
   ]
  },
  {
   "cell_type": "code",
   "execution_count": 58,
   "metadata": {},
   "outputs": [],
   "source": [
    "# %%time\n",
    "# journal_dump_100[\"scholars_result\"] = journal_dump_100['c'].apply(lambda x: \n",
    "#                                                                   process_citation_to_scholars1(x, verbose = False))"
   ]
  },
  {
   "cell_type": "code",
   "execution_count": 98,
   "metadata": {},
   "outputs": [
    {
     "name": "stdout",
     "output_type": "stream",
     "text": [
      "CPU times: user 3.84 s, sys: 876 ms, total: 4.71 s\n",
      "Wall time: 1min 29s\n"
     ]
    }
   ],
   "source": [
    "%%time\n",
    "journal_dump_100[\"scholars_result\"] = journal_dump_100['c'].apply(lambda x: \n",
    "                                                                  process_citation_to_scholars2(x, verbose = False))"
   ]
  },
  {
   "cell_type": "code",
   "execution_count": 99,
   "metadata": {},
   "outputs": [
    {
     "data": {
      "text/html": [
       "<div>\n",
       "<style scoped>\n",
       "    .dataframe tbody tr th:only-of-type {\n",
       "        vertical-align: middle;\n",
       "    }\n",
       "\n",
       "    .dataframe tbody tr th {\n",
       "        vertical-align: top;\n",
       "    }\n",
       "\n",
       "    .dataframe thead th {\n",
       "        text-align: right;\n",
       "    }\n",
       "</style>\n",
       "<table border=\"1\" class=\"dataframe\">\n",
       "  <thead>\n",
       "    <tr style=\"text-align: right;\">\n",
       "      <th></th>\n",
       "      <th>a</th>\n",
       "      <th>c</th>\n",
       "      <th>scholars_result</th>\n",
       "    </tr>\n",
       "  </thead>\n",
       "  <tbody>\n",
       "    <tr>\n",
       "      <th>0</th>\n",
       "      <td>Punk rap</td>\n",
       "      <td>{{Akademik dergi kaynağı|başlık=Move Over My C...</td>\n",
       "      <td>Err1</td>\n",
       "    </tr>\n",
       "    <tr>\n",
       "      <th>1</th>\n",
       "      <td>İnsan</td>\n",
       "      <td>{{Akademik dergi kaynağı | soyadı1 = Henshilwo...</td>\n",
       "      <td>Err1</td>\n",
       "    </tr>\n",
       "    <tr>\n",
       "      <th>2</th>\n",
       "      <td>Alonzo Church</td>\n",
       "      <td>{{Akademik dergi kaynağı|yazar=Henkin, Leon|ba...</td>\n",
       "      <td>Err1</td>\n",
       "    </tr>\n",
       "    <tr>\n",
       "      <th>3</th>\n",
       "      <td>Su mikrobiyolojisi</td>\n",
       "      <td>{{Akademik dergi kaynağı|url=http://www.annual...</td>\n",
       "      <td>Err1</td>\n",
       "    </tr>\n",
       "    <tr>\n",
       "      <th>4</th>\n",
       "      <td>Türkiye Cumhuriyeti'nin kadın bakanları listesi</td>\n",
       "      <td>{{Akademik dergi kaynağı|url=https://www.jstor...</td>\n",
       "      <td>Err1</td>\n",
       "    </tr>\n",
       "  </tbody>\n",
       "</table>\n",
       "</div>"
      ],
      "text/plain": [
       "                                                 a  \\\n",
       "0                                         Punk rap   \n",
       "1                                            İnsan   \n",
       "2                                    Alonzo Church   \n",
       "3                               Su mikrobiyolojisi   \n",
       "4  Türkiye Cumhuriyeti'nin kadın bakanları listesi   \n",
       "\n",
       "                                                   c scholars_result  \n",
       "0  {{Akademik dergi kaynağı|başlık=Move Over My C...            Err1  \n",
       "1  {{Akademik dergi kaynağı | soyadı1 = Henshilwo...            Err1  \n",
       "2  {{Akademik dergi kaynağı|yazar=Henkin, Leon|ba...            Err1  \n",
       "3  {{Akademik dergi kaynağı|url=http://www.annual...            Err1  \n",
       "4  {{Akademik dergi kaynağı|url=https://www.jstor...            Err1  "
      ]
     },
     "execution_count": 99,
     "metadata": {},
     "output_type": "execute_result"
    }
   ],
   "source": [
    "journal_dump_100.head()"
   ]
  },
  {
   "cell_type": "code",
   "execution_count": 102,
   "metadata": {},
   "outputs": [
    {
     "data": {
      "text/html": [
       "<div>\n",
       "<style scoped>\n",
       "    .dataframe tbody tr th:only-of-type {\n",
       "        vertical-align: middle;\n",
       "    }\n",
       "\n",
       "    .dataframe tbody tr th {\n",
       "        vertical-align: top;\n",
       "    }\n",
       "\n",
       "    .dataframe thead th {\n",
       "        text-align: right;\n",
       "    }\n",
       "</style>\n",
       "<table border=\"1\" class=\"dataframe\">\n",
       "  <thead>\n",
       "    <tr style=\"text-align: right;\">\n",
       "      <th></th>\n",
       "      <th>a</th>\n",
       "      <th>c</th>\n",
       "      <th>scholars_result</th>\n",
       "    </tr>\n",
       "  </thead>\n",
       "  <tbody>\n",
       "    <tr>\n",
       "      <th>0</th>\n",
       "      <td>Postojna Mağarası</td>\n",
       "      <td>{{Akademik dergi kaynağı|başlık=Speleotourism ...</td>\n",
       "      <td>https://scholar.archive.org/work/2fzrottcf5fgx...</td>\n",
       "    </tr>\n",
       "  </tbody>\n",
       "</table>\n",
       "</div>"
      ],
      "text/plain": [
       "                   a                                                  c  \\\n",
       "0  Postojna Mağarası  {{Akademik dergi kaynağı|başlık=Speleotourism ...   \n",
       "\n",
       "                                     scholars_result  \n",
       "0  https://scholar.archive.org/work/2fzrottcf5fgx...  "
      ]
     },
     "execution_count": 102,
     "metadata": {},
     "output_type": "execute_result"
    }
   ],
   "source": [
    "journal_dump_100_good = journal_dump_100[(journal_dump_100[\"scholars_result\"] != \"Err1\") \n",
    "                                           & (journal_dump_100[\"scholars_result\"] != \"Err2\")\n",
    "                                         & (journal_dump_100[\"scholars_result\"] != \"No search result\")\n",
    "                                     & (journal_dump_100[\"scholars_result\"] != \"No close match\") \n",
    "                                     & (journal_dump_100[\"scholars_result\"] != \"No URL in search result\")]\n",
    "journal_dump_100_good = journal_dump_100_good.reset_index(drop = True)\n",
    "journal_dump_100_good"
   ]
  },
  {
   "cell_type": "code",
   "execution_count": 107,
   "metadata": {},
   "outputs": [
    {
     "name": "stdout",
     "output_type": "stream",
     "text": [
      "Postojna Mağarası\n",
      "{{Akademik dergi kaynağı|başlık=Speleotourism in Slovenia: balancing between mass tourism and geoheritage protection|yazarlar=Tičar|tarih=11 Ağustos 2018|sayı=1|dil=İngilizce|sayfalar=344-357|çalışma=Open Geosciences|cilt=10}}\n",
      "{'journal': 'Open Geosciences', 'date': '2018-08', 'year': 2018, 'volume': '10', 'issue': '1', 'title': 'Speleotourism in Slovenia: balancing between mass tourism and geoheritage protection', 'author': ['Tičar'], 'page': '344', 'url': '', 'external_ids': {}}\n",
      "{'work_id': '2fzrottcf5fgxkbftnyzryf5vi', 'score': 94.23294, 'title': 'speleotourism in slovenia: balancing between mass tourism and geoheritage protection', 'year': 2018, 'journal': 'open geosciences', 'volume': '10', 'issue': None, 'page': '344-357', 'author': ['J. Tičar', 'N. Tomić', 'M. Breg Valjavec', 'M. Zorn', 'S. B. Marković', 'M. B. Gavrilov'], 'url': 'https://web.archive.org/web/20200226210729/https://www.degruyter.com/downloadpdf/j/geo.2018.10.issue-1/geo-2018-0027/geo-2018-0027.pdf'}\n",
      "https://scholar.archive.org/work/2fzrottcf5fgxkbftnyzryf5vi\n"
     ]
    }
   ],
   "source": [
    "print(journal_dump_100_good.loc[0, \"a\"])\n",
    "test_cite = journal_dump_100_good.loc[0, \"c\"]\n",
    "print(test_cite)\n",
    "test_cite_info = parse_citation_data(test_cite)\n",
    "print(test_cite_info)\n",
    "test_url_content = generate_url_content2(test_cite_info)\n",
    "test_search_result = search_fatcat_cite_info(test_url_content)\n",
    "# print(test_search_result[0])\n",
    "# print(fatcat_check_match(test_cite_info, test_search_result[0], verbose = True))\n",
    "test_closest_match = find_best_cite_info_fatcat_search2(test_cite_info, test_search_result)\n",
    "print(test_closest_match)\n",
    "print(journal_dump_100_good.loc[0, \"scholars_result\"])"
   ]
  },
  {
   "cell_type": "code",
   "execution_count": null,
   "metadata": {},
   "outputs": [],
   "source": []
  },
  {
   "cell_type": "markdown",
   "metadata": {},
   "source": [
    "### Data Sample 2000"
   ]
  },
  {
   "cell_type": "code",
   "execution_count": 145,
   "metadata": {
    "scrolled": true
   },
   "outputs": [
    {
     "data": {
      "text/html": [
       "<div>\n",
       "<style scoped>\n",
       "    .dataframe tbody tr th:only-of-type {\n",
       "        vertical-align: middle;\n",
       "    }\n",
       "\n",
       "    .dataframe tbody tr th {\n",
       "        vertical-align: top;\n",
       "    }\n",
       "\n",
       "    .dataframe thead th {\n",
       "        text-align: right;\n",
       "    }\n",
       "</style>\n",
       "<table border=\"1\" class=\"dataframe\">\n",
       "  <thead>\n",
       "    <tr style=\"text-align: right;\">\n",
       "      <th></th>\n",
       "      <th>a</th>\n",
       "      <th>c</th>\n",
       "    </tr>\n",
       "  </thead>\n",
       "  <tbody>\n",
       "    <tr>\n",
       "      <th>0</th>\n",
       "      <td>Kısa süreli bellek</td>\n",
       "      <td>{{Akademik dergi kaynağı|url=|başlık=The mind ...</td>\n",
       "    </tr>\n",
       "    <tr>\n",
       "      <th>1</th>\n",
       "      <td>Solar döngüler</td>\n",
       "      <td>{{Akademik dergi kaynağı|url=http://epic.awi.d...</td>\n",
       "    </tr>\n",
       "    <tr>\n",
       "      <th>2</th>\n",
       "      <td>Atom probu</td>\n",
       "      <td>{{Akademik dergi kaynağı|başlık=The Atom-Probe...</td>\n",
       "    </tr>\n",
       "    <tr>\n",
       "      <th>3</th>\n",
       "      <td>Latin Pop Albums</td>\n",
       "      <td>{{Akademik dergi kaynağı|başlık=1993: The Year...</td>\n",
       "    </tr>\n",
       "    <tr>\n",
       "      <th>4</th>\n",
       "      <td>Stroop etkisi</td>\n",
       "      <td>{{Akademik dergi kaynağı|url=|başlık=Stroop in...</td>\n",
       "    </tr>\n",
       "  </tbody>\n",
       "</table>\n",
       "</div>"
      ],
      "text/plain": [
       "                    a                                                  c\n",
       "0  Kısa süreli bellek  {{Akademik dergi kaynağı|url=|başlık=The mind ...\n",
       "1      Solar döngüler  {{Akademik dergi kaynağı|url=http://epic.awi.d...\n",
       "2          Atom probu  {{Akademik dergi kaynağı|başlık=The Atom-Probe...\n",
       "3    Latin Pop Albums  {{Akademik dergi kaynağı|başlık=1993: The Year...\n",
       "4       Stroop etkisi  {{Akademik dergi kaynağı|url=|başlık=Stroop in..."
      ]
     },
     "execution_count": 145,
     "metadata": {},
     "output_type": "execute_result"
    }
   ],
   "source": [
    "journal_dump_2000 = journal_dump.sample(n = 2000)\n",
    "journal_dump_2000 = journal_dump_2000.reset_index(drop = True)\n",
    "journal_dump_2000.head()"
   ]
  },
  {
   "cell_type": "code",
   "execution_count": null,
   "metadata": {},
   "outputs": [],
   "source": []
  },
  {
   "cell_type": "code",
   "execution_count": null,
   "metadata": {},
   "outputs": [],
   "source": []
  },
  {
   "cell_type": "code",
   "execution_count": 146,
   "metadata": {},
   "outputs": [],
   "source": [
    "# journal_dump_2000[\"fatcat_result\"] = journal_dump_2000['c'].apply(lambda x: \n",
    "#                                                                   process_citation_to_fatcat(x, verbose = False))"
   ]
  },
  {
   "cell_type": "code",
   "execution_count": 147,
   "metadata": {},
   "outputs": [],
   "source": [
    "# journal_dump_2000.head()"
   ]
  },
  {
   "cell_type": "code",
   "execution_count": 148,
   "metadata": {},
   "outputs": [],
   "source": [
    "journal_dump_2000[\"scholars_result\"] = journal_dump_2000['c'].apply(lambda x: \n",
    "                                                                  process_citation_to_scholars2(x, verbose = False))"
   ]
  },
  {
   "cell_type": "code",
   "execution_count": 149,
   "metadata": {},
   "outputs": [
    {
     "data": {
      "text/html": [
       "<div>\n",
       "<style scoped>\n",
       "    .dataframe tbody tr th:only-of-type {\n",
       "        vertical-align: middle;\n",
       "    }\n",
       "\n",
       "    .dataframe tbody tr th {\n",
       "        vertical-align: top;\n",
       "    }\n",
       "\n",
       "    .dataframe thead th {\n",
       "        text-align: right;\n",
       "    }\n",
       "</style>\n",
       "<table border=\"1\" class=\"dataframe\">\n",
       "  <thead>\n",
       "    <tr style=\"text-align: right;\">\n",
       "      <th></th>\n",
       "      <th>a</th>\n",
       "      <th>c</th>\n",
       "      <th>scholars_result</th>\n",
       "    </tr>\n",
       "  </thead>\n",
       "  <tbody>\n",
       "    <tr>\n",
       "      <th>0</th>\n",
       "      <td>Kısa süreli bellek</td>\n",
       "      <td>{{Akademik dergi kaynağı|url=|başlık=The mind ...</td>\n",
       "      <td>https://scholar.archive.org/search?q=key:work_...</td>\n",
       "    </tr>\n",
       "    <tr>\n",
       "      <th>1</th>\n",
       "      <td>Solar döngüler</td>\n",
       "      <td>{{Akademik dergi kaynağı|url=http://epic.awi.d...</td>\n",
       "      <td>Err1</td>\n",
       "    </tr>\n",
       "    <tr>\n",
       "      <th>2</th>\n",
       "      <td>Atom probu</td>\n",
       "      <td>{{Akademik dergi kaynağı|başlık=The Atom-Probe...</td>\n",
       "      <td>Err1</td>\n",
       "    </tr>\n",
       "    <tr>\n",
       "      <th>3</th>\n",
       "      <td>Latin Pop Albums</td>\n",
       "      <td>{{Akademik dergi kaynağı|başlık=1993: The Year...</td>\n",
       "      <td>Err1</td>\n",
       "    </tr>\n",
       "    <tr>\n",
       "      <th>4</th>\n",
       "      <td>Stroop etkisi</td>\n",
       "      <td>{{Akademik dergi kaynağı|url=|başlık=Stroop in...</td>\n",
       "      <td>No close match</td>\n",
       "    </tr>\n",
       "  </tbody>\n",
       "</table>\n",
       "</div>"
      ],
      "text/plain": [
       "                    a                                                  c  \\\n",
       "0  Kısa süreli bellek  {{Akademik dergi kaynağı|url=|başlık=The mind ...   \n",
       "1      Solar döngüler  {{Akademik dergi kaynağı|url=http://epic.awi.d...   \n",
       "2          Atom probu  {{Akademik dergi kaynağı|başlık=The Atom-Probe...   \n",
       "3    Latin Pop Albums  {{Akademik dergi kaynağı|başlık=1993: The Year...   \n",
       "4       Stroop etkisi  {{Akademik dergi kaynağı|url=|başlık=Stroop in...   \n",
       "\n",
       "                                     scholars_result  \n",
       "0  https://scholar.archive.org/search?q=key:work_...  \n",
       "1                                               Err1  \n",
       "2                                               Err1  \n",
       "3                                               Err1  \n",
       "4                                     No close match  "
      ]
     },
     "execution_count": 149,
     "metadata": {},
     "output_type": "execute_result"
    }
   ],
   "source": [
    "journal_dump_2000.head()"
   ]
  },
  {
   "cell_type": "code",
   "execution_count": 150,
   "metadata": {},
   "outputs": [
    {
     "name": "stdout",
     "output_type": "stream",
     "text": [
      "(1779, 3)\n"
     ]
    },
    {
     "data": {
      "text/html": [
       "<div>\n",
       "<style scoped>\n",
       "    .dataframe tbody tr th:only-of-type {\n",
       "        vertical-align: middle;\n",
       "    }\n",
       "\n",
       "    .dataframe tbody tr th {\n",
       "        vertical-align: top;\n",
       "    }\n",
       "\n",
       "    .dataframe thead th {\n",
       "        text-align: right;\n",
       "    }\n",
       "</style>\n",
       "<table border=\"1\" class=\"dataframe\">\n",
       "  <thead>\n",
       "    <tr style=\"text-align: right;\">\n",
       "      <th></th>\n",
       "      <th>a</th>\n",
       "      <th>c</th>\n",
       "      <th>scholars_result</th>\n",
       "    </tr>\n",
       "  </thead>\n",
       "  <tbody>\n",
       "    <tr>\n",
       "      <th>1</th>\n",
       "      <td>Solar döngüler</td>\n",
       "      <td>{{Akademik dergi kaynağı|url=http://epic.awi.d...</td>\n",
       "      <td>Err1</td>\n",
       "    </tr>\n",
       "    <tr>\n",
       "      <th>2</th>\n",
       "      <td>Atom probu</td>\n",
       "      <td>{{Akademik dergi kaynağı|başlık=The Atom-Probe...</td>\n",
       "      <td>Err1</td>\n",
       "    </tr>\n",
       "    <tr>\n",
       "      <th>3</th>\n",
       "      <td>Latin Pop Albums</td>\n",
       "      <td>{{Akademik dergi kaynağı|başlık=1993: The Year...</td>\n",
       "      <td>Err1</td>\n",
       "    </tr>\n",
       "    <tr>\n",
       "      <th>5</th>\n",
       "      <td>Türkistan hamam böceği</td>\n",
       "      <td>{{Akademik dergi kaynağı|başlık=Catalog and at...</td>\n",
       "      <td>Err1</td>\n",
       "    </tr>\n",
       "    <tr>\n",
       "      <th>6</th>\n",
       "      <td>Küçük Prens (2015 film)</td>\n",
       "      <td>{{Akademik dergi kaynağı|url=http://dx.doi.org...</td>\n",
       "      <td>Err1</td>\n",
       "    </tr>\n",
       "  </tbody>\n",
       "</table>\n",
       "</div>"
      ],
      "text/plain": [
       "                         a                                                  c  \\\n",
       "1           Solar döngüler  {{Akademik dergi kaynağı|url=http://epic.awi.d...   \n",
       "2               Atom probu  {{Akademik dergi kaynağı|başlık=The Atom-Probe...   \n",
       "3         Latin Pop Albums  {{Akademik dergi kaynağı|başlık=1993: The Year...   \n",
       "5   Türkistan hamam böceği  {{Akademik dergi kaynağı|başlık=Catalog and at...   \n",
       "6  Küçük Prens (2015 film)  {{Akademik dergi kaynağı|url=http://dx.doi.org...   \n",
       "\n",
       "  scholars_result  \n",
       "1            Err1  \n",
       "2            Err1  \n",
       "3            Err1  \n",
       "5            Err1  \n",
       "6            Err1  "
      ]
     },
     "execution_count": 150,
     "metadata": {},
     "output_type": "execute_result"
    }
   ],
   "source": [
    "journals_failed_basic_filtering = journal_dump_2000[journal_dump_2000[\"scholars_result\"] == \"Err1\"]\n",
    "print(journals_failed_basic_filtering.shape)\n",
    "journals_failed_basic_filtering.head()"
   ]
  },
  {
   "cell_type": "code",
   "execution_count": 152,
   "metadata": {},
   "outputs": [
    {
     "name": "stdout",
     "output_type": "stream",
     "text": [
      "(1, 3)\n"
     ]
    },
    {
     "data": {
      "text/html": [
       "<div>\n",
       "<style scoped>\n",
       "    .dataframe tbody tr th:only-of-type {\n",
       "        vertical-align: middle;\n",
       "    }\n",
       "\n",
       "    .dataframe tbody tr th {\n",
       "        vertical-align: top;\n",
       "    }\n",
       "\n",
       "    .dataframe thead th {\n",
       "        text-align: right;\n",
       "    }\n",
       "</style>\n",
       "<table border=\"1\" class=\"dataframe\">\n",
       "  <thead>\n",
       "    <tr style=\"text-align: right;\">\n",
       "      <th></th>\n",
       "      <th>a</th>\n",
       "      <th>c</th>\n",
       "      <th>scholars_result</th>\n",
       "    </tr>\n",
       "  </thead>\n",
       "  <tbody>\n",
       "    <tr>\n",
       "      <th>45</th>\n",
       "      <td>Büyük kütleli yıldızlar listesi</td>\n",
       "      <td>{{Akademik dergi kaynağı|başlık=High-mass star...</td>\n",
       "      <td>Err2</td>\n",
       "    </tr>\n",
       "  </tbody>\n",
       "</table>\n",
       "</div>"
      ],
      "text/plain": [
       "                                  a  \\\n",
       "45  Büyük kütleli yıldızlar listesi   \n",
       "\n",
       "                                                    c scholars_result  \n",
       "45  {{Akademik dergi kaynağı|başlık=High-mass star...            Err2  "
      ]
     },
     "execution_count": 152,
     "metadata": {},
     "output_type": "execute_result"
    }
   ],
   "source": [
    "journals_failed_autourl_check = journal_dump_100[journal_dump_100[\"scholars_result\"] == \"Err2\"]\n",
    "print(journals_failed_autourl_check.shape)\n",
    "journals_failed_autourl_check.head()"
   ]
  },
  {
   "cell_type": "code",
   "execution_count": 153,
   "metadata": {},
   "outputs": [
    {
     "data": {
      "text/html": [
       "<div>\n",
       "<style scoped>\n",
       "    .dataframe tbody tr th:only-of-type {\n",
       "        vertical-align: middle;\n",
       "    }\n",
       "\n",
       "    .dataframe tbody tr th {\n",
       "        vertical-align: top;\n",
       "    }\n",
       "\n",
       "    .dataframe thead th {\n",
       "        text-align: right;\n",
       "    }\n",
       "</style>\n",
       "<table border=\"1\" class=\"dataframe\">\n",
       "  <thead>\n",
       "    <tr style=\"text-align: right;\">\n",
       "      <th></th>\n",
       "      <th>a</th>\n",
       "      <th>c</th>\n",
       "      <th>scholars_result</th>\n",
       "    </tr>\n",
       "  </thead>\n",
       "  <tbody>\n",
       "    <tr>\n",
       "      <th>986</th>\n",
       "      <td>Dalton Transactions</td>\n",
       "      <td>{{Akademik dergi kaynağı|başlık=Acta Chemica S...</td>\n",
       "      <td>No search result</td>\n",
       "    </tr>\n",
       "    <tr>\n",
       "      <th>1169</th>\n",
       "      <td>Theoktisti</td>\n",
       "      <td>{{Akademik dergi kaynağı |soyadı=Guilland |ad=...</td>\n",
       "      <td>No search result</td>\n",
       "    </tr>\n",
       "    <tr>\n",
       "      <th>1376</th>\n",
       "      <td>Elizabeth Loftus</td>\n",
       "      <td>{{Akademik dergi kaynağı|başlık=Loftus Receive...</td>\n",
       "      <td>No search result</td>\n",
       "    </tr>\n",
       "    <tr>\n",
       "      <th>1378</th>\n",
       "      <td>Gvozdansko Kuşatması</td>\n",
       "      <td>{{Akademik dergi kaynağı|soyadı=Kekez|ad=Hrvoj...</td>\n",
       "      <td>No search result</td>\n",
       "    </tr>\n",
       "    <tr>\n",
       "      <th>1420</th>\n",
       "      <td>Ural-Yukagir dilleri</td>\n",
       "      <td>{{Akademik dergi kaynağı|başlık=Uralo-jukagiri...</td>\n",
       "      <td>No search result</td>\n",
       "    </tr>\n",
       "    <tr>\n",
       "      <th>1446</th>\n",
       "      <td>Melissa Rosenberg</td>\n",
       "      <td>{{Akademik dergi kaynağı|başlık=Dark Tales|yaz...</td>\n",
       "      <td>No search result</td>\n",
       "    </tr>\n",
       "  </tbody>\n",
       "</table>\n",
       "</div>"
      ],
      "text/plain": [
       "                         a                                                  c  \\\n",
       "986    Dalton Transactions  {{Akademik dergi kaynağı|başlık=Acta Chemica S...   \n",
       "1169            Theoktisti  {{Akademik dergi kaynağı |soyadı=Guilland |ad=...   \n",
       "1376      Elizabeth Loftus  {{Akademik dergi kaynağı|başlık=Loftus Receive...   \n",
       "1378  Gvozdansko Kuşatması  {{Akademik dergi kaynağı|soyadı=Kekez|ad=Hrvoj...   \n",
       "1420  Ural-Yukagir dilleri  {{Akademik dergi kaynağı|başlık=Uralo-jukagiri...   \n",
       "1446     Melissa Rosenberg  {{Akademik dergi kaynağı|başlık=Dark Tales|yaz...   \n",
       "\n",
       "       scholars_result  \n",
       "986   No search result  \n",
       "1169  No search result  \n",
       "1376  No search result  \n",
       "1378  No search result  \n",
       "1420  No search result  \n",
       "1446  No search result  "
      ]
     },
     "execution_count": 153,
     "metadata": {},
     "output_type": "execute_result"
    }
   ],
   "source": [
    "journal_dump_2000[journal_dump_2000[\"scholars_result\"] == \"No search result\"]"
   ]
  },
  {
   "cell_type": "markdown",
   "metadata": {},
   "source": [
    "# TODO: look into how to generate more search results... \n",
    "# loosen search restrictions and do more filtering with what is returned?"
   ]
  },
  {
   "cell_type": "code",
   "execution_count": 154,
   "metadata": {},
   "outputs": [],
   "source": [
    "# # print(journal_dump_2000.loc[12365, \"a\"])\n",
    "# # test_cite = journal_dump_2000.loc[12365, \"c\"]\n",
    "# # print(test_cite)\n",
    "# # test_cite_info = parse_citation_data(test_cite)\n",
    "# # print(test_cite_info)\n",
    "# # test_search_result = search_fatcat_cite_info(test_cite_info, verbose = True)\n",
    "# # print(test_search_result)\n",
    "\n",
    "# test_cite_info2 = {'journal': 'American Journal of Physical Anthropology', \n",
    "#                    'date': '2003', 'year': 2003, 'volume': '122', 'issue': '', \n",
    "#                    'title': 'Exploring artificial cranial deformation using elliptic Fourier analysis of procrustes aligned outlines', \n",
    "#                    'author': ['Martin Frieß'], 'page': '11', 'url': '', 'doi': ''}\n",
    "# test_search_result2 = search_fatcat_cite_info(test_cite_info2)\n",
    "# # print(test_search_result2[0])\n",
    "# test_closest_match2 = find_best_cite_info_fatcat_search(test_cite_info2, test_search_result2)\n",
    "# print(test_closest_match2)\n"
   ]
  },
  {
   "cell_type": "code",
   "execution_count": 174,
   "metadata": {},
   "outputs": [
    {
     "name": "stdout",
     "output_type": "stream",
     "text": [
      "(54, 3)\n"
     ]
    },
    {
     "data": {
      "text/html": [
       "<div>\n",
       "<style scoped>\n",
       "    .dataframe tbody tr th:only-of-type {\n",
       "        vertical-align: middle;\n",
       "    }\n",
       "\n",
       "    .dataframe tbody tr th {\n",
       "        vertical-align: top;\n",
       "    }\n",
       "\n",
       "    .dataframe thead th {\n",
       "        text-align: right;\n",
       "    }\n",
       "</style>\n",
       "<table border=\"1\" class=\"dataframe\">\n",
       "  <thead>\n",
       "    <tr style=\"text-align: right;\">\n",
       "      <th></th>\n",
       "      <th>a</th>\n",
       "      <th>c</th>\n",
       "      <th>scholars_result</th>\n",
       "    </tr>\n",
       "  </thead>\n",
       "  <tbody>\n",
       "    <tr>\n",
       "      <th>7</th>\n",
       "      <td>Afrika'da kölelik</td>\n",
       "      <td>{{Akademik dergi kaynağı|başlık=Contours of Sl...</td>\n",
       "      <td>No URL in search result</td>\n",
       "    </tr>\n",
       "    <tr>\n",
       "      <th>30</th>\n",
       "      <td>T Yardımcı Hücresi 17</td>\n",
       "      <td>{{Akademik dergi kaynağı|başlık=Preventative r...</td>\n",
       "      <td>No URL in search result</td>\n",
       "    </tr>\n",
       "    <tr>\n",
       "      <th>150</th>\n",
       "      <td>Afrika'da kölelik</td>\n",
       "      <td>{{Akademik dergi kaynağı|başlık=Trading in Sla...</td>\n",
       "      <td>No URL in search result</td>\n",
       "    </tr>\n",
       "    <tr>\n",
       "      <th>158</th>\n",
       "      <td>Gece yeme sendromu</td>\n",
       "      <td>{{Akademik dergi kaynağı|url=|başlık=Nighttime...</td>\n",
       "      <td>No URL in search result</td>\n",
       "    </tr>\n",
       "    <tr>\n",
       "      <th>162</th>\n",
       "      <td>Chi-Huey Wong</td>\n",
       "      <td>{{Akademik dergi kaynağı|başlık=Chemical-enzym...</td>\n",
       "      <td>No URL in search result</td>\n",
       "    </tr>\n",
       "  </tbody>\n",
       "</table>\n",
       "</div>"
      ],
      "text/plain": [
       "                         a                                                  c  \\\n",
       "7        Afrika'da kölelik  {{Akademik dergi kaynağı|başlık=Contours of Sl...   \n",
       "30   T Yardımcı Hücresi 17  {{Akademik dergi kaynağı|başlık=Preventative r...   \n",
       "150      Afrika'da kölelik  {{Akademik dergi kaynağı|başlık=Trading in Sla...   \n",
       "158     Gece yeme sendromu  {{Akademik dergi kaynağı|url=|başlık=Nighttime...   \n",
       "162          Chi-Huey Wong  {{Akademik dergi kaynağı|başlık=Chemical-enzym...   \n",
       "\n",
       "             scholars_result  \n",
       "7    No URL in search result  \n",
       "30   No URL in search result  \n",
       "150  No URL in search result  \n",
       "158  No URL in search result  \n",
       "162  No URL in search result  "
      ]
     },
     "execution_count": 174,
     "metadata": {},
     "output_type": "execute_result"
    }
   ],
   "source": [
    "journal_dump_2000_no_url = journal_dump_2000[journal_dump_2000[\"scholars_result\"] == \"No URL in search result\"]\n",
    "print(journal_dump_2000_no_url.shape)\n",
    "journal_dump_2000_no_url.head()"
   ]
  },
  {
   "cell_type": "markdown",
   "metadata": {},
   "source": [
    "# TODO: look at pages of ones without urls in search result and figure out if they indeed have no valid links within them  "
   ]
  },
  {
   "cell_type": "code",
   "execution_count": null,
   "metadata": {},
   "outputs": [],
   "source": []
  },
  {
   "cell_type": "code",
   "execution_count": 156,
   "metadata": {},
   "outputs": [
    {
     "data": {
      "text/html": [
       "<div>\n",
       "<style scoped>\n",
       "    .dataframe tbody tr th:only-of-type {\n",
       "        vertical-align: middle;\n",
       "    }\n",
       "\n",
       "    .dataframe tbody tr th {\n",
       "        vertical-align: top;\n",
       "    }\n",
       "\n",
       "    .dataframe thead th {\n",
       "        text-align: right;\n",
       "    }\n",
       "</style>\n",
       "<table border=\"1\" class=\"dataframe\">\n",
       "  <thead>\n",
       "    <tr style=\"text-align: right;\">\n",
       "      <th></th>\n",
       "      <th>a</th>\n",
       "      <th>c</th>\n",
       "      <th>scholars_result</th>\n",
       "    </tr>\n",
       "  </thead>\n",
       "  <tbody>\n",
       "  </tbody>\n",
       "</table>\n",
       "</div>"
      ],
      "text/plain": [
       "Empty DataFrame\n",
       "Columns: [a, c, scholars_result]\n",
       "Index: []"
      ]
     },
     "execution_count": 156,
     "metadata": {},
     "output_type": "execute_result"
    }
   ],
   "source": [
    "journal_dump_2000[journal_dump_2000[\"scholars_result\"] == \"No work_id in search result\"]"
   ]
  },
  {
   "cell_type": "code",
   "execution_count": null,
   "metadata": {},
   "outputs": [],
   "source": []
  },
  {
   "cell_type": "code",
   "execution_count": null,
   "metadata": {},
   "outputs": [],
   "source": []
  },
  {
   "cell_type": "code",
   "execution_count": null,
   "metadata": {},
   "outputs": [],
   "source": []
  },
  {
   "cell_type": "code",
   "execution_count": 175,
   "metadata": {},
   "outputs": [
    {
     "name": "stdout",
     "output_type": "stream",
     "text": [
      "(107, 3)\n"
     ]
    },
    {
     "data": {
      "text/html": [
       "<div>\n",
       "<style scoped>\n",
       "    .dataframe tbody tr th:only-of-type {\n",
       "        vertical-align: middle;\n",
       "    }\n",
       "\n",
       "    .dataframe tbody tr th {\n",
       "        vertical-align: top;\n",
       "    }\n",
       "\n",
       "    .dataframe thead th {\n",
       "        text-align: right;\n",
       "    }\n",
       "</style>\n",
       "<table border=\"1\" class=\"dataframe\">\n",
       "  <thead>\n",
       "    <tr style=\"text-align: right;\">\n",
       "      <th></th>\n",
       "      <th>a</th>\n",
       "      <th>c</th>\n",
       "      <th>scholars_result</th>\n",
       "    </tr>\n",
       "  </thead>\n",
       "  <tbody>\n",
       "    <tr>\n",
       "      <th>0</th>\n",
       "      <td>Stroop etkisi</td>\n",
       "      <td>{{Akademik dergi kaynağı|url=|başlık=Stroop in...</td>\n",
       "      <td>No close match</td>\n",
       "    </tr>\n",
       "    <tr>\n",
       "      <th>1</th>\n",
       "      <td>Görme</td>\n",
       "      <td>{{Akademik dergi kaynağı|başlık=Who Is the Fou...</td>\n",
       "      <td>No close match</td>\n",
       "    </tr>\n",
       "    <tr>\n",
       "      <th>2</th>\n",
       "      <td>Güneş Sistemi'ndeki kütleçekimsel yuvarlak nes...</td>\n",
       "      <td>{{Akademik dergi kaynağı|başlık=The size, dens...</td>\n",
       "      <td>No close match</td>\n",
       "    </tr>\n",
       "    <tr>\n",
       "      <th>3</th>\n",
       "      <td>Chi-Huey Wong</td>\n",
       "      <td>{{Akademik dergi kaynağı|başlık=Toward Automat...</td>\n",
       "      <td>No close match</td>\n",
       "    </tr>\n",
       "    <tr>\n",
       "      <th>4</th>\n",
       "      <td>Solaklara karşı önyargı</td>\n",
       "      <td>{{Akademik dergi kaynağı|başlık=Sinistrality a...</td>\n",
       "      <td>No close match</td>\n",
       "    </tr>\n",
       "  </tbody>\n",
       "</table>\n",
       "</div>"
      ],
      "text/plain": [
       "                                                   a  \\\n",
       "0                                      Stroop etkisi   \n",
       "1                                              Görme   \n",
       "2  Güneş Sistemi'ndeki kütleçekimsel yuvarlak nes...   \n",
       "3                                      Chi-Huey Wong   \n",
       "4                            Solaklara karşı önyargı   \n",
       "\n",
       "                                                   c scholars_result  \n",
       "0  {{Akademik dergi kaynağı|url=|başlık=Stroop in...  No close match  \n",
       "1  {{Akademik dergi kaynağı|başlık=Who Is the Fou...  No close match  \n",
       "2  {{Akademik dergi kaynağı|başlık=The size, dens...  No close match  \n",
       "3  {{Akademik dergi kaynağı|başlık=Toward Automat...  No close match  \n",
       "4  {{Akademik dergi kaynağı|başlık=Sinistrality a...  No close match  "
      ]
     },
     "execution_count": 175,
     "metadata": {},
     "output_type": "execute_result"
    }
   ],
   "source": [
    "journal_dump_2000_no_match = journal_dump_2000[journal_dump_2000[\"scholars_result\"] == \"No close match\"]\n",
    "journal_dump_2000_no_match = journal_dump_2000_no_match.reset_index(drop = True)\n",
    "print(journal_dump_2000_no_match.shape)\n",
    "journal_dump_2000_no_match.head()"
   ]
  },
  {
   "cell_type": "code",
   "execution_count": 160,
   "metadata": {},
   "outputs": [
    {
     "name": "stdout",
     "output_type": "stream",
     "text": [
      "Stroop etkisi\n",
      "{{Akademik dergi kaynağı|url=|başlık=Stroop interference and attention-deficit/hyperactivity disorder: a review and meta-analysis|tarih=Mart 2007|sayı=2|sayfalar=251-62|çalışma=Neuropsychology|cilt=21}}\n",
      "{'journal': 'Neuropsychology', 'date': '2007-03', 'year': 2007, 'volume': '21', 'issue': '2', 'title': 'Stroop interference and attention-deficit/hyperactivity disorder: a review and meta-analysis', 'author': [], 'page': '251', 'url': '', 'external_ids': {}}\n",
      "\n",
      "No close match\n"
     ]
    }
   ],
   "source": [
    "print(journal_dump_2000_no_match.loc[0, \"a\"])\n",
    "test_cite = journal_dump_2000_no_match.loc[0, \"c\"]\n",
    "print(test_cite)\n",
    "test_cite_info = parse_citation_data(test_cite)\n",
    "print(test_cite_info)\n",
    "test_url_content = generate_url_content2(test_cite_info)\n",
    "test_search_result = search_fatcat_cite_info(test_url_content)\n",
    "# print(test_search_result[0])\n",
    "# print(fatcat_check_match(test_cite_info, test_search_result[0], verbose = True))\n",
    "test_closest_match = find_best_cite_info_fatcat_search2(test_cite_info, test_search_result)\n",
    "print(test_closest_match)\n",
    "print(journal_dump_2000_no_match.loc[0, \"scholars_result\"])"
   ]
  },
  {
   "cell_type": "code",
   "execution_count": null,
   "metadata": {},
   "outputs": [],
   "source": []
  },
  {
   "cell_type": "code",
   "execution_count": null,
   "metadata": {},
   "outputs": [],
   "source": []
  },
  {
   "cell_type": "code",
   "execution_count": 162,
   "metadata": {
    "scrolled": false
   },
   "outputs": [
    {
     "data": {
      "text/html": [
       "<div>\n",
       "<style scoped>\n",
       "    .dataframe tbody tr th:only-of-type {\n",
       "        vertical-align: middle;\n",
       "    }\n",
       "\n",
       "    .dataframe tbody tr th {\n",
       "        vertical-align: top;\n",
       "    }\n",
       "\n",
       "    .dataframe thead th {\n",
       "        text-align: right;\n",
       "    }\n",
       "</style>\n",
       "<table border=\"1\" class=\"dataframe\">\n",
       "  <thead>\n",
       "    <tr style=\"text-align: right;\">\n",
       "      <th></th>\n",
       "      <th>a</th>\n",
       "      <th>c</th>\n",
       "      <th>scholars_result</th>\n",
       "    </tr>\n",
       "  </thead>\n",
       "  <tbody>\n",
       "    <tr>\n",
       "      <th>0</th>\n",
       "      <td>Kısa süreli bellek</td>\n",
       "      <td>{{Akademik dergi kaynağı|url=|başlık=The mind ...</td>\n",
       "      <td>https://scholar.archive.org/search?q=key:work_...</td>\n",
       "    </tr>\n",
       "    <tr>\n",
       "      <th>1</th>\n",
       "      <td>Prososyal davranış</td>\n",
       "      <td>{{Akademik dergi kaynağı|url=|başlık=Moral emo...</td>\n",
       "      <td>https://scholar.archive.org/search?q=key:work_...</td>\n",
       "    </tr>\n",
       "    <tr>\n",
       "      <th>2</th>\n",
       "      <td>Joshua Coon</td>\n",
       "      <td>{{Akademik dergi kaynağı|başlık=Focus in Honor...</td>\n",
       "      <td>https://scholar.archive.org/search?q=key:work_...</td>\n",
       "    </tr>\n",
       "    <tr>\n",
       "      <th>3</th>\n",
       "      <td>Nöroplastisite</td>\n",
       "      <td>{{Akademik dergi kaynağı|başlık=Long-term medi...</td>\n",
       "      <td>https://scholar.archive.org/search?q=key:work_...</td>\n",
       "    </tr>\n",
       "    <tr>\n",
       "      <th>4</th>\n",
       "      <td>Hinokitiol</td>\n",
       "      <td>{{Akademik dergi kaynağı|başlık=Acavenging act...</td>\n",
       "      <td>https://scholar.archive.org/search?q=key:work_...</td>\n",
       "    </tr>\n",
       "    <tr>\n",
       "      <th>5</th>\n",
       "      <td>Chi-Huey Wong</td>\n",
       "      <td>{{Akademik dergi kaynağı|başlık=A common glyca...</td>\n",
       "      <td>https://scholar.archive.org/search?q=key:work_...</td>\n",
       "    </tr>\n",
       "    <tr>\n",
       "      <th>6</th>\n",
       "      <td>Prosopagnozi</td>\n",
       "      <td>{{Akademik dergi kaynağı|başlık=The Cambridge ...</td>\n",
       "      <td>https://scholar.archive.org/search?q=key:work_...</td>\n",
       "    </tr>\n",
       "    <tr>\n",
       "      <th>7</th>\n",
       "      <td>Nöroplastisite</td>\n",
       "      <td>{{Akademik dergi kaynağı|başlık=Acquiring \"the...</td>\n",
       "      <td>https://scholar.archive.org/search?q=key:work_...</td>\n",
       "    </tr>\n",
       "    <tr>\n",
       "      <th>8</th>\n",
       "      <td>Psikolojik adaptasyon</td>\n",
       "      <td>{{Akademik dergi kaynağı|url=|başlık=Universal...</td>\n",
       "      <td>https://scholar.archive.org/search?q=key:work_...</td>\n",
       "    </tr>\n",
       "    <tr>\n",
       "      <th>9</th>\n",
       "      <td>Fototaksi</td>\n",
       "      <td>{{Akademik dergi kaynağı|başlık=Mechanism of p...</td>\n",
       "      <td>https://scholar.archive.org/search?q=key:work_...</td>\n",
       "    </tr>\n",
       "    <tr>\n",
       "      <th>10</th>\n",
       "      <td>Azerbaycan tarihi</td>\n",
       "      <td>{{Akademik dergi kaynağı|url=|başlık=TECHNOLOG...</td>\n",
       "      <td>https://scholar.archive.org/search?q=key:work_...</td>\n",
       "    </tr>\n",
       "    <tr>\n",
       "      <th>11</th>\n",
       "      <td>Pelvik inflamatuar hastalık</td>\n",
       "      <td>{{Akademik dergi kaynağı|url=|başlık=Microbiot...</td>\n",
       "      <td>https://scholar.archive.org/search?q=key:work_...</td>\n",
       "    </tr>\n",
       "    <tr>\n",
       "      <th>12</th>\n",
       "      <td>Görsel agnozi</td>\n",
       "      <td>{{Akademik dergi kaynağı|başlık=Disorder of hi...</td>\n",
       "      <td>https://scholar.archive.org/search?q=key:work_...</td>\n",
       "    </tr>\n",
       "    <tr>\n",
       "      <th>13</th>\n",
       "      <td>Kısa süreli bellek</td>\n",
       "      <td>{{Akademik dergi kaynağı|url=|başlık=Rememberi...</td>\n",
       "      <td>https://scholar.archive.org/search?q=key:work_...</td>\n",
       "    </tr>\n",
       "    <tr>\n",
       "      <th>14</th>\n",
       "      <td>Pelvik inflamatuar hastalık</td>\n",
       "      <td>{{Akademik dergi kaynağı|başlık=Pelvic inflamm...</td>\n",
       "      <td>https://scholar.archive.org/search?q=key:work_...</td>\n",
       "    </tr>\n",
       "    <tr>\n",
       "      <th>15</th>\n",
       "      <td>Kısa süreli bellek</td>\n",
       "      <td>{{Akademik dergi kaynağı|başlık=The Mind and B...</td>\n",
       "      <td>https://scholar.archive.org/search?q=key:work_...</td>\n",
       "    </tr>\n",
       "    <tr>\n",
       "      <th>16</th>\n",
       "      <td>Akıllı Hans</td>\n",
       "      <td>{{Akademik dergi kaynağı | soyadı = Prinz | ad...</td>\n",
       "      <td>https://scholar.archive.org/search?q=key:work_...</td>\n",
       "    </tr>\n",
       "    <tr>\n",
       "      <th>17</th>\n",
       "      <td>Kısa süreli bellek</td>\n",
       "      <td>{{Akademik dergi kaynağı|başlık=Temporal infor...</td>\n",
       "      <td>https://scholar.archive.org/search?q=key:work_...</td>\n",
       "    </tr>\n",
       "    <tr>\n",
       "      <th>18</th>\n",
       "      <td>T Yardımcı Hücresi 17</td>\n",
       "      <td>{{Akademik dergi kaynağı|başlık=Th17 cells tra...</td>\n",
       "      <td>https://scholar.archive.org/search?q=key:work_...</td>\n",
       "    </tr>\n",
       "    <tr>\n",
       "      <th>19</th>\n",
       "      <td>Stuart Schreiber</td>\n",
       "      <td>{{Akademik dergi kaynağı|başlık=Integration of...</td>\n",
       "      <td>https://scholar.archive.org/search?q=key:work_...</td>\n",
       "    </tr>\n",
       "    <tr>\n",
       "      <th>20</th>\n",
       "      <td>Psikolojik adaptasyon</td>\n",
       "      <td>{{Akademik dergi kaynağı|url=|başlık=Adaptive ...</td>\n",
       "      <td>https://scholar.archive.org/search?q=key:work_...</td>\n",
       "    </tr>\n",
       "    <tr>\n",
       "      <th>21</th>\n",
       "      <td>David C. Muddiman</td>\n",
       "      <td>{{Akademik dergi kaynağı|başlık=Focus in Honor...</td>\n",
       "      <td>https://scholar.archive.org/search?q=key:work_...</td>\n",
       "    </tr>\n",
       "    <tr>\n",
       "      <th>22</th>\n",
       "      <td>Stroop etkisi</td>\n",
       "      <td>{{Akademik dergi kaynağı|başlık=Selective Atte...</td>\n",
       "      <td>https://scholar.archive.org/search?q=key:work_...</td>\n",
       "    </tr>\n",
       "    <tr>\n",
       "      <th>23</th>\n",
       "      <td>John R. Yates</td>\n",
       "      <td>{{Akademik dergi kaynağı|url=|başlık=Large-sca...</td>\n",
       "      <td>https://scholar.archive.org/search?q=key:work_...</td>\n",
       "    </tr>\n",
       "    <tr>\n",
       "      <th>24</th>\n",
       "      <td>Konfabulasyon</td>\n",
       "      <td>{{Akademik dergi kaynağı|başlık=Varieties of c...</td>\n",
       "      <td>https://scholar.archive.org/search?q=key:work_...</td>\n",
       "    </tr>\n",
       "    <tr>\n",
       "      <th>25</th>\n",
       "      <td>Prososyal davranış</td>\n",
       "      <td>{{Akademik dergi kaynağı|url=|başlık=\"Helping\"...</td>\n",
       "      <td>https://scholar.archive.org/search?q=key:work_...</td>\n",
       "    </tr>\n",
       "    <tr>\n",
       "      <th>26</th>\n",
       "      <td>Dağ baştankarası</td>\n",
       "      <td>{{Akademik dergi kaynağı|başlık=Delayed cost o...</td>\n",
       "      <td>https://scholar.archive.org/search?q=key:work_...</td>\n",
       "    </tr>\n",
       "    <tr>\n",
       "      <th>27</th>\n",
       "      <td>Joshua Coon</td>\n",
       "      <td>{{Akademik dergi kaynağı|başlık=Peptide and pr...</td>\n",
       "      <td>https://scholar.archive.org/search?q=key:work_...</td>\n",
       "    </tr>\n",
       "    <tr>\n",
       "      <th>28</th>\n",
       "      <td>Kısa süreli bellek</td>\n",
       "      <td>{{Akademik dergi kaynağı|başlık=A New Conceptu...</td>\n",
       "      <td>https://scholar.archive.org/search?q=key:work_...</td>\n",
       "    </tr>\n",
       "    <tr>\n",
       "      <th>29</th>\n",
       "      <td>Carol V. Robinson</td>\n",
       "      <td>{{Akademik dergi kaynağı|başlık=Focus in honor...</td>\n",
       "      <td>https://scholar.archive.org/search?q=key:work_...</td>\n",
       "    </tr>\n",
       "    <tr>\n",
       "      <th>30</th>\n",
       "      <td>Flaş bellek (psikoloji)</td>\n",
       "      <td>{{Akademik dergi kaynağı|başlık=Memory distort...</td>\n",
       "      <td>https://scholar.archive.org/search?q=key:work_...</td>\n",
       "    </tr>\n",
       "    <tr>\n",
       "      <th>31</th>\n",
       "      <td>Haplogrup R1b (Y-DNA)</td>\n",
       "      <td>{{Akademik dergi kaynağı|başlık=The genomic hi...</td>\n",
       "      <td>https://scholar.archive.org/search?q=key:work_...</td>\n",
       "    </tr>\n",
       "    <tr>\n",
       "      <th>32</th>\n",
       "      <td>Nöroplastisite</td>\n",
       "      <td>{{Akademik dergi kaynağı|başlık=Reactive oxyge...</td>\n",
       "      <td>https://scholar.archive.org/search?q=key:work_...</td>\n",
       "    </tr>\n",
       "    <tr>\n",
       "      <th>33</th>\n",
       "      <td>Konfabulasyon</td>\n",
       "      <td>{{Akademik dergi kaynağı|başlık=Eyewitness mem...</td>\n",
       "      <td>https://scholar.archive.org/search?q=key:work_...</td>\n",
       "    </tr>\n",
       "    <tr>\n",
       "      <th>34</th>\n",
       "      <td>Rüzgâr türbini tasarımı</td>\n",
       "      <td>{{Akademik dergi kaynağı|başlık=Alternative Co...</td>\n",
       "      <td>https://scholar.archive.org/search?q=key:work_...</td>\n",
       "    </tr>\n",
       "    <tr>\n",
       "      <th>35</th>\n",
       "      <td>DNA adenin metilaz</td>\n",
       "      <td>{{Akademik dergi kaynağı|url=|başlık=Isolation...</td>\n",
       "      <td>https://scholar.archive.org/search?q=key:work_...</td>\n",
       "    </tr>\n",
       "    <tr>\n",
       "      <th>36</th>\n",
       "      <td>Sürü psikolojisi</td>\n",
       "      <td>{{Akademik dergi kaynağı|başlık=Opinions and s...</td>\n",
       "      <td>https://scholar.archive.org/search?q=key:work_...</td>\n",
       "    </tr>\n",
       "    <tr>\n",
       "      <th>37</th>\n",
       "      <td>Prososyal davranış</td>\n",
       "      <td>{{Akademik dergi kaynağı|başlık=Doing Good or ...</td>\n",
       "      <td>https://scholar.archive.org/search?q=key:work_...</td>\n",
       "    </tr>\n",
       "    <tr>\n",
       "      <th>38</th>\n",
       "      <td>Wernicke alanı</td>\n",
       "      <td>{{Akademik dergi kaynağı|başlık=Wernicke's reg...</td>\n",
       "      <td>https://scholar.archive.org/search?q=key:work_...</td>\n",
       "    </tr>\n",
       "    <tr>\n",
       "      <th>39</th>\n",
       "      <td>Gece yeme sendromu</td>\n",
       "      <td>{{Akademik dergi kaynağı|url=|başlık=Sleep-rel...</td>\n",
       "      <td>https://scholar.archive.org/search?q=key:work_...</td>\n",
       "    </tr>\n",
       "    <tr>\n",
       "      <th>40</th>\n",
       "      <td>Blind Boy Fuller</td>\n",
       "      <td>{{Akademik dergi kaynağı|başlık=Urethral stric...</td>\n",
       "      <td>https://scholar.archive.org/search?q=key:work_...</td>\n",
       "    </tr>\n",
       "    <tr>\n",
       "      <th>41</th>\n",
       "      <td>İfade afazisi</td>\n",
       "      <td>{{Akademik dergi kaynağı|url=|başlık=Stroke re...</td>\n",
       "      <td>https://scholar.archive.org/search?q=key:work_...</td>\n",
       "    </tr>\n",
       "    <tr>\n",
       "      <th>42</th>\n",
       "      <td>Flaş bellek (psikoloji)</td>\n",
       "      <td>{{Akademik dergi kaynağı|başlık=Effects of age...</td>\n",
       "      <td>https://scholar.archive.org/search?q=key:work_...</td>\n",
       "    </tr>\n",
       "    <tr>\n",
       "      <th>43</th>\n",
       "      <td>Radyasyon hasarı</td>\n",
       "      <td>{{Akademik dergi kaynağı|başlık=Mechanism for ...</td>\n",
       "      <td>https://scholar.archive.org/search?q=key:work_...</td>\n",
       "    </tr>\n",
       "  </tbody>\n",
       "</table>\n",
       "</div>"
      ],
      "text/plain": [
       "                              a  \\\n",
       "0            Kısa süreli bellek   \n",
       "1            Prososyal davranış   \n",
       "2                   Joshua Coon   \n",
       "3                Nöroplastisite   \n",
       "4                    Hinokitiol   \n",
       "5                 Chi-Huey Wong   \n",
       "6                  Prosopagnozi   \n",
       "7                Nöroplastisite   \n",
       "8         Psikolojik adaptasyon   \n",
       "9                     Fototaksi   \n",
       "10            Azerbaycan tarihi   \n",
       "11  Pelvik inflamatuar hastalık   \n",
       "12                Görsel agnozi   \n",
       "13           Kısa süreli bellek   \n",
       "14  Pelvik inflamatuar hastalık   \n",
       "15           Kısa süreli bellek   \n",
       "16                  Akıllı Hans   \n",
       "17           Kısa süreli bellek   \n",
       "18        T Yardımcı Hücresi 17   \n",
       "19             Stuart Schreiber   \n",
       "20        Psikolojik adaptasyon   \n",
       "21            David C. Muddiman   \n",
       "22                Stroop etkisi   \n",
       "23                John R. Yates   \n",
       "24                Konfabulasyon   \n",
       "25           Prososyal davranış   \n",
       "26             Dağ baştankarası   \n",
       "27                  Joshua Coon   \n",
       "28           Kısa süreli bellek   \n",
       "29            Carol V. Robinson   \n",
       "30      Flaş bellek (psikoloji)   \n",
       "31        Haplogrup R1b (Y-DNA)   \n",
       "32               Nöroplastisite   \n",
       "33                Konfabulasyon   \n",
       "34      Rüzgâr türbini tasarımı   \n",
       "35           DNA adenin metilaz   \n",
       "36             Sürü psikolojisi   \n",
       "37           Prososyal davranış   \n",
       "38               Wernicke alanı   \n",
       "39           Gece yeme sendromu   \n",
       "40             Blind Boy Fuller   \n",
       "41                İfade afazisi   \n",
       "42      Flaş bellek (psikoloji)   \n",
       "43             Radyasyon hasarı   \n",
       "\n",
       "                                                    c  \\\n",
       "0   {{Akademik dergi kaynağı|url=|başlık=The mind ...   \n",
       "1   {{Akademik dergi kaynağı|url=|başlık=Moral emo...   \n",
       "2   {{Akademik dergi kaynağı|başlık=Focus in Honor...   \n",
       "3   {{Akademik dergi kaynağı|başlık=Long-term medi...   \n",
       "4   {{Akademik dergi kaynağı|başlık=Acavenging act...   \n",
       "5   {{Akademik dergi kaynağı|başlık=A common glyca...   \n",
       "6   {{Akademik dergi kaynağı|başlık=The Cambridge ...   \n",
       "7   {{Akademik dergi kaynağı|başlık=Acquiring \"the...   \n",
       "8   {{Akademik dergi kaynağı|url=|başlık=Universal...   \n",
       "9   {{Akademik dergi kaynağı|başlık=Mechanism of p...   \n",
       "10  {{Akademik dergi kaynağı|url=|başlık=TECHNOLOG...   \n",
       "11  {{Akademik dergi kaynağı|url=|başlık=Microbiot...   \n",
       "12  {{Akademik dergi kaynağı|başlık=Disorder of hi...   \n",
       "13  {{Akademik dergi kaynağı|url=|başlık=Rememberi...   \n",
       "14  {{Akademik dergi kaynağı|başlık=Pelvic inflamm...   \n",
       "15  {{Akademik dergi kaynağı|başlık=The Mind and B...   \n",
       "16  {{Akademik dergi kaynağı | soyadı = Prinz | ad...   \n",
       "17  {{Akademik dergi kaynağı|başlık=Temporal infor...   \n",
       "18  {{Akademik dergi kaynağı|başlık=Th17 cells tra...   \n",
       "19  {{Akademik dergi kaynağı|başlık=Integration of...   \n",
       "20  {{Akademik dergi kaynağı|url=|başlık=Adaptive ...   \n",
       "21  {{Akademik dergi kaynağı|başlık=Focus in Honor...   \n",
       "22  {{Akademik dergi kaynağı|başlık=Selective Atte...   \n",
       "23  {{Akademik dergi kaynağı|url=|başlık=Large-sca...   \n",
       "24  {{Akademik dergi kaynağı|başlık=Varieties of c...   \n",
       "25  {{Akademik dergi kaynağı|url=|başlık=\"Helping\"...   \n",
       "26  {{Akademik dergi kaynağı|başlık=Delayed cost o...   \n",
       "27  {{Akademik dergi kaynağı|başlık=Peptide and pr...   \n",
       "28  {{Akademik dergi kaynağı|başlık=A New Conceptu...   \n",
       "29  {{Akademik dergi kaynağı|başlık=Focus in honor...   \n",
       "30  {{Akademik dergi kaynağı|başlık=Memory distort...   \n",
       "31  {{Akademik dergi kaynağı|başlık=The genomic hi...   \n",
       "32  {{Akademik dergi kaynağı|başlık=Reactive oxyge...   \n",
       "33  {{Akademik dergi kaynağı|başlık=Eyewitness mem...   \n",
       "34  {{Akademik dergi kaynağı|başlık=Alternative Co...   \n",
       "35  {{Akademik dergi kaynağı|url=|başlık=Isolation...   \n",
       "36  {{Akademik dergi kaynağı|başlık=Opinions and s...   \n",
       "37  {{Akademik dergi kaynağı|başlık=Doing Good or ...   \n",
       "38  {{Akademik dergi kaynağı|başlık=Wernicke's reg...   \n",
       "39  {{Akademik dergi kaynağı|url=|başlık=Sleep-rel...   \n",
       "40  {{Akademik dergi kaynağı|başlık=Urethral stric...   \n",
       "41  {{Akademik dergi kaynağı|url=|başlık=Stroke re...   \n",
       "42  {{Akademik dergi kaynağı|başlık=Effects of age...   \n",
       "43  {{Akademik dergi kaynağı|başlık=Mechanism for ...   \n",
       "\n",
       "                                      scholars_result  \n",
       "0   https://scholar.archive.org/search?q=key:work_...  \n",
       "1   https://scholar.archive.org/search?q=key:work_...  \n",
       "2   https://scholar.archive.org/search?q=key:work_...  \n",
       "3   https://scholar.archive.org/search?q=key:work_...  \n",
       "4   https://scholar.archive.org/search?q=key:work_...  \n",
       "5   https://scholar.archive.org/search?q=key:work_...  \n",
       "6   https://scholar.archive.org/search?q=key:work_...  \n",
       "7   https://scholar.archive.org/search?q=key:work_...  \n",
       "8   https://scholar.archive.org/search?q=key:work_...  \n",
       "9   https://scholar.archive.org/search?q=key:work_...  \n",
       "10  https://scholar.archive.org/search?q=key:work_...  \n",
       "11  https://scholar.archive.org/search?q=key:work_...  \n",
       "12  https://scholar.archive.org/search?q=key:work_...  \n",
       "13  https://scholar.archive.org/search?q=key:work_...  \n",
       "14  https://scholar.archive.org/search?q=key:work_...  \n",
       "15  https://scholar.archive.org/search?q=key:work_...  \n",
       "16  https://scholar.archive.org/search?q=key:work_...  \n",
       "17  https://scholar.archive.org/search?q=key:work_...  \n",
       "18  https://scholar.archive.org/search?q=key:work_...  \n",
       "19  https://scholar.archive.org/search?q=key:work_...  \n",
       "20  https://scholar.archive.org/search?q=key:work_...  \n",
       "21  https://scholar.archive.org/search?q=key:work_...  \n",
       "22  https://scholar.archive.org/search?q=key:work_...  \n",
       "23  https://scholar.archive.org/search?q=key:work_...  \n",
       "24  https://scholar.archive.org/search?q=key:work_...  \n",
       "25  https://scholar.archive.org/search?q=key:work_...  \n",
       "26  https://scholar.archive.org/search?q=key:work_...  \n",
       "27  https://scholar.archive.org/search?q=key:work_...  \n",
       "28  https://scholar.archive.org/search?q=key:work_...  \n",
       "29  https://scholar.archive.org/search?q=key:work_...  \n",
       "30  https://scholar.archive.org/search?q=key:work_...  \n",
       "31  https://scholar.archive.org/search?q=key:work_...  \n",
       "32  https://scholar.archive.org/search?q=key:work_...  \n",
       "33  https://scholar.archive.org/search?q=key:work_...  \n",
       "34  https://scholar.archive.org/search?q=key:work_...  \n",
       "35  https://scholar.archive.org/search?q=key:work_...  \n",
       "36  https://scholar.archive.org/search?q=key:work_...  \n",
       "37  https://scholar.archive.org/search?q=key:work_...  \n",
       "38  https://scholar.archive.org/search?q=key:work_...  \n",
       "39  https://scholar.archive.org/search?q=key:work_...  \n",
       "40  https://scholar.archive.org/search?q=key:work_...  \n",
       "41  https://scholar.archive.org/search?q=key:work_...  \n",
       "42  https://scholar.archive.org/search?q=key:work_...  \n",
       "43  https://scholar.archive.org/search?q=key:work_...  "
      ]
     },
     "execution_count": 162,
     "metadata": {},
     "output_type": "execute_result"
    }
   ],
   "source": [
    "journal_dump_2000_good = journal_dump_2000[(journal_dump_2000[\"scholars_result\"] != \"Err1\") \n",
    "                                           & (journal_dump_2000[\"scholars_result\"] != \"Err2\")\n",
    "                                         & (journal_dump_2000[\"scholars_result\"] != \"No search result\")\n",
    "                                     & (journal_dump_2000[\"scholars_result\"] != \"No close match\") \n",
    "                                     & (journal_dump_2000[\"scholars_result\"] != \"No URL in search result\")]\n",
    "journal_dump_2000_good = journal_dump_2000_good.reset_index(drop = True)\n",
    "journal_dump_2000_good"
   ]
  },
  {
   "cell_type": "code",
   "execution_count": 164,
   "metadata": {},
   "outputs": [
    {
     "name": "stdout",
     "output_type": "stream",
     "text": [
      "Kısa süreli bellek\n",
      "{{Akademik dergi kaynağı|url=|başlık=The mind and brain of short-term memory|yazarlar=Jonides|sayı=|sayfalar=193-224|çalışma=Annual Review of Psychology|yıl=2008|cilt=59}}\n",
      "{'journal': 'Annual Review of Psychology', 'date': '2008', 'year': 2008, 'volume': '59', 'issue': '', 'title': 'The mind and brain of short-term memory', 'author': ['Jonides'], 'page': '193', 'url': '', 'external_ids': {}}\n",
      "{'work_id': 'smviomizcncc5cslifvbtuymfa', 'score': 55.42295, 'title': 'The Mind and Brain of Short-Term Memory', 'year': 2008, 'journal': 'Annual Review of Psychology', 'volume': '59', 'issue': None, 'page': '193-224', 'author': ['John Jonides', 'Richard L. Lewis', 'Derek Evan Nee', 'Cindy A. Lustig', 'Marc G. Berman', 'Katherine Sledge Moore'], 'url': 'https://web.archive.org/web/20131230075012/http://ling.umd.edu//~ellenlau/courses/nacs642/Jonides_2007.pdf'}\n",
      "journal exact match: True\n",
      "journal partial match: False\n",
      "volume match: True\n",
      "issue match: False\n",
      "page match: True\n",
      "year match: True\n",
      "title exact match: True\n",
      "title partial match: False\n",
      "author exact match: False\n",
      "scores:\n",
      "journal match score: 0\n",
      "title match score: 0\n",
      "author match score: 0.5\n",
      "journal exact, title exact, 1 other\n",
      "True\n",
      "{'work_id': 'smviomizcncc5cslifvbtuymfa', 'score': 55.42295, 'title': 'the mind and brain of short-term memory', 'year': 2008, 'journal': 'annual review of psychology', 'volume': '59', 'issue': None, 'page': '193-224', 'author': ['John Jonides', 'Richard L. Lewis', 'Derek Evan Nee', 'Cindy A. Lustig', 'Marc G. Berman', 'Katherine Sledge Moore'], 'url': 'https://web.archive.org/web/20131230075012/http://ling.umd.edu//~ellenlau/courses/nacs642/Jonides_2007.pdf'}\n",
      "https://scholar.archive.org/search?q=key:work_smviomizcncc5cslifvbtuymfa\n"
     ]
    }
   ],
   "source": [
    "print(journal_dump_2000_good.loc[0, \"a\"])\n",
    "test_cite = journal_dump_2000_good.loc[0, \"c\"]\n",
    "print(test_cite)\n",
    "test_cite_info = parse_citation_data(test_cite)\n",
    "print(test_cite_info)\n",
    "test_url_content = generate_url_content2(test_cite_info)\n",
    "test_search_result = elastic_search_cite_info(test_url_content)\n",
    "print(test_search_result[0])\n",
    "print(fatcat_check_match(test_cite_info, test_search_result[0], verbose = True))\n",
    "test_closest_match = find_best_cite_info_fatcat_search2(test_cite_info, test_search_result)\n",
    "print(test_closest_match)\n",
    "print(journal_dump_2000_good.loc[0, \"scholars_result\"])"
   ]
  },
  {
   "cell_type": "code",
   "execution_count": 168,
   "metadata": {},
   "outputs": [
    {
     "name": "stdout",
     "output_type": "stream",
     "text": [
      "Prososyal davranış\n",
      "{{Akademik dergi kaynağı|url=|başlık=Moral emotions and moral behavior|yazarlar=Tangney|sayı=|sayfalar=345-372|çalışma=Annual Review of Psychology|yıl=2007|cilt=58}}\n",
      "{'journal': 'Annual Review of Psychology', 'date': '2007', 'year': 2007, 'volume': '58', 'issue': '', 'title': 'Moral emotions and moral behavior', 'author': ['Tangney'], 'page': '345', 'url': '', 'external_ids': {}}\n",
      "journal exact match: True\n",
      "journal partial match: False\n",
      "volume match: True\n",
      "issue match: False\n",
      "page match: True\n",
      "year match: True\n",
      "title exact match: True\n",
      "title partial match: False\n",
      "author exact match: False\n",
      "scores:\n",
      "journal match score: 0\n",
      "title match score: 0\n",
      "author match score: 0.3333333333333333\n",
      "journal exact, title exact, 1 other\n",
      "True\n",
      "{'work_id': '36y3v43ffraxdljatk7qg4d4em', 'score': 60.384995, 'title': 'moral emotions and moral behavior', 'year': 2007, 'journal': 'annual review of psychology', 'volume': '58', 'issue': None, 'page': '345-372', 'author': ['June Price Tangney', 'Jeff Stuewig', 'Debra J. Mashek'], 'url': 'https://web.archive.org/web/20170809095736/http://people.hss.caltech.edu/~steve/Tangney.pdf'}\n",
      "https://scholar.archive.org/search?q=key:work_36y3v43ffraxdljatk7qg4d4em\n"
     ]
    }
   ],
   "source": [
    "print(journal_dump_2000_good.loc[1, \"a\"])\n",
    "test_cite = journal_dump_2000_good.loc[1, \"c\"]\n",
    "print(test_cite)\n",
    "test_cite_info = parse_citation_data(test_cite)\n",
    "print(test_cite_info)\n",
    "test_url_content = generate_url_content2(test_cite_info)\n",
    "test_search_result = elastic_search_cite_info(test_url_content)\n",
    "# print(test_search_result[0])\n",
    "print(fatcat_check_match(test_cite_info, test_search_result[0], verbose = True))\n",
    "test_closest_match = find_best_cite_info_fatcat_search2(test_cite_info, test_search_result)\n",
    "print(test_closest_match)\n",
    "print(journal_dump_2000_good.loc[1, \"scholars_result\"])"
   ]
  },
  {
   "cell_type": "code",
   "execution_count": 187,
   "metadata": {},
   "outputs": [
    {
     "name": "stdout",
     "output_type": "stream",
     "text": [
      "Nöroplastisite\n",
      "{{Akademik dergi kaynağı|başlık=Navigation-related structural change in the hippocampi of taxi drivers|tarih=Nisan 2000|sayı=8|sayfalar=4398-403|çalışma=Proceedings of the National Academy of Sciences of the United States of America|cilt=97}}\n",
      "{'journal': 'Proceedings of the National Academy of Sciences of the United States of America', 'date': '2000-04', 'year': 2000, 'volume': '97', 'issue': '8', 'title': 'Navigation-related structural change in the hippocampi of taxi drivers', 'author': [], 'page': '4398', 'url': '', 'external_ids': {}}\n",
      "{'work_id': 'suhffvny7rd3tfqcxtnvltzilm', 'score': 93.54502, 'title': 'Navigation-related structural change in the hippocampi of taxi drivers', 'year': 2000, 'journal': 'Proceedings of the National Academy of Sciences of the United States of America', 'volume': '97', 'issue': None, 'page': '4398-4403', 'author': ['E. A. Maguire', 'D. G. Gadian', 'I. S. Johnsrude', 'C. D. Good', 'J. Ashburner', 'R. S. J. Frackowiak', 'C. D. Frith'], 'url': 'https://web.archive.org/web/20170810150401/http://ocean.otr.usm.edu/~w785427/PSY425_SPRING_2010/taxi.pdf'}\n",
      "journal exact match: True\n",
      "journal partial match: False\n",
      "volume match: True\n",
      "issue match: False\n",
      "page match: True\n",
      "year match: True\n",
      "title exact match: True\n",
      "title partial match: False\n",
      "author exact match: False\n",
      "scores:\n",
      "journal match score: 0\n",
      "title match score: 0\n",
      "author match score: 0\n",
      "journal exact, title exact, 1 other\n",
      "True\n",
      "{'work_id': 'suhffvny7rd3tfqcxtnvltzilm', 'score': 93.54502, 'title': 'Navigation-related structural change in the hippocampi of taxi drivers', 'year': 2000, 'journal': 'Proceedings of the National Academy of Sciences of the United States of America', 'volume': '97', 'issue': None, 'page': '4398-4403', 'author': ['E. A. Maguire', 'D. G. Gadian', 'I. S. Johnsrude', 'C. D. Good', 'J. Ashburner', 'R. S. J. Frackowiak', 'C. D. Frith'], 'url': 'https://web.archive.org/web/20170810150401/http://ocean.otr.usm.edu/~w785427/PSY425_SPRING_2010/taxi.pdf'}\n",
      "https://scholar.archive.org/search?q=key:work_suhffvny7rd3tfqcxtnvltzilm\n"
     ]
    }
   ],
   "source": [
    "print(journal_dump_2000_good.loc[2, \"a\"])\n",
    "test_cite = journal_dump_2000_good.loc[2, \"c\"]\n",
    "print(test_cite)\n",
    "test_cite_info = parse_citation_data(test_cite)\n",
    "print(test_cite_info)\n",
    "test_url_content = generate_url_content2(test_cite_info)\n",
    "test_search_result = search_fatcat_cite_info(test_url_content)\n",
    "print(test_search_result[0])\n",
    "print(fatcat_check_match(test_cite_info, test_search_result[0], verbose = True))\n",
    "test_closest_match = find_best_cite_info_fatcat_search2(test_cite_info, test_search_result)\n",
    "print(test_closest_match)\n",
    "print(journal_dump_2000_good.loc[2, \"scholars_result\"])"
   ]
  },
  {
   "cell_type": "code",
   "execution_count": 188,
   "metadata": {},
   "outputs": [
    {
     "name": "stdout",
     "output_type": "stream",
     "text": [
      "Nöroplastisite\n",
      "{{Akademik dergi kaynağı|başlık=Somatosensory cortical plasticity in carpal tunnel syndrome--a cross-sectional fMRI evaluation|tarih=Haziran 2006|sayı=2|sayfalar=520-30|çalışma=NeuroImage|cilt=31}}\n",
      "{'journal': 'NeuroImage', 'date': '2006-06', 'year': 2006, 'volume': '31', 'issue': '2', 'title': 'Somatosensory cortical plasticity in carpal tunnel syndrome--a cross-sectional fMRI evaluation', 'author': [], 'page': '520', 'url': '', 'external_ids': {}}\n",
      "{'work_id': 'j3l2d6t7yve3nnovxzo5dtfz2a', 'score': 85.35768, 'title': 'Somatosensory cortical plasticity in carpal tunnel syndrome—a cross-sectional fMRI evaluation', 'year': 2006, 'journal': 'NeuroImage', 'volume': '31', 'issue': None, 'page': '520-530', 'author': ['Vitaly Napadow', 'Norman Kettner', 'Angela Ryan', 'Kenneth K. Kwong', 'Joseph Audette', 'Kathleen K.S. Hui'], 'url': 'https://web.archive.org/web/20080221200946/http://www.nmr.mgh.harvard.edu/~vitaly/PDF/napadow_NI_2006.pdf'}\n",
      "journal exact match: True\n",
      "journal partial match: False\n",
      "volume match: True\n",
      "issue match: False\n",
      "page match: True\n",
      "year match: True\n",
      "title exact match: False\n",
      "title partial match: False\n",
      "author exact match: False\n",
      "scores:\n",
      "journal match score: 0\n",
      "title match score: 0.98\n",
      "author match score: 0\n",
      "journal exact, title score, author exact\n",
      "True\n",
      "{'work_id': 'j3l2d6t7yve3nnovxzo5dtfz2a', 'score': 85.35768, 'title': 'Somatosensory cortical plasticity in carpal tunnel syndrome—a cross-sectional fMRI evaluation', 'year': 2006, 'journal': 'NeuroImage', 'volume': '31', 'issue': None, 'page': '520-530', 'author': ['Vitaly Napadow', 'Norman Kettner', 'Angela Ryan', 'Kenneth K. Kwong', 'Joseph Audette', 'Kathleen K.S. Hui'], 'url': 'https://web.archive.org/web/20080221200946/http://www.nmr.mgh.harvard.edu/~vitaly/PDF/napadow_NI_2006.pdf'}\n",
      "https://scholar.archive.org/search?q=key:work_j3l2d6t7yve3nnovxzo5dtfz2a\n"
     ]
    }
   ],
   "source": [
    "print(journal_dump_2000_good.loc[3, \"a\"])\n",
    "test_cite = journal_dump_2000_good.loc[3, \"c\"]\n",
    "print(test_cite)\n",
    "test_cite_info = parse_citation_data(test_cite)\n",
    "print(test_cite_info)\n",
    "test_url_content = generate_url_content2(test_cite_info)\n",
    "test_search_result = search_fatcat_cite_info(test_url_content)\n",
    "print(test_search_result[0])\n",
    "print(fatcat_check_match(test_cite_info, test_search_result[0], verbose = True))\n",
    "test_closest_match = find_best_cite_info_fatcat_search2(test_cite_info, test_search_result)\n",
    "print(test_closest_match)\n",
    "print(journal_dump_2000_good.loc[3, \"scholars_result\"])"
   ]
  },
  {
   "cell_type": "code",
   "execution_count": 190,
   "metadata": {},
   "outputs": [
    {
     "name": "stdout",
     "output_type": "stream",
     "text": [
      "Prosopagnozi\n",
      "{{Akademik dergi kaynağı|başlık=The Cambridge Face Memory Test: results for neurologically intact individuals and an investigation of its validity using inverted face stimuli and prosopagnosic participants|sayı=4|sayfalar=576-85|çalışma=Neuropsychologia|yıl=2006|cilt=44}}\n",
      "{'journal': 'Neuropsychologia', 'date': '2006', 'year': 2006, 'volume': '44', 'issue': '4', 'title': 'The Cambridge Face Memory Test: results for neurologically intact individuals and an investigation of its validity using inverted face stimuli and prosopagnosic participants', 'author': [], 'page': '576', 'url': '', 'external_ids': {}}\n",
      "{'work_id': 'n7j7eyfytbdyveqjocsuen7qva', 'score': 135.86821, 'title': 'The Cambridge Face Memory Test: Results for neurologically intact individuals and an investigation of its validity using inverted face stimuli and prosopagnosic participants', 'year': 2006, 'journal': 'Neuropsychologia', 'volume': '44', 'issue': None, 'page': '576-585', 'author': ['Brad Duchaine', 'Ken Nakayama'], 'url': 'https://web.archive.org/web/20101230173538/http://www.faceblind.org/social_perception/papers/duchaine06neuropsychologia.pdf'}\n",
      "journal exact match: True\n",
      "journal partial match: False\n",
      "volume match: True\n",
      "issue match: False\n",
      "page match: True\n",
      "year match: True\n",
      "title exact match: False\n",
      "title partial match: False\n",
      "author exact match: False\n",
      "scores:\n",
      "journal match score: 0\n",
      "title match score: 0.99\n",
      "author match score: 0\n",
      "journal exact, title score, author exact or 1 other\n",
      "True\n",
      "{'work_id': 'n7j7eyfytbdyveqjocsuen7qva', 'score': 135.86821, 'title': 'The Cambridge Face Memory Test: Results for neurologically intact individuals and an investigation of its validity using inverted face stimuli and prosopagnosic participants', 'year': 2006, 'journal': 'Neuropsychologia', 'volume': '44', 'issue': None, 'page': '576-585', 'author': ['Brad Duchaine', 'Ken Nakayama'], 'url': 'https://web.archive.org/web/20101230173538/http://www.faceblind.org/social_perception/papers/duchaine06neuropsychologia.pdf'}\n",
      "https://scholar.archive.org/search?q=key:work_n7j7eyfytbdyveqjocsuen7qva\n"
     ]
    }
   ],
   "source": [
    "print(journal_dump_2000_good.loc[4, \"a\"])\n",
    "test_cite = journal_dump_2000_good.loc[4, \"c\"]\n",
    "print(test_cite)\n",
    "test_cite_info = parse_citation_data(test_cite)\n",
    "print(test_cite_info)\n",
    "test_url_content = generate_url_content2(test_cite_info)\n",
    "test_search_result = search_fatcat_cite_info(test_url_content)\n",
    "print(test_search_result[0])\n",
    "print(fatcat_check_match(test_cite_info, test_search_result[0], verbose = True))\n",
    "test_closest_match = find_best_cite_info_fatcat_search2(test_cite_info, test_search_result)\n",
    "print(test_closest_match)\n",
    "print(journal_dump_2000_good.loc[4, \"scholars_result\"])"
   ]
  },
  {
   "cell_type": "code",
   "execution_count": 191,
   "metadata": {},
   "outputs": [
    {
     "name": "stdout",
     "output_type": "stream",
     "text": [
      "Dağ baştankarası\n",
      "{{Akademik dergi kaynağı|başlık=Delayed cost of reproduction and senescence in the willow tit ''Parus montanus''|yazarlar=Orell|tarih=2002|sayı=1|sayfalar=55-64|çalışma=Journal of Animal Ecology|cilt=71}}\n",
      "{'journal': 'Journal of Animal Ecology', 'date': '2002', 'year': 2002, 'volume': '71', 'issue': '1', 'title': \"Delayed cost of reproduction and senescence in the willow tit ''Parus montanus''\", 'author': ['Orell'], 'page': '55', 'url': '', 'external_ids': {}}\n",
      "{'work_id': 't3iguxcwvrcdhm262gzautkfzi', 'score': 93.76954, 'title': 'Delayed cost of reproduction and senescence in the willow tit Parus montanus', 'year': 2002, 'journal': 'Journal of Animal Ecology', 'volume': '71', 'issue': None, 'page': '55-64', 'author': ['Markku Orell', 'Eduardo J. Belda'], 'url': 'https://web.archive.org/web/20200320190823/http://personales.upv.es/~edbelpe/orell%20and%20belda%202002.pdf'}\n",
      "journal exact match: True\n",
      "journal partial match: False\n",
      "volume match: True\n",
      "issue match: False\n",
      "page match: True\n",
      "year match: True\n",
      "title exact match: False\n",
      "title partial match: False\n",
      "author exact match: False\n",
      "scores:\n",
      "journal match score: 0\n",
      "title match score: 0.97\n",
      "author match score: 0.5\n",
      "journal exact, title score, author exact or 1 other\n",
      "True\n",
      "{'work_id': 't3iguxcwvrcdhm262gzautkfzi', 'score': 93.76954, 'title': 'Delayed cost of reproduction and senescence in the willow tit Parus montanus', 'year': 2002, 'journal': 'Journal of Animal Ecology', 'volume': '71', 'issue': None, 'page': '55-64', 'author': ['Markku Orell', 'Eduardo J. Belda'], 'url': 'https://web.archive.org/web/20200320190823/http://personales.upv.es/~edbelpe/orell%20and%20belda%202002.pdf'}\n",
      "https://scholar.archive.org/search?q=key:work_t3iguxcwvrcdhm262gzautkfzi\n"
     ]
    }
   ],
   "source": [
    "print(journal_dump_2000_good.loc[5, \"a\"])\n",
    "test_cite = journal_dump_2000_good.loc[5, \"c\"]\n",
    "print(test_cite)\n",
    "test_cite_info = parse_citation_data(test_cite)\n",
    "print(test_cite_info)\n",
    "test_url_content = generate_url_content2(test_cite_info)\n",
    "test_search_result = search_fatcat_cite_info(test_url_content)\n",
    "print(test_search_result[0])\n",
    "print(fatcat_check_match(test_cite_info, test_search_result[0], verbose = True))\n",
    "test_closest_match = find_best_cite_info_fatcat_search2(test_cite_info, test_search_result)\n",
    "print(test_closest_match)\n",
    "print(journal_dump_2000_good.loc[5, \"scholars_result\"])"
   ]
  },
  {
   "cell_type": "code",
   "execution_count": 192,
   "metadata": {},
   "outputs": [
    {
     "name": "stdout",
     "output_type": "stream",
     "text": [
      "Nöroplastisite\n",
      "{{Akademik dergi kaynağı|başlık=Reorganization of remote cortical regions after ischemic brain injury: a potential substrate for stroke recovery|tarih=Haziran 2003|sayı=6|sayfalar=3205-14|çalışma=Journal of Neurophysiology|cilt=89}}\n",
      "{'journal': 'Journal of Neurophysiology', 'date': '2003-06', 'year': 2003, 'volume': '89', 'issue': '6', 'title': 'Reorganization of remote cortical regions after ischemic brain injury: a potential substrate for stroke recovery', 'author': [], 'page': '3205', 'url': '', 'external_ids': {}}\n",
      "{'work_id': 'ufvbbbfrjfd3jlzeobnyd4b4qa', 'score': 78.644455, 'title': 'Reorganization of Remote Cortical Regions After Ischemic Brain Injury: A  Potential Substrate for Stroke Recovery', 'year': 2003, 'journal': 'Journal of Neurophysiology', 'volume': '89', 'issue': None, 'page': '3205-3214', 'author': ['S. B. Frost', 'S. Barbay', 'K. M. Friel', 'E. J. Plautz', 'R. J. Nudo'], 'url': 'https://web.archive.org/web/20170902140404/http://jn.physiology.org/content/jn/89/6/3205.full.pdf'}\n",
      "journal exact match: True\n",
      "journal partial match: False\n",
      "volume match: True\n",
      "issue match: False\n",
      "page match: True\n",
      "year match: True\n",
      "title exact match: False\n",
      "title partial match: False\n",
      "author exact match: False\n",
      "scores:\n",
      "journal match score: 0\n",
      "title match score: 0.89\n",
      "author match score: 0\n",
      "journal exact, title score, author exact or 1 other\n",
      "True\n",
      "{'work_id': 'ufvbbbfrjfd3jlzeobnyd4b4qa', 'score': 78.644455, 'title': 'Reorganization of Remote Cortical Regions After Ischemic Brain Injury: A  Potential Substrate for Stroke Recovery', 'year': 2003, 'journal': 'Journal of Neurophysiology', 'volume': '89', 'issue': None, 'page': '3205-3214', 'author': ['S. B. Frost', 'S. Barbay', 'K. M. Friel', 'E. J. Plautz', 'R. J. Nudo'], 'url': 'https://web.archive.org/web/20170902140404/http://jn.physiology.org/content/jn/89/6/3205.full.pdf'}\n",
      "https://scholar.archive.org/search?q=key:work_ufvbbbfrjfd3jlzeobnyd4b4qa\n"
     ]
    }
   ],
   "source": [
    "print(journal_dump_2000_good.loc[6, \"a\"])\n",
    "test_cite = journal_dump_2000_good.loc[6, \"c\"]\n",
    "print(test_cite)\n",
    "test_cite_info = parse_citation_data(test_cite)\n",
    "print(test_cite_info)\n",
    "test_url_content = generate_url_content2(test_cite_info)\n",
    "test_search_result = search_fatcat_cite_info(test_url_content)\n",
    "print(test_search_result[0])\n",
    "print(fatcat_check_match(test_cite_info, test_search_result[0], verbose = True))\n",
    "test_closest_match = find_best_cite_info_fatcat_search2(test_cite_info, test_search_result)\n",
    "print(test_closest_match)\n",
    "print(journal_dump_2000_good.loc[6, \"scholars_result\"])"
   ]
  },
  {
   "cell_type": "code",
   "execution_count": 193,
   "metadata": {},
   "outputs": [
    {
     "name": "stdout",
     "output_type": "stream",
     "text": [
      "Bölünmüş beyin\n",
      "{{Akademik dergi kaynağı|url=|başlık=Mike or me? Self-recognition in a split-brain patient|yazarlar=Turk D. J.|sayı=9|sayfalar=841-842|çalışma=Nature Neuroscience|yıl=2002|cilt=5}}\n",
      "{'journal': 'Nature Neuroscience', 'date': '2002', 'year': 2002, 'volume': '5', 'issue': '9', 'title': 'Mike or me? Self-recognition in a split-brain patient', 'author': ['Turk D. J.'], 'page': '841', 'url': '', 'external_ids': {}}\n",
      "{'work_id': 'xwkbzwq7xzfpta74wmx2wpaeyy', 'score': 65.82822, 'title': 'Mike or me? Self-recognition in a split-brain patient', 'year': 2002, 'journal': 'Nature Neuroscience', 'volume': None, 'issue': None, 'page': '841-842', 'author': ['David J. Turk', 'Todd F. Heatherton', 'William M. Kelley', 'Margaret G. Funnell', 'Michael S. Gazzaniga', 'C. Neil Macrae'], 'url': 'https://web.archive.org/web/20081216162433/http://www.webpages.uidaho.edu/~bdyre/psyc526/Turk%20et%20al.%202002.pdf'}\n",
      "journal exact match: True\n",
      "journal partial match: False\n",
      "volume match: False\n",
      "issue match: False\n",
      "page match: True\n",
      "year match: True\n",
      "title exact match: True\n",
      "title partial match: False\n",
      "author exact match: False\n",
      "scores:\n",
      "journal match score: 0\n",
      "title match score: 0\n",
      "author match score: 0.5\n",
      "journal exact, title exact, 1 other\n",
      "True\n",
      "{'work_id': 'xwkbzwq7xzfpta74wmx2wpaeyy', 'score': 65.82822, 'title': 'Mike or me? Self-recognition in a split-brain patient', 'year': 2002, 'journal': 'Nature Neuroscience', 'volume': None, 'issue': None, 'page': '841-842', 'author': ['David J. Turk', 'Todd F. Heatherton', 'William M. Kelley', 'Margaret G. Funnell', 'Michael S. Gazzaniga', 'C. Neil Macrae'], 'url': 'https://web.archive.org/web/20081216162433/http://www.webpages.uidaho.edu/~bdyre/psyc526/Turk%20et%20al.%202002.pdf'}\n",
      "https://scholar.archive.org/search?q=key:work_xwkbzwq7xzfpta74wmx2wpaeyy\n"
     ]
    }
   ],
   "source": [
    "print(journal_dump_2000_good.loc[7, \"a\"])\n",
    "test_cite = journal_dump_2000_good.loc[7, \"c\"]\n",
    "print(test_cite)\n",
    "test_cite_info = parse_citation_data(test_cite)\n",
    "print(test_cite_info)\n",
    "test_url_content = generate_url_content2(test_cite_info)\n",
    "test_search_result = search_fatcat_cite_info(test_url_content)\n",
    "print(test_search_result[0])\n",
    "print(fatcat_check_match(test_cite_info, test_search_result[0], verbose = True))\n",
    "test_closest_match = find_best_cite_info_fatcat_search2(test_cite_info, test_search_result)\n",
    "print(test_closest_match)\n",
    "print(journal_dump_2000_good.loc[7, \"scholars_result\"])"
   ]
  },
  {
   "cell_type": "code",
   "execution_count": 194,
   "metadata": {},
   "outputs": [
    {
     "name": "stdout",
     "output_type": "stream",
     "text": [
      "John R. Yates\n",
      "{{Akademik dergi kaynağı|url=|başlık=Large-scale analysis of the yeast proteome by multidimensional protein identification technology|erişimtarihi=|yazarlar=Washburn|tarih=Mart 2001|sayı=3|dil=En|sayfalar=242-247|çalışma=Nature Biotechnology|yayıncı=|cilt=19}}\n",
      "{'journal': 'Nature Biotechnology', 'date': '2001-03', 'year': 2001, 'volume': '19', 'issue': '3', 'title': 'Large-scale analysis of the yeast proteome by multidimensional protein identification technology', 'author': ['Washburn'], 'page': '242', 'url': '', 'external_ids': {}}\n",
      "{'work_id': 'y7skt4khpff2zktij4n2uax4s4', 'score': 73.541626, 'title': 'Large-scale analysis of the yeast proteome by multidimensional protein identification technology', 'year': 2001, 'journal': 'Nature Biotechnology', 'volume': '19', 'issue': None, 'page': '242-247', 'author': ['Michael P. Washburn', 'Dirk Wolters', 'John R. Yates'], 'url': 'https://web.archive.org/web/20170808014930/http://arep.med.harvard.edu/pdf/Washburn01.pdf'}\n",
      "journal exact match: True\n",
      "journal partial match: False\n",
      "volume match: True\n",
      "issue match: False\n",
      "page match: True\n",
      "year match: True\n",
      "title exact match: True\n",
      "title partial match: False\n",
      "author exact match: False\n",
      "scores:\n",
      "journal match score: 0\n",
      "title match score: 0\n",
      "author match score: 0.3333333333333333\n",
      "journal exact, title exact, 1 other\n",
      "True\n",
      "{'work_id': 'y7skt4khpff2zktij4n2uax4s4', 'score': 73.541626, 'title': 'Large-scale analysis of the yeast proteome by multidimensional protein identification technology', 'year': 2001, 'journal': 'Nature Biotechnology', 'volume': '19', 'issue': None, 'page': '242-247', 'author': ['Michael P. Washburn', 'Dirk Wolters', 'John R. Yates'], 'url': 'https://web.archive.org/web/20170808014930/http://arep.med.harvard.edu/pdf/Washburn01.pdf'}\n",
      "https://scholar.archive.org/search?q=key:work_y7skt4khpff2zktij4n2uax4s4\n"
     ]
    }
   ],
   "source": [
    "print(journal_dump_2000_good.loc[8, \"a\"])\n",
    "test_cite = journal_dump_2000_good.loc[8, \"c\"]\n",
    "print(test_cite)\n",
    "test_cite_info = parse_citation_data(test_cite)\n",
    "print(test_cite_info)\n",
    "test_url_content = generate_url_content2(test_cite_info)\n",
    "test_search_result = search_fatcat_cite_info(test_url_content)\n",
    "print(test_search_result[0])\n",
    "print(fatcat_check_match(test_cite_info, test_search_result[0], verbose = True))\n",
    "test_closest_match = find_best_cite_info_fatcat_search2(test_cite_info, test_search_result)\n",
    "print(test_closest_match)\n",
    "print(journal_dump_2000_good.loc[8, \"scholars_result\"])"
   ]
  },
  {
   "cell_type": "code",
   "execution_count": 195,
   "metadata": {},
   "outputs": [
    {
     "name": "stdout",
     "output_type": "stream",
     "text": [
      "Stroop etkisi\n",
      "{{Akademik dergi kaynağı|başlık=Stroop Performance in Normal Control Subjects: An fMRI Study|yazarlar=Gruber|yazarlarıgöster=etal|sayı=2|sayfalar=349-360|çalışma=NeuroImage|yıl=2002|cilt=16}}\n",
      "{'journal': 'NeuroImage', 'date': '2002', 'year': 2002, 'volume': '16', 'issue': '2', 'title': 'Stroop Performance in Normal Control Subjects: An fMRI Study', 'author': ['Gruber'], 'page': '349', 'url': '', 'external_ids': {}}\n",
      "{'work_id': 'kzeu5vo7jfc4xkcosbwsp22fsq', 'score': 55.944572, 'title': 'Stroop Performance in Normal Control Subjects: An fMRI Study', 'year': 2002, 'journal': 'NeuroImage', 'volume': '16', 'issue': None, 'page': '349-360', 'author': ['Staci A. Gruber', 'Jadwiga Rogowska', 'Philip Holcomb', 'Salvatore Soraci', 'Deborah Yurgelun-Todd'], 'url': 'https://web.archive.org/web/201902221955/http://pdfs.semanticscholar.org/398c/39e26ad26ebb6965f9646c7e6591e63b211c.pdf'}\n",
      "journal exact match: True\n",
      "journal partial match: False\n",
      "volume match: True\n",
      "issue match: False\n",
      "page match: True\n",
      "year match: True\n",
      "title exact match: True\n",
      "title partial match: False\n",
      "author exact match: False\n",
      "scores:\n",
      "journal match score: 0\n",
      "title match score: 0\n",
      "author match score: 0.3333333333333333\n",
      "journal exact, title exact, 1 other\n",
      "True\n",
      "{'work_id': 'kzeu5vo7jfc4xkcosbwsp22fsq', 'score': 55.944572, 'title': 'Stroop Performance in Normal Control Subjects: An fMRI Study', 'year': 2002, 'journal': 'NeuroImage', 'volume': '16', 'issue': None, 'page': '349-360', 'author': ['Staci A. Gruber', 'Jadwiga Rogowska', 'Philip Holcomb', 'Salvatore Soraci', 'Deborah Yurgelun-Todd'], 'url': 'https://web.archive.org/web/201902221955/http://pdfs.semanticscholar.org/398c/39e26ad26ebb6965f9646c7e6591e63b211c.pdf'}\n",
      "https://scholar.archive.org/search?q=key:work_kzeu5vo7jfc4xkcosbwsp22fsq\n"
     ]
    }
   ],
   "source": [
    "print(journal_dump_2000_good.loc[9, \"a\"])\n",
    "test_cite = journal_dump_2000_good.loc[9, \"c\"]\n",
    "print(test_cite)\n",
    "test_cite_info = parse_citation_data(test_cite)\n",
    "print(test_cite_info)\n",
    "test_url_content = generate_url_content2(test_cite_info)\n",
    "test_search_result = search_fatcat_cite_info(test_url_content)\n",
    "print(test_search_result[0])\n",
    "print(fatcat_check_match(test_cite_info, test_search_result[0], verbose = True))\n",
    "test_closest_match = find_best_cite_info_fatcat_search2(test_cite_info, test_search_result)\n",
    "print(test_closest_match)\n",
    "print(journal_dump_2000_good.loc[9, \"scholars_result\"])"
   ]
  },
  {
   "cell_type": "code",
   "execution_count": 198,
   "metadata": {},
   "outputs": [
    {
     "name": "stdout",
     "output_type": "stream",
     "text": [
      "Rüzgâr türbini tasarımı\n",
      "{{Akademik dergi kaynağı|başlık=Alternative Composite Materials for Megawatt-Scale Wind Turbine Blades: Design Considerations and Recommended Testing|yazarlar=Griffin, Dayton A.|sayı=4|sayfa=515|çalışma=Journal of Solar Energy Engineering|yıl=2003|cilt=125}}\n",
      "{'journal': 'Journal of Solar Energy Engineering', 'date': '2003', 'year': 2003, 'volume': '125', 'issue': '4', 'title': 'Alternative Composite Materials for Megawatt-Scale Wind Turbine Blades: Design Considerations and Recommended Testing', 'author': ['Griffin, Dayton A.'], 'page': '515', 'url': '', 'external_ids': {}}\n",
      "{'work_id': 'oxvzp5qalre2thc6osx2v4eudy', 'score': 93.024704, 'title': 'Alternative Composite Materials for Megawatt-Scale Wind Turbine Blades: Design Considerations and Recommended Testing', 'year': 2003, 'journal': 'Journal of solar energy engineering', 'volume': '125', 'issue': None, 'page': '515', 'author': ['Thomas D. Ashwill'], 'url': 'https://web.archive.org/web/20060924132607/http://www.sandia.gov/wind/asme/AIAA-2003-0696.pdf'}\n",
      "journal exact match: True\n",
      "journal partial match: False\n",
      "volume match: True\n",
      "issue match: False\n",
      "page match: True\n",
      "year match: True\n",
      "title exact match: True\n",
      "title partial match: False\n",
      "author exact match: False\n",
      "scores:\n",
      "journal match score: 0\n",
      "title match score: 0\n",
      "author match score: 0.0\n",
      "journal exact, title exact, 1 other\n",
      "True\n",
      "{'work_id': 'oxvzp5qalre2thc6osx2v4eudy', 'score': 93.024704, 'title': 'alternative composite materials for megawatt-scale wind turbine blades: design considerations and recommended testing', 'year': 2003, 'journal': 'journal of solar energy engineering', 'volume': '125', 'issue': None, 'page': '515', 'author': ['Thomas D. Ashwill'], 'url': 'https://web.archive.org/web/20060924132607/http://www.sandia.gov/wind/asme/AIAA-2003-0696.pdf'}\n",
      "https://scholar.archive.org/search?q=key:work_oxvzp5qalre2thc6osx2v4eudy\n"
     ]
    }
   ],
   "source": [
    "print(journal_dump_2000_good.loc[10, \"a\"])\n",
    "test_cite = journal_dump_2000_good.loc[10, \"c\"]\n",
    "print(test_cite)\n",
    "test_cite_info = parse_citation_data(test_cite)\n",
    "print(test_cite_info)\n",
    "test_url_content = generate_url_content2(test_cite_info)\n",
    "test_search_result = search_fatcat_cite_info(test_url_content)\n",
    "print(test_search_result[0])\n",
    "print(fatcat_check_match(test_cite_info, test_search_result[0], verbose = True))\n",
    "test_closest_match = find_best_cite_info_fatcat_search2(test_cite_info, test_search_result)\n",
    "print(test_closest_match)\n",
    "print(journal_dump_2000_good.loc[10, \"scholars_result\"])"
   ]
  },
  {
   "cell_type": "code",
   "execution_count": 199,
   "metadata": {},
   "outputs": [
    {
     "name": "stdout",
     "output_type": "stream",
     "text": [
      "Güvenli seks\n",
      "{{Akademik dergi kaynağı|başlık=Abstinence and abstinence-only education|yazarlar=Ott|tarih=Ekim 2007|sayı=5|sayfalar=446-52|çalışma=Current Opinion in Obstetrics and Gynecology|cilt=19}}\n",
      "{'journal': 'Current Opinion in Obstetrics and Gynecology', 'date': '2007-10', 'year': 2007, 'volume': '19', 'issue': '5', 'title': 'Abstinence and abstinence-only education', 'author': ['Ott'], 'page': '446', 'url': '', 'external_ids': {}}\n",
      "{'work_id': 'h3o763e4sjgunellktyoq2iaee', 'score': 79.328804, 'title': 'Abstinence and abstinence-only education', 'year': 2007, 'journal': 'Current Opinion in Obstetrics and Gynecology', 'volume': '19', 'issue': None, 'page': '446-452', 'author': ['Mary A Ott', 'John S Santelli'], 'url': 'https://web.archive.org/web/20200310173144/https://scholarworks.iupui.edu/bitstream/handle/1805/17056/nihms208289.pdf;jsessionid=E625B6D46FB847676A9932DA8D061F4F?sequence=1'}\n",
      "journal exact match: True\n",
      "journal partial match: False\n",
      "volume match: True\n",
      "issue match: False\n",
      "page match: True\n",
      "year match: True\n",
      "title exact match: True\n",
      "title partial match: False\n",
      "author exact match: False\n",
      "scores:\n",
      "journal match score: 0\n",
      "title match score: 0\n",
      "author match score: 0.3333333333333333\n",
      "journal exact, title exact, 1 other\n",
      "True\n",
      "{'work_id': 'h3o763e4sjgunellktyoq2iaee', 'score': 79.328804, 'title': 'abstinence and abstinence-only education', 'year': 2007, 'journal': 'current opinion in obstetrics and gynecology', 'volume': '19', 'issue': None, 'page': '446-452', 'author': ['Mary A Ott', 'John S Santelli'], 'url': 'https://web.archive.org/web/20200310173144/https://scholarworks.iupui.edu/bitstream/handle/1805/17056/nihms208289.pdf;jsessionid=E625B6D46FB847676A9932DA8D061F4F?sequence=1'}\n",
      "https://scholar.archive.org/search?q=key:work_h3o763e4sjgunellktyoq2iaee\n"
     ]
    }
   ],
   "source": [
    "print(journal_dump_2000_good.loc[11, \"a\"])\n",
    "test_cite = journal_dump_2000_good.loc[11, \"c\"]\n",
    "print(test_cite)\n",
    "test_cite_info = parse_citation_data(test_cite)\n",
    "print(test_cite_info)\n",
    "test_url_content = generate_url_content2(test_cite_info)\n",
    "test_search_result = search_fatcat_cite_info(test_url_content)\n",
    "print(test_search_result[0])\n",
    "print(fatcat_check_match(test_cite_info, test_search_result[0], verbose = True))\n",
    "test_closest_match = find_best_cite_info_fatcat_search2(test_cite_info, test_search_result)\n",
    "print(test_closest_match)\n",
    "print(journal_dump_2000_good.loc[11, \"scholars_result\"])"
   ]
  },
  {
   "cell_type": "code",
   "execution_count": 200,
   "metadata": {},
   "outputs": [
    {
     "name": "stdout",
     "output_type": "stream",
     "text": [
      "Ruedi Aebersold\n",
      "{{Akademik dergi kaynağı|başlık=Quantitative analysis of complex protein mixtures using isotope-coded affinity tags|tarih=Ekim 1999|sayı=10|sayfalar=994-9|çalışma=Nature Biotechnology|cilt=17}}\n",
      "{'journal': 'Nature Biotechnology', 'date': '1999-10', 'year': 1999, 'volume': '17', 'issue': '10', 'title': 'Quantitative analysis of complex protein mixtures using isotope-coded affinity tags', 'author': [], 'page': '994', 'url': '', 'external_ids': {}}\n",
      "{'work_id': 'sswnnewfavdsjaahqrlucdpkaq', 'score': 80.415726, 'title': 'Quantitative analysis of complex protein mixtures using isotope-coded affinity tags', 'year': 1999, 'journal': 'Nature Biotechnology', 'volume': '17', 'issue': '10', 'page': '994-999', 'author': ['Steven P. Gygi', 'Beate Rist', 'Scott A. Gerber', 'Frantisek Turecek', 'Michael H. Gelb', 'Ruedi Aebersold'], 'url': 'https://web.archive.org/web/20170808222315/http://llama.mshri.on.ca/courses/Biophysics205/Papers/Gygi_1999.pdf'}\n",
      "journal exact match: True\n",
      "journal partial match: False\n",
      "volume match: True\n",
      "issue match: True\n",
      "page match: True\n",
      "year match: True\n",
      "title exact match: True\n",
      "title partial match: False\n",
      "author exact match: False\n",
      "scores:\n",
      "journal match score: 0\n",
      "title match score: 0\n",
      "author match score: 0\n",
      "journal exact, title exact, 1 other\n",
      "True\n",
      "{'work_id': 'sswnnewfavdsjaahqrlucdpkaq', 'score': 80.415726, 'title': 'quantitative analysis of complex protein mixtures using isotope-coded affinity tags', 'year': 1999, 'journal': 'nature biotechnology', 'volume': '17', 'issue': '10', 'page': '994-999', 'author': ['Steven P. Gygi', 'Beate Rist', 'Scott A. Gerber', 'Frantisek Turecek', 'Michael H. Gelb', 'Ruedi Aebersold'], 'url': 'https://web.archive.org/web/20170808222315/http://llama.mshri.on.ca/courses/Biophysics205/Papers/Gygi_1999.pdf'}\n",
      "https://scholar.archive.org/search?q=key:work_sswnnewfavdsjaahqrlucdpkaq\n"
     ]
    }
   ],
   "source": [
    "print(journal_dump_2000_good.loc[12, \"a\"])\n",
    "test_cite = journal_dump_2000_good.loc[12, \"c\"]\n",
    "print(test_cite)\n",
    "test_cite_info = parse_citation_data(test_cite)\n",
    "print(test_cite_info)\n",
    "test_url_content = generate_url_content2(test_cite_info)\n",
    "test_search_result = search_fatcat_cite_info(test_url_content)\n",
    "print(test_search_result[0])\n",
    "print(fatcat_check_match(test_cite_info, test_search_result[0], verbose = True))\n",
    "test_closest_match = find_best_cite_info_fatcat_search2(test_cite_info, test_search_result)\n",
    "print(test_closest_match)\n",
    "print(journal_dump_2000_good.loc[12, \"scholars_result\"])"
   ]
  },
  {
   "cell_type": "code",
   "execution_count": 201,
   "metadata": {},
   "outputs": [
    {
     "name": "stdout",
     "output_type": "stream",
     "text": [
      "Stroop etkisi\n",
      "{{Akademik dergi kaynağı|başlık=Practice-related Effects Demonstrate Complementary Roles Of Anterior Cingulate And Prefrontal Cortices In Attentional Control|yazarlar=Milham|sayı=2|sayfalar=483-493|çalışma=NeuroImage|yıl=2003|cilt=18}}\n",
      "{'journal': 'NeuroImage', 'date': '2003', 'year': 2003, 'volume': '18', 'issue': '2', 'title': 'Practice-related Effects Demonstrate Complementary Roles Of Anterior Cingulate And Prefrontal Cortices In Attentional Control', 'author': ['Milham'], 'page': '483', 'url': '', 'external_ids': {}}\n",
      "{'work_id': 'hxi64jgwl5g47n5k55zhqlkepe', 'score': 71.04921, 'title': 'Practice-related effects demonstrate complementary roles of anterior cingulate and prefrontal cortices in attentional control☆☆This study was supported by the Beckman Institute for Advanced Science and Technology at the University of Illinois, Urbana-Champaign; Carle Clinic, Urbana, Illinois; and NIMH MD/PhD predoctoral National Research Service Award provided support to M.P.M. (MH12415-01).', 'year': 2003, 'journal': 'NeuroImage', 'volume': '18', 'issue': None, 'page': '483-493', 'author': ['M.P Milham', 'M.T Banich', 'E.D Claus', 'N.J Cohen'], 'url': 'https://web.archive.org/web/20100610123809/http://psych.colorado.edu/~mbanich/Practicerelatedeffectsdemonstrate.pdf'}\n",
      "journal exact match: True\n",
      "journal partial match: False\n",
      "volume match: True\n",
      "issue match: False\n",
      "page match: True\n",
      "year match: True\n",
      "title exact match: False\n",
      "title partial match: False\n",
      "author exact match: False\n",
      "scores:\n",
      "journal match score: 0\n",
      "title match score: 0\n",
      "author match score: 0.5\n",
      "journal exact, title score, author exact or 1 other\n",
      "True\n",
      "{'work_id': 'hxi64jgwl5g47n5k55zhqlkepe', 'score': 71.04921, 'title': 'practice-related effects demonstrate complementary roles of anterior cingulate and prefrontal cortices in attentional control☆☆this study was supported by the beckman institute for advanced science and technology at the university of illinois, urbana-champaign; carle clinic, urbana, illinois; and nimh md/phd predoctoral national research service award provided support to m.p.m. (mh12415-01).', 'year': 2003, 'journal': 'neuroimage', 'volume': '18', 'issue': None, 'page': '483-493', 'author': ['M.P Milham', 'M.T Banich', 'E.D Claus', 'N.J Cohen'], 'url': 'https://web.archive.org/web/20100610123809/http://psych.colorado.edu/~mbanich/Practicerelatedeffectsdemonstrate.pdf'}\n",
      "https://scholar.archive.org/search?q=key:work_hxi64jgwl5g47n5k55zhqlkepe\n"
     ]
    }
   ],
   "source": [
    "print(journal_dump_2000_good.loc[13, \"a\"])\n",
    "test_cite = journal_dump_2000_good.loc[13, \"c\"]\n",
    "print(test_cite)\n",
    "test_cite_info = parse_citation_data(test_cite)\n",
    "print(test_cite_info)\n",
    "test_url_content = generate_url_content2(test_cite_info)\n",
    "test_search_result = search_fatcat_cite_info(test_url_content)\n",
    "print(test_search_result[0])\n",
    "print(fatcat_check_match(test_cite_info, test_search_result[0], verbose = True))\n",
    "test_closest_match = find_best_cite_info_fatcat_search2(test_cite_info, test_search_result)\n",
    "print(test_closest_match)\n",
    "print(journal_dump_2000_good.loc[13, \"scholars_result\"])"
   ]
  },
  {
   "cell_type": "code",
   "execution_count": 203,
   "metadata": {},
   "outputs": [
    {
     "data": {
      "text/plain": [
       "90"
      ]
     },
     "execution_count": 203,
     "metadata": {},
     "output_type": "execute_result"
    }
   ],
   "source": [
    "fuzz.partial_ratio(\"Practice-related Effects Demonstrate Complementary Roles Of Anterior Cingulate And Prefrontal Cortices In Attentional Control\", \"Practice-related effects demonstrate complementary roles of anterior cingulate and prefrontal cortices in attentional control☆☆This study was supported by the Beckman Institute for Advanced Science and Technology at the University of Illinois, Urbana-Champaign; Carle Clinic, Urbana, Illinois; and NIMH MD/PhD predoctoral National Research Service Award provided support to M.P.M. (MH12415-01).\")"
   ]
  },
  {
   "cell_type": "code",
   "execution_count": 204,
   "metadata": {},
   "outputs": [
    {
     "name": "stdout",
     "output_type": "stream",
     "text": [
      "T Yardımcı Hücresi 17\n",
      "{{Akademik dergi kaynağı|başlık=A human colonic commensal promotes colon tumorigenesis via activation of T helper type 17 T cell responses|tarih=Eylül 2009|sayı=9|sayfalar=1016-22|çalışma=Nature Medicine|cilt=15}}\n",
      "{'journal': 'Nature Medicine', 'date': '2009-09', 'year': 2009, 'volume': '15', 'issue': '9', 'title': 'A human colonic commensal promotes colon tumorigenesis via activation of T helper type 17 T cell responses', 'author': [], 'page': '1016', 'url': '', 'external_ids': {}}\n",
      "{'work_id': 'n4vbzetjabdjlinqbx2hehjpvu', 'score': 99.53417, 'title': 'A human colonic commensal promotes colon tumorigenesis via activation of T helper type 17 T cell responses', 'year': 2009, 'journal': 'Nature Medicine', 'volume': '15', 'issue': None, 'page': '1016-1022', 'author': ['Shaoguang Wu', 'Ki-Jong Rhee', 'Emilia Albesiano', 'Shervin Rabizadeh', 'Xinqun Wu', 'Hung-Rong Yen', 'David L Huso', 'Frederick L Brancati', 'Elizabeth Wick', 'Florencia McAllister', 'Franck Housseau', 'Drew M Pardoll', 'Cynthia L Sears'], 'url': 'https://web.archive.org/web/20200206183752/http://europepmc.org/backend/ptpmcrender.fcgi?accid=PMC3034219&blobtype=pdf'}\n",
      "journal exact match: True\n",
      "journal partial match: False\n",
      "volume match: True\n",
      "issue match: False\n",
      "page match: True\n",
      "year match: True\n",
      "title exact match: True\n",
      "title partial match: False\n",
      "author exact match: False\n",
      "scores:\n",
      "journal match score: 0\n",
      "title match score: 0\n",
      "author match score: 0\n",
      "journal exact, title exact, 1 other\n",
      "True\n",
      "{'work_id': 'n4vbzetjabdjlinqbx2hehjpvu', 'score': 99.53417, 'title': 'a human colonic commensal promotes colon tumorigenesis via activation of t helper type 17 t cell responses', 'year': 2009, 'journal': 'nature medicine', 'volume': '15', 'issue': None, 'page': '1016-1022', 'author': ['Shaoguang Wu', 'Ki-Jong Rhee', 'Emilia Albesiano', 'Shervin Rabizadeh', 'Xinqun Wu', 'Hung-Rong Yen', 'David L Huso', 'Frederick L Brancati', 'Elizabeth Wick', 'Florencia McAllister', 'Franck Housseau', 'Drew M Pardoll', 'Cynthia L Sears'], 'url': 'https://web.archive.org/web/20200206183752/http://europepmc.org/backend/ptpmcrender.fcgi?accid=PMC3034219&blobtype=pdf'}\n",
      "https://scholar.archive.org/search?q=key:work_n4vbzetjabdjlinqbx2hehjpvu\n"
     ]
    }
   ],
   "source": [
    "print(journal_dump_2000_good.loc[14, \"a\"])\n",
    "test_cite = journal_dump_2000_good.loc[14, \"c\"]\n",
    "print(test_cite)\n",
    "test_cite_info = parse_citation_data(test_cite)\n",
    "print(test_cite_info)\n",
    "test_url_content = generate_url_content2(test_cite_info)\n",
    "test_search_result = search_fatcat_cite_info(test_url_content)\n",
    "print(test_search_result[0])\n",
    "print(fatcat_check_match(test_cite_info, test_search_result[0], verbose = True))\n",
    "test_closest_match = find_best_cite_info_fatcat_search2(test_cite_info, test_search_result)\n",
    "print(test_closest_match)\n",
    "print(journal_dump_2000_good.loc[14, \"scholars_result\"])"
   ]
  },
  {
   "cell_type": "code",
   "execution_count": 205,
   "metadata": {},
   "outputs": [
    {
     "name": "stdout",
     "output_type": "stream",
     "text": [
      "Pelvik inflamatuar hastalık\n",
      "{{Akademik dergi kaynağı|başlık=Pelvic inflammatory disease: current concepts in pathogenesis, diagnosis and treatment.|yazarlar=Mitchell|tarih=Aralık 2013|sayı=4|sayfalar=793-809|çalışma=Infectious Disease Clinics of North America|cilt=27}}\n",
      "{'journal': 'Infectious Disease Clinics of North America', 'date': '2013-12', 'year': 2013, 'volume': '27', 'issue': '4', 'title': 'Pelvic inflammatory disease: current concepts in pathogenesis, diagnosis and treatment.', 'author': ['Mitchell'], 'page': '793', 'url': '', 'external_ids': {}}\n",
      "{'work_id': 'quoxpsjky5co3k4fp7iccyfhai', 'score': 54.00481, 'title': 'Pelvic Inflammatory Disease', 'year': 2013, 'journal': 'Infectious Disease Clinics of North America', 'volume': '27', 'issue': None, 'page': '793-809', 'author': ['Caroline Mitchell', 'Malavika Prabhu'], 'url': 'https://web.archive.org/web/20200205230301/http://europepmc.org/backend/ptpmcrender.fcgi?accid=PMC3843151&blobtype=pdf'}\n",
      "journal exact match: True\n",
      "journal partial match: False\n",
      "volume match: True\n",
      "issue match: False\n",
      "page match: True\n",
      "year match: True\n",
      "title exact match: False\n",
      "title partial match: False\n",
      "author exact match: False\n",
      "scores:\n",
      "journal match score: 0\n",
      "title match score: 0\n",
      "author match score: 0.5\n",
      "journal exact, title score, author exact or 1 other\n",
      "True\n",
      "{'work_id': 'quoxpsjky5co3k4fp7iccyfhai', 'score': 54.00481, 'title': 'pelvic inflammatory disease', 'year': 2013, 'journal': 'infectious disease clinics of north america', 'volume': '27', 'issue': None, 'page': '793-809', 'author': ['Caroline Mitchell', 'Malavika Prabhu'], 'url': 'https://web.archive.org/web/20200205230301/http://europepmc.org/backend/ptpmcrender.fcgi?accid=PMC3843151&blobtype=pdf'}\n",
      "https://scholar.archive.org/search?q=key:work_quoxpsjky5co3k4fp7iccyfhai\n"
     ]
    }
   ],
   "source": [
    "print(journal_dump_2000_good.loc[15, \"a\"])\n",
    "test_cite = journal_dump_2000_good.loc[15, \"c\"]\n",
    "print(test_cite)\n",
    "test_cite_info = parse_citation_data(test_cite)\n",
    "print(test_cite_info)\n",
    "test_url_content = generate_url_content2(test_cite_info)\n",
    "test_search_result = search_fatcat_cite_info(test_url_content)\n",
    "print(test_search_result[0])\n",
    "print(fatcat_check_match(test_cite_info, test_search_result[0], verbose = True))\n",
    "test_closest_match = find_best_cite_info_fatcat_search2(test_cite_info, test_search_result)\n",
    "print(test_closest_match)\n",
    "print(journal_dump_2000_good.loc[15, \"scholars_result\"])"
   ]
  },
  {
   "cell_type": "code",
   "execution_count": 206,
   "metadata": {},
   "outputs": [
    {
     "name": "stdout",
     "output_type": "stream",
     "text": [
      "T Yardımcı Hücresi 17\n",
      "{{Akademik dergi kaynağı|başlık=T helper 17 cells promote cytotoxic T cell activation in tumor immunity|tarih=Kasım 2009|sayı=5|sayfalar=787-98|çalışma=Immunity|cilt=31}}\n",
      "{'journal': 'Immunity', 'date': '2009-11', 'year': 2009, 'volume': '31', 'issue': '5', 'title': 'T helper 17 cells promote cytotoxic T cell activation in tumor immunity', 'author': [], 'page': '787', 'url': '', 'external_ids': {}}\n",
      "{'work_id': 'sb5a5fmlabfh7ne36udfj2ydqi', 'score': 84.668045, 'title': 'T Helper 17 Cells Promote Cytotoxic T Cell Activation in Tumor Immunity', 'year': 2009, 'journal': 'Immunity', 'volume': '31', 'issue': None, 'page': '787-798', 'author': ['Natalia Martin-Orozco', 'Pawel Muranski', 'Yeonseok Chung', 'Xuexian O. Yang', 'Tomohide Yamazaki', 'Sijie Lu', 'Patrick Hwu', 'Nicholas P. Restifo', 'Willem W. Overwijk', 'Chen Dong'], 'url': 'https://web.archive.org/web/20190303235119/https://core.ac.uk/download/pdf/82452021.pdf'}\n",
      "journal exact match: True\n",
      "journal partial match: False\n",
      "volume match: True\n",
      "issue match: False\n",
      "page match: True\n",
      "year match: True\n",
      "title exact match: True\n",
      "title partial match: False\n",
      "author exact match: False\n",
      "scores:\n",
      "journal match score: 0\n",
      "title match score: 0\n",
      "author match score: 0\n",
      "journal exact, title exact, 1 other\n",
      "True\n",
      "{'work_id': 'sb5a5fmlabfh7ne36udfj2ydqi', 'score': 84.668045, 'title': 't helper 17 cells promote cytotoxic t cell activation in tumor immunity', 'year': 2009, 'journal': 'immunity', 'volume': '31', 'issue': None, 'page': '787-798', 'author': ['Natalia Martin-Orozco', 'Pawel Muranski', 'Yeonseok Chung', 'Xuexian O. Yang', 'Tomohide Yamazaki', 'Sijie Lu', 'Patrick Hwu', 'Nicholas P. Restifo', 'Willem W. Overwijk', 'Chen Dong'], 'url': 'https://web.archive.org/web/20190303235119/https://core.ac.uk/download/pdf/82452021.pdf'}\n",
      "https://scholar.archive.org/search?q=key:work_sb5a5fmlabfh7ne36udfj2ydqi\n"
     ]
    }
   ],
   "source": [
    "print(journal_dump_2000_good.loc[16, \"a\"])\n",
    "test_cite = journal_dump_2000_good.loc[16, \"c\"]\n",
    "print(test_cite)\n",
    "test_cite_info = parse_citation_data(test_cite)\n",
    "print(test_cite_info)\n",
    "test_url_content = generate_url_content2(test_cite_info)\n",
    "test_search_result = search_fatcat_cite_info(test_url_content)\n",
    "print(test_search_result[0])\n",
    "print(fatcat_check_match(test_cite_info, test_search_result[0], verbose = True))\n",
    "test_closest_match = find_best_cite_info_fatcat_search2(test_cite_info, test_search_result)\n",
    "print(test_closest_match)\n",
    "print(journal_dump_2000_good.loc[16, \"scholars_result\"])"
   ]
  },
  {
   "cell_type": "code",
   "execution_count": 178,
   "metadata": {},
   "outputs": [
    {
     "name": "stdout",
     "output_type": "stream",
     "text": [
      "{{Akademik dergi kaynağı|başlık=Alternative Composite Materials for Megawatt-Scale Wind Turbine Blades: Design Considerations and Recommended Testing|yazarlar=Griffin, Dayton A.|sayı=4|sayfa=515|çalışma=Journal of Solar Energy Engineering|yıl=2003|cilt=125}}\n",
      "{'journal': 'Journal of Solar Energy Engineering', 'date': '2003', 'year': 2003, 'volume': '125', 'issue': '4', 'title': 'Alternative Composite Materials for Megawatt-Scale Wind Turbine Blades: Design Considerations and Recommended Testing', 'author': ['Griffin, Dayton A.'], 'page': '515', 'url': '', 'external_ids': {}}\n",
      "https://search.fatcat.wiki/fatcat_release/_search?q=%28container_name%3AJournal%20of%20Solar%20Energy%20Engineering%29AND%28title%3AAlternative%20Composite%20Materials%20for%20Megawatt-Scale%20Wind%20Turbine%20Blades%20Design%20Considerations%20and%20Recommended%20Testing%29AND%28release_year%3A2003%29\n",
      "{'work_id': 'oxvzp5qalre2thc6osx2v4eudy', 'score': 107.28194, 'title': 'Alternative Composite Materials for Megawatt-Scale Wind Turbine Blades: Design Considerations and Recommended Testing', 'year': 2003, 'journal': 'Journal of solar energy engineering', 'volume': '125', 'issue': None, 'page': '515', 'author': ['Thomas D. Ashwill'], 'url': 'https://web.archive.org/web/20060924132607/http://www.sandia.gov/wind/asme/AIAA-2003-0696.pdf'}\n",
      "journal exact match: True\n",
      "journal partial match: False\n",
      "volume match: True\n",
      "issue match: False\n",
      "page match: True\n",
      "year match: True\n",
      "title exact match: True\n",
      "title partial match: False\n",
      "author exact match: False\n",
      "scores:\n",
      "journal match score: 0\n",
      "title match score: 0\n",
      "author match score: 0.0\n",
      "journal exact, title exact, 1 other\n",
      "True\n",
      "{'work_id': 'oxvzp5qalre2thc6osx2v4eudy', 'score': 107.28194, 'title': 'alternative composite materials for megawatt-scale wind turbine blades: design considerations and recommended testing', 'year': 2003, 'journal': 'journal of solar energy engineering', 'volume': '125', 'issue': None, 'page': '515', 'author': ['Thomas D. Ashwill'], 'url': 'https://web.archive.org/web/20060924132607/http://www.sandia.gov/wind/asme/AIAA-2003-0696.pdf'}\n",
      "https://scholar.archive.org/search?q=key:work_oxvzp5qalre2thc6osx2v4eudy\n"
     ]
    }
   ],
   "source": [
    "test_cite = \"{{Akademik dergi kaynağı|başlık=Alternative Composite Materials for Megawatt-Scale Wind Turbine Blades: Design Considerations and Recommended Testing|yazarlar=Griffin, Dayton A.|sayı=4|sayfa=515|çalışma=Journal of Solar Energy Engineering|yıl=2003|cilt=125}}\"\n",
    "\n",
    "print(test_cite)\n",
    "test_cite_info = parse_citation_data(test_cite)\n",
    "print(test_cite_info)\n",
    "test_url_content = generate_url_content2(test_cite_info)\n",
    "test_search_result = search_fatcat_cite_info(test_url_content, True)\n",
    "print(test_search_result[0])\n",
    "print(fatcat_check_match(test_cite_info, test_search_result[0], verbose = True))\n",
    "test_closest_match = find_best_cite_info_fatcat_search2(test_cite_info, test_search_result)\n",
    "print(test_closest_match)\n",
    "\n",
    "test_url = process_citation_to_scholars2(test_cite)\n",
    "print(test_url)"
   ]
  },
  {
   "cell_type": "markdown",
   "metadata": {},
   "source": []
  },
  {
   "cell_type": "code",
   "execution_count": null,
   "metadata": {},
   "outputs": [],
   "source": []
  },
  {
   "cell_type": "code",
   "execution_count": null,
   "metadata": {},
   "outputs": [],
   "source": []
  },
  {
   "cell_type": "code",
   "execution_count": 169,
   "metadata": {},
   "outputs": [],
   "source": [
    "import gspread\n",
    "from gspread_dataframe import set_with_dataframe"
   ]
  },
  {
   "cell_type": "code",
   "execution_count": 170,
   "metadata": {},
   "outputs": [
    {
     "name": "stdout",
     "output_type": "stream",
     "text": [
      "[['a']]\n"
     ]
    }
   ],
   "source": [
    "gc = gspread.service_account(\"service_account.json\")\n",
    "\n",
    "sh = gc.open(\"Citations SIM Test\")\n",
    "\n",
    "print(sh.sheet1.get('A1'))"
   ]
  },
  {
   "cell_type": "code",
   "execution_count": 173,
   "metadata": {},
   "outputs": [],
   "source": [
    "# ACCESS GOOGLE SHEET\n",
    "gc = gspread.service_account(filename='service_account.json')\n",
    "sh = gc.open_by_key('1ih5bIk5_d5WLEtArRzEFPzPlwZVA_BI-O8kSxWH1rNU')\n",
    "worksheet = sh.get_worksheet(5) #-> 0 - first sheet, 1 - second sheet etc. \n",
    "\n",
    "# APPEND DATA TO SHEET\n",
    "df_to_write = journal_dump_2000_good[[\"a\", \"scholars_result\", \"c\"]]\n",
    "set_with_dataframe(worksheet, df_to_write) #-> THIS EXPORTS YOUR DATAFRAME TO THE GOOGLE SHEET"
   ]
  },
  {
   "cell_type": "code",
   "execution_count": null,
   "metadata": {},
   "outputs": [],
   "source": []
  }
 ],
 "metadata": {
  "kernelspec": {
   "display_name": "Python 3",
   "language": "python",
   "name": "python3"
  },
  "language_info": {
   "codemirror_mode": {
    "name": "ipython",
    "version": 3
   },
   "file_extension": ".py",
   "mimetype": "text/x-python",
   "name": "python",
   "nbconvert_exporter": "python",
   "pygments_lexer": "ipython3",
   "version": "3.7.5"
  }
 },
 "nbformat": 4,
 "nbformat_minor": 4
}
