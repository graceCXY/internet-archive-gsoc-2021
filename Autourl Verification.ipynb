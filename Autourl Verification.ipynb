{
 "cells": [
  {
   "cell_type": "markdown",
   "metadata": {},
   "source": [
    "# Autourls "
   ]
  },
  {
   "cell_type": "markdown",
   "metadata": {},
   "source": [
    "Goal: \n",
    "- https://en.wikipedia.org/wiki/User:GreenC/testcases/autourl \n",
    "- we don't want to overwrite auto generated urls"
   ]
  },
  {
   "cell_type": "markdown",
   "metadata": {},
   "source": [
    "### Approach 1\n",
    "- remove url and doi\n",
    "- not reliable to changing conditions"
   ]
  },
  {
   "cell_type": "markdown",
   "metadata": {},
   "source": [
    "### Approach 2 \n",
    "- webscrape wikipedia page\n",
    "- find location of citation \n",
    "- check if there is autogeneration \n",
    "- takes too long"
   ]
  },
  {
   "cell_type": "markdown",
   "metadata": {},
   "source": [
    "### Approach 3\n",
    "- use wikimedia's parse endpoint \n",
    "   - example: https://en.wikipedia.org/w/api.php?action=parse&text=%7B%7Bcite%20journal%20%7Ctitle%3DThe%20Discodermia%20calyx%20Toxin%20Calyculin%20A%20%7Clast1%3DEdelson%20%7Cfirst1%3DJessica%20R.%20%7Clast2%3DBrautigan%20%7Cfirst2%3DDavid%20L.%20%7Cdate%3D24%20January%202011%20%7Cjournal%3DToxins%20%7Cvolume%3D3%20%7Cissue%3D1%20%7Cpages%3D105%E2%80%93119%20%7Cdoi%3D10.3390%2Ftoxins3010105%20%7Cdoi-access%3Dfree%20%7Cpmid%3D22069692%20%7Cpmc%3D3210456%7D%7D&contentmodel=wikitext\n",
    "- convert the template into HTML \n",
    "- find link in HTML\n",
    "- the most stable"
   ]
  },
  {
   "cell_type": "code",
   "execution_count": 1,
   "metadata": {},
   "outputs": [],
   "source": [
    "import requests\n",
    "import urllib.parse\n",
    "import json"
   ]
  },
  {
   "cell_type": "code",
   "execution_count": 2,
   "metadata": {},
   "outputs": [],
   "source": [
    "### perform http request \n",
    "# INPUT:\n",
    "## language: wikipedia language (ex.en, tr)\n",
    "## citation: the citation input ({{cite journal}})\n",
    "## verbose: debug mode \n",
    "# OUTPUT:\n",
    "## json object \n",
    "def get_wikimedia_json(language, citation, verbose = False):\n",
    "    \n",
    "    ### build url\n",
    "    url_header = \"https://\" + language + \".wikipedia.org/w/api.php?action=parse&text=\"\n",
    "    url_content = urllib.parse.quote(citation, safe = \"\")\n",
    "    url_param = \"&contentmodel=wikitext&format=json\"\n",
    "    \n",
    "    url = url_header + url_content + url_param\n",
    "    \n",
    "    ### debug\n",
    "    if verbose: print(url)\n",
    "    \n",
    "    ### make http request\n",
    "    response = requests.get(url, timeout = 20)\n",
    "    if response.status_code != 200:\n",
    "        return \"\"\n",
    "    \n",
    "    res_json = json.loads(response.text)\n",
    "    return res_json"
   ]
  },
  {
   "cell_type": "code",
   "execution_count": 3,
   "metadata": {},
   "outputs": [
    {
     "name": "stdout",
     "output_type": "stream",
     "text": [
      "https://en.wikipedia.org/w/api.php?action=parse&text=%7B%7Bcite%20journal%20%7Ctitle%3DThe%20Discodermia%20calyx%20Toxin%20Calyculin%20A%20%7Clast1%3DEdelson%20%7Cfirst1%3DJessica%20R.%20%7Clast2%3DBrautigan%20%7Cfirst2%3DDavid%20L.%20%7Cdate%3D24%20January%202011%20%7Cjournal%3DToxins%20%7Cvolume%3D3%20%7Cissue%3D1%20%7Cpages%3D105%E2%80%93119%20%7Cdoi%3D10.3390%2Ftoxins3010105%20%7Cdoi-access%3Dfree%20%7Cpmid%3D22069692%20%7Cpmc%3D3210456%7D%7D&contentmodel=wikitext&format=json\n"
     ]
    }
   ],
   "source": [
    "test_cite = \"{{cite journal |title=The Discodermia calyx Toxin Calyculin A |last1=Edelson |first1=Jessica R. |last2=Brautigan |first2=David L. |date=24 January 2011 |journal=Toxins |volume=3 |issue=1 |pages=105–119 |doi=10.3390/toxins3010105 |doi-access=free |pmid=22069692 |pmc=3210456}}\"\n",
    "test_json = get_wikimedia_json(\"en\", test_cite, True)"
   ]
  },
  {
   "cell_type": "code",
   "execution_count": 5,
   "metadata": {},
   "outputs": [],
   "source": [
    "## un-comment to see result\n",
    "# test_json"
   ]
  },
  {
   "cell_type": "code",
   "execution_count": 6,
   "metadata": {},
   "outputs": [],
   "source": [
    "import re"
   ]
  },
  {
   "cell_type": "code",
   "execution_count": 7,
   "metadata": {},
   "outputs": [],
   "source": [
    "### find html element strings with href \n",
    "# INPUT:\n",
    "## json: json object returned by wikipedia parse\n",
    "# OUTPUT:\n",
    "## list of html strings with href \n",
    "def find_html_lst_from_json(json, verbose = False):\n",
    "    html_str = json[\"parse\"][\"text\"][\"*\"]\n",
    "        \n",
    "    if verbose: print(html_str)\n",
    "        \n",
    "    html_tags = [m.span() for m in re.finditer(r'<[^>]*>', html_str)]\n",
    "    \n",
    "    if verbose: print(html_tags)\n",
    "    has_href = []\n",
    "    for t_loc in html_tags:\n",
    "        start = t_loc[0]\n",
    "        end = t_loc[1]\n",
    "        substr = html_str[start:end]\n",
    "        if \"href\" in substr:\n",
    "            has_href.append(substr)\n",
    "    \n",
    "    return has_href"
   ]
  },
  {
   "cell_type": "code",
   "execution_count": 8,
   "metadata": {},
   "outputs": [
    {
     "data": {
      "text/plain": [
       "['<a rel=\"nofollow\" class=\"external text\" href=\"//www.ncbi.nlm.nih.gov/pmc/articles/PMC3210456\">',\n",
       " '<a href=\"/wiki/Doi_(identifier)\" class=\"mw-redirect\" title=\"Doi (identifier)\">',\n",
       " '<a rel=\"nofollow\" class=\"external text\" href=\"https://doi.org/10.3390%2Ftoxins3010105\">',\n",
       " '<a href=\"/wiki/PMC_(identifier)\" class=\"mw-redirect\" title=\"PMC (identifier)\">',\n",
       " '<a rel=\"nofollow\" class=\"external text\" href=\"//www.ncbi.nlm.nih.gov/pmc/articles/PMC3210456\">',\n",
       " '<a href=\"/wiki/PMID_(identifier)\" class=\"mw-redirect\" title=\"PMID (identifier)\">',\n",
       " '<a rel=\"nofollow\" class=\"external text\" href=\"//pubmed.ncbi.nlm.nih.gov/22069692\">']"
      ]
     },
     "execution_count": 8,
     "metadata": {},
     "output_type": "execute_result"
    }
   ],
   "source": [
    "test_html_lst = find_html_lst_from_json(test_json)\n",
    "test_html_lst"
   ]
  },
  {
   "cell_type": "code",
   "execution_count": 55,
   "metadata": {},
   "outputs": [],
   "source": [
    "### find html element strings with href \n",
    "# INPUT:\n",
    "## list of html strings with href \n",
    "# OUTPUT:\n",
    "## list of urls\n",
    "def find_urls(html_lst, verbose = False):\n",
    "    \n",
    "    urls = []\n",
    "    for element in html_lst:\n",
    "        element = re.sub(\"<\", \"\", element)\n",
    "        element = re.sub(\">\", \"\", element)\n",
    "        attr_lst = element.split()\n",
    "        \n",
    "        if verbose: print(attr_lst)\n",
    "            \n",
    "        for attr in attr_lst:\n",
    "            \n",
    "            if \"=\" in attr:\n",
    "                field_name = attr.split(\"=\")[0].strip()\n",
    "                field_content = attr.split(\"=\")[1].strip()\n",
    "                \n",
    "                if verbose:\n",
    "                    print(attr)\n",
    "                    print(field_name)\n",
    "                    print(field_content)\n",
    "                    \n",
    "                if \"href\" == field_name or \"href\" in field_name:\n",
    "                    \n",
    "                    if verbose: print(\"it's href\")\n",
    "                    \n",
    "#                     url_regex = \"(https?:\\/\\/(?:www\\.|(?!www))[a-zA-Z0-9][a-zA-Z0-9-]+[a-zA-Z0-9]\\.[^\\s]{2,}\"\n",
    "#                     url_regex += \"|www\\.[a-zA-Z0-9][a-zA-Z0-9-]+[a-zA-Z0-9]\\.[^\\s]{2,}\" \n",
    "#                     url_regex += \"|https?:\\/\\/(?:www\\.|(?!www))[a-zA-Z0-9]+\\.[^\\s]{2,}\" \n",
    "#                     url_regex += \"|www\\.[a-zA-Z0-9]+\\.[^\\s]{2,}(\\/\\[a-zA-Z0-9]+){1,}\"\n",
    "#                     url_regex += \"|[a-zA-Z0-9]+\\.[^\\s]{2,}(\\/\\[a-zA-Z0-9]+){1,})\" \n",
    "                    \n",
    "                    url_regex = r\"\\/\\/[a-zA-Z0-9]+\\.[^\\s]{2,}\"\n",
    "        \n",
    "                    if re.search(url_regex, field_content):\n",
    "                \n",
    "                        if verbose: \n",
    "                            print(\"match\")\n",
    "#                             print(field_content)\n",
    "                        \n",
    "                        urls.append(field_content)\n",
    "                        break\n",
    "                    else: \n",
    "                        if verbose: print('href content is not url')\n",
    "                        \n",
    "    return urls\n",
    "                "
   ]
  },
  {
   "cell_type": "code",
   "execution_count": 56,
   "metadata": {},
   "outputs": [
    {
     "name": "stdout",
     "output_type": "stream",
     "text": [
      "yay\n"
     ]
    }
   ],
   "source": [
    "url_regex = \"\\/\\/[a-zA-Z0-9]+\\.[^\\s]{2,}\"\n",
    "field_content = \"//www.ncbi.nlm.nih.gov/pmc/articles/PMC3210456\"\n",
    "if re.search(url_regex, field_content):\n",
    "    print(\"yay\")\n",
    "else: \n",
    "    print(\"nay\")"
   ]
  },
  {
   "cell_type": "code",
   "execution_count": 58,
   "metadata": {},
   "outputs": [
    {
     "data": {
      "text/plain": [
       "['\"//www.ncbi.nlm.nih.gov/pmc/articles/PMC3210456\"',\n",
       " '\"https://doi.org/10.3390%2Ftoxins3010105\"',\n",
       " '\"//www.ncbi.nlm.nih.gov/pmc/articles/PMC3210456\"',\n",
       " '\"//pubmed.ncbi.nlm.nih.gov/22069692\"']"
      ]
     },
     "execution_count": 58,
     "metadata": {},
     "output_type": "execute_result"
    }
   ],
   "source": [
    "find_urls(test_html_lst)"
   ]
  },
  {
   "cell_type": "code",
   "execution_count": 59,
   "metadata": {},
   "outputs": [],
   "source": [
    "### Main function to checking if auto url exists\n",
    "# Input:\n",
    "## language: wikipedia language (ex.en, tr)\n",
    "## citation: the citation input ({{cite journal}})\n",
    "# Output:\n",
    "## Boolean: True or False\n",
    "\n",
    "def autourl_exists(citation, language = \"en\", verbose = False):\n",
    "    \n",
    "    res_json = get_wikimedia_json(language, citation, verbose)\n",
    "    \n",
    "    html_lst = find_html_lst_from_json(res_json, verbose)\n",
    "    \n",
    "    urls = find_urls(html_lst, verbose)\n",
    "    \n",
    "    if urls == []:\n",
    "        return False\n",
    "    \n",
    "    return True\n",
    "        "
   ]
  },
  {
   "cell_type": "code",
   "execution_count": 60,
   "metadata": {},
   "outputs": [
    {
     "data": {
      "text/plain": [
       "True"
      ]
     },
     "execution_count": 60,
     "metadata": {},
     "output_type": "execute_result"
    }
   ],
   "source": [
    "autourl_exists(test_cite)"
   ]
  },
  {
   "cell_type": "markdown",
   "metadata": {},
   "source": [
    "### Mass test this"
   ]
  },
  {
   "cell_type": "code",
   "execution_count": 62,
   "metadata": {},
   "outputs": [
    {
     "name": "stderr",
     "output_type": "stream",
     "text": [
      "/Users/xinyuechen/.pyenv/versions/3.7.5/lib/python3.7/site-packages/pandas/compat/__init__.py:109: UserWarning: Could not import the lzma module. Your installed Python is incomplete. Attempting to use lzma compression will result in a RuntimeError.\n",
      "  warnings.warn(msg)\n"
     ]
    }
   ],
   "source": [
    "import pandas as pd"
   ]
  },
  {
   "cell_type": "code",
   "execution_count": 66,
   "metadata": {},
   "outputs": [
    {
     "data": {
      "text/html": [
       "<div>\n",
       "<style scoped>\n",
       "    .dataframe tbody tr th:only-of-type {\n",
       "        vertical-align: middle;\n",
       "    }\n",
       "\n",
       "    .dataframe tbody tr th {\n",
       "        vertical-align: top;\n",
       "    }\n",
       "\n",
       "    .dataframe thead th {\n",
       "        text-align: right;\n",
       "    }\n",
       "</style>\n",
       "<table border=\"1\" class=\"dataframe\">\n",
       "  <thead>\n",
       "    <tr style=\"text-align: right;\">\n",
       "      <th></th>\n",
       "      <th>a</th>\n",
       "      <th>u</th>\n",
       "      <th>c</th>\n",
       "    </tr>\n",
       "  </thead>\n",
       "  <tbody>\n",
       "    <tr>\n",
       "      <th>0</th>\n",
       "      <td>1 + 2 + 3 + 4 + · · ·</td>\n",
       "      <td></td>\n",
       "      <td>{{Akademik dergi kaynağı\\n| soyadı = Lepowsky ...</td>\n",
       "    </tr>\n",
       "    <tr>\n",
       "      <th>1</th>\n",
       "      <td>12 Victoria</td>\n",
       "      <td></td>\n",
       "      <td>{{Akademik dergi kaynağı\\n | ad1    = B.\\n | s...</td>\n",
       "    </tr>\n",
       "    <tr>\n",
       "      <th>2</th>\n",
       "      <td>1,3,5-Triklorobenzen</td>\n",
       "      <td></td>\n",
       "      <td>{{Akademik dergi kaynağı|soyadı=Jaw|ad=Ching-G...</td>\n",
       "    </tr>\n",
       "    <tr>\n",
       "      <th>3</th>\n",
       "      <td>141 Likya depremi</td>\n",
       "      <td></td>\n",
       "      <td>{{Akademik dergi kaynağı | url=http://blackmed...</td>\n",
       "    </tr>\n",
       "    <tr>\n",
       "      <th>4</th>\n",
       "      <td>141 Likya depremi</td>\n",
       "      <td></td>\n",
       "      <td>{{Akademik dergi kaynağı | url=http://www.nat-...</td>\n",
       "    </tr>\n",
       "  </tbody>\n",
       "</table>\n",
       "</div>"
      ],
      "text/plain": [
       "                       a u                                                  c\n",
       "0  1 + 2 + 3 + 4 + · · ·    {{Akademik dergi kaynağı\\n| soyadı = Lepowsky ...\n",
       "1            12 Victoria    {{Akademik dergi kaynağı\\n | ad1    = B.\\n | s...\n",
       "2   1,3,5-Triklorobenzen    {{Akademik dergi kaynağı|soyadı=Jaw|ad=Ching-G...\n",
       "3      141 Likya depremi    {{Akademik dergi kaynağı | url=http://blackmed...\n",
       "4      141 Likya depremi    {{Akademik dergi kaynağı | url=http://www.nat-..."
      ]
     },
     "execution_count": 66,
     "metadata": {},
     "output_type": "execute_result"
    }
   ],
   "source": [
    "journal_dump = pd.read_json(\"turkish_wiki_0621_first_3000_with_doi.json\", lines = True)\n",
    "journal_dump.head()"
   ]
  },
  {
   "cell_type": "code",
   "execution_count": 69,
   "metadata": {},
   "outputs": [
    {
     "data": {
      "text/plain": [
       "(100, 3)"
      ]
     },
     "execution_count": 69,
     "metadata": {},
     "output_type": "execute_result"
    }
   ],
   "source": [
    "df_100 = journal_dump.sample(n = 100)\n",
    "df_100.shape"
   ]
  },
  {
   "cell_type": "code",
   "execution_count": 70,
   "metadata": {},
   "outputs": [
    {
     "name": "stdout",
     "output_type": "stream",
     "text": [
      "CPU times: user 2.39 s, sys: 229 ms, total: 2.62 s\n",
      "Wall time: 55.4 s\n"
     ]
    }
   ],
   "source": [
    "%%time\n",
    "\n",
    "df_100[\"has_autourl\"] = df_100[\"c\"].apply(lambda x: autourl_exists(x, \"tr\"))"
   ]
  },
  {
   "cell_type": "code",
   "execution_count": 72,
   "metadata": {},
   "outputs": [
    {
     "data": {
      "text/html": [
       "<div>\n",
       "<style scoped>\n",
       "    .dataframe tbody tr th:only-of-type {\n",
       "        vertical-align: middle;\n",
       "    }\n",
       "\n",
       "    .dataframe tbody tr th {\n",
       "        vertical-align: top;\n",
       "    }\n",
       "\n",
       "    .dataframe thead th {\n",
       "        text-align: right;\n",
       "    }\n",
       "</style>\n",
       "<table border=\"1\" class=\"dataframe\">\n",
       "  <thead>\n",
       "    <tr style=\"text-align: right;\">\n",
       "      <th></th>\n",
       "      <th>a</th>\n",
       "      <th>u</th>\n",
       "      <th>c</th>\n",
       "      <th>has_autourl</th>\n",
       "    </tr>\n",
       "  </thead>\n",
       "  <tbody>\n",
       "    <tr>\n",
       "      <th>148</th>\n",
       "      <td>Aşı karşıtlığı</td>\n",
       "      <td></td>\n",
       "      <td>{{Akademik dergi kaynağı|başlık=Association Be...</td>\n",
       "      <td>True</td>\n",
       "    </tr>\n",
       "    <tr>\n",
       "      <th>312</th>\n",
       "      <td>Bordigizm</td>\n",
       "      <td></td>\n",
       "      <td>{{Akademik dergi kaynağı|soyadı1=Goldner|ad1=L...</td>\n",
       "      <td>True</td>\n",
       "    </tr>\n",
       "    <tr>\n",
       "      <th>130</th>\n",
       "      <td>Aristid von Grosse</td>\n",
       "      <td>https://archive.org/details/sim_science_1934-1...</td>\n",
       "      <td>{{akademik dergi kaynağı |ilk=Aristid |son=von...</td>\n",
       "      <td>True</td>\n",
       "    </tr>\n",
       "    <tr>\n",
       "      <th>221</th>\n",
       "      <td>Banksia marginata</td>\n",
       "      <td></td>\n",
       "      <td>{{Akademik dergi kaynağı|url=https://www.publi...</td>\n",
       "      <td>True</td>\n",
       "    </tr>\n",
       "    <tr>\n",
       "      <th>1730</th>\n",
       "      <td>Richard N. Zare</td>\n",
       "      <td></td>\n",
       "      <td>{{Akademik dergi kaynağı|başlık=Synchronized D...</td>\n",
       "      <td>False</td>\n",
       "    </tr>\n",
       "  </tbody>\n",
       "</table>\n",
       "</div>"
      ],
      "text/plain": [
       "                       a                                                  u  \\\n",
       "148       Aşı karşıtlığı                                                      \n",
       "312            Bordigizm                                                      \n",
       "130   Aristid von Grosse  https://archive.org/details/sim_science_1934-1...   \n",
       "221    Banksia marginata                                                      \n",
       "1730     Richard N. Zare                                                      \n",
       "\n",
       "                                                      c  has_autourl  \n",
       "148   {{Akademik dergi kaynağı|başlık=Association Be...         True  \n",
       "312   {{Akademik dergi kaynağı|soyadı1=Goldner|ad1=L...         True  \n",
       "130   {{akademik dergi kaynağı |ilk=Aristid |son=von...         True  \n",
       "221   {{Akademik dergi kaynağı|url=https://www.publi...         True  \n",
       "1730  {{Akademik dergi kaynağı|başlık=Synchronized D...        False  "
      ]
     },
     "execution_count": 72,
     "metadata": {},
     "output_type": "execute_result"
    }
   ],
   "source": [
    "df_100.head()"
   ]
  },
  {
   "cell_type": "markdown",
   "metadata": {},
   "source": [
    "### Has autourl"
   ]
  },
  {
   "cell_type": "code",
   "execution_count": 77,
   "metadata": {},
   "outputs": [
    {
     "data": {
      "text/html": [
       "<div>\n",
       "<style scoped>\n",
       "    .dataframe tbody tr th:only-of-type {\n",
       "        vertical-align: middle;\n",
       "    }\n",
       "\n",
       "    .dataframe tbody tr th {\n",
       "        vertical-align: top;\n",
       "    }\n",
       "\n",
       "    .dataframe thead th {\n",
       "        text-align: right;\n",
       "    }\n",
       "</style>\n",
       "<table border=\"1\" class=\"dataframe\">\n",
       "  <thead>\n",
       "    <tr style=\"text-align: right;\">\n",
       "      <th></th>\n",
       "      <th>a</th>\n",
       "      <th>u</th>\n",
       "      <th>c</th>\n",
       "      <th>has_autourl</th>\n",
       "    </tr>\n",
       "  </thead>\n",
       "  <tbody>\n",
       "    <tr>\n",
       "      <th>148</th>\n",
       "      <td>Aşı karşıtlığı</td>\n",
       "      <td></td>\n",
       "      <td>{{Akademik dergi kaynağı|başlık=Association Be...</td>\n",
       "      <td>True</td>\n",
       "    </tr>\n",
       "    <tr>\n",
       "      <th>312</th>\n",
       "      <td>Bordigizm</td>\n",
       "      <td></td>\n",
       "      <td>{{Akademik dergi kaynağı|soyadı1=Goldner|ad1=L...</td>\n",
       "      <td>True</td>\n",
       "    </tr>\n",
       "    <tr>\n",
       "      <th>130</th>\n",
       "      <td>Aristid von Grosse</td>\n",
       "      <td>https://archive.org/details/sim_science_1934-1...</td>\n",
       "      <td>{{akademik dergi kaynağı |ilk=Aristid |son=von...</td>\n",
       "      <td>True</td>\n",
       "    </tr>\n",
       "    <tr>\n",
       "      <th>221</th>\n",
       "      <td>Banksia marginata</td>\n",
       "      <td></td>\n",
       "      <td>{{Akademik dergi kaynağı|url=https://www.publi...</td>\n",
       "      <td>True</td>\n",
       "    </tr>\n",
       "    <tr>\n",
       "      <th>1747</th>\n",
       "      <td>RNA aşısı</td>\n",
       "      <td></td>\n",
       "      <td>{{Akademik dergi kaynağı|url=https://www.ncbi....</td>\n",
       "      <td>True</td>\n",
       "    </tr>\n",
       "  </tbody>\n",
       "</table>\n",
       "</div>"
      ],
      "text/plain": [
       "                       a                                                  u  \\\n",
       "148       Aşı karşıtlığı                                                      \n",
       "312            Bordigizm                                                      \n",
       "130   Aristid von Grosse  https://archive.org/details/sim_science_1934-1...   \n",
       "221    Banksia marginata                                                      \n",
       "1747           RNA aşısı                                                      \n",
       "\n",
       "                                                      c  has_autourl  \n",
       "148   {{Akademik dergi kaynağı|başlık=Association Be...         True  \n",
       "312   {{Akademik dergi kaynağı|soyadı1=Goldner|ad1=L...         True  \n",
       "130   {{akademik dergi kaynağı |ilk=Aristid |son=von...         True  \n",
       "221   {{Akademik dergi kaynağı|url=https://www.publi...         True  \n",
       "1747  {{Akademik dergi kaynağı|url=https://www.ncbi....         True  "
      ]
     },
     "execution_count": 77,
     "metadata": {},
     "output_type": "execute_result"
    }
   ],
   "source": [
    "df_100_auto = df_100[df_100[\"has_autourl\"]]\n",
    "df_100_auto.head()"
   ]
  },
  {
   "cell_type": "markdown",
   "metadata": {},
   "source": [
    "#### I generated url for it"
   ]
  },
  {
   "cell_type": "code",
   "execution_count": 81,
   "metadata": {},
   "outputs": [
    {
     "data": {
      "text/html": [
       "<div>\n",
       "<style scoped>\n",
       "    .dataframe tbody tr th:only-of-type {\n",
       "        vertical-align: middle;\n",
       "    }\n",
       "\n",
       "    .dataframe tbody tr th {\n",
       "        vertical-align: top;\n",
       "    }\n",
       "\n",
       "    .dataframe thead th {\n",
       "        text-align: right;\n",
       "    }\n",
       "</style>\n",
       "<table border=\"1\" class=\"dataframe\">\n",
       "  <thead>\n",
       "    <tr style=\"text-align: right;\">\n",
       "      <th></th>\n",
       "      <th>a</th>\n",
       "      <th>u</th>\n",
       "      <th>c</th>\n",
       "      <th>has_autourl</th>\n",
       "    </tr>\n",
       "  </thead>\n",
       "  <tbody>\n",
       "    <tr>\n",
       "      <th>130</th>\n",
       "      <td>Aristid von Grosse</td>\n",
       "      <td>https://archive.org/details/sim_science_1934-1...</td>\n",
       "      <td>{{akademik dergi kaynağı |ilk=Aristid |son=von...</td>\n",
       "      <td>True</td>\n",
       "    </tr>\n",
       "    <tr>\n",
       "      <th>2263</th>\n",
       "      <td>Tütünün sağlığa etkileri</td>\n",
       "      <td>https://archive.org/details/sim_epidemiology-a...</td>\n",
       "      <td>{{Akademik dergi kaynağı|başlık=Influenza A am...</td>\n",
       "      <td>True</td>\n",
       "    </tr>\n",
       "  </tbody>\n",
       "</table>\n",
       "</div>"
      ],
      "text/plain": [
       "                             a  \\\n",
       "130         Aristid von Grosse   \n",
       "2263  Tütünün sağlığa etkileri   \n",
       "\n",
       "                                                      u  \\\n",
       "130   https://archive.org/details/sim_science_1934-1...   \n",
       "2263  https://archive.org/details/sim_epidemiology-a...   \n",
       "\n",
       "                                                      c  has_autourl  \n",
       "130   {{akademik dergi kaynağı |ilk=Aristid |son=von...         True  \n",
       "2263  {{Akademik dergi kaynağı|başlık=Influenza A am...         True  "
      ]
     },
     "execution_count": 81,
     "metadata": {},
     "output_type": "execute_result"
    }
   ],
   "source": [
    "df_100_auto[df_100_auto[\"u\"] != \"\"]"
   ]
  },
  {
   "cell_type": "code",
   "execution_count": 82,
   "metadata": {},
   "outputs": [
    {
     "name": "stdout",
     "output_type": "stream",
     "text": [
      "Aristid von Grosse\n",
      "https://archive.org/details/sim_science_1934-12-07_80_2084\n",
      "{{akademik dergi kaynağı |ilk=Aristid |son=von Grosse |dergi=Science |yıl=1934 |başlık=Element 91 |cilt=80 |sayı=2084 |sayfalar=512-516|dil=İngilizce |doi=10.1126/science.80.2084.512 |pmid=17734249}}\n"
     ]
    }
   ],
   "source": [
    "print(df_100_auto.loc[130,\"a\"])\n",
    "print(df_100_auto.loc[130, \"u\"])\n",
    "print(df_100_auto.loc[130, \"c\"])"
   ]
  },
  {
   "cell_type": "code",
   "execution_count": 83,
   "metadata": {},
   "outputs": [
    {
     "name": "stdout",
     "output_type": "stream",
     "text": [
      "Tütünün sağlığa etkileri\n",
      "https://archive.org/details/sim_epidemiology-and-infection_1999-08_123_1\n",
      "{{Akademik dergi kaynağı|başlık=Influenza A among community-dwelling elderly persons in Leicestershire during winter 1993-4; cigarette smoking as a risk factor and the efficacy of influenza vaccination|tarih=August 1999|sayı=1|sayfalar=103-8|çalışma=Epidemiology and Infection|cilt=123|pmc=2810733|pmid=10487646|doi=10.1017/S095026889900271X}}\n"
     ]
    }
   ],
   "source": [
    "print(df_100_auto.loc[2263,\"a\"])\n",
    "print(df_100_auto.loc[2263, \"u\"])\n",
    "print(df_100_auto.loc[2263, \"c\"])"
   ]
  },
  {
   "cell_type": "markdown",
   "metadata": {},
   "source": [
    "### Does not have url"
   ]
  },
  {
   "cell_type": "code",
   "execution_count": 84,
   "metadata": {},
   "outputs": [
    {
     "data": {
      "text/html": [
       "<div>\n",
       "<style scoped>\n",
       "    .dataframe tbody tr th:only-of-type {\n",
       "        vertical-align: middle;\n",
       "    }\n",
       "\n",
       "    .dataframe tbody tr th {\n",
       "        vertical-align: top;\n",
       "    }\n",
       "\n",
       "    .dataframe thead th {\n",
       "        text-align: right;\n",
       "    }\n",
       "</style>\n",
       "<table border=\"1\" class=\"dataframe\">\n",
       "  <thead>\n",
       "    <tr style=\"text-align: right;\">\n",
       "      <th></th>\n",
       "      <th>a</th>\n",
       "      <th>u</th>\n",
       "      <th>c</th>\n",
       "      <th>has_autourl</th>\n",
       "    </tr>\n",
       "  </thead>\n",
       "  <tbody>\n",
       "    <tr>\n",
       "      <th>1730</th>\n",
       "      <td>Richard N. Zare</td>\n",
       "      <td></td>\n",
       "      <td>{{Akademik dergi kaynağı|başlık=Synchronized D...</td>\n",
       "      <td>False</td>\n",
       "    </tr>\n",
       "    <tr>\n",
       "      <th>1698</th>\n",
       "      <td>Radyasyon hasarı</td>\n",
       "      <td></td>\n",
       "      <td>{{Akademik dergi kaynağı|başlık=Mechanism for ...</td>\n",
       "      <td>False</td>\n",
       "    </tr>\n",
       "    <tr>\n",
       "      <th>1512</th>\n",
       "      <td>Pedro de Palol</td>\n",
       "      <td></td>\n",
       "      <td>{{Akademik dergi kaynağı|başlık=Arqueología cr...</td>\n",
       "      <td>False</td>\n",
       "    </tr>\n",
       "    <tr>\n",
       "      <th>734</th>\n",
       "      <td>Hazırlama etkisi</td>\n",
       "      <td></td>\n",
       "      <td>{{Akademik dergi kaynağı|başlık=Masked priming...</td>\n",
       "      <td>False</td>\n",
       "    </tr>\n",
       "    <tr>\n",
       "      <th>1465</th>\n",
       "      <td>Pedro de Palol</td>\n",
       "      <td></td>\n",
       "      <td>{{Akademik dergi kaynağı|başlık=Cabeza femenin...</td>\n",
       "      <td>False</td>\n",
       "    </tr>\n",
       "  </tbody>\n",
       "</table>\n",
       "</div>"
      ],
      "text/plain": [
       "                     a u                                                  c  \\\n",
       "1730   Richard N. Zare    {{Akademik dergi kaynağı|başlık=Synchronized D...   \n",
       "1698  Radyasyon hasarı    {{Akademik dergi kaynağı|başlık=Mechanism for ...   \n",
       "1512    Pedro de Palol    {{Akademik dergi kaynağı|başlık=Arqueología cr...   \n",
       "734   Hazırlama etkisi    {{Akademik dergi kaynağı|başlık=Masked priming...   \n",
       "1465    Pedro de Palol    {{Akademik dergi kaynağı|başlık=Cabeza femenin...   \n",
       "\n",
       "      has_autourl  \n",
       "1730        False  \n",
       "1698        False  \n",
       "1512        False  \n",
       "734         False  \n",
       "1465        False  "
      ]
     },
     "execution_count": 84,
     "metadata": {},
     "output_type": "execute_result"
    }
   ],
   "source": [
    "df_100_no_auto = df_100[df_100[\"has_autourl\"]==False]\n",
    "df_100_no_auto.head()"
   ]
  },
  {
   "cell_type": "code",
   "execution_count": 87,
   "metadata": {},
   "outputs": [
    {
     "data": {
      "text/html": [
       "<div>\n",
       "<style scoped>\n",
       "    .dataframe tbody tr th:only-of-type {\n",
       "        vertical-align: middle;\n",
       "    }\n",
       "\n",
       "    .dataframe tbody tr th {\n",
       "        vertical-align: top;\n",
       "    }\n",
       "\n",
       "    .dataframe thead th {\n",
       "        text-align: right;\n",
       "    }\n",
       "</style>\n",
       "<table border=\"1\" class=\"dataframe\">\n",
       "  <thead>\n",
       "    <tr style=\"text-align: right;\">\n",
       "      <th></th>\n",
       "      <th>a</th>\n",
       "      <th>u</th>\n",
       "      <th>c</th>\n",
       "      <th>has_autourl</th>\n",
       "    </tr>\n",
       "  </thead>\n",
       "  <tbody>\n",
       "  </tbody>\n",
       "</table>\n",
       "</div>"
      ],
      "text/plain": [
       "Empty DataFrame\n",
       "Columns: [a, u, c, has_autourl]\n",
       "Index: []"
      ]
     },
     "execution_count": 87,
     "metadata": {},
     "output_type": "execute_result"
    }
   ],
   "source": [
    "df_100_no_auto[df_100_no_auto[\"u\"] != \"\"]"
   ]
  },
  {
   "cell_type": "code",
   "execution_count": 86,
   "metadata": {},
   "outputs": [
    {
     "name": "stdout",
     "output_type": "stream",
     "text": [
      "Richard N. Zare\n",
      "\n",
      "{{Akademik dergi kaynağı|başlık=Synchronized Desorption Electrospray Ionization Mass Spectrometry Imaging|yazarlar=Comi|tarih=19 Ocak 2016|sayı=2|sayfalar=1169-1175|çalışma=Analytical Chemistry|cilt=88}}\n"
     ]
    }
   ],
   "source": [
    "print(df_100_no_auto.loc[1730, \"a\"])\n",
    "print(df_100_no_auto.loc[1730, \"u\"])\n",
    "print(df_100_no_auto.loc[1730, \"c\"])"
   ]
  },
  {
   "cell_type": "code",
   "execution_count": 88,
   "metadata": {},
   "outputs": [
    {
     "name": "stdout",
     "output_type": "stream",
     "text": [
      "Hazırlama etkisi\n",
      "\n",
      "{{Akademik dergi kaynağı|başlık=Masked priming with graphemically related forms: Repetition or partial activation?|sayı=2|sayfalar=211-251|çalışma=The Quarterly Journal of Experimental Psychology A|yıl=1987|cilt=39A}}\n"
     ]
    }
   ],
   "source": [
    "print(df_100_no_auto.loc[734, \"a\"])\n",
    "print(df_100_no_auto.loc[734, \"u\"])\n",
    "print(df_100_no_auto.loc[734, \"c\"])"
   ]
  },
  {
   "cell_type": "code",
   "execution_count": null,
   "metadata": {},
   "outputs": [],
   "source": []
  }
 ],
 "metadata": {
  "kernelspec": {
   "display_name": "Python 3",
   "language": "python",
   "name": "python3"
  },
  "language_info": {
   "codemirror_mode": {
    "name": "ipython",
    "version": 3
   },
   "file_extension": ".py",
   "mimetype": "text/x-python",
   "name": "python",
   "nbconvert_exporter": "python",
   "pygments_lexer": "ipython3",
   "version": "3.7.5"
  }
 },
 "nbformat": 4,
 "nbformat_minor": 4
}
