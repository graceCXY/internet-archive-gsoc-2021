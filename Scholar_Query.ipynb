{
 "cells": [
  {
   "cell_type": "markdown",
   "metadata": {},
   "source": [
    "# Scholar Queries"
   ]
  },
  {
   "cell_type": "markdown",
   "metadata": {},
   "source": [
    "### Example \n",
    "- https://scholar.archive.org/search?q=Ventral+and+dorsal+pathways+for+language+type%3Aarticle-journal+AND+year%3A%3C2022++AND+access_type%3Awayback"
   ]
  },
  {
   "cell_type": "markdown",
   "metadata": {},
   "source": [
    "## Citation Preprocessing"
   ]
  },
  {
   "cell_type": "code",
   "execution_count": 5,
   "metadata": {},
   "outputs": [
    {
     "name": "stdout",
     "output_type": "stream",
     "text": [
      "{{Akademik dergi kaynağı|başlık=Lifetime probability of developing lung cancer, by smoking status, Canada|sayı=6|sayfalar=385-8|çalışma=Canadian Journal of Public Health|yıl=1994|cilt=85|pmid=7895211}}\n",
      "{'journal': 'Canadian Journal of Public Health', 'date': '1994', 'year': 1994, 'volume': '85', 'issue': '6', 'title': 'Lifetime probability of developing lung cancer, by smoking status, Canada', 'author': [], 'page': '385', 'url': '', 'external_ids': {'pmid': '7895211'}}\n",
      "{'journal': 'Canadian Journal of Public Health', 'date': '1994', 'year': 1994, 'volume': '85', 'issue': '6', 'title': 'Lifetime probability of developing lung cancer, by smoking status, Canada', 'author': [], 'page': '385', 'url': '', 'external_ids': {'pmid': '7895211'}}\n",
      "There is already an existing doi link.\n",
      "False\n"
     ]
    },
    {
     "name": "stderr",
     "output_type": "stream",
     "text": [
      "/Users/xinyuechen/.pyenv/versions/3.7.5/lib/python3.7/site-packages/pandas/compat/__init__.py:109: UserWarning: Could not import the lzma module. Your installed Python is incomplete. Attempting to use lzma compression will result in a RuntimeError.\n",
      "  warnings.warn(msg)\n"
     ]
    },
    {
     "name": "stdout",
     "output_type": "stream",
     "text": [
      "(56136, 3)\n",
      "(37333, 3)\n",
      "{{Akademik dergi kaynağı|başlık=Lifetime probability of developing lung cancer, by smoking status, Canada|sayı=6|sayfalar=385-8|çalışma=Canadian Journal of Public Health|yıl=1994|cilt=85|pmid=7895211}}\n",
      "There is already an existing doi link.\n",
      "This citaiton does not have all relevant info, or contains external identifiers.\n",
      "Err1\n",
      "14960\n",
      "(87, 3)\n",
      "(1, 3)\n",
      "(12, 3)\n"
     ]
    }
   ],
   "source": [
    "from ipynb.fs.full.Citation_Preprocessing import *"
   ]
  },
  {
   "cell_type": "code",
   "execution_count": 7,
   "metadata": {},
   "outputs": [
    {
     "name": "stdout",
     "output_type": "stream",
     "text": [
      "{{cite journal |title=The Discodermia calyx Toxin Calyculin A |last1=Edelson |first1=Jessica R. |last2=Brautigan |first2=David L. |date=24 January 2011 |journal=Toxins |volume=3 |issue=1 |pages=105–119 |doi=10.3390/toxins3010105 |doi-access=free |pmid=22069692 |pmc=3210456}}\n",
      "{'journal': 'Toxins', 'date': '2011-01', 'year': 2011, 'volume': '3', 'issue': '1', 'title': 'The Discodermia calyx Toxin Calyculin A', 'author': ['Jessica R. Edelson', 'David L. Brautigan'], 'page': '105', 'url': '', 'external_ids': {'doi': '10.3390/toxins3010105', 'pmid': '22069692', 'pmc': '3210456'}}\n"
     ]
    }
   ],
   "source": [
    "test_cite6 = \"{{cite journal |title=The Discodermia calyx Toxin Calyculin A |last1=Edelson |first1=Jessica R. |last2=Brautigan |first2=David L. |date=24 January 2011 |journal=Toxins |volume=3 |issue=1 |pages=105–119 |doi=10.3390/toxins3010105 |doi-access=free |pmid=22069692 |pmc=3210456}}\"\n",
    "print(test_cite6)\n",
    "\n",
    "cite_info6 = parse_citation_data(test_cite6)\n",
    "print(cite_info6)"
   ]
  },
  {
   "cell_type": "markdown",
   "metadata": {},
   "source": [
    "## Generate Query String"
   ]
  },
  {
   "cell_type": "code",
   "execution_count": 19,
   "metadata": {},
   "outputs": [],
   "source": [
    "def generate_url_content(cite_info):\n",
    "    url_fields = []\n",
    "    \n",
    "    if cite_info[\"title\"] != \"\":\n",
    "        url_fields.append(cite_info[\"title\"])\n",
    "        \n",
    "    if cite_info[\"year\"] != 0:\n",
    "        url_fields.append(\"year:\" + str(cite_info[\"year\"]))\n",
    "        \n",
    "    url_fields.append(\"type:article-journal\")\n",
    "    url_fields.append(\"access_type:wayback\")\n",
    "\n",
    "    url_content = \" AND \".join(url_fields)\n",
    "    \n",
    "    return url_content"
   ]
  },
  {
   "cell_type": "code",
   "execution_count": 20,
   "metadata": {},
   "outputs": [
    {
     "data": {
      "text/plain": [
       "'The Discodermia calyx Toxin Calyculin A AND year:2011 AND type:article-journal AND access_type:wayback'"
      ]
     },
     "execution_count": 20,
     "metadata": {},
     "output_type": "execute_result"
    }
   ],
   "source": [
    "url_content6 = generate_url_content(cite_info6)\n",
    "url_content6"
   ]
  },
  {
   "cell_type": "code",
   "execution_count": null,
   "metadata": {},
   "outputs": [],
   "source": []
  },
  {
   "cell_type": "markdown",
   "metadata": {},
   "source": [
    "## Make Searches"
   ]
  },
  {
   "cell_type": "code",
   "execution_count": 21,
   "metadata": {},
   "outputs": [],
   "source": [
    "import requests\n",
    "import urllib.parse\n",
    "import json"
   ]
  },
  {
   "cell_type": "code",
   "execution_count": 24,
   "metadata": {},
   "outputs": [],
   "source": [
    "def search_fatcat_cite_info(url_content, verbose = False):\n",
    "    \n",
    "    url_header = \"https://scholar.archive.org/search?q=\"\n",
    "\n",
    "    url = url_header + urllib.parse.quote_plus(url_content)\n",
    "    \n",
    "    if verbose:\n",
    "        print(url)\n",
    "    \n",
    "    # make http request\n",
    "    request = requests.get(url, timeout = 10)\n",
    "    \n",
    "    if request.status_code == 200:\n",
    "        return request.content\n",
    "    else:\n",
    "        return \"\"\n"
   ]
  },
  {
   "cell_type": "code",
   "execution_count": 29,
   "metadata": {},
   "outputs": [
    {
     "name": "stdout",
     "output_type": "stream",
     "text": [
      "https://scholar.archive.org/search?q=The+Discodermia+calyx+Toxin+Calyculin+A+AND+year%3A2011+AND+type%3Aarticle-journal+AND+access_type%3Awayback\n"
     ]
    }
   ],
   "source": [
    "search_res_html6 = search_fatcat_cite_info(url_content6, verbose = True)\n",
    "# html6"
   ]
  },
  {
   "cell_type": "code",
   "execution_count": 31,
   "metadata": {},
   "outputs": [
    {
     "data": {
      "text/plain": [
       "'<!DOCTYPE html>\\n<html lang=\"en\" style=\"position: relative; min-height: 100%; height: auto;\" >\\n<head>\\n  <meta charset=\"utf-8\" />\\n  <meta name=\"viewport\" content=\"width=device-width, initial-scale=1.0\">\\n  <meta name=\"referrer\" content=\"origin-when-cross-origin\">\\n    <meta http-equiv=\"onion-location\" content=\"//scholar.archivev3qli37bju4rlh27glh24lljyezwxf4pokmrdbpefjlcrp5id.onion\">  <title>The Discodermia calyx Toxin Calyculin A AND year:2011 AND type:article-journal AND access_type:wayback - Internet Archive Scholar\\n  </title>\\n  <link rel=\"stylesheet\"\\n    href=\"/static/scholar-semantic-ui.v2.4.2.min.css\"\\n    type=\"text/css\">\\n  <link rel=\"stylesheet\"\\n    href=\"/static/scholar.css\"\\n    type=\"text/css\">\\n  <style>\\n  </style>\\n  <link rel=\"icon\" \\n    type=\"image/x-icon\" \\n    href=\"/static/ia-favicon.ico\">\\n<link rel=\"canonical\" href=\"/search\">\\n</head>\\n\\n<body>\\n<nav class=\"ui inverted menu\" style=\"margin: 0;\" dir=\"ltr\">\\n  <div class=\"ui container\">\\n    <a href=\"https://archive.org/\" class=\"header item\">\\n      <img class=\"logo\" src=\"/static/ia-logo.svg\" style=\"width: 20px;\" alt=\"\">\\n      <img class=\"mobile-hide\" src=\"/static/ia-wordmark.svg\" style=\"margin-left: 10px; width: 180px;\" alt=\"Internet Archive\">\\n    </a>\\n    <span style=\"margin-top: 0.5em;\">\\n      <a class=\"ui grey label\" href=\"/help#bugs\"><i>beta</i></a>\\n    </span>\\n\\n    <div class=\"right menu\">\\n      <div class=\"ui simple dropdown item translate-dropdown\" aria-expanded=\"false\" role=\"menu\" aria-controls=\"language_menu\" title=\"language selection menu\">\\n        <div class=\"translate-icon\"></div>\\n        <i class=\"dropdown icon\" style=\"margin-left: 0.2em;\"></i>\\n        <div id=\"language_menu\" class=\"menu\">\\n            <a role=\"menuitem\" class=\"item\" href=\"/en/\">English</a>\\n            <a role=\"menuitem\" class=\"item\" href=\"/ar/\">عَرَبِيّ</a>\\n            <a role=\"menuitem\" class=\"item\" href=\"/de/\">Deutsch</a>\\n            <a role=\"menuitem\" class=\"item\" href=\"/el/\">ελληνικά</a>\\n            <a role=\"menuitem\" class=\"item\" href=\"/es/\">Español</a>\\n            <a role=\"menuitem\" class=\"item\" href=\"/fa/\">فارسی</a>\\n            <a role=\"menuitem\" class=\"item\" href=\"/fr/\">Français</a>\\n            <a role=\"menuitem\" class=\"item\" href=\"/hr/\">Hrvatski</a>\\n            <a role=\"menuitem\" class=\"item\" href=\"/it/\">Italiano</a>\\n            <a role=\"menuitem\" class=\"item\" href=\"/ko/\">한국어</a>\\n            <a role=\"menuitem\" class=\"item\" href=\"/nb/\">Norwegian Bokmål</a>\\n            <a role=\"menuitem\" class=\"item\" href=\"/nl/\">Nederlands</a>\\n            <a role=\"menuitem\" class=\"item\" href=\"/pt/\">Português</a>\\n            <a role=\"menuitem\" class=\"item\" href=\"/ru/\">Русский</a>\\n            <a role=\"menuitem\" class=\"item\" href=\"/zh/\">中文</a>\\n            <div class=\"divider\"></div>\\n            <a class=\"item\" href=\"https://hosted.weblate.org/projects/internetarchive/fatcat-scholar/\">Contribute to translations</a>\\n        </div>\\n      </div>\\n    </div>\\n  </div>\\n</nav>\\n\\n<div class=\"ui vertical stripe segment\" style=\"background-color: #dedede;\">\\n  <div class=\"ui container\" style=\"padding-top: 1em; padding-bottom: 0; padding-left: 0; padding-right: 0;\">\\n    <div class=\"ui equal height stackable grid\">\\n      <div class=\"ui four wide column\" style=\"padding-bottom: 0;\">\\n        <div style=\"display: flex; justify-content: center; align-items: center; height: 100%; width: 100%;\">\\n          <a href=\"/\">\\n            <img src=\"/static/scholar-vaporwave-logo-small.png\" alt=\"Internet Archive Scholar\" style=\"width: 200px; margin-top: -1.5em;\">\\n          </a>\\n        </div>\\n      </div>\\n      <div class=\"ui twelve wide column\">\\n        <form class=\"\" id=\"search_form\" name=\"search_form\" action=\"/search\" method=\"get\" role=\"search\" itemprop=\"potentialAction\" itemscope itemtype=\"https://schema.org/SearchAction\">\\n          <meta itemprop=\"target\" content=\"/search?q={q}\"/>\\n          <div class=\"ui form\">\\n            <div class=\"ui action input large fluid\">\\n              <input type=\"search\" placeholder=\"by title, authors, keywords...\" name=\"q\" aria-label=\"search for papers\" required itemprop=\"query-input\" style=\"border-radius: 0; border: 1px #999 solid;\" value=\"The Discodermia calyx Toxin Calyculin A AND year:2011 AND type:article-journal AND access_type:wayback\">\\n              <button id=\"search_submit_button\" class=\"ui green button\" style=\"border-radius: 0; background-color: #44a25a; font-size: 1.2rem;\">Search</button>\\n                <!-- parsed query: The Discodermia calyx Toxin Calyculin A AND year:2011 AND type:article-journal AND access_type:wayback -->\\n            </div>\\n          </div>\\n        </form>\\n        <div style=\"display: flex; width: 100%; justify-content: space-between; padding-top: 0.5em;\">\\n          <div></div>\\n          <div>\\n            <a rel=\"help\" href=\"/help\" style=\"order: -1;\">User Guide</a>\\n          </div>\\n        </div>\\n      </div>\\n    </div>\\n  </div>\\n</div>\\n<main class=\"ui main container\" style=\"min-height: calc(100vh - 30em);\">\\n\\n<!-- these hidden query fields should be *before* any form/button that could override them -->\\n\\n\\n\\n\\n\\n<div class=\"tablet-only\" style=\"margin-top: 1.0em;\">\\n\\n  <details class=\"search-filters\">\\n    <summary><i class=\"filter icon\"></i>Filters</summary>\\n    <div class=\"tablet-filter-bar\">\\n      <div>\\n  <label class=\"filter-label\" for=\"filter_time\">Release Date</label>\\n  <br>\\n  <div class=\"ui link list\" style=\"margin-top: 0.3em;\">\\n      <button class=\"text-button\" form=\"search_form\" type=\"submit\" name=\"filter_time\" value=\"all_time\">\\n          <span style=\"font-weight: bold;\">\\n        All Time\\n        </span>\\n      </button>\\n      <br>\\n      <button class=\"text-button\" form=\"search_form\" type=\"submit\" name=\"filter_time\" value=\"past_week\">\\n          <span>\\n        Past Week\\n        </span>\\n      </button>\\n      <br>\\n      <button class=\"text-button\" form=\"search_form\" type=\"submit\" name=\"filter_time\" value=\"past_year\">\\n          <span>\\n        Past Year\\n        </span>\\n      </button>\\n      <br>\\n      <button class=\"text-button\" form=\"search_form\" type=\"submit\" name=\"filter_time\" value=\"since_2000\">\\n          <span>\\n        Since 2000\\n        </span>\\n      </button>\\n      <br>\\n      <button class=\"text-button\" form=\"search_form\" type=\"submit\" name=\"filter_time\" value=\"before_1925\">\\n          <span>\\n        Before 1925\\n        </span>\\n      </button>\\n      <br>\\n  </div>\\n</div>\\n<br>\\n\\n      <div>\\n  <label class=\"filter-label\" for=\"filter_type\">Resource Type</label>\\n  <br>\\n  <div class=\"ui link list\" style=\"margin-top: 0.3em;\">\\n      <button class=\"text-button\" form=\"search_form\" type=\"submit\" name=\"filter_type\" value=\"papers\">\\n          <span style=\"font-weight: bold;\">\\n        Papers\\n        </span>\\n      </button>\\n      <br>\\n      <button class=\"text-button\" form=\"search_form\" type=\"submit\" name=\"filter_type\" value=\"reports\">\\n          <span>\\n        Reports\\n        </span>\\n      </button>\\n      <br>\\n      <button class=\"text-button\" form=\"search_form\" type=\"submit\" name=\"filter_type\" value=\"datasets\">\\n          <span>\\n        Datasets\\n        </span>\\n      </button>\\n      <br>\\n      <button class=\"text-button\" form=\"search_form\" type=\"submit\" name=\"filter_type\" value=\"everything\">\\n          <span>\\n        Everything\\n        </span>\\n      </button>\\n      <br>\\n  </div>\\n</div>\\n<br>\\n\\n      <div>\\n  <label class=\"filter-label\" for=\"filter_availability\">Availability</label>\\n  <br>\\n  <div class=\"ui link list\" style=\"margin-top: 0.3em;\">\\n      <button class=\"text-button\" form=\"search_form\" type=\"submit\" name=\"filter_availability\" value=\"fulltext\">\\n          <span style=\"font-weight: bold;\">\\n        Fulltext\\n        </span>\\n      </button>\\n      <br>\\n      <button class=\"text-button\" form=\"search_form\" type=\"submit\" name=\"filter_availability\" value=\"microfilm\">\\n          <span>\\n        Microfilm\\n        </span>\\n      </button>\\n      <br>\\n      <button class=\"text-button\" form=\"search_form\" type=\"submit\" name=\"filter_availability\" value=\"oa\">\\n          <span>\\n        Open Access\\n        </span>\\n      </button>\\n      <br>\\n      <button class=\"text-button\" form=\"search_form\" type=\"submit\" name=\"filter_availability\" value=\"everything\">\\n          <span>\\n        Metadata\\n        </span>\\n      </button>\\n      <br>\\n  </div>\\n</div>\\n<br>\\n\\n      <div>\\n  <label class=\"filter-label\" for=\"sort_order\">Sort Order</label>\\n  <br>\\n  <div class=\"ui link list\" style=\"margin-top: 0.3em;\">\\n      <button class=\"text-button\" form=\"search_form\" type=\"submit\" name=\"sort_order\" value=\"relevancy\">\\n          <span style=\"font-weight: bold;\">\\n        Relevancy\\n        </span>\\n      </button>\\n      <br>\\n      <button class=\"text-button\" form=\"search_form\" type=\"submit\" name=\"sort_order\" value=\"time_desc\">\\n          <span>\\n        Recent First\\n        </span>\\n      </button>\\n      <br>\\n      <button class=\"text-button\" form=\"search_form\" type=\"submit\" name=\"sort_order\" value=\"time_asc\">\\n          <span>\\n        Oldest First\\n        </span>\\n      </button>\\n      <br>\\n  </div>\\n</div>\\n<br>\\n\\n      \\n    </div>\\n  </details>\\n\\n    <span class=\"hit-count\" style=\"font-size: 1.5em;\">2</span>\\nHits    <span style=\"color: rgba(0,0,0,0.55);\">\\nin     0.25\\nsec    </span>\\n</div>\\n\\n<div class=\"ui equal height divided grid\" style=\"margin-top: 1em;\">\\n\\n  <nav class=\"ui tablet-hide two wide column\">\\n      <div style=\"width: 100%; text-align: end;\">\\n        <span class=\"hit-count\" style=\"display: block; font-size: 2.0em;\">\\n          2\\n        </span>\\nHits      </div>\\n      <div style=\"text-align: end;\">\\n        <span style=\"color: rgba(0,0,0,0.55);\">\\nin     0.25\\nsec        </span>\\n      </div>\\n      <div class=\"ui clearing divider\"></div>\\n\\n    <div class = \"filter-bar\">\\n      <div>\\n  <label class=\"filter-label\" for=\"filter_time\">Release Date</label>\\n  <br>\\n  <div class=\"ui link list\" style=\"margin-top: 0.3em;\">\\n      <button class=\"text-button\" form=\"search_form\" type=\"submit\" name=\"filter_time\" value=\"all_time\">\\n          <span style=\"font-weight: bold;\">\\n        All Time\\n        </span>\\n      </button>\\n      <br>\\n      <button class=\"text-button\" form=\"search_form\" type=\"submit\" name=\"filter_time\" value=\"past_week\">\\n          <span>\\n        Past Week\\n        </span>\\n      </button>\\n      <br>\\n      <button class=\"text-button\" form=\"search_form\" type=\"submit\" name=\"filter_time\" value=\"past_year\">\\n          <span>\\n        Past Year\\n        </span>\\n      </button>\\n      <br>\\n      <button class=\"text-button\" form=\"search_form\" type=\"submit\" name=\"filter_time\" value=\"since_2000\">\\n          <span>\\n        Since 2000\\n        </span>\\n      </button>\\n      <br>\\n      <button class=\"text-button\" form=\"search_form\" type=\"submit\" name=\"filter_time\" value=\"before_1925\">\\n          <span>\\n        Before 1925\\n        </span>\\n      </button>\\n      <br>\\n  </div>\\n</div>\\n<br>\\n\\n      <div>\\n  <label class=\"filter-label\" for=\"filter_type\">Resource Type</label>\\n  <br>\\n  <div class=\"ui link list\" style=\"margin-top: 0.3em;\">\\n      <button class=\"text-button\" form=\"search_form\" type=\"submit\" name=\"filter_type\" value=\"papers\">\\n          <span style=\"font-weight: bold;\">\\n        Papers\\n        </span>\\n      </button>\\n      <br>\\n      <button class=\"text-button\" form=\"search_form\" type=\"submit\" name=\"filter_type\" value=\"reports\">\\n          <span>\\n        Reports\\n        </span>\\n      </button>\\n      <br>\\n      <button class=\"text-button\" form=\"search_form\" type=\"submit\" name=\"filter_type\" value=\"datasets\">\\n          <span>\\n        Datasets\\n        </span>\\n      </button>\\n      <br>\\n      <button class=\"text-button\" form=\"search_form\" type=\"submit\" name=\"filter_type\" value=\"everything\">\\n          <span>\\n        Everything\\n        </span>\\n      </button>\\n      <br>\\n  </div>\\n</div>\\n<br>\\n\\n      <div>\\n  <label class=\"filter-label\" for=\"filter_availability\">Availability</label>\\n  <br>\\n  <div class=\"ui link list\" style=\"margin-top: 0.3em;\">\\n      <button class=\"text-button\" form=\"search_form\" type=\"submit\" name=\"filter_availability\" value=\"fulltext\">\\n          <span style=\"font-weight: bold;\">\\n        Fulltext\\n        </span>\\n      </button>\\n      <br>\\n      <button class=\"text-button\" form=\"search_form\" type=\"submit\" name=\"filter_availability\" value=\"microfilm\">\\n          <span>\\n        Microfilm\\n        </span>\\n      </button>\\n      <br>\\n      <button class=\"text-button\" form=\"search_form\" type=\"submit\" name=\"filter_availability\" value=\"oa\">\\n          <span>\\n        Open Access\\n        </span>\\n      </button>\\n      <br>\\n      <button class=\"text-button\" form=\"search_form\" type=\"submit\" name=\"filter_availability\" value=\"everything\">\\n          <span>\\n        Metadata\\n        </span>\\n      </button>\\n      <br>\\n  </div>\\n</div>\\n<br>\\n\\n      <div>\\n  <label class=\"filter-label\" for=\"sort_order\">Sort Order</label>\\n  <br>\\n  <div class=\"ui link list\" style=\"margin-top: 0.3em;\">\\n      <button class=\"text-button\" form=\"search_form\" type=\"submit\" name=\"sort_order\" value=\"relevancy\">\\n          <span style=\"font-weight: bold;\">\\n        Relevancy\\n        </span>\\n      </button>\\n      <br>\\n      <button class=\"text-button\" form=\"search_form\" type=\"submit\" name=\"sort_order\" value=\"time_desc\">\\n          <span>\\n        Recent First\\n        </span>\\n      </button>\\n      <br>\\n      <button class=\"text-button\" form=\"search_form\" type=\"submit\" name=\"sort_order\" value=\"time_asc\">\\n          <span>\\n        Oldest First\\n        </span>\\n      </button>\\n      <br>\\n  </div>\\n</div>\\n<br>\\n\\n      \\n    </div>\\n    \\n  </nav>\\n\\n  <div class=\"ui fourteen wide column serp-column\">\\n\\n          <div class=\"ui stackable doubling grid\">\\n<div class=\"thirteen wide column biblio-record\">\\n\\n<details class=\"title-dropdown\" >\\n<summary>\\n  <h3 class=\"biblio-title\">\\n\\n      <span class=\"link\">\\n          The Discodermia calyx Toxin Calyculin A Enhances Cyclin D1 Phosphorylation and Degradation, and Arrests Cell Cycle Progression in Human Breast Cancer Cells\\n      </span>\\n      <span class=\"release-type\" >\\n      </span>\\n\\n\\n\\n  </h3>\\n\\n    <div class=\"author-row\">\\n    Jessica R. Edelson, David L. Brautigan\\n    </div>\\n\\n\\n      <span title=\"2011-01-24\">2011</span>\\n    <i title=\"MDPI AG\">\\n      <a target=\"_blank\" rel=\"noopener\" href=\"https://fatcat.wiki/container/dg6crjwlojavhafr4a4zr3xi5y\" style=\"color: black;\">Toxins</a>\\n    </i>\\n    &nbsp;\\n\\n\\n\\n\\n</summary>\\n<div class=\"dropdown-menu\">\\n  <h4 class=\"ui horizontal divider header\">\\nPreserved Fulltext  </h4>\\n\\n    <div class=\"ui items\">\\n      <div class=\"item\">\\n        <div class=\"image\">\\n          <a target=\"_blank\" rel=\"noopener\" href=\"https://web.archive.org/web/20180728074927/https://res.mdpi.com/def50200085a04acf69806274a694018e1a97cedb1a41827edad480ce169ecdb2edc9f9d8170cb248c739300e5851e3a4ea27ca8b7da35cbd74474603bfa07092c315d21af89a5b45f963c9490b78b43d4ce4cccc91e3c9b59351003fce4d8cb6231b4abfd170cf43219aebee39c890b73033cdede28c226d156e26de700c068fe98a7cac1881cb4e8e0867ec9?filename=&amp;attachment=1\" title=\"fulltext access\" data-goatcounter-click=\"serp-fulltext\">\\n            <div class=\"ui serp card\">\\n              <img class=\"ui\" src=\"https://blobs.fatcat.wiki/thumbnail/pdf/f7/be/f7be1b4745fa5031a16496fb4154f6a84864996f.180px.jpg\" alt=\"fulltext thumbnail\" loading=\"lazy\">\\n            </div>\\n          </a>\\n        </div>\\n        <div class=\"content\">\\n          <div class=\"header\">\\n            <a rel=\"noopener\" href=\"https://web.archive.org/web/20180728074927/https://res.mdpi.com/def50200085a04acf69806274a694018e1a97cedb1a41827edad480ce169ecdb2edc9f9d8170cb248c739300e5851e3a4ea27ca8b7da35cbd74474603bfa07092c315d21af89a5b45f963c9490b78b43d4ce4cccc91e3c9b59351003fce4d8cb6231b4abfd170cf43219aebee39c890b73033cdede28c226d156e26de700c068fe98a7cac1881cb4e8e0867ec9?filename=&amp;attachment=1\" data-goatcounter-click=\"serp-fulltext\">\\nWeb Archive Capture\\n              PDF\\n\\n                (553.7 kB)\\n            </a>\\n          </div>\\n          <div class=\"meta\">\\n            <a rel=\"noopener\" href=\"https://web.archive.org/web/20180728074927/https://res.mdpi.com/def50200085a04acf69806274a694018e1a97cedb1a41827edad480ce169ecdb2edc9f9d8170cb248c739300e5851e3a4ea27ca8b7da35cbd74474603bfa07092c315d21af89a5b45f963c9490b78b43d4ce4cccc91e3c9b59351003fce4d8cb6231b4abfd170cf43219aebee39c890b73033cdede28c226d156e26de700c068fe98a7cac1881cb4e8e0867ec9?filename=&amp;attachment=1\" data-goatcounter-click=\"serp-fulltext\">\\n              https://web.archive.org/web/20180728074927/https://res.mdpi.com/def50200085a04acf69806274a694018e1a97cedb1a41827edad480ce169ecdb2edc9f9d8170cb248c739300e5851e3a4ea27ca8b7da35cbd74474603bfa07092c315d21af89a5b45f963c9490b78b43d4ce4cccc91e3c9b59351003fce4d8cb6231b4abfd170cf43219aebee39c890b73033cdede28c226d156e26de700c068fe98a7cac1881cb4e8e0867ec9?filename=&amp;attachment=1\\n            </a>\\n          </div>\\n          <div class=\"description\">\\n              <p>A copy of this work was available on the public web and has been preserved in the Wayback Machine. The capture dates from 2018; you can also visit <a rel=\"external noopener\" href=\"https://res.mdpi.com/def50200085a04acf69806274a694018e1a97cedb1a41827edad480ce169ecdb2edc9f9d8170cb248c739300e5851e3a4ea27ca8b7da35cbd74474603bfa07092c315d21af89a5b45f963c9490b78b43d4ce4cccc91e3c9b59351003fce4d8cb6231b4abfd170cf43219aebee39c890b73033cdede28c226d156e26de700c068fe98a7cac1881cb4e8e0867ec9?filename=&amp;attachment=1\">the original URL</a>.\\nThe file type is <code>application/pdf</code>.\\n          </div>\\n          <div class=\"extra\">\\n          </div>\\n        </div>\\n      </div>\\n    </div>\\n\\n  <div class=\"ui divider\"></div>\\n</div>\\n</details>\\n\\n\\n    <div class=\"search-highlights\">\\n        <em>The</em> results highlight <em>the</em> utility of <em>toxins</em> as pharmacological probes and points to <em>the</em> T286 cyclin D1 phosphatase inhibited by <em>calyculin</em> <em>A</em> as <em>a</em> possible target for chemotherapy to treat triple negative &nbsp;...&nbsp;\\n        Here we treated human breast cancer cells with <em>the</em> structurally distinct <em>toxins</em> <em>calyculin</em> <em>A</em>, okadaic acid, and cantharidin, which are known to inhibit Ser/Thr phosphatases of <em>the</em> PPP family. &nbsp;...&nbsp;\\n        of T286 has been implicated in control of cyclin D1 levels, we treated <em>the</em> triple negative (lacking ER, PR, HER2) human breast cancer cell line MDA-MB-468 with <em>the</em> cell permeable <em>Discodermia</em> <em>calyx</em> <em>toxin</em> &nbsp;...&nbsp;\\n    </div>\\n\\n  <span class=\"external-identifiers\">\\n    <a target=\"_blank\" rel=\"external noopener noreferrer\" href=\"https://doi.org/10.3390/toxins3010105\">doi:10.3390/toxins3010105</a>\\n    <a target=\"_blank\" rel=\"external noopener\" href=\"https://www.ncbi.nlm.nih.gov/pubmed/22069692\">pmid:22069692</a>\\n    <a target=\"_blank\" rel=\"external noopener\" href=\"https://pubmed.ncbi.nlm.nih.gov/PMC3210456/\">pmcid:PMC3210456</a>\\n    <a target=\"_blank\" rel=\"external noopener\" href=\"https://fatcat.wiki/release/ya45udkilzfx3bakpaocyodgqi\">fatcat:ya45udkilzfx3bakpaocyodgqi</a>\\n</span>\\n\\n\\n  <div class=\"tag-row\">\\n\\n    <a rel=\"noopener\" href=\"/help#tags\" aria-label=\"tag definitions\">\\n              <span class=\"ui label basic orange small\" title=\"Directory of Open Access Journals\">DOAJ</span>\\n\\n          \\n\\n\\n    </a>\\n\\n  </div>\\n\\n</div>\\n\\n<div class=\"three wide left aligned column serp-right-col\">\\n\\n      <a target=\"_blank\" rel=\"noopener\" href=\"https://web.archive.org/web/20180728074927/https://res.mdpi.com/def50200085a04acf69806274a694018e1a97cedb1a41827edad480ce169ecdb2edc9f9d8170cb248c739300e5851e3a4ea27ca8b7da35cbd74474603bfa07092c315d21af89a5b45f963c9490b78b43d4ce4cccc91e3c9b59351003fce4d8cb6231b4abfd170cf43219aebee39c890b73033cdede28c226d156e26de700c068fe98a7cac1881cb4e8e0867ec9?filename=&amp;attachment=1\" title=\"fulltext PDF download\" data-goatcounter-click=\"serp-fulltext\">\\n    <button class=\"ui simple right pointing dropdown compact black labeled icon button serp-button\">\\n      <i class=\"icon ia-icon\"></i>\\nWeb Archive\\n[PDF]\\n\\n        <div class=\"menu fulltext-thumbnail\">\\n          <img src=\"https://blobs.fatcat.wiki/thumbnail/pdf/f7/be/f7be1b4745fa5031a16496fb4154f6a84864996f.180px.jpg\" alt=\"fulltext thumbnail\" loading=\"lazy\">\\n        </div>\\n    </button>\\n  </a>\\n\\n\\n      <a target=\"_blank\" rel=\"external noopener noreferrer\" href=\"https://doi.org/10.3390/toxins3010105\">\\n      <button class=\"ui left aligned compact blue labeled icon button serp-button\">\\n          <i class=\"unlock alternate icon\" style=\"background-color: #fb971f;\"></i>\\n          mdpi.com\\n      </button>\\n    </a>\\n\\n\\n      <a target=\"_blank\" rel=\"external noopener\" href=\"https://www.ncbi.nlm.nih.gov/pmc/articles/PMC3210456\" title=\"pubmed link\">\\n      <button class=\"ui compact blue labeled icon button serp-button\">\\n        <i class=\"file alternate outline icon\"></i>\\n        pubmed.gov\\n      </button>\\n    </a>\\n\\n\\n\\n  <div class=\"action-bar\">\\n\\n    <details class=\"serp-action-menu\">\\n      <summary>\\n        <div class=\"circular ui icon compact basic button\" title=\"cite this work\">\\n          <i class=\"quote left icon\"></i>\\n        </div>\\n      </summary>\\n      <div class=\"citation-menu menu\">\\n        <b>Citation</b>\\n        <p>Jessica R. Edelson, David L. Brautigan. &#34;The Discodermia calyx Toxin Calyculin A Enhances Cyclin D1 Phosphorylation and Degradation, and Arrests Cell Cycle Progression in Human Breast Cancer Cells.&#34;  Toxins (2011) 105-119\\n          <div class=\"ui divider\"></div>\\n          <ul class=\"ui horizontal list\">\\n            <li class=\"item\"><a href=\"https://fatcat.wiki/release/ya45udkilzfx3bakpaocyodgqi/citeproc?style=modern-language-association\" target=\"_blank\" rel=\"noopener\"><i class=\"external icon\"></i>MLA</a></li>\\n            <li class=\"item\"><a href=\"https://fatcat.wiki/release/ya45udkilzfx3bakpaocyodgqi/citeproc?style=elsevier-harvard\" target=\"_blank\" rel=\"noopener\"><i class=\"external icon\"></i>Harvard</a></li>\\n            <li class=\"item\"><a href=\"https://fatcat.wiki/release/ya45udkilzfx3bakpaocyodgqi/citeproc?style=csl-json\" target=\"_blank\" rel=\"noopener\"><i class=\"external icon\"></i>CSL-JSON</a></li>\\n            <li class=\"item\"><a href=\"https://fatcat.wiki/release/ya45udkilzfx3bakpaocyodgqi.bib\" target=\"_blank\" rel=\"noopener\"><i class=\"external icon\"></i>BibTeX</a></li>\\n          </ul>\\n      </div>\\n    </details>\\n\\n    <a href=\"https://fatcat.wiki/release/ya45udkilzfx3bakpaocyodgqi\" rel=\"noopener\" title=\"edit metadata on fatcat wiki\">\\n      <div class=\"circular ui icon compact basic button\">\\n        <i class=\"edit icon\"></i>\\n      </div>\\n    </a>\\n\\n    <a href=\"/search?q=key:work_3iq73gpzjjaz5jr37x6mjn3zii\" rel=\"noopener\" title=\"permalink to this record\">\\n      <div class=\"circular ui icon compact basic button\">\\n        <i class=\"linkify icon\"></i>\\n      </div>\\n    </a>\\n\\n  </div>\\n\\n</div>\\n\\n</div> \\n          <div class=\"ui stackable doubling grid\">\\n<div class=\"thirteen wide column biblio-record\">\\n\\n<details class=\"title-dropdown\" >\\n<summary>\\n  <h3 class=\"biblio-title\">\\n\\n      <span class=\"link\">\\n          Marine natural products\\n      </span>\\n      <span class=\"release-type\" >\\n      </span>\\n\\n\\n\\n  </h3>\\n\\n    <div class=\"author-row\">\\n    John W. Blunt, Brent R. Copp, Murray H. G. Munro, Peter T. Northcote, Michèle R. Prinsep\\n    </div>\\n\\n\\n      <span title=\"\">2011</span>\\n    <i title=\"Royal Society of Chemistry (RSC)\">\\n      <a target=\"_blank\" rel=\"noopener\" href=\"https://fatcat.wiki/container/x4khi3hddzeebbd7qbi4nuexsq\" style=\"color: black;\">Natural product reports (Print)</a>\\n    </i>\\n    &nbsp;\\n\\n\\n\\n\\n</summary>\\n<div class=\"dropdown-menu\">\\n  <h4 class=\"ui horizontal divider header\">\\nPreserved Fulltext  </h4>\\n\\n    <div class=\"ui items\">\\n      <div class=\"item\">\\n        <div class=\"image\">\\n          <a target=\"_blank\" rel=\"noopener\" href=\"https://web.archive.org/web/201902282025/http://pdfs.semanticscholar.org/97d8/73c4941fa8f3d3a60bc858f1bd909c5a3624.pdf\" title=\"fulltext access\" data-goatcounter-click=\"serp-fulltext\">\\n            <div class=\"ui serp card\">\\n              <img class=\"ui\" src=\"https://blobs.fatcat.wiki/thumbnail/pdf/97/d8/97d873c4941fa8f3d3a60bc858f1bd909c5a3624.180px.jpg\" alt=\"fulltext thumbnail\" loading=\"lazy\">\\n            </div>\\n          </a>\\n        </div>\\n        <div class=\"content\">\\n          <div class=\"header\">\\n            <a rel=\"noopener\" href=\"https://web.archive.org/web/201902282025/http://pdfs.semanticscholar.org/97d8/73c4941fa8f3d3a60bc858f1bd909c5a3624.pdf\" data-goatcounter-click=\"serp-fulltext\">\\nWeb Archive Capture\\n              PDF\\n\\n                (3.5 MB)\\n            </a>\\n          </div>\\n          <div class=\"meta\">\\n            <a rel=\"noopener\" href=\"https://web.archive.org/web/201902282025/http://pdfs.semanticscholar.org/97d8/73c4941fa8f3d3a60bc858f1bd909c5a3624.pdf\" data-goatcounter-click=\"serp-fulltext\">\\n              https://web.archive.org/web/201902282025/http://pdfs.semanticscholar.org/97d8/73c4941fa8f3d3a60bc858f1bd909c5a3624.pdf\\n            </a>\\n          </div>\\n          <div class=\"description\">\\n              <p>A copy of this work was available on the public web and has been preserved in the Wayback Machine. The capture dates from 2019; you can also visit <a rel=\"external noopener\" href=\"http://pdfs.semanticscholar.org/97d8/73c4941fa8f3d3a60bc858f1bd909c5a3624.pdf\">the original URL</a>.\\nThe file type is <code>application/pdf</code>.\\n          </div>\\n          <div class=\"extra\">\\n          </div>\\n        </div>\\n      </div>\\n    </div>\\n\\n  <div class=\"ui divider\"></div>\\n</div>\\n</details>\\n\\n\\n    <div class=\"search-highlights\">\\n        (Hainan Is., China), 630 while allos-hemicalyculin 617 was reported from <em>Discodermia</em> <em>calyx</em> (Shikine-Jima Is., Japan). &nbsp;...&nbsp;\\n        Photo-oxidative cleavage of <em>the</em> oxazole moiety of <em>calyculin</em> <em>A</em> was suggested as <em>a</em> route to <em>the</em> formation of 617.  631  <em>The</em> lipopeptide ciliatamide D 618 was found from <em>a</em> dredged Stelletta sp. (170 m, Oshimashinsone &nbsp;...&nbsp;\\n    </div>\\n\\n  <span class=\"external-identifiers\">\\n    <a target=\"_blank\" rel=\"external noopener noreferrer\" href=\"https://doi.org/10.1039/c005001f\">doi:10.1039/c005001f</a>\\n    <a target=\"_blank\" rel=\"external noopener\" href=\"https://www.ncbi.nlm.nih.gov/pubmed/21152619\">pmid:21152619</a>\\n    <a target=\"_blank\" rel=\"external noopener\" href=\"https://fatcat.wiki/release/turijqo4cjdxdb6ktphl7ljrgu\">fatcat:turijqo4cjdxdb6ktphl7ljrgu</a>\\n</span>\\n\\n\\n  <div class=\"tag-row\">\\n\\n    <a rel=\"noopener\" href=\"/help#tags\" aria-label=\"tag definitions\">\\n\\n\\n    </a>\\n\\n  </div>\\n\\n</div>\\n\\n<div class=\"three wide left aligned column serp-right-col\">\\n\\n      <a target=\"_blank\" rel=\"noopener\" href=\"https://web.archive.org/web/201902282025/http://pdfs.semanticscholar.org/97d8/73c4941fa8f3d3a60bc858f1bd909c5a3624.pdf\" title=\"fulltext PDF download\" data-goatcounter-click=\"serp-fulltext\">\\n    <button class=\"ui simple right pointing dropdown compact black labeled icon button serp-button\">\\n      <i class=\"icon ia-icon\"></i>\\nWeb Archive\\n[PDF]\\n\\n        <div class=\"menu fulltext-thumbnail\">\\n          <img src=\"https://blobs.fatcat.wiki/thumbnail/pdf/97/d8/97d873c4941fa8f3d3a60bc858f1bd909c5a3624.180px.jpg\" alt=\"fulltext thumbnail\" loading=\"lazy\">\\n        </div>\\n    </button>\\n  </a>\\n\\n\\n      <a target=\"_blank\" rel=\"external noopener noreferrer\" href=\"https://doi.org/10.1039/c005001f\">\\n      <button class=\"ui left aligned compact blue labeled icon button serp-button\">\\n          <i class=\"external alternate icon\"></i>\\n          Publisher / doi.org\\n      </button>\\n    </a>\\n\\n\\n  \\n\\n\\n  <div class=\"action-bar\">\\n\\n    <details class=\"serp-action-menu\">\\n      <summary>\\n        <div class=\"circular ui icon compact basic button\" title=\"cite this work\">\\n          <i class=\"quote left icon\"></i>\\n        </div>\\n      </summary>\\n      <div class=\"citation-menu menu\">\\n        <b>Citation</b>\\n        <p>John W. Blunt, Brent R. Copp, Murray H. G. Munro, Peter T. Northcote, Michèle R. Prinsep. &#34;Marine natural products.&#34;  Natural product reports (Print) (2011) 196-268\\n          <div class=\"ui divider\"></div>\\n          <ul class=\"ui horizontal list\">\\n            <li class=\"item\"><a href=\"https://fatcat.wiki/release/turijqo4cjdxdb6ktphl7ljrgu/citeproc?style=modern-language-association\" target=\"_blank\" rel=\"noopener\"><i class=\"external icon\"></i>MLA</a></li>\\n            <li class=\"item\"><a href=\"https://fatcat.wiki/release/turijqo4cjdxdb6ktphl7ljrgu/citeproc?style=elsevier-harvard\" target=\"_blank\" rel=\"noopener\"><i class=\"external icon\"></i>Harvard</a></li>\\n            <li class=\"item\"><a href=\"https://fatcat.wiki/release/turijqo4cjdxdb6ktphl7ljrgu/citeproc?style=csl-json\" target=\"_blank\" rel=\"noopener\"><i class=\"external icon\"></i>CSL-JSON</a></li>\\n            <li class=\"item\"><a href=\"https://fatcat.wiki/release/turijqo4cjdxdb6ktphl7ljrgu.bib\" target=\"_blank\" rel=\"noopener\"><i class=\"external icon\"></i>BibTeX</a></li>\\n          </ul>\\n      </div>\\n    </details>\\n\\n    <a href=\"https://fatcat.wiki/release/turijqo4cjdxdb6ktphl7ljrgu\" rel=\"noopener\" title=\"edit metadata on fatcat wiki\">\\n      <div class=\"circular ui icon compact basic button\">\\n        <i class=\"edit icon\"></i>\\n      </div>\\n    </a>\\n\\n    <a href=\"/search?q=key:work_z5siuvjnyrb3hakvbagtycsliq\" rel=\"noopener\" title=\"permalink to this record\">\\n      <div class=\"circular ui icon compact basic button\">\\n        <i class=\"linkify icon\"></i>\\n      </div>\\n    </a>\\n\\n  </div>\\n\\n</div>\\n\\n</div> \\n\\n  </div>\\n\\n</div>\\n</main>\\n\\n<footer class=\"ui inverted vertical footer segment\" style=\"padding: 4em 0em; margin-top: 3em; width: 100%;\">\\n  <div class=\"ui container\">\\n    <div class=\"ui stackable mobile reversed inverted divided equal height grid\">\\n      <nav class=\"nine wide column\">\\n        <div class=\"ui grid\">\\n          <div class=\"tablet-hide two wide column\" style=\"padding-top: 4em; padding-right: 0;\">\\n            <img class=\"logo\" src=\"/static/ia-logo.svg\" alt=\"\" style=\"width: 100%; opacity: 0.5;\">\\n          </div>\\n          <div class=\"one wide column computer only\"></div>\\n          <div class=\"thirteen wide twelve wide computer column\">\\n            <h4 style=\"font-size: 1.28571429rem;\">Internet Archive</h4>\\n            <p style=\"color: rgba(255, 255, 255, 0.5);\">\\nWe are a US 501(c)(3) non-profit library, building a global archive of Internet sites and other cultural artifacts in digital form.\\nOther projects include <a target=\"_blank\" rel=\"noopener\" href=\"https://web.archive.org\">The Wayback Machine</a>, <a target=\"_blank\" rel=\"noopener\" href=\"https://archive.org\">archive.org</a>, <a target=\"_blank\" rel=\"noopener\" href=\"https://openlibrary.org\">Open Library</a>, and <a target=\"_blank\" rel=\"noopener\" href=\"https://archive-it.org\">Archive-It</a>.            <div class=\"ui horizontal inverted link list\">\\n              <a class=\"item\" target=\"_blank\" rel=\"noopener\" href=\"https://archive.org/about/\">About Us</a>\\n              <a class=\"item\" target=\"_blank\" rel=\"noopener\" href=\"https://archive.org/about/contact.php\">Contact Us</a>\\n              <a class=\"item\" target=\"_blank\" rel=\"noopener\" href=\"https://archive.org/about/terms.php\">Policies</a>\\n              <a class=\"item\" target=\"_blank\" rel=\"noopener\" href=\"https://archive.org/donate\">Donate</a>\\n            </div>\\n          </div>\\n        </div>\\n      </nav>\\n      <nav class=\"three wide column\">\\n        <h4 class=\"ui inverted header\">Open Infrastructure</h4>\\n        <div class=\"ui inverted link list\">\\n          <a target=\"_blank\" rel=\"noopener\" href=\"https://fatcat.wiki\" class=\"item\">Editable Catalog (Fatcat)</a>\\n          <a target=\"_blank\" rel=\"noopener\" href=\"https://guide.fatcat.wiki\" class=\"item\">Contribute</a>\\n          <a target=\"_blank\" rel=\"noopener\" href=\"/api/redoc\" class=\"item\">Search API</a>\\n          <a target=\"_blank\" rel=\"noopener noreferrer\" href=\"https://status.fatcat.wiki\" class=\"item\">Service Status</a>\\n          <a target=\"_blank\" rel=\"external noopener noreferrer\" href=\"https://github.com/internetarchive/fatcat-scholar\" class=\"item\">Source Code</a>\\n        </div>\\n      </nav>\\n      <nav class=\"three wide column\">\\n        <h4 class=\"ui inverted header\">scholar.archive.org</h4>\\n        <div class=\"ui inverted link list\">\\n          <a href=\"/about#howitworks\" class=\"item\">How It Works</a>\\n          <a href=\"/about#sources\" class=\"item\">Content Sources</a>\\n          <a href=\"/about#tdm\" class=\"item\">Text and Data Mining</a>\\n          <a href=\"/help\" rel=\"help\" class=\"item\">Help</a>\\n        </div>\\n      </nav>\\n    </div>\\n  </div>\\n</footer>\\n\\n<script>\\n/* when search is submitted, have submit button animate */\\ndocument.getElementById(\"search_form\").onsubmit = function(){\\n  document.getElementById(\"search_submit_button\").classList.add(\"loading\");\\n};\\n</script>\\n  <script>\\n    window.goatcounter = {\\n        /* title leaks search query, so don\\'t report it */\\n        title: \"\",\\n    };\\n  </script>\\n  <script data-goatcounter=\"/goatcounter/count\" async src=\"/goatcounter/count.js\"></script></body>\\n</html>'"
      ]
     },
     "execution_count": 31,
     "metadata": {},
     "output_type": "execute_result"
    }
   ],
   "source": [
    "html6"
   ]
  },
  {
   "cell_type": "markdown",
   "metadata": {},
   "source": [
    "## Parse HTML"
   ]
  },
  {
   "cell_type": "code",
   "execution_count": 30,
   "metadata": {},
   "outputs": [],
   "source": [
    "from bs4 import BeautifulSoup"
   ]
  },
  {
   "cell_type": "code",
   "execution_count": null,
   "metadata": {},
   "outputs": [],
   "source": [
    "def parse_search_res_html(search_res_html):\n",
    "    soup = BeautifulSoup(search_res_html, \"html.parser\")\n",
    "    = soup.find('input', attrs = {'name':'login'})"
   ]
  }
 ],
 "metadata": {
  "kernelspec": {
   "display_name": "Python 3",
   "language": "python",
   "name": "python3"
  },
  "language_info": {
   "codemirror_mode": {
    "name": "ipython",
    "version": 3
   },
   "file_extension": ".py",
   "mimetype": "text/x-python",
   "name": "python",
   "nbconvert_exporter": "python",
   "pygments_lexer": "ipython3",
   "version": "3.7.5"
  }
 },
 "nbformat": 4,
 "nbformat_minor": 4
}
