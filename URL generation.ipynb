{
 "cells": [
  {
   "cell_type": "markdown",
   "metadata": {},
   "source": [
    "# URL generation with Archive.org Patterns"
   ]
  },
  {
   "cell_type": "code",
   "execution_count": 1,
   "metadata": {},
   "outputs": [
    {
     "name": "stderr",
     "output_type": "stream",
     "text": [
      "/Users/xinyuechen/.pyenv/versions/3.7.5/lib/python3.7/site-packages/pandas/compat/__init__.py:97: UserWarning: Could not import the lzma module. Your installed Python is incomplete. Attempting to use lzma compression will result in a RuntimeError.\n",
      "  warnings.warn(msg)\n"
     ]
    }
   ],
   "source": [
    "import numpy as np \n",
    "import pandas as pd\n",
    "import re\n",
    "import requests\n",
    "import datetime\n",
    "import dateparser"
   ]
  },
  {
   "cell_type": "markdown",
   "metadata": {},
   "source": [
    "### Load SIM Information"
   ]
  },
  {
   "cell_type": "code",
   "execution_count": 3,
   "metadata": {},
   "outputs": [
    {
     "data": {
      "text/html": [
       "<div>\n",
       "<style scoped>\n",
       "    .dataframe tbody tr th:only-of-type {\n",
       "        vertical-align: middle;\n",
       "    }\n",
       "\n",
       "    .dataframe tbody tr th {\n",
       "        vertical-align: top;\n",
       "    }\n",
       "\n",
       "    .dataframe thead th {\n",
       "        text-align: right;\n",
       "    }\n",
       "</style>\n",
       "<table border=\"1\" class=\"dataframe\">\n",
       "  <thead>\n",
       "    <tr style=\"text-align: right;\">\n",
       "      <th></th>\n",
       "      <th>Title</th>\n",
       "      <th>First Volume</th>\n",
       "      <th>Last Volume</th>\n",
       "      <th>Subjects</th>\n",
       "      <th>PubIssueID</th>\n",
       "    </tr>\n",
       "  </thead>\n",
       "  <tbody>\n",
       "    <tr>\n",
       "      <th>0</th>\n",
       "      <td>American Journal of Pharmacy and the Sciences ...</td>\n",
       "      <td>1952.0</td>\n",
       "      <td>1995.0</td>\n",
       "      <td>Health &amp; Medical Sciences</td>\n",
       "      <td>sim_american-journal-of-pharmacy-and-the-sciences</td>\n",
       "    </tr>\n",
       "    <tr>\n",
       "      <th>1</th>\n",
       "      <td>National Real Estate and Building Journal</td>\n",
       "      <td>1949.0</td>\n",
       "      <td>1956.0</td>\n",
       "      <td>Building &amp; Construction</td>\n",
       "      <td>sim_national-real-estate-and-building-journal</td>\n",
       "    </tr>\n",
       "    <tr>\n",
       "      <th>2</th>\n",
       "      <td>The American Naturalist</td>\n",
       "      <td>1872.0</td>\n",
       "      <td>2015.0</td>\n",
       "      <td>Biology</td>\n",
       "      <td>sim_american-naturalist</td>\n",
       "    </tr>\n",
       "    <tr>\n",
       "      <th>3</th>\n",
       "      <td>Alcatel Telecommunications Review</td>\n",
       "      <td>1922.0</td>\n",
       "      <td>2002.0</td>\n",
       "      <td>Communication &amp; Information Sciences</td>\n",
       "      <td>sim_alcatel-telecommunications-review</td>\n",
       "    </tr>\n",
       "    <tr>\n",
       "      <th>4</th>\n",
       "      <td>The American Journal of Gastroenterology</td>\n",
       "      <td>1949.0</td>\n",
       "      <td>2011.0</td>\n",
       "      <td>Medical Sciences--Gastroenterology</td>\n",
       "      <td>sim_american-journal-of-gastroenterology</td>\n",
       "    </tr>\n",
       "  </tbody>\n",
       "</table>\n",
       "</div>"
      ],
      "text/plain": [
       "                                               Title  First Volume  \\\n",
       "0  American Journal of Pharmacy and the Sciences ...        1952.0   \n",
       "1          National Real Estate and Building Journal        1949.0   \n",
       "2                            The American Naturalist        1872.0   \n",
       "3                  Alcatel Telecommunications Review        1922.0   \n",
       "4           The American Journal of Gastroenterology        1949.0   \n",
       "\n",
       "   Last Volume                              Subjects  \\\n",
       "0       1995.0             Health & Medical Sciences   \n",
       "1       1956.0               Building & Construction   \n",
       "2       2015.0                               Biology   \n",
       "3       2002.0  Communication & Information Sciences   \n",
       "4       2011.0    Medical Sciences--Gastroenterology   \n",
       "\n",
       "                                          PubIssueID  \n",
       "0  sim_american-journal-of-pharmacy-and-the-sciences  \n",
       "1      sim_national-real-estate-and-building-journal  \n",
       "2                            sim_american-naturalist  \n",
       "3              sim_alcatel-telecommunications-review  \n",
       "4           sim_american-journal-of-gastroenterology  "
      ]
     },
     "execution_count": 3,
     "metadata": {},
     "output_type": "execute_result"
    }
   ],
   "source": [
    "# Load SIM information processed by SIM Metadata Parsing.ipynb\n",
    "sim_info = pd.read_csv(\"SIM_info.csv\")\n",
    "sim_info.head()"
   ]
  },
  {
   "cell_type": "markdown",
   "metadata": {},
   "source": [
    "#### Data Cleaning for SIM"
   ]
  },
  {
   "cell_type": "code",
   "execution_count": 4,
   "metadata": {},
   "outputs": [
    {
     "data": {
      "text/html": [
       "<div>\n",
       "<style scoped>\n",
       "    .dataframe tbody tr th:only-of-type {\n",
       "        vertical-align: middle;\n",
       "    }\n",
       "\n",
       "    .dataframe tbody tr th {\n",
       "        vertical-align: top;\n",
       "    }\n",
       "\n",
       "    .dataframe thead th {\n",
       "        text-align: right;\n",
       "    }\n",
       "</style>\n",
       "<table border=\"1\" class=\"dataframe\">\n",
       "  <thead>\n",
       "    <tr style=\"text-align: right;\">\n",
       "      <th></th>\n",
       "      <th>Title</th>\n",
       "      <th>First Volume</th>\n",
       "      <th>Last Volume</th>\n",
       "      <th>Subjects</th>\n",
       "      <th>PubIssueID</th>\n",
       "    </tr>\n",
       "  </thead>\n",
       "  <tbody>\n",
       "    <tr>\n",
       "      <th>1007</th>\n",
       "      <td>Science</td>\n",
       "      <td>1883.0</td>\n",
       "      <td>2016.0</td>\n",
       "      <td>Sciences: Comprehensive Works|Technology: Comp...</td>\n",
       "      <td>sim_science</td>\n",
       "    </tr>\n",
       "    <tr>\n",
       "      <th>9855</th>\n",
       "      <td>Science</td>\n",
       "      <td>1979.0</td>\n",
       "      <td>1986.0</td>\n",
       "      <td>Mathematical &amp; Physical Sciences</td>\n",
       "      <td>sim_science</td>\n",
       "    </tr>\n",
       "  </tbody>\n",
       "</table>\n",
       "</div>"
      ],
      "text/plain": [
       "        Title  First Volume  Last Volume  \\\n",
       "1007  Science        1883.0       2016.0   \n",
       "9855  Science        1979.0       1986.0   \n",
       "\n",
       "                                               Subjects   PubIssueID  \n",
       "1007  Sciences: Comprehensive Works|Technology: Comp...  sim_science  \n",
       "9855                   Mathematical & Physical Sciences  sim_science  "
      ]
     },
     "execution_count": 4,
     "metadata": {},
     "output_type": "execute_result"
    }
   ],
   "source": [
    "# For example, there are overlapping ids\n",
    "sim_info[sim_info[\"PubIssueID\"] == \"sim_science\"]"
   ]
  },
  {
   "cell_type": "code",
   "execution_count": 5,
   "metadata": {},
   "outputs": [
    {
     "name": "stdout",
     "output_type": "stream",
     "text": [
      "SIM Id/title count: 15119\n",
      "Unique SIM Id count: 14913\n",
      "Unique title count: 14797\n"
     ]
    }
   ],
   "source": [
    "# Concretely show these overlaps\n",
    "print(\"SIM Id/title count: \" + str(sim_info[\"PubIssueID\"].shape[0]))\n",
    "print(\"Unique SIM Id count: \" + str(len(sim_info[\"PubIssueID\"].unique())))\n",
    "print(\"Unique title count: \" + str(len(sim_info[\"Title\"].unique())))"
   ]
  },
  {
   "cell_type": "code",
   "execution_count": 6,
   "metadata": {},
   "outputs": [
    {
     "data": {
      "text/html": [
       "<div>\n",
       "<style scoped>\n",
       "    .dataframe tbody tr th:only-of-type {\n",
       "        vertical-align: middle;\n",
       "    }\n",
       "\n",
       "    .dataframe tbody tr th {\n",
       "        vertical-align: top;\n",
       "    }\n",
       "\n",
       "    .dataframe thead th {\n",
       "        text-align: right;\n",
       "    }\n",
       "</style>\n",
       "<table border=\"1\" class=\"dataframe\">\n",
       "  <thead>\n",
       "    <tr style=\"text-align: right;\">\n",
       "      <th></th>\n",
       "      <th>First Volume</th>\n",
       "      <th>Last Volume</th>\n",
       "      <th>PubIssueID</th>\n",
       "    </tr>\n",
       "  </thead>\n",
       "  <tbody>\n",
       "    <tr>\n",
       "      <th>0</th>\n",
       "      <td>1952.0</td>\n",
       "      <td>1995.0</td>\n",
       "      <td>sim_american-journal-of-pharmacy-and-the-sciences</td>\n",
       "    </tr>\n",
       "    <tr>\n",
       "      <th>1</th>\n",
       "      <td>1949.0</td>\n",
       "      <td>1956.0</td>\n",
       "      <td>sim_national-real-estate-and-building-journal</td>\n",
       "    </tr>\n",
       "    <tr>\n",
       "      <th>2</th>\n",
       "      <td>1872.0</td>\n",
       "      <td>2015.0</td>\n",
       "      <td>sim_american-naturalist</td>\n",
       "    </tr>\n",
       "    <tr>\n",
       "      <th>3</th>\n",
       "      <td>1922.0</td>\n",
       "      <td>2002.0</td>\n",
       "      <td>sim_alcatel-telecommunications-review</td>\n",
       "    </tr>\n",
       "    <tr>\n",
       "      <th>4</th>\n",
       "      <td>1949.0</td>\n",
       "      <td>2011.0</td>\n",
       "      <td>sim_american-journal-of-gastroenterology</td>\n",
       "    </tr>\n",
       "  </tbody>\n",
       "</table>\n",
       "</div>"
      ],
      "text/plain": [
       "   First Volume  Last Volume  \\\n",
       "0        1952.0       1995.0   \n",
       "1        1949.0       1956.0   \n",
       "2        1872.0       2015.0   \n",
       "3        1922.0       2002.0   \n",
       "4        1949.0       2011.0   \n",
       "\n",
       "                                          PubIssueID  \n",
       "0  sim_american-journal-of-pharmacy-and-the-sciences  \n",
       "1      sim_national-real-estate-and-building-journal  \n",
       "2                            sim_american-naturalist  \n",
       "3              sim_alcatel-telecommunications-review  \n",
       "4           sim_american-journal-of-gastroenterology  "
      ]
     },
     "execution_count": 6,
     "metadata": {},
     "output_type": "execute_result"
    }
   ],
   "source": [
    "# Only keep necessary columns\n",
    "sim_info_concise = sim_info.drop(columns = [\"Title\", \"Subjects\"])\n",
    "sim_info_concise.head()"
   ]
  },
  {
   "cell_type": "code",
   "execution_count": 7,
   "metadata": {},
   "outputs": [
    {
     "data": {
      "text/html": [
       "<div>\n",
       "<style scoped>\n",
       "    .dataframe tbody tr th:only-of-type {\n",
       "        vertical-align: middle;\n",
       "    }\n",
       "\n",
       "    .dataframe tbody tr th {\n",
       "        vertical-align: top;\n",
       "    }\n",
       "\n",
       "    .dataframe thead th {\n",
       "        text-align: right;\n",
       "    }\n",
       "</style>\n",
       "<table border=\"1\" class=\"dataframe\">\n",
       "  <thead>\n",
       "    <tr style=\"text-align: right;\">\n",
       "      <th></th>\n",
       "      <th>First Volume</th>\n",
       "      <th>Last Volume</th>\n",
       "    </tr>\n",
       "    <tr>\n",
       "      <th>PubIssueID</th>\n",
       "      <th></th>\n",
       "      <th></th>\n",
       "    </tr>\n",
       "  </thead>\n",
       "  <tbody>\n",
       "    <tr>\n",
       "      <th>sim _annales-academiae-scientiarum-fennicae</th>\n",
       "      <td>NaN</td>\n",
       "      <td>NaN</td>\n",
       "    </tr>\n",
       "    <tr>\n",
       "      <th>sim-anatomia-clinica</th>\n",
       "      <td>1978.0</td>\n",
       "      <td>1981.0</td>\n",
       "    </tr>\n",
       "    <tr>\n",
       "      <th>sim_-</th>\n",
       "      <td>1826.0</td>\n",
       "      <td>1826.0</td>\n",
       "    </tr>\n",
       "    <tr>\n",
       "      <th>sim_1001-home-ideas</th>\n",
       "      <td>1986.0</td>\n",
       "      <td>1991.0</td>\n",
       "    </tr>\n",
       "    <tr>\n",
       "      <th>sim_102-monitor</th>\n",
       "      <td>1975.0</td>\n",
       "      <td>1981.0</td>\n",
       "    </tr>\n",
       "    <tr>\n",
       "      <th>...</th>\n",
       "      <td>...</td>\n",
       "      <td>...</td>\n",
       "    </tr>\n",
       "    <tr>\n",
       "      <th>sim_zoo-biology</th>\n",
       "      <td>1999.0</td>\n",
       "      <td>2000.0</td>\n",
       "    </tr>\n",
       "    <tr>\n",
       "      <th>sim_zoologica-scripta</th>\n",
       "      <td>1998.0</td>\n",
       "      <td>2001.0</td>\n",
       "    </tr>\n",
       "    <tr>\n",
       "      <th>sim_zoomorphology</th>\n",
       "      <td>1981.0</td>\n",
       "      <td>1996.0</td>\n",
       "    </tr>\n",
       "    <tr>\n",
       "      <th>sim_zvezda</th>\n",
       "      <td>1961.0</td>\n",
       "      <td>1974.0</td>\n",
       "    </tr>\n",
       "    <tr>\n",
       "      <th>sim_zygon</th>\n",
       "      <td>1966.0</td>\n",
       "      <td>2014.0</td>\n",
       "    </tr>\n",
       "  </tbody>\n",
       "</table>\n",
       "<p>14912 rows × 2 columns</p>\n",
       "</div>"
      ],
      "text/plain": [
       "                                             First Volume  Last Volume\n",
       "PubIssueID                                                            \n",
       "sim _annales-academiae-scientiarum-fennicae           NaN          NaN\n",
       "sim-anatomia-clinica                               1978.0       1981.0\n",
       "sim_-                                              1826.0       1826.0\n",
       "sim_1001-home-ideas                                1986.0       1991.0\n",
       "sim_102-monitor                                    1975.0       1981.0\n",
       "...                                                   ...          ...\n",
       "sim_zoo-biology                                    1999.0       2000.0\n",
       "sim_zoologica-scripta                              1998.0       2001.0\n",
       "sim_zoomorphology                                  1981.0       1996.0\n",
       "sim_zvezda                                         1961.0       1974.0\n",
       "sim_zygon                                          1966.0       2014.0\n",
       "\n",
       "[14912 rows x 2 columns]"
      ]
     },
     "execution_count": 7,
     "metadata": {},
     "output_type": "execute_result"
    }
   ],
   "source": [
    "# Aggregate Pub issue IDs such that the maximum range is included\n",
    "sim_info.groupby([\"PubIssueID\"]).agg({'First Volume': 'min', 'Last Volume': 'max',})"
   ]
  },
  {
   "cell_type": "markdown",
   "metadata": {},
   "source": [
    "### Load Wiki Dump Data"
   ]
  },
  {
   "cell_type": "markdown",
   "metadata": {},
   "source": [
    "### English Journal"
   ]
  },
  {
   "cell_type": "code",
   "execution_count": 8,
   "metadata": {},
   "outputs": [
    {
     "data": {
      "text/html": [
       "<div>\n",
       "<style scoped>\n",
       "    .dataframe tbody tr th:only-of-type {\n",
       "        vertical-align: middle;\n",
       "    }\n",
       "\n",
       "    .dataframe tbody tr th {\n",
       "        vertical-align: top;\n",
       "    }\n",
       "\n",
       "    .dataframe thead th {\n",
       "        text-align: right;\n",
       "    }\n",
       "</style>\n",
       "<table border=\"1\" class=\"dataframe\">\n",
       "  <thead>\n",
       "    <tr style=\"text-align: right;\">\n",
       "      <th></th>\n",
       "      <th>a</th>\n",
       "      <th>c</th>\n",
       "    </tr>\n",
       "  </thead>\n",
       "  <tbody>\n",
       "    <tr>\n",
       "      <th>0</th>\n",
       "      <td>0</td>\n",
       "      <td>{{cite journal |first=R. W. |last=Bemer |title...</td>\n",
       "    </tr>\n",
       "    <tr>\n",
       "      <th>1</th>\n",
       "      <td>020413 DOJ White Paper</td>\n",
       "      <td>{{cite document|ssrn=1332096 |title=Combatants...</td>\n",
       "    </tr>\n",
       "    <tr>\n",
       "      <th>2</th>\n",
       "      <td>10,000 Bullets</td>\n",
       "      <td>{{cite journal | author=Nowakowski, Kasper | a...</td>\n",
       "    </tr>\n",
       "    <tr>\n",
       "      <th>3</th>\n",
       "      <td>10,000 Bullets</td>\n",
       "      <td>{{cite journal | author=''Official UK PlayStat...</td>\n",
       "    </tr>\n",
       "    <tr>\n",
       "      <th>4</th>\n",
       "      <td>1000 Plant Genomes Project</td>\n",
       "      <td>{{cite journal | vauthors = Matasci N, Hung LH...</td>\n",
       "    </tr>\n",
       "  </tbody>\n",
       "</table>\n",
       "</div>"
      ],
      "text/plain": [
       "                            a  \\\n",
       "0                           0   \n",
       "1      020413 DOJ White Paper   \n",
       "2              10,000 Bullets   \n",
       "3              10,000 Bullets   \n",
       "4  1000 Plant Genomes Project   \n",
       "\n",
       "                                                   c  \n",
       "0  {{cite journal |first=R. W. |last=Bemer |title...  \n",
       "1  {{cite document|ssrn=1332096 |title=Combatants...  \n",
       "2  {{cite journal | author=Nowakowski, Kasper | a...  \n",
       "3  {{cite journal | author=''Official UK PlayStat...  \n",
       "4  {{cite journal | vauthors = Matasci N, Hung LH...  "
      ]
     },
     "execution_count": 8,
     "metadata": {},
     "output_type": "execute_result"
    }
   ],
   "source": [
    "# #\n",
    "# # load wikipedia citation data from xcite dump \n",
    "# journal_dump = pd.read_json(\"en.wikipedia.org.journal.20210606.json\", lines = True)\n",
    "# journal_dump.head()"
   ]
  },
  {
   "cell_type": "markdown",
   "metadata": {},
   "source": [
    "### Turkish Journal"
   ]
  },
  {
   "cell_type": "code",
   "execution_count": 10,
   "metadata": {},
   "outputs": [
    {
     "data": {
      "text/html": [
       "<div>\n",
       "<style scoped>\n",
       "    .dataframe tbody tr th:only-of-type {\n",
       "        vertical-align: middle;\n",
       "    }\n",
       "\n",
       "    .dataframe tbody tr th {\n",
       "        vertical-align: top;\n",
       "    }\n",
       "\n",
       "    .dataframe thead th {\n",
       "        text-align: right;\n",
       "    }\n",
       "</style>\n",
       "<table border=\"1\" class=\"dataframe\">\n",
       "  <thead>\n",
       "    <tr style=\"text-align: right;\">\n",
       "      <th></th>\n",
       "      <th>a</th>\n",
       "      <th>c</th>\n",
       "    </tr>\n",
       "  </thead>\n",
       "  <tbody>\n",
       "    <tr>\n",
       "      <th>0</th>\n",
       "      <td>1 + 2 + 3 + 4 + · · ·</td>\n",
       "      <td>{{Akademik dergi kaynağı\\n| soyadı = Lepowsky ...</td>\n",
       "    </tr>\n",
       "    <tr>\n",
       "      <th>1</th>\n",
       "      <td>12 Victoria</td>\n",
       "      <td>{{Akademik dergi kaynağı\\n | ad1    = B.\\n | s...</td>\n",
       "    </tr>\n",
       "    <tr>\n",
       "      <th>2</th>\n",
       "      <td>1,3,5-Triklorobenzen</td>\n",
       "      <td>{{Akademik dergi kaynağı|soyadı=Jaw|ad=Ching-G...</td>\n",
       "    </tr>\n",
       "    <tr>\n",
       "      <th>3</th>\n",
       "      <td>141 Likya depremi</td>\n",
       "      <td>{{Akademik dergi kaynağı | url=http://blackmed...</td>\n",
       "    </tr>\n",
       "    <tr>\n",
       "      <th>4</th>\n",
       "      <td>141 Likya depremi</td>\n",
       "      <td>{{Akademik dergi kaynağı | url=http://www.nat-...</td>\n",
       "    </tr>\n",
       "  </tbody>\n",
       "</table>\n",
       "</div>"
      ],
      "text/plain": [
       "                       a                                                  c\n",
       "0  1 + 2 + 3 + 4 + · · ·  {{Akademik dergi kaynağı\\n| soyadı = Lepowsky ...\n",
       "1            12 Victoria  {{Akademik dergi kaynağı\\n | ad1    = B.\\n | s...\n",
       "2   1,3,5-Triklorobenzen  {{Akademik dergi kaynağı|soyadı=Jaw|ad=Ching-G...\n",
       "3      141 Likya depremi  {{Akademik dergi kaynağı | url=http://blackmed...\n",
       "4      141 Likya depremi  {{Akademik dergi kaynağı | url=http://www.nat-..."
      ]
     },
     "execution_count": 10,
     "metadata": {},
     "output_type": "execute_result"
    }
   ],
   "source": [
    "journal_dump = pd.read_json(\"tr.wikipedia.org.journal.20210614.json.gz\", lines = True)\n",
    "journal_dump.head()"
   ]
  },
  {
   "cell_type": "code",
   "execution_count": 12,
   "metadata": {},
   "outputs": [],
   "source": [
    "# For example, 'Akademik dergi kaynağı' is turkish for citation\n",
    "def find_cite_journal_and_alias(citation):\n",
    "    alias = [\"Cite Journal\", \"Akademik dergi kaynağı\", \"Cite document\", \"Cite science\", \"Cite journal\"]\n",
    "    for name in alias:\n",
    "        if name in citation:\n",
    "            return True\n",
    "    return False"
   ]
  },
  {
   "cell_type": "code",
   "execution_count": 13,
   "metadata": {},
   "outputs": [
    {
     "name": "stdout",
     "output_type": "stream",
     "text": [
      "(14624, 3)\n",
      "(14310, 2)\n"
     ]
    },
    {
     "data": {
      "text/html": [
       "<div>\n",
       "<style scoped>\n",
       "    .dataframe tbody tr th:only-of-type {\n",
       "        vertical-align: middle;\n",
       "    }\n",
       "\n",
       "    .dataframe tbody tr th {\n",
       "        vertical-align: top;\n",
       "    }\n",
       "\n",
       "    .dataframe thead th {\n",
       "        text-align: right;\n",
       "    }\n",
       "</style>\n",
       "<table border=\"1\" class=\"dataframe\">\n",
       "  <thead>\n",
       "    <tr style=\"text-align: right;\">\n",
       "      <th></th>\n",
       "      <th>a</th>\n",
       "      <th>c</th>\n",
       "    </tr>\n",
       "  </thead>\n",
       "  <tbody>\n",
       "    <tr>\n",
       "      <th>0</th>\n",
       "      <td>1 + 2 + 3 + 4 + · · ·</td>\n",
       "      <td>{{Akademik dergi kaynağı\\n| soyadı = Lepowsky ...</td>\n",
       "    </tr>\n",
       "    <tr>\n",
       "      <th>1</th>\n",
       "      <td>12 Victoria</td>\n",
       "      <td>{{Akademik dergi kaynağı\\n | ad1    = B.\\n | s...</td>\n",
       "    </tr>\n",
       "    <tr>\n",
       "      <th>2</th>\n",
       "      <td>1,3,5-Triklorobenzen</td>\n",
       "      <td>{{Akademik dergi kaynağı|soyadı=Jaw|ad=Ching-G...</td>\n",
       "    </tr>\n",
       "    <tr>\n",
       "      <th>3</th>\n",
       "      <td>141 Likya depremi</td>\n",
       "      <td>{{Akademik dergi kaynağı | url=http://blackmed...</td>\n",
       "    </tr>\n",
       "    <tr>\n",
       "      <th>4</th>\n",
       "      <td>141 Likya depremi</td>\n",
       "      <td>{{Akademik dergi kaynağı | url=http://www.nat-...</td>\n",
       "    </tr>\n",
       "  </tbody>\n",
       "</table>\n",
       "</div>"
      ],
      "text/plain": [
       "                       a                                                  c\n",
       "0  1 + 2 + 3 + 4 + · · ·  {{Akademik dergi kaynağı\\n| soyadı = Lepowsky ...\n",
       "1            12 Victoria  {{Akademik dergi kaynağı\\n | ad1    = B.\\n | s...\n",
       "2   1,3,5-Triklorobenzen  {{Akademik dergi kaynağı|soyadı=Jaw|ad=Ching-G...\n",
       "3      141 Likya depremi  {{Akademik dergi kaynağı | url=http://blackmed...\n",
       "4      141 Likya depremi  {{Akademik dergi kaynağı | url=http://www.nat-..."
      ]
     },
     "execution_count": 13,
     "metadata": {},
     "output_type": "execute_result"
    }
   ],
   "source": [
    "# filter columns such that we are only working with journals \n",
    "journal_dump[\"is_journal\"] = journal_dump[\"c\"].apply(find_cite_journal_and_alias)\n",
    "print(journal_dump.shape)\n",
    "journal_only = journal_dump[journal_dump[\"is_journal\"]]\n",
    "journal_only = journal_only.drop(columns = {\"is_journal\"})\n",
    "print(journal_only.shape)\n",
    "journal_only.head()"
   ]
  },
  {
   "cell_type": "code",
   "execution_count": null,
   "metadata": {},
   "outputs": [],
   "source": []
  },
  {
   "cell_type": "markdown",
   "metadata": {},
   "source": [
    "## Sampling Data\n"
   ]
  },
  {
   "cell_type": "markdown",
   "metadata": {},
   "source": [
    "### EN wiki dump \n",
    "*since it takes too long to run it against 2 million"
   ]
  },
  {
   "cell_type": "code",
   "execution_count": 94,
   "metadata": {},
   "outputs": [
    {
     "data": {
      "text/html": [
       "<div>\n",
       "<style scoped>\n",
       "    .dataframe tbody tr th:only-of-type {\n",
       "        vertical-align: middle;\n",
       "    }\n",
       "\n",
       "    .dataframe tbody tr th {\n",
       "        vertical-align: top;\n",
       "    }\n",
       "\n",
       "    .dataframe thead th {\n",
       "        text-align: right;\n",
       "    }\n",
       "</style>\n",
       "<table border=\"1\" class=\"dataframe\">\n",
       "  <thead>\n",
       "    <tr style=\"text-align: right;\">\n",
       "      <th></th>\n",
       "      <th>a</th>\n",
       "      <th>c</th>\n",
       "    </tr>\n",
       "  </thead>\n",
       "  <tbody>\n",
       "    <tr>\n",
       "      <th>672231</th>\n",
       "      <td>List of Sufi saints</td>\n",
       "      <td>{{cite journal|author=Tasadduq Husain|date=Jul...</td>\n",
       "    </tr>\n",
       "    <tr>\n",
       "      <th>2558012</th>\n",
       "      <td>Thrombophilia</td>\n",
       "      <td>{{cite journal |vauthors=Crowther MA, Kelton J...</td>\n",
       "    </tr>\n",
       "    <tr>\n",
       "      <th>1867923</th>\n",
       "      <td>Evolutionary physiology</td>\n",
       "      <td>{{cite journal|last=Chown|first=S. L.|author2=...</td>\n",
       "    </tr>\n",
       "    <tr>\n",
       "      <th>1624028</th>\n",
       "      <td>Promised Land (2012 film)</td>\n",
       "      <td>{{cite journal | last=McNary | first=Dave | ur...</td>\n",
       "    </tr>\n",
       "    <tr>\n",
       "      <th>422209</th>\n",
       "      <td>Weld tests for friction welding</td>\n",
       "      <td>{{cite journal|last1=Lacki|first1=P.|last2=Kuc...</td>\n",
       "    </tr>\n",
       "  </tbody>\n",
       "</table>\n",
       "</div>"
      ],
      "text/plain": [
       "                                       a  \\\n",
       "672231               List of Sufi saints   \n",
       "2558012                    Thrombophilia   \n",
       "1867923          Evolutionary physiology   \n",
       "1624028        Promised Land (2012 film)   \n",
       "422209   Weld tests for friction welding   \n",
       "\n",
       "                                                         c  \n",
       "672231   {{cite journal|author=Tasadduq Husain|date=Jul...  \n",
       "2558012  {{cite journal |vauthors=Crowther MA, Kelton J...  \n",
       "1867923  {{cite journal|last=Chown|first=S. L.|author2=...  \n",
       "1624028  {{cite journal | last=McNary | first=Dave | ur...  \n",
       "422209   {{cite journal|last1=Lacki|first1=P.|last2=Kuc...  "
      ]
     },
     "execution_count": 94,
     "metadata": {},
     "output_type": "execute_result"
    }
   ],
   "source": [
    "# # can change up n to get different results\n",
    "# sample_df = journal_only.sample(n = 50000)\n",
    "# sample_df.head()"
   ]
  },
  {
   "cell_type": "markdown",
   "metadata": {},
   "source": [
    "### Turkish wiki dump\n",
    "* only has 14000 citations so very short"
   ]
  },
  {
   "cell_type": "code",
   "execution_count": 39,
   "metadata": {},
   "outputs": [],
   "source": [
    "sample_df = journal_only"
   ]
  },
  {
   "cell_type": "markdown",
   "metadata": {},
   "source": [
    "## Parsing Citation \n",
    "Combined and cleaned version of testing in the Wikipedia Journal Citation Dump Parsing Test notebook"
   ]
  },
  {
   "cell_type": "code",
   "execution_count": 40,
   "metadata": {},
   "outputs": [],
   "source": [
    "# Parsing a wikipedia citation data\n",
    "def parse_citation_data(citation):\n",
    "    ### change this part for different alias for different languages \n",
    "    journal_aliases = ['journal', 'newspaper', 'magazine', 'work','website',  'periodical', \n",
    "                       'encyclopedia', 'encyclopaedia', 'dictionary', 'mailinglist','dergi', 'gazete', \n",
    "                       'eser', 'çalışma', 'iş', 'websitesi', 'süreliyayın', 'ansiklopedi', 'sözlük', 'program']\n",
    "    \n",
    "    date_aliases = ['date', 'air-date', 'airdate', 'tarih']\n",
    "    \n",
    "    year_aliases = ['year', 'yıl', 'sene']\n",
    "    \n",
    "    volume_aliases = ['volume', 'cilt']\n",
    "    \n",
    "    issue_aliases = ['issue', 'number', 'sayı', 'numara']\n",
    "    \n",
    "    \n",
    "    ### leave this part be\n",
    "    \n",
    "    citation_list = citation.split(\"|\")\n",
    "    \n",
    "    journal = \"\"\n",
    "    sim_id = \"\"\n",
    "    volume = \"\"\n",
    "    issue = \"\"\n",
    "    \n",
    "    date = \"\"\n",
    "    year = 0\n",
    "    month = \"\"\n",
    "    \n",
    "    for field in citation_list:\n",
    "        field = field.strip()\n",
    "        \n",
    "        # find journal title\n",
    "        for j_a in journal_aliases:\n",
    "            journal_regex = j_a + \"(\\s{0,})=\"\n",
    "            if re.match(re.compile(journal_regex), field):\n",
    "                journal = field.split(\"=\")[1].strip()\n",
    "                journal = re.sub('[^A-Za-z0-9 ]+', '', journal)\n",
    "                if journal != \"\":\n",
    "                    sim_id = journal.lower()\n",
    "                    sim_id_lst = sim_id.split()\n",
    "                    sim_id = \"-\".join(sim_id_lst)\n",
    "                    sim_id = \"sim_\" + sim_id\n",
    "                break\n",
    "   \n",
    "        # find journal volume \n",
    "        for v_a in volume_aliases:\n",
    "            volume_regex = v_a + \"(\\s{0,})=\"\n",
    "            if re.match(re.compile(volume_regex), field):\n",
    "                volume = field.split(\"=\")[1].strip()\n",
    "                volume = re.sub('[^0-9]+', '', volume)\n",
    "                break\n",
    "            \n",
    "        # find journal issue\n",
    "        for i_a in issue_aliases:\n",
    "            issue_regex = i_a + \"(\\s{0,})=\"\n",
    "            if re.match(issue_regex, field):\n",
    "                issue = field.split(\"=\")[1].strip()\n",
    "                issue = re.sub('[^0-9]+', '', issue)\n",
    "                break\n",
    "            \n",
    "        \n",
    "        # find journal year\n",
    "        for y_a in year_aliases:\n",
    "            year_regex = y_a + \"(\\s{0,})=\"\n",
    "            if re.match(year_regex, field):\n",
    "                year = field.split(\"=\")[1].strip()\n",
    "                date = re.sub('[^0-9]+', '', year)\n",
    "                try:\n",
    "                    year = int(date)\n",
    "                except:\n",
    "                    year = 0\n",
    "                break\n",
    "            \n",
    "        # find journal date\n",
    "        for d_a in date_aliases:\n",
    "            date_regex = d_a + \"(\\s{0,})=\"\n",
    "            if re.match(date_regex, field):\n",
    "                date = field.split(\"=\")[1].strip()\n",
    "                date = re.sub('[^a-zA-Z0-9-]+', '', date)\n",
    "\n",
    "                try:\n",
    "                    year = int(date)\n",
    "                    date = str(year)\n",
    "                except:\n",
    "                    # use the python library for parsing\n",
    "                    parsed_date = dateparser.parse(date)\n",
    "                    if parsed_date != None:\n",
    "                        if parsed_date.year < 2021 and parsed_date.year > 1800:\n",
    "                            year = parsed_date.year\n",
    "                            date = str(year)\n",
    "\n",
    "                        if parsed_date.month < 10:\n",
    "                            month = \"0\" + str(parsed_date.month)\n",
    "                        else:\n",
    "                            month = str(parsed_date.month)\n",
    "\n",
    "                        if month != \"\":\n",
    "                            date = date + \"-\" + month\n",
    "                \n",
    "                break\n",
    "\n",
    "            \n",
    "    return [journal, sim_id, date, year, volume, issue]\n",
    "        "
   ]
  },
  {
   "cell_type": "code",
   "execution_count": 41,
   "metadata": {},
   "outputs": [
    {
     "data": {
      "text/plain": [
       "['American Anthropologist',\n",
       " 'sim_american-anthropologist',\n",
       " '2001-06',\n",
       " 2001,\n",
       " '103',\n",
       " '2']"
      ]
     },
     "execution_count": 41,
     "metadata": {},
     "output_type": "execute_result"
    }
   ],
   "source": [
    "# parse citation data test \n",
    "cite_test = \"{{Cite journal | last1 = Lewis | first1 = Herbert | date = June 2001 | title = The Passion of Franz Boas | journal = [[American Anthropologist]] | volume = 103 | issue = 2| pages = 447–467 | url = https://archive.org/details/sim_american-anthropologist_2001-06_103_2/page/447/mode/2up | doi=10.1525/aa.2001.103.2.447}}\"\n",
    "parse_citation_data(cite_test)\n"
   ]
  },
  {
   "cell_type": "code",
   "execution_count": 43,
   "metadata": {},
   "outputs": [],
   "source": [
    "# filter out desired info for each citation\n",
    "parsed_citations = sample_df['c'].apply(parse_citation_data)\n",
    "parsed_citations_dict = parsed_citations.to_dict()"
   ]
  },
  {
   "cell_type": "code",
   "execution_count": 46,
   "metadata": {},
   "outputs": [
    {
     "data": {
      "text/plain": [
       "[(0, ['Gncel Matematik', 'sim_gncel-matematik', '1999', 1999, '248', '']),\n",
       " (1,\n",
       "  ['Planetary and Space Science',\n",
       "   'sim_planetary-and-space-science',\n",
       "   '2012-12',\n",
       "   2012,\n",
       "   '73',\n",
       "   '']),\n",
       " (2, ['Chemosphere', 'sim_chemosphere', 'Aralk1999', 0, '39', '15']),\n",
       " (3,\n",
       "  ['Journal of Black SeaMediterranean Environment',\n",
       "   'sim_journal-of-black-seamediterranean-environment',\n",
       "   '2007',\n",
       "   2007,\n",
       "   '13',\n",
       "   '']),\n",
       " (4,\n",
       "  ['Natural Hazards and Earth System Sciences',\n",
       "   'sim_natural-hazards-and-earth-system-sciences',\n",
       "   '2011',\n",
       "   2011,\n",
       "   '11',\n",
       "   ''])]"
      ]
     },
     "execution_count": 46,
     "metadata": {},
     "output_type": "execute_result"
    }
   ],
   "source": [
    "list(parsed_citations_dict.items())[0:5]"
   ]
  },
  {
   "cell_type": "code",
   "execution_count": 47,
   "metadata": {},
   "outputs": [
    {
     "data": {
      "text/html": [
       "<div>\n",
       "<style scoped>\n",
       "    .dataframe tbody tr th:only-of-type {\n",
       "        vertical-align: middle;\n",
       "    }\n",
       "\n",
       "    .dataframe tbody tr th {\n",
       "        vertical-align: top;\n",
       "    }\n",
       "\n",
       "    .dataframe thead th {\n",
       "        text-align: right;\n",
       "    }\n",
       "</style>\n",
       "<table border=\"1\" class=\"dataframe\">\n",
       "  <thead>\n",
       "    <tr style=\"text-align: right;\">\n",
       "      <th></th>\n",
       "      <th>journal_name</th>\n",
       "      <th>sim_id</th>\n",
       "      <th>date</th>\n",
       "      <th>year</th>\n",
       "      <th>volume</th>\n",
       "      <th>issue</th>\n",
       "    </tr>\n",
       "  </thead>\n",
       "  <tbody>\n",
       "    <tr>\n",
       "      <th>0</th>\n",
       "      <td>Gncel Matematik</td>\n",
       "      <td>sim_gncel-matematik</td>\n",
       "      <td>1999</td>\n",
       "      <td>1999</td>\n",
       "      <td>248</td>\n",
       "      <td></td>\n",
       "    </tr>\n",
       "    <tr>\n",
       "      <th>1</th>\n",
       "      <td>Planetary and Space Science</td>\n",
       "      <td>sim_planetary-and-space-science</td>\n",
       "      <td>2012-12</td>\n",
       "      <td>2012</td>\n",
       "      <td>73</td>\n",
       "      <td></td>\n",
       "    </tr>\n",
       "    <tr>\n",
       "      <th>2</th>\n",
       "      <td>Chemosphere</td>\n",
       "      <td>sim_chemosphere</td>\n",
       "      <td>Aralk1999</td>\n",
       "      <td>0</td>\n",
       "      <td>39</td>\n",
       "      <td>15</td>\n",
       "    </tr>\n",
       "    <tr>\n",
       "      <th>3</th>\n",
       "      <td>Journal of Black SeaMediterranean Environment</td>\n",
       "      <td>sim_journal-of-black-seamediterranean-environment</td>\n",
       "      <td>2007</td>\n",
       "      <td>2007</td>\n",
       "      <td>13</td>\n",
       "      <td></td>\n",
       "    </tr>\n",
       "    <tr>\n",
       "      <th>4</th>\n",
       "      <td>Natural Hazards and Earth System Sciences</td>\n",
       "      <td>sim_natural-hazards-and-earth-system-sciences</td>\n",
       "      <td>2011</td>\n",
       "      <td>2011</td>\n",
       "      <td>11</td>\n",
       "      <td></td>\n",
       "    </tr>\n",
       "  </tbody>\n",
       "</table>\n",
       "</div>"
      ],
      "text/plain": [
       "                                    journal_name  \\\n",
       "0                                Gncel Matematik   \n",
       "1                    Planetary and Space Science   \n",
       "2                                    Chemosphere   \n",
       "3  Journal of Black SeaMediterranean Environment   \n",
       "4      Natural Hazards and Earth System Sciences   \n",
       "\n",
       "                                              sim_id       date  year volume  \\\n",
       "0                                sim_gncel-matematik       1999  1999    248   \n",
       "1                    sim_planetary-and-space-science    2012-12  2012     73   \n",
       "2                                    sim_chemosphere  Aralk1999     0     39   \n",
       "3  sim_journal-of-black-seamediterranean-environment       2007  2007     13   \n",
       "4      sim_natural-hazards-and-earth-system-sciences       2011  2011     11   \n",
       "\n",
       "  issue  \n",
       "0        \n",
       "1        \n",
       "2    15  \n",
       "3        \n",
       "4        "
      ]
     },
     "execution_count": 47,
     "metadata": {},
     "output_type": "execute_result"
    }
   ],
   "source": [
    "# Get into a dataframe format\n",
    "parsed_citations_df = pd.DataFrame.from_dict(parsed_citations_dict, \n",
    "                                             orient = 'index',\n",
    "                                   columns = ['journal_name', 'sim_id', 'date', 'year', 'volume', 'issue'])\n",
    "parsed_citations_df.head()"
   ]
  },
  {
   "cell_type": "code",
   "execution_count": null,
   "metadata": {},
   "outputs": [],
   "source": []
  },
  {
   "cell_type": "markdown",
   "metadata": {},
   "source": [
    "## Filter Citations by SIM Collections"
   ]
  },
  {
   "cell_type": "code",
   "execution_count": 48,
   "metadata": {},
   "outputs": [
    {
     "data": {
      "text/html": [
       "<div>\n",
       "<style scoped>\n",
       "    .dataframe tbody tr th:only-of-type {\n",
       "        vertical-align: middle;\n",
       "    }\n",
       "\n",
       "    .dataframe tbody tr th {\n",
       "        vertical-align: top;\n",
       "    }\n",
       "\n",
       "    .dataframe thead th {\n",
       "        text-align: right;\n",
       "    }\n",
       "</style>\n",
       "<table border=\"1\" class=\"dataframe\">\n",
       "  <thead>\n",
       "    <tr style=\"text-align: right;\">\n",
       "      <th></th>\n",
       "      <th>journal_name</th>\n",
       "      <th>sim_id</th>\n",
       "      <th>date</th>\n",
       "      <th>year</th>\n",
       "      <th>volume</th>\n",
       "      <th>issue</th>\n",
       "      <th>Title</th>\n",
       "      <th>First Volume</th>\n",
       "      <th>Last Volume</th>\n",
       "      <th>Subjects</th>\n",
       "      <th>PubIssueID</th>\n",
       "    </tr>\n",
       "  </thead>\n",
       "  <tbody>\n",
       "    <tr>\n",
       "      <th>0</th>\n",
       "      <td>Planetary and Space Science</td>\n",
       "      <td>sim_planetary-and-space-science</td>\n",
       "      <td>2012-12</td>\n",
       "      <td>2012</td>\n",
       "      <td>73</td>\n",
       "      <td></td>\n",
       "      <td>Planetary and Space Science</td>\n",
       "      <td>1959.0</td>\n",
       "      <td>2002.0</td>\n",
       "      <td>Mathematical &amp; Physical Sciences</td>\n",
       "      <td>sim_planetary-and-space-science</td>\n",
       "    </tr>\n",
       "    <tr>\n",
       "      <th>1</th>\n",
       "      <td>Planetary and Space Science</td>\n",
       "      <td>sim_planetary-and-space-science</td>\n",
       "      <td>1991</td>\n",
       "      <td>1991</td>\n",
       "      <td>39</td>\n",
       "      <td>12</td>\n",
       "      <td>Planetary and Space Science</td>\n",
       "      <td>1959.0</td>\n",
       "      <td>2002.0</td>\n",
       "      <td>Mathematical &amp; Physical Sciences</td>\n",
       "      <td>sim_planetary-and-space-science</td>\n",
       "    </tr>\n",
       "    <tr>\n",
       "      <th>2</th>\n",
       "      <td>Planetary and Space Science</td>\n",
       "      <td>sim_planetary-and-space-science</td>\n",
       "      <td>2004-01</td>\n",
       "      <td>2004</td>\n",
       "      <td>52</td>\n",
       "      <td>13</td>\n",
       "      <td>Planetary and Space Science</td>\n",
       "      <td>1959.0</td>\n",
       "      <td>2002.0</td>\n",
       "      <td>Mathematical &amp; Physical Sciences</td>\n",
       "      <td>sim_planetary-and-space-science</td>\n",
       "    </tr>\n",
       "    <tr>\n",
       "      <th>3</th>\n",
       "      <td>Chemosphere</td>\n",
       "      <td>sim_chemosphere</td>\n",
       "      <td>Aralk1999</td>\n",
       "      <td>0</td>\n",
       "      <td>39</td>\n",
       "      <td>15</td>\n",
       "      <td>Chemosphere</td>\n",
       "      <td>1972.0</td>\n",
       "      <td>2003.0</td>\n",
       "      <td>Environmental Sciences</td>\n",
       "      <td>sim_chemosphere</td>\n",
       "    </tr>\n",
       "    <tr>\n",
       "      <th>4</th>\n",
       "      <td>Chemosphere</td>\n",
       "      <td>sim_chemosphere</td>\n",
       "      <td>6Haziran2021-06</td>\n",
       "      <td>0</td>\n",
       "      <td>276</td>\n",
       "      <td></td>\n",
       "      <td>Chemosphere</td>\n",
       "      <td>1972.0</td>\n",
       "      <td>2003.0</td>\n",
       "      <td>Environmental Sciences</td>\n",
       "      <td>sim_chemosphere</td>\n",
       "    </tr>\n",
       "  </tbody>\n",
       "</table>\n",
       "</div>"
      ],
      "text/plain": [
       "                  journal_name                           sim_id  \\\n",
       "0  Planetary and Space Science  sim_planetary-and-space-science   \n",
       "1  Planetary and Space Science  sim_planetary-and-space-science   \n",
       "2  Planetary and Space Science  sim_planetary-and-space-science   \n",
       "3                  Chemosphere                  sim_chemosphere   \n",
       "4                  Chemosphere                  sim_chemosphere   \n",
       "\n",
       "              date  year volume issue                        Title  \\\n",
       "0          2012-12  2012     73        Planetary and Space Science   \n",
       "1             1991  1991     39    12  Planetary and Space Science   \n",
       "2          2004-01  2004     52    13  Planetary and Space Science   \n",
       "3        Aralk1999     0     39    15                  Chemosphere   \n",
       "4  6Haziran2021-06     0    276                        Chemosphere   \n",
       "\n",
       "   First Volume  Last Volume                          Subjects  \\\n",
       "0        1959.0       2002.0  Mathematical & Physical Sciences   \n",
       "1        1959.0       2002.0  Mathematical & Physical Sciences   \n",
       "2        1959.0       2002.0  Mathematical & Physical Sciences   \n",
       "3        1972.0       2003.0            Environmental Sciences   \n",
       "4        1972.0       2003.0            Environmental Sciences   \n",
       "\n",
       "                        PubIssueID  \n",
       "0  sim_planetary-and-space-science  \n",
       "1  sim_planetary-and-space-science  \n",
       "2  sim_planetary-and-space-science  \n",
       "3                  sim_chemosphere  \n",
       "4                  sim_chemosphere  "
      ]
     },
     "execution_count": 48,
     "metadata": {},
     "output_type": "execute_result"
    }
   ],
   "source": [
    "# Limit to citations with the exact sim_id match\n",
    "merged = pd.merge(left=parsed_citations_df, right=sim_info, how=\"inner\", \n",
    "                  left_on=\"sim_id\", right_on=\"PubIssueID\")\n",
    "merged.head()"
   ]
  },
  {
   "cell_type": "code",
   "execution_count": 49,
   "metadata": {},
   "outputs": [
    {
     "name": "stdout",
     "output_type": "stream",
     "text": [
      "Number of Citations in SIM : 4595\n"
     ]
    }
   ],
   "source": [
    "print(\"Number of Citations in SIM : \" + str(merged.shape[0]))"
   ]
  },
  {
   "cell_type": "code",
   "execution_count": 50,
   "metadata": {},
   "outputs": [],
   "source": [
    "# Filter out the journals of years that are not within the range of collection\n",
    "def filter_year_range(row):\n",
    "    year = row['year']\n",
    "    first = row['First Volume']\n",
    "    last = row['Last Volume']\n",
    "    if first != np.nan and last != np.nan:\n",
    "        if year > first and year < last:\n",
    "            return True\n",
    "    \n",
    "    return False"
   ]
  },
  {
   "cell_type": "code",
   "execution_count": 51,
   "metadata": {},
   "outputs": [
    {
     "data": {
      "text/html": [
       "<div>\n",
       "<style scoped>\n",
       "    .dataframe tbody tr th:only-of-type {\n",
       "        vertical-align: middle;\n",
       "    }\n",
       "\n",
       "    .dataframe tbody tr th {\n",
       "        vertical-align: top;\n",
       "    }\n",
       "\n",
       "    .dataframe thead th {\n",
       "        text-align: right;\n",
       "    }\n",
       "</style>\n",
       "<table border=\"1\" class=\"dataframe\">\n",
       "  <thead>\n",
       "    <tr style=\"text-align: right;\">\n",
       "      <th></th>\n",
       "      <th>journal_name</th>\n",
       "      <th>sim_id</th>\n",
       "      <th>date</th>\n",
       "      <th>year</th>\n",
       "      <th>volume</th>\n",
       "      <th>issue</th>\n",
       "      <th>Title</th>\n",
       "      <th>First Volume</th>\n",
       "      <th>Last Volume</th>\n",
       "      <th>Subjects</th>\n",
       "      <th>PubIssueID</th>\n",
       "    </tr>\n",
       "  </thead>\n",
       "  <tbody>\n",
       "    <tr>\n",
       "      <th>1</th>\n",
       "      <td>Planetary and Space Science</td>\n",
       "      <td>sim_planetary-and-space-science</td>\n",
       "      <td>1991</td>\n",
       "      <td>1991</td>\n",
       "      <td>39</td>\n",
       "      <td>12</td>\n",
       "      <td>Planetary and Space Science</td>\n",
       "      <td>1959.0</td>\n",
       "      <td>2002.0</td>\n",
       "      <td>Mathematical &amp; Physical Sciences</td>\n",
       "      <td>sim_planetary-and-space-science</td>\n",
       "    </tr>\n",
       "    <tr>\n",
       "      <th>13</th>\n",
       "      <td>Journal of the Geological Society</td>\n",
       "      <td>sim_journal-of-the-geological-society</td>\n",
       "      <td>2007</td>\n",
       "      <td>2007</td>\n",
       "      <td>164</td>\n",
       "      <td>6</td>\n",
       "      <td>Journal of the Geological Society</td>\n",
       "      <td>1980.0</td>\n",
       "      <td>2013.0</td>\n",
       "      <td>Earth Sciences--Geology</td>\n",
       "      <td>sim_journal-of-the-geological-society</td>\n",
       "    </tr>\n",
       "    <tr>\n",
       "      <th>16</th>\n",
       "      <td>Public Health Reports</td>\n",
       "      <td>sim_public-health-reports</td>\n",
       "      <td>1900-06</td>\n",
       "      <td>1900</td>\n",
       "      <td>15</td>\n",
       "      <td>24</td>\n",
       "      <td>Public Health Reports</td>\n",
       "      <td>1878.0</td>\n",
       "      <td>2015.0</td>\n",
       "      <td>Medical Sciences|Public Health And Safety</td>\n",
       "      <td>sim_public-health-reports</td>\n",
       "    </tr>\n",
       "    <tr>\n",
       "      <th>17</th>\n",
       "      <td>Time</td>\n",
       "      <td>sim_time</td>\n",
       "      <td>1985-04</td>\n",
       "      <td>1985</td>\n",
       "      <td></td>\n",
       "      <td></td>\n",
       "      <td>Time</td>\n",
       "      <td>1923.0</td>\n",
       "      <td>2016.0</td>\n",
       "      <td>General Interest Periodicals--United States|Po...</td>\n",
       "      <td>sim_time</td>\n",
       "    </tr>\n",
       "    <tr>\n",
       "      <th>18</th>\n",
       "      <td>Time</td>\n",
       "      <td>sim_time</td>\n",
       "      <td>1985-01</td>\n",
       "      <td>1985</td>\n",
       "      <td></td>\n",
       "      <td></td>\n",
       "      <td>Time</td>\n",
       "      <td>1923.0</td>\n",
       "      <td>2016.0</td>\n",
       "      <td>General Interest Periodicals--United States|Po...</td>\n",
       "      <td>sim_time</td>\n",
       "    </tr>\n",
       "  </tbody>\n",
       "</table>\n",
       "</div>"
      ],
      "text/plain": [
       "                         journal_name                                 sim_id  \\\n",
       "1         Planetary and Space Science        sim_planetary-and-space-science   \n",
       "13  Journal of the Geological Society  sim_journal-of-the-geological-society   \n",
       "16              Public Health Reports              sim_public-health-reports   \n",
       "17                               Time                               sim_time   \n",
       "18                               Time                               sim_time   \n",
       "\n",
       "       date  year volume issue                              Title  \\\n",
       "1      1991  1991     39    12        Planetary and Space Science   \n",
       "13     2007  2007    164     6  Journal of the Geological Society   \n",
       "16  1900-06  1900     15    24              Public Health Reports   \n",
       "17  1985-04  1985                                            Time   \n",
       "18  1985-01  1985                                            Time   \n",
       "\n",
       "    First Volume  Last Volume  \\\n",
       "1         1959.0       2002.0   \n",
       "13        1980.0       2013.0   \n",
       "16        1878.0       2015.0   \n",
       "17        1923.0       2016.0   \n",
       "18        1923.0       2016.0   \n",
       "\n",
       "                                             Subjects  \\\n",
       "1                    Mathematical & Physical Sciences   \n",
       "13                            Earth Sciences--Geology   \n",
       "16          Medical Sciences|Public Health And Safety   \n",
       "17  General Interest Periodicals--United States|Po...   \n",
       "18  General Interest Periodicals--United States|Po...   \n",
       "\n",
       "                               PubIssueID  \n",
       "1         sim_planetary-and-space-science  \n",
       "13  sim_journal-of-the-geological-society  \n",
       "16              sim_public-health-reports  \n",
       "17                               sim_time  \n",
       "18                               sim_time  "
      ]
     },
     "execution_count": 51,
     "metadata": {},
     "output_type": "execute_result"
    }
   ],
   "source": [
    "merged[\"within_yr_range\"] = merged.apply(filter_year_range, axis = 1)\n",
    "journal_year_within_range = merged[merged[\"within_yr_range\"]]\n",
    "journal_year_within_range = journal_year_within_range.drop(columns = ['within_yr_range'])\n",
    "journal_year_within_range.head()"
   ]
  },
  {
   "cell_type": "code",
   "execution_count": 52,
   "metadata": {},
   "outputs": [
    {
     "name": "stdout",
     "output_type": "stream",
     "text": [
      "Number of Citations in SIM with range of collection years: 2147\n"
     ]
    }
   ],
   "source": [
    "print(\"Number of Citations in SIM with range of collection years: \" + str(journal_year_within_range.shape[0]))"
   ]
  },
  {
   "cell_type": "code",
   "execution_count": 53,
   "metadata": {},
   "outputs": [
    {
     "data": {
      "text/html": [
       "<div>\n",
       "<style scoped>\n",
       "    .dataframe tbody tr th:only-of-type {\n",
       "        vertical-align: middle;\n",
       "    }\n",
       "\n",
       "    .dataframe tbody tr th {\n",
       "        vertical-align: top;\n",
       "    }\n",
       "\n",
       "    .dataframe thead th {\n",
       "        text-align: right;\n",
       "    }\n",
       "</style>\n",
       "<table border=\"1\" class=\"dataframe\">\n",
       "  <thead>\n",
       "    <tr style=\"text-align: right;\">\n",
       "      <th></th>\n",
       "      <th>journal_name</th>\n",
       "      <th>sim_id</th>\n",
       "      <th>date</th>\n",
       "      <th>year</th>\n",
       "      <th>volume</th>\n",
       "      <th>issue</th>\n",
       "      <th>Title</th>\n",
       "      <th>First Volume</th>\n",
       "      <th>Last Volume</th>\n",
       "      <th>Subjects</th>\n",
       "      <th>PubIssueID</th>\n",
       "    </tr>\n",
       "  </thead>\n",
       "  <tbody>\n",
       "    <tr>\n",
       "      <th>0</th>\n",
       "      <td>Planetary and Space Science</td>\n",
       "      <td>sim_planetary-and-space-science</td>\n",
       "      <td>2012-12</td>\n",
       "      <td>2012</td>\n",
       "      <td>73</td>\n",
       "      <td></td>\n",
       "      <td>Planetary and Space Science</td>\n",
       "      <td>1959.0</td>\n",
       "      <td>2002.0</td>\n",
       "      <td>Mathematical &amp; Physical Sciences</td>\n",
       "      <td>sim_planetary-and-space-science</td>\n",
       "    </tr>\n",
       "    <tr>\n",
       "      <th>2</th>\n",
       "      <td>Planetary and Space Science</td>\n",
       "      <td>sim_planetary-and-space-science</td>\n",
       "      <td>2004-01</td>\n",
       "      <td>2004</td>\n",
       "      <td>52</td>\n",
       "      <td>13</td>\n",
       "      <td>Planetary and Space Science</td>\n",
       "      <td>1959.0</td>\n",
       "      <td>2002.0</td>\n",
       "      <td>Mathematical &amp; Physical Sciences</td>\n",
       "      <td>sim_planetary-and-space-science</td>\n",
       "    </tr>\n",
       "    <tr>\n",
       "      <th>3</th>\n",
       "      <td>Chemosphere</td>\n",
       "      <td>sim_chemosphere</td>\n",
       "      <td>Aralk1999</td>\n",
       "      <td>0</td>\n",
       "      <td>39</td>\n",
       "      <td>15</td>\n",
       "      <td>Chemosphere</td>\n",
       "      <td>1972.0</td>\n",
       "      <td>2003.0</td>\n",
       "      <td>Environmental Sciences</td>\n",
       "      <td>sim_chemosphere</td>\n",
       "    </tr>\n",
       "    <tr>\n",
       "      <th>4</th>\n",
       "      <td>Chemosphere</td>\n",
       "      <td>sim_chemosphere</td>\n",
       "      <td>6Haziran2021-06</td>\n",
       "      <td>0</td>\n",
       "      <td>276</td>\n",
       "      <td></td>\n",
       "      <td>Chemosphere</td>\n",
       "      <td>1972.0</td>\n",
       "      <td>2003.0</td>\n",
       "      <td>Environmental Sciences</td>\n",
       "      <td>sim_chemosphere</td>\n",
       "    </tr>\n",
       "    <tr>\n",
       "      <th>5</th>\n",
       "      <td>Chemosphere</td>\n",
       "      <td>sim_chemosphere</td>\n",
       "      <td>2014-07</td>\n",
       "      <td>2014</td>\n",
       "      <td>107</td>\n",
       "      <td></td>\n",
       "      <td>Chemosphere</td>\n",
       "      <td>1972.0</td>\n",
       "      <td>2003.0</td>\n",
       "      <td>Environmental Sciences</td>\n",
       "      <td>sim_chemosphere</td>\n",
       "    </tr>\n",
       "  </tbody>\n",
       "</table>\n",
       "</div>"
      ],
      "text/plain": [
       "                  journal_name                           sim_id  \\\n",
       "0  Planetary and Space Science  sim_planetary-and-space-science   \n",
       "2  Planetary and Space Science  sim_planetary-and-space-science   \n",
       "3                  Chemosphere                  sim_chemosphere   \n",
       "4                  Chemosphere                  sim_chemosphere   \n",
       "5                  Chemosphere                  sim_chemosphere   \n",
       "\n",
       "              date  year volume issue                        Title  \\\n",
       "0          2012-12  2012     73        Planetary and Space Science   \n",
       "2          2004-01  2004     52    13  Planetary and Space Science   \n",
       "3        Aralk1999     0     39    15                  Chemosphere   \n",
       "4  6Haziran2021-06     0    276                        Chemosphere   \n",
       "5          2014-07  2014    107                        Chemosphere   \n",
       "\n",
       "   First Volume  Last Volume                          Subjects  \\\n",
       "0        1959.0       2002.0  Mathematical & Physical Sciences   \n",
       "2        1959.0       2002.0  Mathematical & Physical Sciences   \n",
       "3        1972.0       2003.0            Environmental Sciences   \n",
       "4        1972.0       2003.0            Environmental Sciences   \n",
       "5        1972.0       2003.0            Environmental Sciences   \n",
       "\n",
       "                        PubIssueID  \n",
       "0  sim_planetary-and-space-science  \n",
       "2  sim_planetary-and-space-science  \n",
       "3                  sim_chemosphere  \n",
       "4                  sim_chemosphere  \n",
       "5                  sim_chemosphere  "
      ]
     },
     "execution_count": 53,
     "metadata": {},
     "output_type": "execute_result"
    }
   ],
   "source": [
    "journal_year_not_within_range = merged[merged[\"within_yr_range\"] == False]\n",
    "journal_year_not_within_range = journal_year_not_within_range.drop(columns = ['within_yr_range'])\n",
    "journal_year_not_within_range.head()"
   ]
  },
  {
   "cell_type": "code",
   "execution_count": 54,
   "metadata": {},
   "outputs": [
    {
     "name": "stdout",
     "output_type": "stream",
     "text": [
      "Number of Citations in SIM not in range of collection years: 2448\n"
     ]
    }
   ],
   "source": [
    "print(\"Number of Citations in SIM not in range of collection years: \" + str(journal_year_not_within_range.shape[0]))"
   ]
  },
  {
   "cell_type": "markdown",
   "metadata": {},
   "source": [
    "## Extract Different Dataframes "
   ]
  },
  {
   "cell_type": "code",
   "execution_count": 55,
   "metadata": {},
   "outputs": [
    {
     "data": {
      "text/plain": [
       "2147"
      ]
     },
     "execution_count": 55,
     "metadata": {},
     "output_type": "execute_result"
    }
   ],
   "source": [
    "total_count = journal_year_within_range.shape[0]\n",
    "total_count"
   ]
  },
  {
   "cell_type": "code",
   "execution_count": 56,
   "metadata": {},
   "outputs": [
    {
     "name": "stdout",
     "output_type": "stream",
     "text": [
      "Journal, date, volume count: 2064\n"
     ]
    },
    {
     "data": {
      "text/html": [
       "<div>\n",
       "<style scoped>\n",
       "    .dataframe tbody tr th:only-of-type {\n",
       "        vertical-align: middle;\n",
       "    }\n",
       "\n",
       "    .dataframe tbody tr th {\n",
       "        vertical-align: top;\n",
       "    }\n",
       "\n",
       "    .dataframe thead th {\n",
       "        text-align: right;\n",
       "    }\n",
       "</style>\n",
       "<table border=\"1\" class=\"dataframe\">\n",
       "  <thead>\n",
       "    <tr style=\"text-align: right;\">\n",
       "      <th></th>\n",
       "      <th>journal_name</th>\n",
       "      <th>sim_id</th>\n",
       "      <th>date</th>\n",
       "      <th>year</th>\n",
       "      <th>volume</th>\n",
       "      <th>issue</th>\n",
       "      <th>Title</th>\n",
       "      <th>First Volume</th>\n",
       "      <th>Last Volume</th>\n",
       "      <th>Subjects</th>\n",
       "      <th>PubIssueID</th>\n",
       "    </tr>\n",
       "  </thead>\n",
       "  <tbody>\n",
       "    <tr>\n",
       "      <th>1</th>\n",
       "      <td>Planetary and Space Science</td>\n",
       "      <td>sim_planetary-and-space-science</td>\n",
       "      <td>1991</td>\n",
       "      <td>1991</td>\n",
       "      <td>39</td>\n",
       "      <td>12</td>\n",
       "      <td>Planetary and Space Science</td>\n",
       "      <td>1959.0</td>\n",
       "      <td>2002.0</td>\n",
       "      <td>Mathematical &amp; Physical Sciences</td>\n",
       "      <td>sim_planetary-and-space-science</td>\n",
       "    </tr>\n",
       "    <tr>\n",
       "      <th>13</th>\n",
       "      <td>Journal of the Geological Society</td>\n",
       "      <td>sim_journal-of-the-geological-society</td>\n",
       "      <td>2007</td>\n",
       "      <td>2007</td>\n",
       "      <td>164</td>\n",
       "      <td>6</td>\n",
       "      <td>Journal of the Geological Society</td>\n",
       "      <td>1980.0</td>\n",
       "      <td>2013.0</td>\n",
       "      <td>Earth Sciences--Geology</td>\n",
       "      <td>sim_journal-of-the-geological-society</td>\n",
       "    </tr>\n",
       "    <tr>\n",
       "      <th>16</th>\n",
       "      <td>Public Health Reports</td>\n",
       "      <td>sim_public-health-reports</td>\n",
       "      <td>1900-06</td>\n",
       "      <td>1900</td>\n",
       "      <td>15</td>\n",
       "      <td>24</td>\n",
       "      <td>Public Health Reports</td>\n",
       "      <td>1878.0</td>\n",
       "      <td>2015.0</td>\n",
       "      <td>Medical Sciences|Public Health And Safety</td>\n",
       "      <td>sim_public-health-reports</td>\n",
       "    </tr>\n",
       "    <tr>\n",
       "      <th>57</th>\n",
       "      <td>Science</td>\n",
       "      <td>sim_science</td>\n",
       "      <td>2001-04</td>\n",
       "      <td>2001</td>\n",
       "      <td>292</td>\n",
       "      <td>5517</td>\n",
       "      <td>Science</td>\n",
       "      <td>1883.0</td>\n",
       "      <td>2016.0</td>\n",
       "      <td>Sciences: Comprehensive Works|Technology: Comp...</td>\n",
       "      <td>sim_science</td>\n",
       "    </tr>\n",
       "    <tr>\n",
       "      <th>61</th>\n",
       "      <td>Science</td>\n",
       "      <td>sim_science</td>\n",
       "      <td>2010</td>\n",
       "      <td>2010</td>\n",
       "      <td>328</td>\n",
       "      <td>5975</td>\n",
       "      <td>Science</td>\n",
       "      <td>1883.0</td>\n",
       "      <td>2016.0</td>\n",
       "      <td>Sciences: Comprehensive Works|Technology: Comp...</td>\n",
       "      <td>sim_science</td>\n",
       "    </tr>\n",
       "  </tbody>\n",
       "</table>\n",
       "</div>"
      ],
      "text/plain": [
       "                         journal_name                                 sim_id  \\\n",
       "1         Planetary and Space Science        sim_planetary-and-space-science   \n",
       "13  Journal of the Geological Society  sim_journal-of-the-geological-society   \n",
       "16              Public Health Reports              sim_public-health-reports   \n",
       "57                            Science                            sim_science   \n",
       "61                            Science                            sim_science   \n",
       "\n",
       "       date  year volume issue                              Title  \\\n",
       "1      1991  1991     39    12        Planetary and Space Science   \n",
       "13     2007  2007    164     6  Journal of the Geological Society   \n",
       "16  1900-06  1900     15    24              Public Health Reports   \n",
       "57  2001-04  2001    292  5517                            Science   \n",
       "61     2010  2010    328  5975                            Science   \n",
       "\n",
       "    First Volume  Last Volume  \\\n",
       "1         1959.0       2002.0   \n",
       "13        1980.0       2013.0   \n",
       "16        1878.0       2015.0   \n",
       "57        1883.0       2016.0   \n",
       "61        1883.0       2016.0   \n",
       "\n",
       "                                             Subjects  \\\n",
       "1                    Mathematical & Physical Sciences   \n",
       "13                            Earth Sciences--Geology   \n",
       "16          Medical Sciences|Public Health And Safety   \n",
       "57  Sciences: Comprehensive Works|Technology: Comp...   \n",
       "61  Sciences: Comprehensive Works|Technology: Comp...   \n",
       "\n",
       "                               PubIssueID  \n",
       "1         sim_planetary-and-space-science  \n",
       "13  sim_journal-of-the-geological-society  \n",
       "16              sim_public-health-reports  \n",
       "57                            sim_science  \n",
       "61                            sim_science  "
      ]
     },
     "execution_count": 56,
     "metadata": {},
     "output_type": "execute_result"
    }
   ],
   "source": [
    "# Journals that have sim_id, date, volume\n",
    "journal_sim_has_journal_date_volume = journal_year_within_range[(journal_year_within_range[\"date\"] != \"\") &\n",
    "                                                               (journal_year_within_range[\"volume\"] != \"\")]\n",
    "print(\"Journal, date, volume count: \" + str(journal_sim_has_journal_date_volume.shape[0]))\n",
    "journal_sim_has_journal_date_volume.head()"
   ]
  },
  {
   "cell_type": "code",
   "execution_count": 57,
   "metadata": {},
   "outputs": [
    {
     "name": "stdout",
     "output_type": "stream",
     "text": [
      "Journal date, no volume count: 83\n"
     ]
    },
    {
     "data": {
      "text/html": [
       "<div>\n",
       "<style scoped>\n",
       "    .dataframe tbody tr th:only-of-type {\n",
       "        vertical-align: middle;\n",
       "    }\n",
       "\n",
       "    .dataframe tbody tr th {\n",
       "        vertical-align: top;\n",
       "    }\n",
       "\n",
       "    .dataframe thead th {\n",
       "        text-align: right;\n",
       "    }\n",
       "</style>\n",
       "<table border=\"1\" class=\"dataframe\">\n",
       "  <thead>\n",
       "    <tr style=\"text-align: right;\">\n",
       "      <th></th>\n",
       "      <th>journal_name</th>\n",
       "      <th>sim_id</th>\n",
       "      <th>date</th>\n",
       "      <th>year</th>\n",
       "      <th>volume</th>\n",
       "      <th>issue</th>\n",
       "      <th>Title</th>\n",
       "      <th>First Volume</th>\n",
       "      <th>Last Volume</th>\n",
       "      <th>Subjects</th>\n",
       "      <th>PubIssueID</th>\n",
       "    </tr>\n",
       "  </thead>\n",
       "  <tbody>\n",
       "    <tr>\n",
       "      <th>17</th>\n",
       "      <td>Time</td>\n",
       "      <td>sim_time</td>\n",
       "      <td>1985-04</td>\n",
       "      <td>1985</td>\n",
       "      <td></td>\n",
       "      <td></td>\n",
       "      <td>Time</td>\n",
       "      <td>1923.0</td>\n",
       "      <td>2016.0</td>\n",
       "      <td>General Interest Periodicals--United States|Po...</td>\n",
       "      <td>sim_time</td>\n",
       "    </tr>\n",
       "    <tr>\n",
       "      <th>18</th>\n",
       "      <td>Time</td>\n",
       "      <td>sim_time</td>\n",
       "      <td>1985-01</td>\n",
       "      <td>1985</td>\n",
       "      <td></td>\n",
       "      <td></td>\n",
       "      <td>Time</td>\n",
       "      <td>1923.0</td>\n",
       "      <td>2016.0</td>\n",
       "      <td>General Interest Periodicals--United States|Po...</td>\n",
       "      <td>sim_time</td>\n",
       "    </tr>\n",
       "    <tr>\n",
       "      <th>19</th>\n",
       "      <td>Time</td>\n",
       "      <td>sim_time</td>\n",
       "      <td>1985-03</td>\n",
       "      <td>1985</td>\n",
       "      <td></td>\n",
       "      <td></td>\n",
       "      <td>Time</td>\n",
       "      <td>1923.0</td>\n",
       "      <td>2016.0</td>\n",
       "      <td>General Interest Periodicals--United States|Po...</td>\n",
       "      <td>sim_time</td>\n",
       "    </tr>\n",
       "    <tr>\n",
       "      <th>20</th>\n",
       "      <td>Time</td>\n",
       "      <td>sim_time</td>\n",
       "      <td>1987-06</td>\n",
       "      <td>1987</td>\n",
       "      <td></td>\n",
       "      <td></td>\n",
       "      <td>Time</td>\n",
       "      <td>1923.0</td>\n",
       "      <td>2016.0</td>\n",
       "      <td>General Interest Periodicals--United States|Po...</td>\n",
       "      <td>sim_time</td>\n",
       "    </tr>\n",
       "    <tr>\n",
       "      <th>21</th>\n",
       "      <td>Time</td>\n",
       "      <td>sim_time</td>\n",
       "      <td>2005-04</td>\n",
       "      <td>2005</td>\n",
       "      <td></td>\n",
       "      <td></td>\n",
       "      <td>Time</td>\n",
       "      <td>1923.0</td>\n",
       "      <td>2016.0</td>\n",
       "      <td>General Interest Periodicals--United States|Po...</td>\n",
       "      <td>sim_time</td>\n",
       "    </tr>\n",
       "  </tbody>\n",
       "</table>\n",
       "</div>"
      ],
      "text/plain": [
       "   journal_name    sim_id     date  year volume issue Title  First Volume  \\\n",
       "17         Time  sim_time  1985-04  1985               Time        1923.0   \n",
       "18         Time  sim_time  1985-01  1985               Time        1923.0   \n",
       "19         Time  sim_time  1985-03  1985               Time        1923.0   \n",
       "20         Time  sim_time  1987-06  1987               Time        1923.0   \n",
       "21         Time  sim_time  2005-04  2005               Time        1923.0   \n",
       "\n",
       "    Last Volume                                           Subjects PubIssueID  \n",
       "17       2016.0  General Interest Periodicals--United States|Po...   sim_time  \n",
       "18       2016.0  General Interest Periodicals--United States|Po...   sim_time  \n",
       "19       2016.0  General Interest Periodicals--United States|Po...   sim_time  \n",
       "20       2016.0  General Interest Periodicals--United States|Po...   sim_time  \n",
       "21       2016.0  General Interest Periodicals--United States|Po...   sim_time  "
      ]
     },
     "execution_count": 57,
     "metadata": {},
     "output_type": "execute_result"
    }
   ],
   "source": [
    "# Journals that have sim_id, date, no volume\n",
    "journal_sim_has_journal_date_no_volume = journal_year_within_range[(journal_year_within_range[\"date\"] != \"\") &\n",
    "                                                               (journal_year_within_range[\"volume\"] == \"\")]\n",
    "print(\"Journal date, no volume count: \" + str(journal_sim_has_journal_date_no_volume.shape[0]))\n",
    "journal_sim_has_journal_date_no_volume.head()"
   ]
  },
  {
   "cell_type": "code",
   "execution_count": 58,
   "metadata": {},
   "outputs": [
    {
     "name": "stdout",
     "output_type": "stream",
     "text": [
      "Journal, date, volume, issue count: 1907\n"
     ]
    },
    {
     "data": {
      "text/html": [
       "<div>\n",
       "<style scoped>\n",
       "    .dataframe tbody tr th:only-of-type {\n",
       "        vertical-align: middle;\n",
       "    }\n",
       "\n",
       "    .dataframe tbody tr th {\n",
       "        vertical-align: top;\n",
       "    }\n",
       "\n",
       "    .dataframe thead th {\n",
       "        text-align: right;\n",
       "    }\n",
       "</style>\n",
       "<table border=\"1\" class=\"dataframe\">\n",
       "  <thead>\n",
       "    <tr style=\"text-align: right;\">\n",
       "      <th></th>\n",
       "      <th>journal_name</th>\n",
       "      <th>sim_id</th>\n",
       "      <th>date</th>\n",
       "      <th>year</th>\n",
       "      <th>volume</th>\n",
       "      <th>issue</th>\n",
       "      <th>Title</th>\n",
       "      <th>First Volume</th>\n",
       "      <th>Last Volume</th>\n",
       "      <th>Subjects</th>\n",
       "      <th>PubIssueID</th>\n",
       "    </tr>\n",
       "  </thead>\n",
       "  <tbody>\n",
       "    <tr>\n",
       "      <th>1</th>\n",
       "      <td>Planetary and Space Science</td>\n",
       "      <td>sim_planetary-and-space-science</td>\n",
       "      <td>1991</td>\n",
       "      <td>1991</td>\n",
       "      <td>39</td>\n",
       "      <td>12</td>\n",
       "      <td>Planetary and Space Science</td>\n",
       "      <td>1959.0</td>\n",
       "      <td>2002.0</td>\n",
       "      <td>Mathematical &amp; Physical Sciences</td>\n",
       "      <td>sim_planetary-and-space-science</td>\n",
       "    </tr>\n",
       "    <tr>\n",
       "      <th>13</th>\n",
       "      <td>Journal of the Geological Society</td>\n",
       "      <td>sim_journal-of-the-geological-society</td>\n",
       "      <td>2007</td>\n",
       "      <td>2007</td>\n",
       "      <td>164</td>\n",
       "      <td>6</td>\n",
       "      <td>Journal of the Geological Society</td>\n",
       "      <td>1980.0</td>\n",
       "      <td>2013.0</td>\n",
       "      <td>Earth Sciences--Geology</td>\n",
       "      <td>sim_journal-of-the-geological-society</td>\n",
       "    </tr>\n",
       "    <tr>\n",
       "      <th>16</th>\n",
       "      <td>Public Health Reports</td>\n",
       "      <td>sim_public-health-reports</td>\n",
       "      <td>1900-06</td>\n",
       "      <td>1900</td>\n",
       "      <td>15</td>\n",
       "      <td>24</td>\n",
       "      <td>Public Health Reports</td>\n",
       "      <td>1878.0</td>\n",
       "      <td>2015.0</td>\n",
       "      <td>Medical Sciences|Public Health And Safety</td>\n",
       "      <td>sim_public-health-reports</td>\n",
       "    </tr>\n",
       "    <tr>\n",
       "      <th>57</th>\n",
       "      <td>Science</td>\n",
       "      <td>sim_science</td>\n",
       "      <td>2001-04</td>\n",
       "      <td>2001</td>\n",
       "      <td>292</td>\n",
       "      <td>5517</td>\n",
       "      <td>Science</td>\n",
       "      <td>1883.0</td>\n",
       "      <td>2016.0</td>\n",
       "      <td>Sciences: Comprehensive Works|Technology: Comp...</td>\n",
       "      <td>sim_science</td>\n",
       "    </tr>\n",
       "    <tr>\n",
       "      <th>61</th>\n",
       "      <td>Science</td>\n",
       "      <td>sim_science</td>\n",
       "      <td>2010</td>\n",
       "      <td>2010</td>\n",
       "      <td>328</td>\n",
       "      <td>5975</td>\n",
       "      <td>Science</td>\n",
       "      <td>1883.0</td>\n",
       "      <td>2016.0</td>\n",
       "      <td>Sciences: Comprehensive Works|Technology: Comp...</td>\n",
       "      <td>sim_science</td>\n",
       "    </tr>\n",
       "  </tbody>\n",
       "</table>\n",
       "</div>"
      ],
      "text/plain": [
       "                         journal_name                                 sim_id  \\\n",
       "1         Planetary and Space Science        sim_planetary-and-space-science   \n",
       "13  Journal of the Geological Society  sim_journal-of-the-geological-society   \n",
       "16              Public Health Reports              sim_public-health-reports   \n",
       "57                            Science                            sim_science   \n",
       "61                            Science                            sim_science   \n",
       "\n",
       "       date  year volume issue                              Title  \\\n",
       "1      1991  1991     39    12        Planetary and Space Science   \n",
       "13     2007  2007    164     6  Journal of the Geological Society   \n",
       "16  1900-06  1900     15    24              Public Health Reports   \n",
       "57  2001-04  2001    292  5517                            Science   \n",
       "61     2010  2010    328  5975                            Science   \n",
       "\n",
       "    First Volume  Last Volume  \\\n",
       "1         1959.0       2002.0   \n",
       "13        1980.0       2013.0   \n",
       "16        1878.0       2015.0   \n",
       "57        1883.0       2016.0   \n",
       "61        1883.0       2016.0   \n",
       "\n",
       "                                             Subjects  \\\n",
       "1                    Mathematical & Physical Sciences   \n",
       "13                            Earth Sciences--Geology   \n",
       "16          Medical Sciences|Public Health And Safety   \n",
       "57  Sciences: Comprehensive Works|Technology: Comp...   \n",
       "61  Sciences: Comprehensive Works|Technology: Comp...   \n",
       "\n",
       "                               PubIssueID  \n",
       "1         sim_planetary-and-space-science  \n",
       "13  sim_journal-of-the-geological-society  \n",
       "16              sim_public-health-reports  \n",
       "57                            sim_science  \n",
       "61                            sim_science  "
      ]
     },
     "execution_count": 58,
     "metadata": {},
     "output_type": "execute_result"
    }
   ],
   "source": [
    "# Journals with sim_id, date, volume, issue\n",
    "journal_sim_has_journal_date_volume_issue = journal_sim_has_journal_date_volume[journal_sim_has_journal_date_volume[\"issue\"] != \"\"]\n",
    "print(\"Journal, date, volume, issue count: \" + str(journal_sim_has_journal_date_volume_issue.shape[0]))\n",
    "journal_sim_has_journal_date_volume_issue.head()"
   ]
  },
  {
   "cell_type": "code",
   "execution_count": 59,
   "metadata": {},
   "outputs": [
    {
     "name": "stdout",
     "output_type": "stream",
     "text": [
      "Journal, date, volume, no issue count: 157\n"
     ]
    },
    {
     "data": {
      "text/html": [
       "<div>\n",
       "<style scoped>\n",
       "    .dataframe tbody tr th:only-of-type {\n",
       "        vertical-align: middle;\n",
       "    }\n",
       "\n",
       "    .dataframe tbody tr th {\n",
       "        vertical-align: top;\n",
       "    }\n",
       "\n",
       "    .dataframe thead th {\n",
       "        text-align: right;\n",
       "    }\n",
       "</style>\n",
       "<table border=\"1\" class=\"dataframe\">\n",
       "  <thead>\n",
       "    <tr style=\"text-align: right;\">\n",
       "      <th></th>\n",
       "      <th>journal_name</th>\n",
       "      <th>sim_id</th>\n",
       "      <th>date</th>\n",
       "      <th>year</th>\n",
       "      <th>volume</th>\n",
       "      <th>issue</th>\n",
       "      <th>Title</th>\n",
       "      <th>First Volume</th>\n",
       "      <th>Last Volume</th>\n",
       "      <th>Subjects</th>\n",
       "      <th>PubIssueID</th>\n",
       "    </tr>\n",
       "  </thead>\n",
       "  <tbody>\n",
       "    <tr>\n",
       "      <th>65</th>\n",
       "      <td>Science</td>\n",
       "      <td>sim_science</td>\n",
       "      <td>2008</td>\n",
       "      <td>2008</td>\n",
       "      <td>322</td>\n",
       "      <td></td>\n",
       "      <td>Science</td>\n",
       "      <td>1883.0</td>\n",
       "      <td>2016.0</td>\n",
       "      <td>Sciences: Comprehensive Works|Technology: Comp...</td>\n",
       "      <td>sim_science</td>\n",
       "    </tr>\n",
       "    <tr>\n",
       "      <th>381</th>\n",
       "      <td>Science</td>\n",
       "      <td>sim_science</td>\n",
       "      <td>1919</td>\n",
       "      <td>1919</td>\n",
       "      <td>49</td>\n",
       "      <td></td>\n",
       "      <td>Science</td>\n",
       "      <td>1883.0</td>\n",
       "      <td>2016.0</td>\n",
       "      <td>Sciences: Comprehensive Works|Technology: Comp...</td>\n",
       "      <td>sim_science</td>\n",
       "    </tr>\n",
       "    <tr>\n",
       "      <th>507</th>\n",
       "      <td>Developmental Psychology</td>\n",
       "      <td>sim_developmental-psychology</td>\n",
       "      <td>1992</td>\n",
       "      <td>1992</td>\n",
       "      <td>28</td>\n",
       "      <td></td>\n",
       "      <td>Developmental Psychology</td>\n",
       "      <td>1969.0</td>\n",
       "      <td>2014.0</td>\n",
       "      <td>Psychology</td>\n",
       "      <td>sim_developmental-psychology</td>\n",
       "    </tr>\n",
       "    <tr>\n",
       "      <th>523</th>\n",
       "      <td>Journal of Personality and Social Psychology</td>\n",
       "      <td>sim_journal-of-personality-and-social-psychology</td>\n",
       "      <td>2003</td>\n",
       "      <td>2003</td>\n",
       "      <td>85</td>\n",
       "      <td></td>\n",
       "      <td>Journal of Personality and Social Psychology</td>\n",
       "      <td>1965.0</td>\n",
       "      <td>2015.0</td>\n",
       "      <td>Psychology</td>\n",
       "      <td>sim_journal-of-personality-and-social-psychology</td>\n",
       "    </tr>\n",
       "    <tr>\n",
       "      <th>543</th>\n",
       "      <td>Adolescence</td>\n",
       "      <td>sim_adolescence</td>\n",
       "      <td>1976</td>\n",
       "      <td>1976</td>\n",
       "      <td>11</td>\n",
       "      <td></td>\n",
       "      <td>Adolescence</td>\n",
       "      <td>1966.0</td>\n",
       "      <td>2009.0</td>\n",
       "      <td>Children And Youth - About|Education|Medical S...</td>\n",
       "      <td>sim_adolescence</td>\n",
       "    </tr>\n",
       "  </tbody>\n",
       "</table>\n",
       "</div>"
      ],
      "text/plain": [
       "                                     journal_name  \\\n",
       "65                                        Science   \n",
       "381                                       Science   \n",
       "507                      Developmental Psychology   \n",
       "523  Journal of Personality and Social Psychology   \n",
       "543                                   Adolescence   \n",
       "\n",
       "                                               sim_id  date  year volume  \\\n",
       "65                                        sim_science  2008  2008    322   \n",
       "381                                       sim_science  1919  1919     49   \n",
       "507                      sim_developmental-psychology  1992  1992     28   \n",
       "523  sim_journal-of-personality-and-social-psychology  2003  2003     85   \n",
       "543                                   sim_adolescence  1976  1976     11   \n",
       "\n",
       "    issue                                         Title  First Volume  \\\n",
       "65                                              Science        1883.0   \n",
       "381                                             Science        1883.0   \n",
       "507                            Developmental Psychology        1969.0   \n",
       "523        Journal of Personality and Social Psychology        1965.0   \n",
       "543                                         Adolescence        1966.0   \n",
       "\n",
       "     Last Volume                                           Subjects  \\\n",
       "65        2016.0  Sciences: Comprehensive Works|Technology: Comp...   \n",
       "381       2016.0  Sciences: Comprehensive Works|Technology: Comp...   \n",
       "507       2014.0                                         Psychology   \n",
       "523       2015.0                                         Psychology   \n",
       "543       2009.0  Children And Youth - About|Education|Medical S...   \n",
       "\n",
       "                                           PubIssueID  \n",
       "65                                        sim_science  \n",
       "381                                       sim_science  \n",
       "507                      sim_developmental-psychology  \n",
       "523  sim_journal-of-personality-and-social-psychology  \n",
       "543                                   sim_adolescence  "
      ]
     },
     "execution_count": 59,
     "metadata": {},
     "output_type": "execute_result"
    }
   ],
   "source": [
    "# Journals with sim_id, date, volume, issue\n",
    "journal_sim_has_journal_date_volume_no_issue = journal_sim_has_journal_date_volume[journal_sim_has_journal_date_volume[\"issue\"] == \"\"]\n",
    "print(\"Journal, date, volume, no issue count: \" + str(journal_sim_has_journal_date_volume_no_issue.shape[0]))\n",
    "journal_sim_has_journal_date_volume_no_issue.head()"
   ]
  },
  {
   "cell_type": "code",
   "execution_count": null,
   "metadata": {},
   "outputs": [],
   "source": []
  },
  {
   "cell_type": "markdown",
   "metadata": {},
   "source": [
    "## Generate URLs"
   ]
  },
  {
   "cell_type": "markdown",
   "metadata": {},
   "source": [
    "- citation should already have name, date, year \n",
    "    - citation has volume\n",
    "        - citation has issue (url with 4 fields)\n",
    "            - with date\n",
    "            - with year\n",
    "        - citation has no issue (url with 3 fields)\n",
    "            - with date \n",
    "            - with year\n",
    "    - citation has no volume\n",
    "        - advanced search?"
   ]
  },
  {
   "cell_type": "markdown",
   "metadata": {},
   "source": [
    "### 3 Field URLs"
   ]
  },
  {
   "cell_type": "code",
   "execution_count": 60,
   "metadata": {},
   "outputs": [],
   "source": [
    "def generate_url_with_journal_date_volume(row):\n",
    "    archive_header = \"https://archive.org/details/\"\n",
    "    journal = str(row[\"sim_id\"])\n",
    "    date = \"_\" + str(row[\"date\"])\n",
    "    volume = \"_\" + str(row[\"volume\"])\n",
    "    identifier = journal + date + volume\n",
    "    return archive_header + identifier"
   ]
  },
  {
   "cell_type": "code",
   "execution_count": 61,
   "metadata": {},
   "outputs": [
    {
     "data": {
      "text/plain": [
       "['https://archive.org/details/sim_planetary-and-space-science_1991_39',\n",
       " 'https://archive.org/details/sim_journal-of-the-geological-society_2007_164',\n",
       " 'https://archive.org/details/sim_public-health-reports_1900-06_15',\n",
       " 'https://archive.org/details/sim_science_2001-04_292',\n",
       " 'https://archive.org/details/sim_science_2010_328']"
      ]
     },
     "execution_count": 61,
     "metadata": {},
     "output_type": "execute_result"
    }
   ],
   "source": [
    "url_journal_date_volume = journal_sim_has_journal_date_volume.apply(\n",
    "                                        generate_url_with_journal_date_volume, axis = 1)\n",
    "url_journal_date_volume_list = url_journal_date_volume.tolist()\n",
    "url_journal_date_volume_list[0:5]"
   ]
  },
  {
   "cell_type": "code",
   "execution_count": 62,
   "metadata": {},
   "outputs": [],
   "source": [
    "def generate_url_with_journal_year_volume(row):\n",
    "    archive_header = \"https://archive.org/details/\"\n",
    "    journal = str(row[\"sim_id\"])\n",
    "    year = \"_\" + str(row[\"year\"])\n",
    "    volume = \"_\" + str(row[\"volume\"])\n",
    "    identifier = journal + year + volume\n",
    "    return archive_header + identifier"
   ]
  },
  {
   "cell_type": "code",
   "execution_count": 63,
   "metadata": {},
   "outputs": [
    {
     "data": {
      "text/plain": [
       "['https://archive.org/details/sim_planetary-and-space-science_1991_39',\n",
       " 'https://archive.org/details/sim_journal-of-the-geological-society_2007_164',\n",
       " 'https://archive.org/details/sim_public-health-reports_1900_15',\n",
       " 'https://archive.org/details/sim_science_2001_292',\n",
       " 'https://archive.org/details/sim_science_2010_328']"
      ]
     },
     "execution_count": 63,
     "metadata": {},
     "output_type": "execute_result"
    }
   ],
   "source": [
    "url_journal_year_volume = journal_sim_has_journal_date_volume.apply(\n",
    "                                        generate_url_with_journal_year_volume, axis = 1)\n",
    "url_journal_year_volume_list = url_journal_year_volume.tolist()\n",
    "url_journal_year_volume_list[0:5]"
   ]
  },
  {
   "cell_type": "code",
   "execution_count": null,
   "metadata": {},
   "outputs": [],
   "source": []
  },
  {
   "cell_type": "markdown",
   "metadata": {},
   "source": [
    "### 4 Field URLs"
   ]
  },
  {
   "cell_type": "code",
   "execution_count": 64,
   "metadata": {},
   "outputs": [],
   "source": [
    "def generate_url_with_journal_date_volume_issue(row):\n",
    "    archive_header = \"https://archive.org/details/\"\n",
    "    journal = str(row[\"sim_id\"])\n",
    "    date = \"_\" + str(row[\"date\"])\n",
    "    volume = \"_\" + str(row[\"volume\"])\n",
    "    issue = \"_\" + str(row[\"issue\"])\n",
    "    identifier = journal + date + volume + issue\n",
    "    return archive_header + identifier"
   ]
  },
  {
   "cell_type": "code",
   "execution_count": 65,
   "metadata": {},
   "outputs": [
    {
     "data": {
      "text/plain": [
       "['https://archive.org/details/sim_planetary-and-space-science_1991_39_12',\n",
       " 'https://archive.org/details/sim_journal-of-the-geological-society_2007_164_6',\n",
       " 'https://archive.org/details/sim_public-health-reports_1900-06_15_24',\n",
       " 'https://archive.org/details/sim_science_2001-04_292_5517',\n",
       " 'https://archive.org/details/sim_science_2010_328_5975']"
      ]
     },
     "execution_count": 65,
     "metadata": {},
     "output_type": "execute_result"
    }
   ],
   "source": [
    "url_journal_date_volume_issue = journal_sim_has_journal_date_volume_issue.apply(\n",
    "                                        generate_url_with_journal_date_volume_issue, axis = 1)\n",
    "url_journal_date_volume_issue_list = url_journal_date_volume_issue.tolist()\n",
    "url_journal_date_volume_issue_list[0:5]"
   ]
  },
  {
   "cell_type": "code",
   "execution_count": 66,
   "metadata": {},
   "outputs": [],
   "source": [
    "def generate_url_with_journal_year_volume_issue(row):\n",
    "    archive_header = \"https://archive.org/details/\"\n",
    "    journal = str(row[\"sim_id\"])\n",
    "    year = \"_\" + str(row[\"year\"])\n",
    "    volume = \"_\" + str(row[\"volume\"])\n",
    "    issue = \"_\" + str(row[\"issue\"])\n",
    "    identifier = journal + year + volume + issue\n",
    "    return archive_header + identifier"
   ]
  },
  {
   "cell_type": "code",
   "execution_count": 74,
   "metadata": {},
   "outputs": [
    {
     "data": {
      "text/plain": [
       "['https://archive.org/details/sim_planetary-and-space-science_1991_39_12',\n",
       " 'https://archive.org/details/sim_journal-of-the-geological-society_2007_164_6',\n",
       " 'https://archive.org/details/sim_public-health-reports_1900_15_24',\n",
       " 'https://archive.org/details/sim_science_2001_292_5517',\n",
       " 'https://archive.org/details/sim_science_2010_328_5975']"
      ]
     },
     "execution_count": 74,
     "metadata": {},
     "output_type": "execute_result"
    }
   ],
   "source": [
    "url_journal_year_volume_issue = journal_sim_has_journal_date_volume_issue.apply(\n",
    "                                        generate_url_with_journal_year_volume_issue, axis = 1)\n",
    "url_journal_year_volume_issue_list = url_journal_year_volume_issue.tolist()\n",
    "url_journal_year_volume_issue_list[0:5]\n"
   ]
  },
  {
   "cell_type": "code",
   "execution_count": null,
   "metadata": {},
   "outputs": [],
   "source": []
  },
  {
   "cell_type": "code",
   "execution_count": 76,
   "metadata": {},
   "outputs": [],
   "source": [
    "### for example \n",
    "### https://archive.org/details/sim_american-political-science-review_1993_87_index\n",
    "\n",
    "def generate_url_with_year_index(row):\n",
    "    archive_header = \"https://archive.org/details/\"\n",
    "    journal = str(row[\"sim_id\"])\n",
    "    year = \"_\" + str(row[\"year\"])\n",
    "    volume = \"_\" + str(row[\"volume\"])\n",
    "    identifier = journal + year + volume\n",
    "    return archive_header + identifier + \"_index\"\n",
    "\n",
    "\n",
    "def generate_url_with_date_index(row):\n",
    "    archive_header = \"https://archive.org/details/\"\n",
    "    journal = str(row[\"sim_id\"])\n",
    "    date = \"_\" + str(row[\"date\"])\n",
    "    volume = \"_\" + str(row[\"volume\"])\n",
    "    identifier = journal + date + volume\n",
    "    return archive_header + identifier + \"_index\""
   ]
  },
  {
   "cell_type": "code",
   "execution_count": 78,
   "metadata": {},
   "outputs": [
    {
     "data": {
      "text/plain": [
       "['https://archive.org/details/sim_planetary-and-space-science_1991_39_index',\n",
       " 'https://archive.org/details/sim_journal-of-the-geological-society_2007_164_index',\n",
       " 'https://archive.org/details/sim_public-health-reports_1900_15_index',\n",
       " 'https://archive.org/details/sim_science_2001_292_index',\n",
       " 'https://archive.org/details/sim_science_2010_328_index']"
      ]
     },
     "execution_count": 78,
     "metadata": {},
     "output_type": "execute_result"
    }
   ],
   "source": [
    "url_with_year_index = journal_sim_has_journal_date_volume_issue.apply(generate_url_with_year_index, axis = 1)\n",
    "url_with_year_index_list = url_with_year_index.tolist()\n",
    "url_with_year_index_list[0:5]"
   ]
  },
  {
   "cell_type": "code",
   "execution_count": 81,
   "metadata": {},
   "outputs": [
    {
     "data": {
      "text/plain": [
       "['https://archive.org/details/sim_planetary-and-space-science_1991_39_index',\n",
       " 'https://archive.org/details/sim_journal-of-the-geological-society_2007_164_index',\n",
       " 'https://archive.org/details/sim_public-health-reports_1900-06_15_index',\n",
       " 'https://archive.org/details/sim_science_2001-04_292_index',\n",
       " 'https://archive.org/details/sim_science_2010_328_index']"
      ]
     },
     "execution_count": 81,
     "metadata": {},
     "output_type": "execute_result"
    }
   ],
   "source": [
    "url_with_date_index = journal_sim_has_journal_date_volume_issue.apply(generate_url_with_date_index, axis = 1)\n",
    "url_with_date_index_list = url_with_date_index.tolist()\n",
    "url_with_date_index_list[0:5]"
   ]
  },
  {
   "cell_type": "markdown",
   "metadata": {},
   "source": [
    "## Write Urls to Txt Files\n",
    "*Run the deadlink checker on it"
   ]
  },
  {
   "cell_type": "code",
   "execution_count": 82,
   "metadata": {},
   "outputs": [
    {
     "name": "stdout",
     "output_type": "stream",
     "text": [
      "File should have 2064 urls\n"
     ]
    }
   ],
   "source": [
    "# 3 Field URL date\n",
    "url_count = 0\n",
    "textfile = open(\"Journal_3_field_date_turk.txt\", \"w\")\n",
    "for element in url_journal_date_volume_list:\n",
    "    textfile.write(element + \"\\n\")\n",
    "    url_count += 1\n",
    "textfile.close()\n",
    "print(\"File should have \" + str(url_count) + \" urls\")"
   ]
  },
  {
   "cell_type": "code",
   "execution_count": 69,
   "metadata": {},
   "outputs": [
    {
     "name": "stdout",
     "output_type": "stream",
     "text": [
      "File should have 2064 urls\n"
     ]
    }
   ],
   "source": [
    "# 3 Field URL year\n",
    "url_count = 0\n",
    "textfile = open(\"Journal_3_field_year_turk.txt\", \"w\")\n",
    "for element in url_journal_year_volume_list:\n",
    "    textfile.write(element + \"\\n\")\n",
    "    url_count += 1\n",
    "textfile.close()\n",
    "print(\"File should have \" + str(url_count) + \" urls\")"
   ]
  },
  {
   "cell_type": "code",
   "execution_count": 70,
   "metadata": {},
   "outputs": [
    {
     "name": "stdout",
     "output_type": "stream",
     "text": [
      "File should have 1907 urls\n"
     ]
    }
   ],
   "source": [
    "# 4 Field URL date\n",
    "url_count = 0\n",
    "textfile = open(\"Journal_4_field_date_turk.txt\", \"w\")\n",
    "for element in url_journal_date_volume_issue_list:\n",
    "    textfile.write(element + \"\\n\")\n",
    "    url_count += 1\n",
    "textfile.close()\n",
    "print(\"File should have \" + str(url_count) + \" urls\")"
   ]
  },
  {
   "cell_type": "code",
   "execution_count": 83,
   "metadata": {},
   "outputs": [
    {
     "name": "stdout",
     "output_type": "stream",
     "text": [
      "File should have 1907 urls\n"
     ]
    }
   ],
   "source": [
    "# 4 Field URL year\n",
    "url_count = 0\n",
    "textfile = open(\"Journal_4_field_year_turk.txt\", \"w\")\n",
    "for element in url_journal_year_volume_issue_list:\n",
    "    textfile.write(element + \"\\n\")\n",
    "    url_count += 1\n",
    "textfile.close()\n",
    "print(\"File should have \" + str(url_count) + \" urls\")"
   ]
  },
  {
   "cell_type": "code",
   "execution_count": null,
   "metadata": {},
   "outputs": [],
   "source": []
  },
  {
   "cell_type": "code",
   "execution_count": 84,
   "metadata": {},
   "outputs": [
    {
     "name": "stdout",
     "output_type": "stream",
     "text": [
      "File should have 1907 urls\n"
     ]
    }
   ],
   "source": [
    "# Journal, year, volume, _index\n",
    "url_count = 0\n",
    "textfile = open(\"Journal_year_index_turk.txt\", \"w\")\n",
    "for element in url_with_year_index_list:\n",
    "    textfile.write(element + \"\\n\")\n",
    "    url_count += 1\n",
    "textfile.close()\n",
    "print(\"File should have \" + str(url_count) + \" urls\")"
   ]
  },
  {
   "cell_type": "code",
   "execution_count": 85,
   "metadata": {},
   "outputs": [
    {
     "name": "stdout",
     "output_type": "stream",
     "text": [
      "File should have 1907 urls\n"
     ]
    }
   ],
   "source": [
    "# Journal, year, volume, _index\n",
    "url_count = 0\n",
    "textfile = open(\"Journal_date_index_turk.txt\", \"w\")\n",
    "for element in url_with_date_index_list:\n",
    "    textfile.write(element + \"\\n\")\n",
    "    url_count += 1\n",
    "textfile.close()\n",
    "print(\"File should have \" + str(url_count) + \" urls\")"
   ]
  },
  {
   "cell_type": "code",
   "execution_count": null,
   "metadata": {},
   "outputs": [],
   "source": []
  }
 ],
 "metadata": {
  "kernelspec": {
   "display_name": "Python 3",
   "language": "python",
   "name": "python3"
  },
  "language_info": {
   "codemirror_mode": {
    "name": "ipython",
    "version": 3
   },
   "file_extension": ".py",
   "mimetype": "text/x-python",
   "name": "python",
   "nbconvert_exporter": "python",
   "pygments_lexer": "ipython3",
   "version": "3.7.5"
  }
 },
 "nbformat": 4,
 "nbformat_minor": 4
}
