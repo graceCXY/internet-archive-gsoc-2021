{
 "cells": [
  {
   "cell_type": "markdown",
   "metadata": {},
   "source": [
    "# Autourls "
   ]
  },
  {
   "cell_type": "markdown",
   "metadata": {},
   "source": [
    "Goal: \n",
    "- https://en.wikipedia.org/wiki/User:GreenC/testcases/autourl \n",
    "- we don't want to overwrite auto generated urls"
   ]
  },
  {
   "cell_type": "markdown",
   "metadata": {},
   "source": [
    "### Approach 1\n",
    "- remove url and doi\n",
    "- not reliable to changing conditions"
   ]
  },
  {
   "cell_type": "markdown",
   "metadata": {},
   "source": [
    "### Approach 2 \n",
    "- webscrape wikipedia page\n",
    "- find location of citation \n",
    "- check if there is autogeneration \n",
    "- takes too long"
   ]
  },
  {
   "cell_type": "markdown",
   "metadata": {},
   "source": [
    "### Approach 3\n",
    "- use wikimedia's parse endpoint \n",
    "   - example: https://en.wikipedia.org/w/api.php?action=parse&text=%7B%7Bcite%20journal%20%7Ctitle%3DThe%20Discodermia%20calyx%20Toxin%20Calyculin%20A%20%7Clast1%3DEdelson%20%7Cfirst1%3DJessica%20R.%20%7Clast2%3DBrautigan%20%7Cfirst2%3DDavid%20L.%20%7Cdate%3D24%20January%202011%20%7Cjournal%3DToxins%20%7Cvolume%3D3%20%7Cissue%3D1%20%7Cpages%3D105%E2%80%93119%20%7Cdoi%3D10.3390%2Ftoxins3010105%20%7Cdoi-access%3Dfree%20%7Cpmid%3D22069692%20%7Cpmc%3D3210456%7D%7D&contentmodel=wikitext\n",
    "- convert the template into HTML \n",
    "- find link in HTML\n",
    "- the most stable"
   ]
  },
  {
   "cell_type": "code",
   "execution_count": 1,
   "metadata": {},
   "outputs": [],
   "source": [
    "import requests\n",
    "import urllib.parse\n",
    "import json"
   ]
  },
  {
   "cell_type": "code",
   "execution_count": 2,
   "metadata": {},
   "outputs": [],
   "source": [
    "import time"
   ]
  },
  {
   "cell_type": "code",
   "execution_count": 3,
   "metadata": {},
   "outputs": [],
   "source": [
    "### perform http request \n",
    "# INPUT:\n",
    "## language: wikipedia language (ex.en, tr)\n",
    "## citation: the citation input ({{cite journal}})\n",
    "## verbose: debug mode \n",
    "# OUTPUT:\n",
    "## json object \n",
    "def get_wikimedia_json(language, source, citation, verbose = False):\n",
    "    \n",
    "    ### build url\n",
    "    url_header = \"https://\" + language + \".\" + source + \".org/w/api.php?action=parse&text=\"\n",
    "    url_content = urllib.parse.quote(citation, safe = \"\")\n",
    "    url_param = \"&contentmodel=wikitext&format=json\"\n",
    "    \n",
    "    url = url_header + url_content + url_param\n",
    "    \n",
    "    ### debug\n",
    "    if verbose: print(url)\n",
    "    \n",
    "    ### make http requests\n",
    "    response = requests.get(url, timeout = 20)\n",
    "    if response.status_code != 200:\n",
    "        time.sleep(15)\n",
    "        response = requests.get(url, timeout = 20)\n",
    "        if response.status_code != 200:\n",
    "            time.sleep(15)\n",
    "            response = requests.get(url, timeout = 20)\n",
    "            if response.status_code != 200:\n",
    "                time.sleep(15)\n",
    "                response = requests.get(url, timeout = 20)\n",
    "                if response.status_code != 200:\n",
    "                    return \"\"\n",
    "    \n",
    "    try: \n",
    "        res_json = json.loads(response.text)\n",
    "    except:\n",
    "        return \"\"\n",
    "    \n",
    "    return res_json"
   ]
  },
  {
   "cell_type": "code",
   "execution_count": 4,
   "metadata": {},
   "outputs": [],
   "source": [
    "test_cite = \"{{cite journal |title=The Discodermia calyx Toxin Calyculin A |last1=Edelson |first1=Jessica R. |last2=Brautigan |first2=David L. |date=24 January 2011 |journal=Toxins |volume=3 |issue=1 |pages=105–119 |doi=10.3390/toxins3010105 |doi-access=free |pmid=22069692 |pmc=3210456}}\"\n",
    "test_json = get_wikimedia_json(\"en\", \"wikipedia\",test_cite)"
   ]
  },
  {
   "cell_type": "code",
   "execution_count": 5,
   "metadata": {},
   "outputs": [],
   "source": [
    "## un-comment to see result\n",
    "# test_json"
   ]
  },
  {
   "cell_type": "code",
   "execution_count": 6,
   "metadata": {},
   "outputs": [],
   "source": [
    "import re"
   ]
  },
  {
   "cell_type": "code",
   "execution_count": 7,
   "metadata": {},
   "outputs": [],
   "source": [
    "### find html element strings with href \n",
    "# INPUT:\n",
    "## json: json object returned by wikipedia parse\n",
    "# OUTPUT:\n",
    "## list of html strings with href \n",
    "def find_html_lst_from_json(json, verbose = False):\n",
    "    if json == \"\":\n",
    "        return \"\"\n",
    "    \n",
    "    html_str = json[\"parse\"][\"text\"][\"*\"]\n",
    "    if verbose: print(html_str)\n",
    "        \n",
    "    html_tags = [m.span() for m in re.finditer(r'<[^>]*>', html_str)]\n",
    "    \n",
    "    if verbose: print(html_tags)\n",
    "    has_href = []\n",
    "    for t_loc in html_tags:\n",
    "        start = t_loc[0]\n",
    "        end = t_loc[1]\n",
    "        substr = html_str[start:end]\n",
    "        if \"href\" in substr:\n",
    "            has_href.append(substr)\n",
    "    \n",
    "    return has_href"
   ]
  },
  {
   "cell_type": "code",
   "execution_count": 8,
   "metadata": {},
   "outputs": [],
   "source": [
    "test_html_lst = find_html_lst_from_json(test_json)"
   ]
  },
  {
   "cell_type": "code",
   "execution_count": 9,
   "metadata": {},
   "outputs": [
    {
     "data": {
      "text/plain": [
       "['<a rel=\"nofollow\" class=\"external text\" href=\"//www.ncbi.nlm.nih.gov/pmc/articles/PMC3210456\">',\n",
       " '<a href=\"/wiki/Doi_(identifier)\" class=\"mw-redirect\" title=\"Doi (identifier)\">',\n",
       " '<a rel=\"nofollow\" class=\"external text\" href=\"https://doi.org/10.3390%2Ftoxins3010105\">',\n",
       " '<a href=\"/wiki/PMC_(identifier)\" class=\"mw-redirect\" title=\"PMC (identifier)\">',\n",
       " '<a rel=\"nofollow\" class=\"external text\" href=\"//www.ncbi.nlm.nih.gov/pmc/articles/PMC3210456\">',\n",
       " '<a href=\"/wiki/PMID_(identifier)\" class=\"mw-redirect\" title=\"PMID (identifier)\">',\n",
       " '<a rel=\"nofollow\" class=\"external text\" href=\"//pubmed.ncbi.nlm.nih.gov/22069692\">']"
      ]
     },
     "execution_count": 9,
     "metadata": {},
     "output_type": "execute_result"
    }
   ],
   "source": [
    "## un-comment to see result\n",
    "# test_html_lst"
   ]
  },
  {
   "cell_type": "code",
   "execution_count": 10,
   "metadata": {},
   "outputs": [],
   "source": [
    "### find html element strings with href \n",
    "# INPUT:\n",
    "## list of html strings with href \n",
    "# OUTPUT:\n",
    "## list of urls\n",
    "def find_urls(html_lst, verbose = False):\n",
    "    \n",
    "    urls = []\n",
    "    for element in html_lst:\n",
    "        element = re.sub(\"<\", \"\", element)\n",
    "        element = re.sub(\">\", \"\", element)\n",
    "        attr_lst = element.split()\n",
    "        \n",
    "        if verbose: print(attr_lst)\n",
    "            \n",
    "        for attr in attr_lst:\n",
    "            \n",
    "            if \"=\" in attr:\n",
    "                field_name = attr.split(\"=\")[0].strip()\n",
    "                field_content = attr.split(\"=\")[1].strip()\n",
    "                \n",
    "                if verbose:\n",
    "                    print(attr)\n",
    "                    print(field_name)\n",
    "                    print(field_content)\n",
    "                    \n",
    "                if \"href\" == field_name or \"href\" in field_name:\n",
    "                    \n",
    "                    if verbose: print(\"it's href\")\n",
    "                    \n",
    "#                     url_regex = \"(https?:\\/\\/(?:www\\.|(?!www))[a-zA-Z0-9][a-zA-Z0-9-]+[a-zA-Z0-9]\\.[^\\s]{2,}\"\n",
    "#                     url_regex += \"|www\\.[a-zA-Z0-9][a-zA-Z0-9-]+[a-zA-Z0-9]\\.[^\\s]{2,}\" \n",
    "#                     url_regex += \"|https?:\\/\\/(?:www\\.|(?!www))[a-zA-Z0-9]+\\.[^\\s]{2,}\" \n",
    "#                     url_regex += \"|www\\.[a-zA-Z0-9]+\\.[^\\s]{2,}(\\/\\[a-zA-Z0-9]+){1,}\"\n",
    "#                     url_regex += \"|[a-zA-Z0-9]+\\.[^\\s]{2,}(\\/\\[a-zA-Z0-9]+){1,})\" \n",
    "                    \n",
    "                    url_regex = r\"\\/\\/[a-zA-Z0-9]+\\.[^\\s]{2,}\"\n",
    "        \n",
    "                    if re.search(url_regex, field_content):\n",
    "                \n",
    "                        if verbose: \n",
    "                            print(\"match\")\n",
    "#                             print(field_content)\n",
    "                        \n",
    "                        urls.append(field_content)\n",
    "                        break\n",
    "                    else: \n",
    "                        if verbose: print('href content is not url')\n",
    "                        \n",
    "    return urls\n",
    "                "
   ]
  },
  {
   "cell_type": "code",
   "execution_count": 11,
   "metadata": {},
   "outputs": [],
   "source": [
    "url_regex = \"\\/\\/[a-zA-Z0-9]+\\.[^\\s]{2,}\"\n",
    "field_content = \"//www.ncbi.nlm.nih.gov/pmc/articles/PMC3210456\""
   ]
  },
  {
   "cell_type": "code",
   "execution_count": 12,
   "metadata": {},
   "outputs": [],
   "source": [
    "## Uncomment to see result\n",
    "# if re.search(url_regex, field_content):\n",
    "#     print(\"yay\")\n",
    "# else: \n",
    "#     print(\"nay\")"
   ]
  },
  {
   "cell_type": "code",
   "execution_count": 13,
   "metadata": {},
   "outputs": [],
   "source": [
    "## Uncomment to see result\n",
    "#find_urls(test_html_lst)"
   ]
  },
  {
   "cell_type": "code",
   "execution_count": 14,
   "metadata": {},
   "outputs": [],
   "source": [
    "### Main function to checking if auto url exists\n",
    "# Input:\n",
    "## language: wikipedia language (ex.en, tr)\n",
    "## citation: the citation input ({{cite journal}})\n",
    "# Output:\n",
    "## Boolean: True or False\n",
    "\n",
    "def autourl_exists(citation, language = \"en\", source = \"wikipedia\", verbose = False):\n",
    "    \n",
    "    res_json = get_wikimedia_json(language, source, citation, verbose)\n",
    "    \n",
    "    if res_json == \"\":\n",
    "        return False\n",
    "    \n",
    "    html_lst = find_html_lst_from_json(res_json, verbose)\n",
    "    \n",
    "    if html_lst == [] or html_lst == None:\n",
    "        return False\n",
    "    \n",
    "    urls = find_urls(html_lst, verbose)\n",
    "    \n",
    "    if urls == []:\n",
    "        return False\n",
    "    \n",
    "    return True\n",
    "        "
   ]
  },
  {
   "cell_type": "code",
   "execution_count": 15,
   "metadata": {},
   "outputs": [],
   "source": [
    "## Uncomment to see result\n",
    "# autourl_exists(test_cite)"
   ]
  },
  {
   "cell_type": "markdown",
   "metadata": {},
   "source": [
    "### Testing"
   ]
  },
  {
   "cell_type": "code",
   "execution_count": 16,
   "metadata": {},
   "outputs": [
    {
     "name": "stderr",
     "output_type": "stream",
     "text": [
      "/Users/xinyuechen/.pyenv/versions/3.7.5/lib/python3.7/site-packages/pandas/compat/__init__.py:109: UserWarning: Could not import the lzma module. Your installed Python is incomplete. Attempting to use lzma compression will result in a RuntimeError.\n",
      "  warnings.warn(msg)\n"
     ]
    }
   ],
   "source": [
    "import pandas as pd"
   ]
  },
  {
   "cell_type": "code",
   "execution_count": 17,
   "metadata": {},
   "outputs": [
    {
     "data": {
      "text/html": [
       "<div>\n",
       "<style scoped>\n",
       "    .dataframe tbody tr th:only-of-type {\n",
       "        vertical-align: middle;\n",
       "    }\n",
       "\n",
       "    .dataframe tbody tr th {\n",
       "        vertical-align: top;\n",
       "    }\n",
       "\n",
       "    .dataframe thead th {\n",
       "        text-align: right;\n",
       "    }\n",
       "</style>\n",
       "<table border=\"1\" class=\"dataframe\">\n",
       "  <thead>\n",
       "    <tr style=\"text-align: right;\">\n",
       "      <th></th>\n",
       "      <th>a</th>\n",
       "      <th>u</th>\n",
       "      <th>c</th>\n",
       "    </tr>\n",
       "  </thead>\n",
       "  <tbody>\n",
       "    <tr>\n",
       "      <th>0</th>\n",
       "      <td>1 + 2 + 3 + 4 + · · ·</td>\n",
       "      <td></td>\n",
       "      <td>{{Akademik dergi kaynağı\\n| soyadı = Lepowsky ...</td>\n",
       "    </tr>\n",
       "    <tr>\n",
       "      <th>1</th>\n",
       "      <td>12 Victoria</td>\n",
       "      <td></td>\n",
       "      <td>{{Akademik dergi kaynağı\\n | ad1    = B.\\n | s...</td>\n",
       "    </tr>\n",
       "    <tr>\n",
       "      <th>2</th>\n",
       "      <td>1,3,5-Triklorobenzen</td>\n",
       "      <td></td>\n",
       "      <td>{{Akademik dergi kaynağı|soyadı=Jaw|ad=Ching-G...</td>\n",
       "    </tr>\n",
       "    <tr>\n",
       "      <th>3</th>\n",
       "      <td>141 Likya depremi</td>\n",
       "      <td></td>\n",
       "      <td>{{Akademik dergi kaynağı | url=http://blackmed...</td>\n",
       "    </tr>\n",
       "    <tr>\n",
       "      <th>4</th>\n",
       "      <td>141 Likya depremi</td>\n",
       "      <td></td>\n",
       "      <td>{{Akademik dergi kaynağı | url=http://www.nat-...</td>\n",
       "    </tr>\n",
       "  </tbody>\n",
       "</table>\n",
       "</div>"
      ],
      "text/plain": [
       "                       a u                                                  c\n",
       "0  1 + 2 + 3 + 4 + · · ·    {{Akademik dergi kaynağı\\n| soyadı = Lepowsky ...\n",
       "1            12 Victoria    {{Akademik dergi kaynağı\\n | ad1    = B.\\n | s...\n",
       "2   1,3,5-Triklorobenzen    {{Akademik dergi kaynağı|soyadı=Jaw|ad=Ching-G...\n",
       "3      141 Likya depremi    {{Akademik dergi kaynağı | url=http://blackmed...\n",
       "4      141 Likya depremi    {{Akademik dergi kaynağı | url=http://www.nat-..."
      ]
     },
     "execution_count": 17,
     "metadata": {},
     "output_type": "execute_result"
    }
   ],
   "source": [
    "journal_dump = pd.read_json(\"turkish_wiki_0621_first_3000_with_doi.json\", lines = True)\n",
    "journal_dump.head()"
   ]
  },
  {
   "cell_type": "code",
   "execution_count": 18,
   "metadata": {},
   "outputs": [
    {
     "data": {
      "text/plain": [
       "(100, 3)"
      ]
     },
     "execution_count": 18,
     "metadata": {},
     "output_type": "execute_result"
    }
   ],
   "source": [
    "df_100 = journal_dump.sample(n = 100)\n",
    "df_100.shape"
   ]
  },
  {
   "cell_type": "code",
   "execution_count": 19,
   "metadata": {},
   "outputs": [],
   "source": [
    "# %%time\n",
    "\n",
    "df_100[\"has_autourl\"] = df_100[\"c\"].apply(lambda x: autourl_exists(x, language = \"tr\", source =\"wikipedia\"))"
   ]
  },
  {
   "cell_type": "code",
   "execution_count": 20,
   "metadata": {},
   "outputs": [
    {
     "data": {
      "text/html": [
       "<div>\n",
       "<style scoped>\n",
       "    .dataframe tbody tr th:only-of-type {\n",
       "        vertical-align: middle;\n",
       "    }\n",
       "\n",
       "    .dataframe tbody tr th {\n",
       "        vertical-align: top;\n",
       "    }\n",
       "\n",
       "    .dataframe thead th {\n",
       "        text-align: right;\n",
       "    }\n",
       "</style>\n",
       "<table border=\"1\" class=\"dataframe\">\n",
       "  <thead>\n",
       "    <tr style=\"text-align: right;\">\n",
       "      <th></th>\n",
       "      <th>a</th>\n",
       "      <th>u</th>\n",
       "      <th>c</th>\n",
       "      <th>has_autourl</th>\n",
       "    </tr>\n",
       "  </thead>\n",
       "  <tbody>\n",
       "    <tr>\n",
       "      <th>1597</th>\n",
       "      <td>Piroliz</td>\n",
       "      <td></td>\n",
       "      <td>{{Akademik dergi kaynağı|başlık=Interactions o...</td>\n",
       "      <td>True</td>\n",
       "    </tr>\n",
       "    <tr>\n",
       "      <th>356</th>\n",
       "      <td>Çapraz bağlama reaksiyonu</td>\n",
       "      <td>https://archive.org/details/sim_chemical-revie...</td>\n",
       "      <td>{{Akademik dergi kaynağı|başlık=Advances in Tr...</td>\n",
       "      <td>True</td>\n",
       "    </tr>\n",
       "    <tr>\n",
       "      <th>1374</th>\n",
       "      <td>Pedro de Palol</td>\n",
       "      <td></td>\n",
       "      <td>{{Akademik dergi kaynağı|url=|başlık=Avance de...</td>\n",
       "      <td>False</td>\n",
       "    </tr>\n",
       "    <tr>\n",
       "      <th>1904</th>\n",
       "      <td>Siyah Mansur Beyliği</td>\n",
       "      <td></td>\n",
       "      <td>{{Akademik dergi kaynağı|url=https://www.acade...</td>\n",
       "      <td>True</td>\n",
       "    </tr>\n",
       "    <tr>\n",
       "      <th>1771</th>\n",
       "      <td>Roma Opera Binası</td>\n",
       "      <td></td>\n",
       "      <td>{{Akademik dergi kaynağı|url=https://www.jstor...</td>\n",
       "      <td>True</td>\n",
       "    </tr>\n",
       "  </tbody>\n",
       "</table>\n",
       "</div>"
      ],
      "text/plain": [
       "                              a  \\\n",
       "1597                    Piroliz   \n",
       "356   Çapraz bağlama reaksiyonu   \n",
       "1374             Pedro de Palol   \n",
       "1904       Siyah Mansur Beyliği   \n",
       "1771          Roma Opera Binası   \n",
       "\n",
       "                                                      u  \\\n",
       "1597                                                      \n",
       "356   https://archive.org/details/sim_chemical-revie...   \n",
       "1374                                                      \n",
       "1904                                                      \n",
       "1771                                                      \n",
       "\n",
       "                                                      c  has_autourl  \n",
       "1597  {{Akademik dergi kaynağı|başlık=Interactions o...         True  \n",
       "356   {{Akademik dergi kaynağı|başlık=Advances in Tr...         True  \n",
       "1374  {{Akademik dergi kaynağı|url=|başlık=Avance de...        False  \n",
       "1904  {{Akademik dergi kaynağı|url=https://www.acade...         True  \n",
       "1771  {{Akademik dergi kaynağı|url=https://www.jstor...         True  "
      ]
     },
     "execution_count": 20,
     "metadata": {},
     "output_type": "execute_result"
    }
   ],
   "source": [
    "df_100.head()"
   ]
  },
  {
   "cell_type": "markdown",
   "metadata": {},
   "source": [
    "### Has autourl"
   ]
  },
  {
   "cell_type": "code",
   "execution_count": 21,
   "metadata": {},
   "outputs": [
    {
     "data": {
      "text/html": [
       "<div>\n",
       "<style scoped>\n",
       "    .dataframe tbody tr th:only-of-type {\n",
       "        vertical-align: middle;\n",
       "    }\n",
       "\n",
       "    .dataframe tbody tr th {\n",
       "        vertical-align: top;\n",
       "    }\n",
       "\n",
       "    .dataframe thead th {\n",
       "        text-align: right;\n",
       "    }\n",
       "</style>\n",
       "<table border=\"1\" class=\"dataframe\">\n",
       "  <thead>\n",
       "    <tr style=\"text-align: right;\">\n",
       "      <th></th>\n",
       "      <th>a</th>\n",
       "      <th>u</th>\n",
       "      <th>c</th>\n",
       "      <th>has_autourl</th>\n",
       "    </tr>\n",
       "  </thead>\n",
       "  <tbody>\n",
       "    <tr>\n",
       "      <th>1597</th>\n",
       "      <td>Piroliz</td>\n",
       "      <td></td>\n",
       "      <td>{{Akademik dergi kaynağı|başlık=Interactions o...</td>\n",
       "      <td>True</td>\n",
       "    </tr>\n",
       "    <tr>\n",
       "      <th>356</th>\n",
       "      <td>Çapraz bağlama reaksiyonu</td>\n",
       "      <td>https://archive.org/details/sim_chemical-revie...</td>\n",
       "      <td>{{Akademik dergi kaynağı|başlık=Advances in Tr...</td>\n",
       "      <td>True</td>\n",
       "    </tr>\n",
       "    <tr>\n",
       "      <th>1904</th>\n",
       "      <td>Siyah Mansur Beyliği</td>\n",
       "      <td></td>\n",
       "      <td>{{Akademik dergi kaynağı|url=https://www.acade...</td>\n",
       "      <td>True</td>\n",
       "    </tr>\n",
       "    <tr>\n",
       "      <th>1771</th>\n",
       "      <td>Roma Opera Binası</td>\n",
       "      <td></td>\n",
       "      <td>{{Akademik dergi kaynağı|url=https://www.jstor...</td>\n",
       "      <td>True</td>\n",
       "    </tr>\n",
       "    <tr>\n",
       "      <th>2694</th>\n",
       "      <td>Bayi sırası</td>\n",
       "      <td></td>\n",
       "      <td>{{Akademik dergi kaynağı|url=http://www.planet...</td>\n",
       "      <td>True</td>\n",
       "    </tr>\n",
       "  </tbody>\n",
       "</table>\n",
       "</div>"
      ],
      "text/plain": [
       "                              a  \\\n",
       "1597                    Piroliz   \n",
       "356   Çapraz bağlama reaksiyonu   \n",
       "1904       Siyah Mansur Beyliği   \n",
       "1771          Roma Opera Binası   \n",
       "2694                Bayi sırası   \n",
       "\n",
       "                                                      u  \\\n",
       "1597                                                      \n",
       "356   https://archive.org/details/sim_chemical-revie...   \n",
       "1904                                                      \n",
       "1771                                                      \n",
       "2694                                                      \n",
       "\n",
       "                                                      c  has_autourl  \n",
       "1597  {{Akademik dergi kaynağı|başlık=Interactions o...         True  \n",
       "356   {{Akademik dergi kaynağı|başlık=Advances in Tr...         True  \n",
       "1904  {{Akademik dergi kaynağı|url=https://www.acade...         True  \n",
       "1771  {{Akademik dergi kaynağı|url=https://www.jstor...         True  \n",
       "2694  {{Akademik dergi kaynağı|url=http://www.planet...         True  "
      ]
     },
     "execution_count": 21,
     "metadata": {},
     "output_type": "execute_result"
    }
   ],
   "source": [
    "df_100_auto = df_100[df_100[\"has_autourl\"]]\n",
    "df_100_auto.head()"
   ]
  },
  {
   "cell_type": "markdown",
   "metadata": {},
   "source": [
    "#### I generated url for it"
   ]
  },
  {
   "cell_type": "code",
   "execution_count": 22,
   "metadata": {},
   "outputs": [
    {
     "data": {
      "text/html": [
       "<div>\n",
       "<style scoped>\n",
       "    .dataframe tbody tr th:only-of-type {\n",
       "        vertical-align: middle;\n",
       "    }\n",
       "\n",
       "    .dataframe tbody tr th {\n",
       "        vertical-align: top;\n",
       "    }\n",
       "\n",
       "    .dataframe thead th {\n",
       "        text-align: right;\n",
       "    }\n",
       "</style>\n",
       "<table border=\"1\" class=\"dataframe\">\n",
       "  <thead>\n",
       "    <tr style=\"text-align: right;\">\n",
       "      <th></th>\n",
       "      <th>a</th>\n",
       "      <th>u</th>\n",
       "      <th>c</th>\n",
       "      <th>has_autourl</th>\n",
       "    </tr>\n",
       "  </thead>\n",
       "  <tbody>\n",
       "    <tr>\n",
       "      <th>356</th>\n",
       "      <td>Çapraz bağlama reaksiyonu</td>\n",
       "      <td>https://archive.org/details/sim_chemical-revie...</td>\n",
       "      <td>{{Akademik dergi kaynağı|başlık=Advances in Tr...</td>\n",
       "      <td>True</td>\n",
       "    </tr>\n",
       "    <tr>\n",
       "      <th>2350</th>\n",
       "      <td>Tütünün sağlığa etkileri</td>\n",
       "      <td>https://archive.org/details/sim_psychopharmaco...</td>\n",
       "      <td>{{Akademik dergi kaynağı|başlık=The effects of...</td>\n",
       "      <td>True</td>\n",
       "    </tr>\n",
       "    <tr>\n",
       "      <th>2147</th>\n",
       "      <td>Trans erkek</td>\n",
       "      <td>https://archive.org/details/sim_american-journ...</td>\n",
       "      <td>{{Akademik dergi kaynağı|başlık=Demographic an...</td>\n",
       "      <td>True</td>\n",
       "    </tr>\n",
       "    <tr>\n",
       "      <th>1745</th>\n",
       "      <td>Richard Posner</td>\n",
       "      <td>https://archive.org/details/sim_journal-of-leg...</td>\n",
       "      <td>{{Akademik dergi kaynağı|başlık=The Most-Cited...</td>\n",
       "      <td>True</td>\n",
       "    </tr>\n",
       "  </tbody>\n",
       "</table>\n",
       "</div>"
      ],
      "text/plain": [
       "                              a  \\\n",
       "356   Çapraz bağlama reaksiyonu   \n",
       "2350   Tütünün sağlığa etkileri   \n",
       "2147                Trans erkek   \n",
       "1745             Richard Posner   \n",
       "\n",
       "                                                      u  \\\n",
       "356   https://archive.org/details/sim_chemical-revie...   \n",
       "2350  https://archive.org/details/sim_psychopharmaco...   \n",
       "2147  https://archive.org/details/sim_american-journ...   \n",
       "1745  https://archive.org/details/sim_journal-of-leg...   \n",
       "\n",
       "                                                      c  has_autourl  \n",
       "356   {{Akademik dergi kaynağı|başlık=Advances in Tr...         True  \n",
       "2350  {{Akademik dergi kaynağı|başlık=The effects of...         True  \n",
       "2147  {{Akademik dergi kaynağı|başlık=Demographic an...         True  \n",
       "1745  {{Akademik dergi kaynağı|başlık=The Most-Cited...         True  "
      ]
     },
     "execution_count": 22,
     "metadata": {},
     "output_type": "execute_result"
    }
   ],
   "source": [
    "df_100_auto[df_100_auto[\"u\"] != \"\"]"
   ]
  },
  {
   "cell_type": "code",
   "execution_count": 23,
   "metadata": {},
   "outputs": [],
   "source": [
    "# print(df_100_auto.loc[130,\"a\"])\n",
    "# # print(df_100_auto.loc[130, \"u\"])\n",
    "# print(df_100_auto.loc[130, \"c\"])"
   ]
  },
  {
   "cell_type": "code",
   "execution_count": 24,
   "metadata": {},
   "outputs": [],
   "source": [
    "# print(df_100_auto.loc[2263,\"a\"])\n",
    "# print(df_100_auto.loc[2263, \"u\"])\n",
    "# print(df_100_auto.loc[2263, \"c\"])"
   ]
  },
  {
   "cell_type": "markdown",
   "metadata": {},
   "source": [
    "### Does not have url"
   ]
  },
  {
   "cell_type": "code",
   "execution_count": 25,
   "metadata": {},
   "outputs": [
    {
     "data": {
      "text/html": [
       "<div>\n",
       "<style scoped>\n",
       "    .dataframe tbody tr th:only-of-type {\n",
       "        vertical-align: middle;\n",
       "    }\n",
       "\n",
       "    .dataframe tbody tr th {\n",
       "        vertical-align: top;\n",
       "    }\n",
       "\n",
       "    .dataframe thead th {\n",
       "        text-align: right;\n",
       "    }\n",
       "</style>\n",
       "<table border=\"1\" class=\"dataframe\">\n",
       "  <thead>\n",
       "    <tr style=\"text-align: right;\">\n",
       "      <th></th>\n",
       "      <th>a</th>\n",
       "      <th>u</th>\n",
       "      <th>c</th>\n",
       "      <th>has_autourl</th>\n",
       "    </tr>\n",
       "  </thead>\n",
       "  <tbody>\n",
       "    <tr>\n",
       "      <th>1374</th>\n",
       "      <td>Pedro de Palol</td>\n",
       "      <td></td>\n",
       "      <td>{{Akademik dergi kaynağı|url=|başlık=Avance de...</td>\n",
       "      <td>False</td>\n",
       "    </tr>\n",
       "    <tr>\n",
       "      <th>465</th>\n",
       "      <td>Counter-Strike (video oyunu)</td>\n",
       "      <td></td>\n",
       "      <td>{{Akademik dergi kaynağı|başlık=Army of One|ya...</td>\n",
       "      <td>False</td>\n",
       "    </tr>\n",
       "    <tr>\n",
       "      <th>1666</th>\n",
       "      <td>Prosopagnozi</td>\n",
       "      <td></td>\n",
       "      <td>{{Akademik dergi kaynağı|url=|başlık=Holistic ...</td>\n",
       "      <td>False</td>\n",
       "    </tr>\n",
       "    <tr>\n",
       "      <th>744</th>\n",
       "      <td>Hazırlama etkisi</td>\n",
       "      <td></td>\n",
       "      <td>{{Akademik dergi kaynağı|başlık=Paired-associa...</td>\n",
       "      <td>False</td>\n",
       "    </tr>\n",
       "    <tr>\n",
       "      <th>729</th>\n",
       "      <td>Hazırlama etkisi</td>\n",
       "      <td></td>\n",
       "      <td>{{Akademik dergi kaynağı|başlık=On priming by ...</td>\n",
       "      <td>False</td>\n",
       "    </tr>\n",
       "  </tbody>\n",
       "</table>\n",
       "</div>"
      ],
      "text/plain": [
       "                                 a u  \\\n",
       "1374                Pedro de Palol     \n",
       "465   Counter-Strike (video oyunu)     \n",
       "1666                  Prosopagnozi     \n",
       "744               Hazırlama etkisi     \n",
       "729               Hazırlama etkisi     \n",
       "\n",
       "                                                      c  has_autourl  \n",
       "1374  {{Akademik dergi kaynağı|url=|başlık=Avance de...        False  \n",
       "465   {{Akademik dergi kaynağı|başlık=Army of One|ya...        False  \n",
       "1666  {{Akademik dergi kaynağı|url=|başlık=Holistic ...        False  \n",
       "744   {{Akademik dergi kaynağı|başlık=Paired-associa...        False  \n",
       "729   {{Akademik dergi kaynağı|başlık=On priming by ...        False  "
      ]
     },
     "execution_count": 25,
     "metadata": {},
     "output_type": "execute_result"
    }
   ],
   "source": [
    "df_100_no_auto = df_100[df_100[\"has_autourl\"]==False]\n",
    "df_100_no_auto.head()"
   ]
  },
  {
   "cell_type": "code",
   "execution_count": 26,
   "metadata": {},
   "outputs": [
    {
     "data": {
      "text/html": [
       "<div>\n",
       "<style scoped>\n",
       "    .dataframe tbody tr th:only-of-type {\n",
       "        vertical-align: middle;\n",
       "    }\n",
       "\n",
       "    .dataframe tbody tr th {\n",
       "        vertical-align: top;\n",
       "    }\n",
       "\n",
       "    .dataframe thead th {\n",
       "        text-align: right;\n",
       "    }\n",
       "</style>\n",
       "<table border=\"1\" class=\"dataframe\">\n",
       "  <thead>\n",
       "    <tr style=\"text-align: right;\">\n",
       "      <th></th>\n",
       "      <th>a</th>\n",
       "      <th>u</th>\n",
       "      <th>c</th>\n",
       "      <th>has_autourl</th>\n",
       "    </tr>\n",
       "  </thead>\n",
       "  <tbody>\n",
       "    <tr>\n",
       "      <th>760</th>\n",
       "      <td>Hazırlama etkisi</td>\n",
       "      <td>https://archive.org/details/sim_science_2008-1...</td>\n",
       "      <td>{{Akademik dergi kaynağı|başlık=Experiencing p...</td>\n",
       "      <td>False</td>\n",
       "    </tr>\n",
       "  </tbody>\n",
       "</table>\n",
       "</div>"
      ],
      "text/plain": [
       "                    a                                                  u  \\\n",
       "760  Hazırlama etkisi  https://archive.org/details/sim_science_2008-1...   \n",
       "\n",
       "                                                     c  has_autourl  \n",
       "760  {{Akademik dergi kaynağı|başlık=Experiencing p...        False  "
      ]
     },
     "execution_count": 26,
     "metadata": {},
     "output_type": "execute_result"
    }
   ],
   "source": [
    "df_100_no_auto[df_100_no_auto[\"u\"] != \"\"]"
   ]
  },
  {
   "cell_type": "code",
   "execution_count": 27,
   "metadata": {},
   "outputs": [
    {
     "name": "stdout",
     "output_type": "stream",
     "text": [
      "Hazırlama etkisi\n",
      "https://archive.org/details/sim_science_2008-10-24_322_5901\n",
      "{{Akademik dergi kaynağı|başlık=Experiencing physical warmth promotes interpersonal warmth|tarih=Ekim 2008|sayı=5901|sayfalar=606-7|çalışma=Science|cilt=322}}\n"
     ]
    }
   ],
   "source": [
    "print(df_100_no_auto.loc[760, \"a\"])\n",
    "print(df_100_no_auto.loc[760, \"u\"])\n",
    "print(df_100_no_auto.loc[760, \"c\"])"
   ]
  },
  {
   "cell_type": "code",
   "execution_count": 28,
   "metadata": {},
   "outputs": [],
   "source": [
    "# print(df_100_no_auto.loc[748, \"a\"])\n",
    "# print(df_100_no_auto.loc[748, \"u\"])\n",
    "# print(df_100_no_auto.loc[748, \"c\"])"
   ]
  },
  {
   "cell_type": "code",
   "execution_count": null,
   "metadata": {},
   "outputs": [],
   "source": []
  }
 ],
 "metadata": {
  "kernelspec": {
   "display_name": "Python 3",
   "language": "python",
   "name": "python3"
  },
  "language_info": {
   "codemirror_mode": {
    "name": "ipython",
    "version": 3
   },
   "file_extension": ".py",
   "mimetype": "text/x-python",
   "name": "python",
   "nbconvert_exporter": "python",
   "pygments_lexer": "ipython3",
   "version": "3.7.5"
  }
 },
 "nbformat": 4,
 "nbformat_minor": 4
}
